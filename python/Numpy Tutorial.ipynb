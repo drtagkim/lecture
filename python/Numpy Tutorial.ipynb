{
 "cells": [
  {
   "cell_type": "markdown",
   "metadata": {},
   "source": [
    "# Basic\n"
   ]
  },
  {
   "cell_type": "code",
   "execution_count": 2,
   "metadata": {},
   "outputs": [],
   "source": [
    "import numpy as np"
   ]
  },
  {
   "cell_type": "code",
   "execution_count": 6,
   "metadata": {},
   "outputs": [
    {
     "data": {
      "text/plain": [
       "array([ 0,  1,  2,  3,  4,  5,  6,  7,  8,  9, 10, 11, 12, 13, 14])"
      ]
     },
     "execution_count": 6,
     "metadata": {},
     "output_type": "execute_result"
    }
   ],
   "source": [
    "a=np.arange(15)\n",
    "a"
   ]
  },
  {
   "cell_type": "code",
   "execution_count": 5,
   "metadata": {},
   "outputs": [
    {
     "data": {
      "text/plain": [
       "array([[ 0,  1,  2,  3,  4],\n",
       "       [ 5,  6,  7,  8,  9],\n",
       "       [10, 11, 12, 13, 14]])"
      ]
     },
     "execution_count": 5,
     "metadata": {},
     "output_type": "execute_result"
    }
   ],
   "source": [
    "a=np.arange(15).reshape(3,5)\n",
    "a"
   ]
  },
  {
   "cell_type": "code",
   "execution_count": 8,
   "metadata": {},
   "outputs": [
    {
     "data": {
      "text/plain": [
       "(15,)"
      ]
     },
     "execution_count": 8,
     "metadata": {},
     "output_type": "execute_result"
    }
   ],
   "source": [
    "a.shape"
   ]
  },
  {
   "cell_type": "code",
   "execution_count": 9,
   "metadata": {},
   "outputs": [
    {
     "data": {
      "text/plain": [
       "'int64'"
      ]
     },
     "execution_count": 9,
     "metadata": {},
     "output_type": "execute_result"
    }
   ],
   "source": [
    "a.dtype.name"
   ]
  },
  {
   "cell_type": "code",
   "execution_count": 10,
   "metadata": {},
   "outputs": [
    {
     "data": {
      "text/plain": [
       "8"
      ]
     },
     "execution_count": 10,
     "metadata": {},
     "output_type": "execute_result"
    }
   ],
   "source": [
    "a.itemsize"
   ]
  },
  {
   "cell_type": "code",
   "execution_count": 11,
   "metadata": {},
   "outputs": [
    {
     "data": {
      "text/plain": [
       "15"
      ]
     },
     "execution_count": 11,
     "metadata": {},
     "output_type": "execute_result"
    }
   ],
   "source": [
    "a.size"
   ]
  },
  {
   "cell_type": "code",
   "execution_count": 7,
   "metadata": {},
   "outputs": [
    {
     "data": {
      "text/plain": [
       "numpy.ndarray"
      ]
     },
     "execution_count": 7,
     "metadata": {},
     "output_type": "execute_result"
    }
   ],
   "source": [
    "type(a)"
   ]
  },
  {
   "cell_type": "markdown",
   "metadata": {},
   "source": [
    "## Array Creation"
   ]
  },
  {
   "cell_type": "code",
   "execution_count": 12,
   "metadata": {},
   "outputs": [
    {
     "data": {
      "text/plain": [
       "array([2, 3, 4])"
      ]
     },
     "execution_count": 12,
     "metadata": {},
     "output_type": "execute_result"
    }
   ],
   "source": [
    "a=np.array([2,3,4])\n",
    "a"
   ]
  },
  {
   "cell_type": "code",
   "execution_count": 13,
   "metadata": {},
   "outputs": [
    {
     "data": {
      "text/plain": [
       "dtype('int64')"
      ]
     },
     "execution_count": 13,
     "metadata": {},
     "output_type": "execute_result"
    }
   ],
   "source": [
    "a.dtype"
   ]
  },
  {
   "cell_type": "code",
   "execution_count": 14,
   "metadata": {},
   "outputs": [
    {
     "data": {
      "text/plain": [
       "dtype('float64')"
      ]
     },
     "execution_count": 14,
     "metadata": {},
     "output_type": "execute_result"
    }
   ],
   "source": [
    "b=np.array([1.2,3.5,5.1])\n",
    "b.dtype"
   ]
  },
  {
   "cell_type": "code",
   "execution_count": 16,
   "metadata": {},
   "outputs": [
    {
     "data": {
      "text/plain": [
       "array([[ 1.5,  2. ,  3. ],\n",
       "       [ 4. ,  5. ,  6. ]])"
      ]
     },
     "execution_count": 16,
     "metadata": {},
     "output_type": "execute_result"
    }
   ],
   "source": [
    "b=np.array([(1.5,2.,3.),(4.,5.,6.)])\n",
    "b"
   ]
  },
  {
   "cell_type": "code",
   "execution_count": 17,
   "metadata": {},
   "outputs": [
    {
     "data": {
      "text/plain": [
       "array([[ 1.+0.j,  2.+0.j],\n",
       "       [ 3.+0.j,  4.+0.j]])"
      ]
     },
     "execution_count": 17,
     "metadata": {},
     "output_type": "execute_result"
    }
   ],
   "source": [
    "c=np.array([[1,2],[3,4]],dtype=complex)\n",
    "c"
   ]
  },
  {
   "cell_type": "code",
   "execution_count": 18,
   "metadata": {},
   "outputs": [
    {
     "data": {
      "text/plain": [
       "array([[ 0.,  0.,  0.,  0.],\n",
       "       [ 0.,  0.,  0.,  0.],\n",
       "       [ 0.,  0.,  0.,  0.]])"
      ]
     },
     "execution_count": 18,
     "metadata": {},
     "output_type": "execute_result"
    }
   ],
   "source": [
    "np.zeros((3,4))"
   ]
  },
  {
   "cell_type": "code",
   "execution_count": 19,
   "metadata": {},
   "outputs": [
    {
     "data": {
      "text/plain": [
       "array([[[1, 1, 1, 1],\n",
       "        [1, 1, 1, 1],\n",
       "        [1, 1, 1, 1]],\n",
       "\n",
       "       [[1, 1, 1, 1],\n",
       "        [1, 1, 1, 1],\n",
       "        [1, 1, 1, 1]]], dtype=int16)"
      ]
     },
     "execution_count": 19,
     "metadata": {},
     "output_type": "execute_result"
    }
   ],
   "source": [
    "np.ones((2,3,4),dtype=np.int16)"
   ]
  },
  {
   "cell_type": "code",
   "execution_count": 20,
   "metadata": {},
   "outputs": [
    {
     "data": {
      "text/plain": [
       "array([[ 0.,  0.,  0.],\n",
       "       [ 0.,  0.,  0.]])"
      ]
     },
     "execution_count": 20,
     "metadata": {},
     "output_type": "execute_result"
    }
   ],
   "source": [
    "np.empty((2,3))"
   ]
  },
  {
   "cell_type": "code",
   "execution_count": 21,
   "metadata": {},
   "outputs": [
    {
     "data": {
      "text/plain": [
       "array([10, 15, 20, 25])"
      ]
     },
     "execution_count": 21,
     "metadata": {},
     "output_type": "execute_result"
    }
   ],
   "source": [
    "np.arange(10,30,5)"
   ]
  },
  {
   "cell_type": "code",
   "execution_count": 22,
   "metadata": {},
   "outputs": [
    {
     "data": {
      "text/plain": [
       "array([ 0. ,  0.3,  0.6,  0.9,  1.2,  1.5,  1.8])"
      ]
     },
     "execution_count": 22,
     "metadata": {},
     "output_type": "execute_result"
    }
   ],
   "source": [
    "np.arange(0,2,0.3)"
   ]
  },
  {
   "cell_type": "code",
   "execution_count": 23,
   "metadata": {},
   "outputs": [
    {
     "data": {
      "text/plain": [
       "array([ 0.  ,  0.25,  0.5 ,  0.75,  1.  ,  1.25,  1.5 ,  1.75,  2.  ])"
      ]
     },
     "execution_count": 23,
     "metadata": {},
     "output_type": "execute_result"
    }
   ],
   "source": [
    "from numpy import pi\n",
    "np.linspace(0,2,9)"
   ]
  },
  {
   "cell_type": "code",
   "execution_count": 24,
   "metadata": {},
   "outputs": [
    {
     "data": {
      "text/plain": [
       "array([ 0.        ,  0.06346652,  0.12693304,  0.19039955,  0.25386607,\n",
       "        0.31733259,  0.38079911,  0.44426563,  0.50773215,  0.57119866,\n",
       "        0.63466518,  0.6981317 ,  0.76159822,  0.82506474,  0.88853126,\n",
       "        0.95199777,  1.01546429,  1.07893081,  1.14239733,  1.20586385,\n",
       "        1.26933037,  1.33279688,  1.3962634 ,  1.45972992,  1.52319644,\n",
       "        1.58666296,  1.65012947,  1.71359599,  1.77706251,  1.84052903,\n",
       "        1.90399555,  1.96746207,  2.03092858,  2.0943951 ,  2.15786162,\n",
       "        2.22132814,  2.28479466,  2.34826118,  2.41172769,  2.47519421,\n",
       "        2.53866073,  2.60212725,  2.66559377,  2.72906028,  2.7925268 ,\n",
       "        2.85599332,  2.91945984,  2.98292636,  3.04639288,  3.10985939,\n",
       "        3.17332591,  3.23679243,  3.30025895,  3.36372547,  3.42719199,\n",
       "        3.4906585 ,  3.55412502,  3.61759154,  3.68105806,  3.74452458,\n",
       "        3.8079911 ,  3.87145761,  3.93492413,  3.99839065,  4.06185717,\n",
       "        4.12532369,  4.1887902 ,  4.25225672,  4.31572324,  4.37918976,\n",
       "        4.44265628,  4.5061228 ,  4.56958931,  4.63305583,  4.69652235,\n",
       "        4.75998887,  4.82345539,  4.88692191,  4.95038842,  5.01385494,\n",
       "        5.07732146,  5.14078798,  5.2042545 ,  5.26772102,  5.33118753,\n",
       "        5.39465405,  5.45812057,  5.52158709,  5.58505361,  5.64852012,\n",
       "        5.71198664,  5.77545316,  5.83891968,  5.9023862 ,  5.96585272,\n",
       "        6.02931923,  6.09278575,  6.15625227,  6.21971879,  6.28318531])"
      ]
     },
     "execution_count": 24,
     "metadata": {},
     "output_type": "execute_result"
    }
   ],
   "source": [
    "x=np.linspace(0,2*pi,100)\n",
    "f=np.sin(x)\n",
    "x"
   ]
  },
  {
   "cell_type": "code",
   "execution_count": 26,
   "metadata": {},
   "outputs": [
    {
     "data": {
      "application/javascript": [
       "/* Put everything inside the global mpl namespace */\n",
       "window.mpl = {};\n",
       "\n",
       "\n",
       "mpl.get_websocket_type = function() {\n",
       "    if (typeof(WebSocket) !== 'undefined') {\n",
       "        return WebSocket;\n",
       "    } else if (typeof(MozWebSocket) !== 'undefined') {\n",
       "        return MozWebSocket;\n",
       "    } else {\n",
       "        alert('Your browser does not have WebSocket support.' +\n",
       "              'Please try Chrome, Safari or Firefox ≥ 6. ' +\n",
       "              'Firefox 4 and 5 are also supported but you ' +\n",
       "              'have to enable WebSockets in about:config.');\n",
       "    };\n",
       "}\n",
       "\n",
       "mpl.figure = function(figure_id, websocket, ondownload, parent_element) {\n",
       "    this.id = figure_id;\n",
       "\n",
       "    this.ws = websocket;\n",
       "\n",
       "    this.supports_binary = (this.ws.binaryType != undefined);\n",
       "\n",
       "    if (!this.supports_binary) {\n",
       "        var warnings = document.getElementById(\"mpl-warnings\");\n",
       "        if (warnings) {\n",
       "            warnings.style.display = 'block';\n",
       "            warnings.textContent = (\n",
       "                \"This browser does not support binary websocket messages. \" +\n",
       "                    \"Performance may be slow.\");\n",
       "        }\n",
       "    }\n",
       "\n",
       "    this.imageObj = new Image();\n",
       "\n",
       "    this.context = undefined;\n",
       "    this.message = undefined;\n",
       "    this.canvas = undefined;\n",
       "    this.rubberband_canvas = undefined;\n",
       "    this.rubberband_context = undefined;\n",
       "    this.format_dropdown = undefined;\n",
       "\n",
       "    this.image_mode = 'full';\n",
       "\n",
       "    this.root = $('<div/>');\n",
       "    this._root_extra_style(this.root)\n",
       "    this.root.attr('style', 'display: inline-block');\n",
       "\n",
       "    $(parent_element).append(this.root);\n",
       "\n",
       "    this._init_header(this);\n",
       "    this._init_canvas(this);\n",
       "    this._init_toolbar(this);\n",
       "\n",
       "    var fig = this;\n",
       "\n",
       "    this.waiting = false;\n",
       "\n",
       "    this.ws.onopen =  function () {\n",
       "            fig.send_message(\"supports_binary\", {value: fig.supports_binary});\n",
       "            fig.send_message(\"send_image_mode\", {});\n",
       "            if (mpl.ratio != 1) {\n",
       "                fig.send_message(\"set_dpi_ratio\", {'dpi_ratio': mpl.ratio});\n",
       "            }\n",
       "            fig.send_message(\"refresh\", {});\n",
       "        }\n",
       "\n",
       "    this.imageObj.onload = function() {\n",
       "            if (fig.image_mode == 'full') {\n",
       "                // Full images could contain transparency (where diff images\n",
       "                // almost always do), so we need to clear the canvas so that\n",
       "                // there is no ghosting.\n",
       "                fig.context.clearRect(0, 0, fig.canvas.width, fig.canvas.height);\n",
       "            }\n",
       "            fig.context.drawImage(fig.imageObj, 0, 0);\n",
       "        };\n",
       "\n",
       "    this.imageObj.onunload = function() {\n",
       "        this.ws.close();\n",
       "    }\n",
       "\n",
       "    this.ws.onmessage = this._make_on_message_function(this);\n",
       "\n",
       "    this.ondownload = ondownload;\n",
       "}\n",
       "\n",
       "mpl.figure.prototype._init_header = function() {\n",
       "    var titlebar = $(\n",
       "        '<div class=\"ui-dialog-titlebar ui-widget-header ui-corner-all ' +\n",
       "        'ui-helper-clearfix\"/>');\n",
       "    var titletext = $(\n",
       "        '<div class=\"ui-dialog-title\" style=\"width: 100%; ' +\n",
       "        'text-align: center; padding: 3px;\"/>');\n",
       "    titlebar.append(titletext)\n",
       "    this.root.append(titlebar);\n",
       "    this.header = titletext[0];\n",
       "}\n",
       "\n",
       "\n",
       "\n",
       "mpl.figure.prototype._canvas_extra_style = function(canvas_div) {\n",
       "\n",
       "}\n",
       "\n",
       "\n",
       "mpl.figure.prototype._root_extra_style = function(canvas_div) {\n",
       "\n",
       "}\n",
       "\n",
       "mpl.figure.prototype._init_canvas = function() {\n",
       "    var fig = this;\n",
       "\n",
       "    var canvas_div = $('<div/>');\n",
       "\n",
       "    canvas_div.attr('style', 'position: relative; clear: both; outline: 0');\n",
       "\n",
       "    function canvas_keyboard_event(event) {\n",
       "        return fig.key_event(event, event['data']);\n",
       "    }\n",
       "\n",
       "    canvas_div.keydown('key_press', canvas_keyboard_event);\n",
       "    canvas_div.keyup('key_release', canvas_keyboard_event);\n",
       "    this.canvas_div = canvas_div\n",
       "    this._canvas_extra_style(canvas_div)\n",
       "    this.root.append(canvas_div);\n",
       "\n",
       "    var canvas = $('<canvas/>');\n",
       "    canvas.addClass('mpl-canvas');\n",
       "    canvas.attr('style', \"left: 0; top: 0; z-index: 0; outline: 0\")\n",
       "\n",
       "    this.canvas = canvas[0];\n",
       "    this.context = canvas[0].getContext(\"2d\");\n",
       "\n",
       "    var backingStore = this.context.backingStorePixelRatio ||\n",
       "\tthis.context.webkitBackingStorePixelRatio ||\n",
       "\tthis.context.mozBackingStorePixelRatio ||\n",
       "\tthis.context.msBackingStorePixelRatio ||\n",
       "\tthis.context.oBackingStorePixelRatio ||\n",
       "\tthis.context.backingStorePixelRatio || 1;\n",
       "\n",
       "    mpl.ratio = (window.devicePixelRatio || 1) / backingStore;\n",
       "\n",
       "    var rubberband = $('<canvas/>');\n",
       "    rubberband.attr('style', \"position: absolute; left: 0; top: 0; z-index: 1;\")\n",
       "\n",
       "    var pass_mouse_events = true;\n",
       "\n",
       "    canvas_div.resizable({\n",
       "        start: function(event, ui) {\n",
       "            pass_mouse_events = false;\n",
       "        },\n",
       "        resize: function(event, ui) {\n",
       "            fig.request_resize(ui.size.width, ui.size.height);\n",
       "        },\n",
       "        stop: function(event, ui) {\n",
       "            pass_mouse_events = true;\n",
       "            fig.request_resize(ui.size.width, ui.size.height);\n",
       "        },\n",
       "    });\n",
       "\n",
       "    function mouse_event_fn(event) {\n",
       "        if (pass_mouse_events)\n",
       "            return fig.mouse_event(event, event['data']);\n",
       "    }\n",
       "\n",
       "    rubberband.mousedown('button_press', mouse_event_fn);\n",
       "    rubberband.mouseup('button_release', mouse_event_fn);\n",
       "    // Throttle sequential mouse events to 1 every 20ms.\n",
       "    rubberband.mousemove('motion_notify', mouse_event_fn);\n",
       "\n",
       "    rubberband.mouseenter('figure_enter', mouse_event_fn);\n",
       "    rubberband.mouseleave('figure_leave', mouse_event_fn);\n",
       "\n",
       "    canvas_div.on(\"wheel\", function (event) {\n",
       "        event = event.originalEvent;\n",
       "        event['data'] = 'scroll'\n",
       "        if (event.deltaY < 0) {\n",
       "            event.step = 1;\n",
       "        } else {\n",
       "            event.step = -1;\n",
       "        }\n",
       "        mouse_event_fn(event);\n",
       "    });\n",
       "\n",
       "    canvas_div.append(canvas);\n",
       "    canvas_div.append(rubberband);\n",
       "\n",
       "    this.rubberband = rubberband;\n",
       "    this.rubberband_canvas = rubberband[0];\n",
       "    this.rubberband_context = rubberband[0].getContext(\"2d\");\n",
       "    this.rubberband_context.strokeStyle = \"#000000\";\n",
       "\n",
       "    this._resize_canvas = function(width, height) {\n",
       "        // Keep the size of the canvas, canvas container, and rubber band\n",
       "        // canvas in synch.\n",
       "        canvas_div.css('width', width)\n",
       "        canvas_div.css('height', height)\n",
       "\n",
       "        canvas.attr('width', width * mpl.ratio);\n",
       "        canvas.attr('height', height * mpl.ratio);\n",
       "        canvas.attr('style', 'width: ' + width + 'px; height: ' + height + 'px;');\n",
       "\n",
       "        rubberband.attr('width', width);\n",
       "        rubberband.attr('height', height);\n",
       "    }\n",
       "\n",
       "    // Set the figure to an initial 600x600px, this will subsequently be updated\n",
       "    // upon first draw.\n",
       "    this._resize_canvas(600, 600);\n",
       "\n",
       "    // Disable right mouse context menu.\n",
       "    $(this.rubberband_canvas).bind(\"contextmenu\",function(e){\n",
       "        return false;\n",
       "    });\n",
       "\n",
       "    function set_focus () {\n",
       "        canvas.focus();\n",
       "        canvas_div.focus();\n",
       "    }\n",
       "\n",
       "    window.setTimeout(set_focus, 100);\n",
       "}\n",
       "\n",
       "mpl.figure.prototype._init_toolbar = function() {\n",
       "    var fig = this;\n",
       "\n",
       "    var nav_element = $('<div/>')\n",
       "    nav_element.attr('style', 'width: 100%');\n",
       "    this.root.append(nav_element);\n",
       "\n",
       "    // Define a callback function for later on.\n",
       "    function toolbar_event(event) {\n",
       "        return fig.toolbar_button_onclick(event['data']);\n",
       "    }\n",
       "    function toolbar_mouse_event(event) {\n",
       "        return fig.toolbar_button_onmouseover(event['data']);\n",
       "    }\n",
       "\n",
       "    for(var toolbar_ind in mpl.toolbar_items) {\n",
       "        var name = mpl.toolbar_items[toolbar_ind][0];\n",
       "        var tooltip = mpl.toolbar_items[toolbar_ind][1];\n",
       "        var image = mpl.toolbar_items[toolbar_ind][2];\n",
       "        var method_name = mpl.toolbar_items[toolbar_ind][3];\n",
       "\n",
       "        if (!name) {\n",
       "            // put a spacer in here.\n",
       "            continue;\n",
       "        }\n",
       "        var button = $('<button/>');\n",
       "        button.addClass('ui-button ui-widget ui-state-default ui-corner-all ' +\n",
       "                        'ui-button-icon-only');\n",
       "        button.attr('role', 'button');\n",
       "        button.attr('aria-disabled', 'false');\n",
       "        button.click(method_name, toolbar_event);\n",
       "        button.mouseover(tooltip, toolbar_mouse_event);\n",
       "\n",
       "        var icon_img = $('<span/>');\n",
       "        icon_img.addClass('ui-button-icon-primary ui-icon');\n",
       "        icon_img.addClass(image);\n",
       "        icon_img.addClass('ui-corner-all');\n",
       "\n",
       "        var tooltip_span = $('<span/>');\n",
       "        tooltip_span.addClass('ui-button-text');\n",
       "        tooltip_span.html(tooltip);\n",
       "\n",
       "        button.append(icon_img);\n",
       "        button.append(tooltip_span);\n",
       "\n",
       "        nav_element.append(button);\n",
       "    }\n",
       "\n",
       "    var fmt_picker_span = $('<span/>');\n",
       "\n",
       "    var fmt_picker = $('<select/>');\n",
       "    fmt_picker.addClass('mpl-toolbar-option ui-widget ui-widget-content');\n",
       "    fmt_picker_span.append(fmt_picker);\n",
       "    nav_element.append(fmt_picker_span);\n",
       "    this.format_dropdown = fmt_picker[0];\n",
       "\n",
       "    for (var ind in mpl.extensions) {\n",
       "        var fmt = mpl.extensions[ind];\n",
       "        var option = $(\n",
       "            '<option/>', {selected: fmt === mpl.default_extension}).html(fmt);\n",
       "        fmt_picker.append(option)\n",
       "    }\n",
       "\n",
       "    // Add hover states to the ui-buttons\n",
       "    $( \".ui-button\" ).hover(\n",
       "        function() { $(this).addClass(\"ui-state-hover\");},\n",
       "        function() { $(this).removeClass(\"ui-state-hover\");}\n",
       "    );\n",
       "\n",
       "    var status_bar = $('<span class=\"mpl-message\"/>');\n",
       "    nav_element.append(status_bar);\n",
       "    this.message = status_bar[0];\n",
       "}\n",
       "\n",
       "mpl.figure.prototype.request_resize = function(x_pixels, y_pixels) {\n",
       "    // Request matplotlib to resize the figure. Matplotlib will then trigger a resize in the client,\n",
       "    // which will in turn request a refresh of the image.\n",
       "    this.send_message('resize', {'width': x_pixels, 'height': y_pixels});\n",
       "}\n",
       "\n",
       "mpl.figure.prototype.send_message = function(type, properties) {\n",
       "    properties['type'] = type;\n",
       "    properties['figure_id'] = this.id;\n",
       "    this.ws.send(JSON.stringify(properties));\n",
       "}\n",
       "\n",
       "mpl.figure.prototype.send_draw_message = function() {\n",
       "    if (!this.waiting) {\n",
       "        this.waiting = true;\n",
       "        this.ws.send(JSON.stringify({type: \"draw\", figure_id: this.id}));\n",
       "    }\n",
       "}\n",
       "\n",
       "\n",
       "mpl.figure.prototype.handle_save = function(fig, msg) {\n",
       "    var format_dropdown = fig.format_dropdown;\n",
       "    var format = format_dropdown.options[format_dropdown.selectedIndex].value;\n",
       "    fig.ondownload(fig, format);\n",
       "}\n",
       "\n",
       "\n",
       "mpl.figure.prototype.handle_resize = function(fig, msg) {\n",
       "    var size = msg['size'];\n",
       "    if (size[0] != fig.canvas.width || size[1] != fig.canvas.height) {\n",
       "        fig._resize_canvas(size[0], size[1]);\n",
       "        fig.send_message(\"refresh\", {});\n",
       "    };\n",
       "}\n",
       "\n",
       "mpl.figure.prototype.handle_rubberband = function(fig, msg) {\n",
       "    var x0 = msg['x0'] / mpl.ratio;\n",
       "    var y0 = (fig.canvas.height - msg['y0']) / mpl.ratio;\n",
       "    var x1 = msg['x1'] / mpl.ratio;\n",
       "    var y1 = (fig.canvas.height - msg['y1']) / mpl.ratio;\n",
       "    x0 = Math.floor(x0) + 0.5;\n",
       "    y0 = Math.floor(y0) + 0.5;\n",
       "    x1 = Math.floor(x1) + 0.5;\n",
       "    y1 = Math.floor(y1) + 0.5;\n",
       "    var min_x = Math.min(x0, x1);\n",
       "    var min_y = Math.min(y0, y1);\n",
       "    var width = Math.abs(x1 - x0);\n",
       "    var height = Math.abs(y1 - y0);\n",
       "\n",
       "    fig.rubberband_context.clearRect(\n",
       "        0, 0, fig.canvas.width, fig.canvas.height);\n",
       "\n",
       "    fig.rubberband_context.strokeRect(min_x, min_y, width, height);\n",
       "}\n",
       "\n",
       "mpl.figure.prototype.handle_figure_label = function(fig, msg) {\n",
       "    // Updates the figure title.\n",
       "    fig.header.textContent = msg['label'];\n",
       "}\n",
       "\n",
       "mpl.figure.prototype.handle_cursor = function(fig, msg) {\n",
       "    var cursor = msg['cursor'];\n",
       "    switch(cursor)\n",
       "    {\n",
       "    case 0:\n",
       "        cursor = 'pointer';\n",
       "        break;\n",
       "    case 1:\n",
       "        cursor = 'default';\n",
       "        break;\n",
       "    case 2:\n",
       "        cursor = 'crosshair';\n",
       "        break;\n",
       "    case 3:\n",
       "        cursor = 'move';\n",
       "        break;\n",
       "    }\n",
       "    fig.rubberband_canvas.style.cursor = cursor;\n",
       "}\n",
       "\n",
       "mpl.figure.prototype.handle_message = function(fig, msg) {\n",
       "    fig.message.textContent = msg['message'];\n",
       "}\n",
       "\n",
       "mpl.figure.prototype.handle_draw = function(fig, msg) {\n",
       "    // Request the server to send over a new figure.\n",
       "    fig.send_draw_message();\n",
       "}\n",
       "\n",
       "mpl.figure.prototype.handle_image_mode = function(fig, msg) {\n",
       "    fig.image_mode = msg['mode'];\n",
       "}\n",
       "\n",
       "mpl.figure.prototype.updated_canvas_event = function() {\n",
       "    // Called whenever the canvas gets updated.\n",
       "    this.send_message(\"ack\", {});\n",
       "}\n",
       "\n",
       "// A function to construct a web socket function for onmessage handling.\n",
       "// Called in the figure constructor.\n",
       "mpl.figure.prototype._make_on_message_function = function(fig) {\n",
       "    return function socket_on_message(evt) {\n",
       "        if (evt.data instanceof Blob) {\n",
       "            /* FIXME: We get \"Resource interpreted as Image but\n",
       "             * transferred with MIME type text/plain:\" errors on\n",
       "             * Chrome.  But how to set the MIME type?  It doesn't seem\n",
       "             * to be part of the websocket stream */\n",
       "            evt.data.type = \"image/png\";\n",
       "\n",
       "            /* Free the memory for the previous frames */\n",
       "            if (fig.imageObj.src) {\n",
       "                (window.URL || window.webkitURL).revokeObjectURL(\n",
       "                    fig.imageObj.src);\n",
       "            }\n",
       "\n",
       "            fig.imageObj.src = (window.URL || window.webkitURL).createObjectURL(\n",
       "                evt.data);\n",
       "            fig.updated_canvas_event();\n",
       "            fig.waiting = false;\n",
       "            return;\n",
       "        }\n",
       "        else if (typeof evt.data === 'string' && evt.data.slice(0, 21) == \"data:image/png;base64\") {\n",
       "            fig.imageObj.src = evt.data;\n",
       "            fig.updated_canvas_event();\n",
       "            fig.waiting = false;\n",
       "            return;\n",
       "        }\n",
       "\n",
       "        var msg = JSON.parse(evt.data);\n",
       "        var msg_type = msg['type'];\n",
       "\n",
       "        // Call the  \"handle_{type}\" callback, which takes\n",
       "        // the figure and JSON message as its only arguments.\n",
       "        try {\n",
       "            var callback = fig[\"handle_\" + msg_type];\n",
       "        } catch (e) {\n",
       "            console.log(\"No handler for the '\" + msg_type + \"' message type: \", msg);\n",
       "            return;\n",
       "        }\n",
       "\n",
       "        if (callback) {\n",
       "            try {\n",
       "                // console.log(\"Handling '\" + msg_type + \"' message: \", msg);\n",
       "                callback(fig, msg);\n",
       "            } catch (e) {\n",
       "                console.log(\"Exception inside the 'handler_\" + msg_type + \"' callback:\", e, e.stack, msg);\n",
       "            }\n",
       "        }\n",
       "    };\n",
       "}\n",
       "\n",
       "// from http://stackoverflow.com/questions/1114465/getting-mouse-location-in-canvas\n",
       "mpl.findpos = function(e) {\n",
       "    //this section is from http://www.quirksmode.org/js/events_properties.html\n",
       "    var targ;\n",
       "    if (!e)\n",
       "        e = window.event;\n",
       "    if (e.target)\n",
       "        targ = e.target;\n",
       "    else if (e.srcElement)\n",
       "        targ = e.srcElement;\n",
       "    if (targ.nodeType == 3) // defeat Safari bug\n",
       "        targ = targ.parentNode;\n",
       "\n",
       "    // jQuery normalizes the pageX and pageY\n",
       "    // pageX,Y are the mouse positions relative to the document\n",
       "    // offset() returns the position of the element relative to the document\n",
       "    var x = e.pageX - $(targ).offset().left;\n",
       "    var y = e.pageY - $(targ).offset().top;\n",
       "\n",
       "    return {\"x\": x, \"y\": y};\n",
       "};\n",
       "\n",
       "/*\n",
       " * return a copy of an object with only non-object keys\n",
       " * we need this to avoid circular references\n",
       " * http://stackoverflow.com/a/24161582/3208463\n",
       " */\n",
       "function simpleKeys (original) {\n",
       "  return Object.keys(original).reduce(function (obj, key) {\n",
       "    if (typeof original[key] !== 'object')\n",
       "        obj[key] = original[key]\n",
       "    return obj;\n",
       "  }, {});\n",
       "}\n",
       "\n",
       "mpl.figure.prototype.mouse_event = function(event, name) {\n",
       "    var canvas_pos = mpl.findpos(event)\n",
       "\n",
       "    if (name === 'button_press')\n",
       "    {\n",
       "        this.canvas.focus();\n",
       "        this.canvas_div.focus();\n",
       "    }\n",
       "\n",
       "    var x = canvas_pos.x * mpl.ratio;\n",
       "    var y = canvas_pos.y * mpl.ratio;\n",
       "\n",
       "    this.send_message(name, {x: x, y: y, button: event.button,\n",
       "                             step: event.step,\n",
       "                             guiEvent: simpleKeys(event)});\n",
       "\n",
       "    /* This prevents the web browser from automatically changing to\n",
       "     * the text insertion cursor when the button is pressed.  We want\n",
       "     * to control all of the cursor setting manually through the\n",
       "     * 'cursor' event from matplotlib */\n",
       "    event.preventDefault();\n",
       "    return false;\n",
       "}\n",
       "\n",
       "mpl.figure.prototype._key_event_extra = function(event, name) {\n",
       "    // Handle any extra behaviour associated with a key event\n",
       "}\n",
       "\n",
       "mpl.figure.prototype.key_event = function(event, name) {\n",
       "\n",
       "    // Prevent repeat events\n",
       "    if (name == 'key_press')\n",
       "    {\n",
       "        if (event.which === this._key)\n",
       "            return;\n",
       "        else\n",
       "            this._key = event.which;\n",
       "    }\n",
       "    if (name == 'key_release')\n",
       "        this._key = null;\n",
       "\n",
       "    var value = '';\n",
       "    if (event.ctrlKey && event.which != 17)\n",
       "        value += \"ctrl+\";\n",
       "    if (event.altKey && event.which != 18)\n",
       "        value += \"alt+\";\n",
       "    if (event.shiftKey && event.which != 16)\n",
       "        value += \"shift+\";\n",
       "\n",
       "    value += 'k';\n",
       "    value += event.which.toString();\n",
       "\n",
       "    this._key_event_extra(event, name);\n",
       "\n",
       "    this.send_message(name, {key: value,\n",
       "                             guiEvent: simpleKeys(event)});\n",
       "    return false;\n",
       "}\n",
       "\n",
       "mpl.figure.prototype.toolbar_button_onclick = function(name) {\n",
       "    if (name == 'download') {\n",
       "        this.handle_save(this, null);\n",
       "    } else {\n",
       "        this.send_message(\"toolbar_button\", {name: name});\n",
       "    }\n",
       "};\n",
       "\n",
       "mpl.figure.prototype.toolbar_button_onmouseover = function(tooltip) {\n",
       "    this.message.textContent = tooltip;\n",
       "};\n",
       "mpl.toolbar_items = [[\"Home\", \"Reset original view\", \"fa fa-home icon-home\", \"home\"], [\"Back\", \"Back to  previous view\", \"fa fa-arrow-left icon-arrow-left\", \"back\"], [\"Forward\", \"Forward to next view\", \"fa fa-arrow-right icon-arrow-right\", \"forward\"], [\"\", \"\", \"\", \"\"], [\"Pan\", \"Pan axes with left mouse, zoom with right\", \"fa fa-arrows icon-move\", \"pan\"], [\"Zoom\", \"Zoom to rectangle\", \"fa fa-square-o icon-check-empty\", \"zoom\"], [\"\", \"\", \"\", \"\"], [\"Download\", \"Download plot\", \"fa fa-floppy-o icon-save\", \"download\"]];\n",
       "\n",
       "mpl.extensions = [\"eps\", \"jpeg\", \"pdf\", \"png\", \"ps\", \"raw\", \"svg\", \"tif\"];\n",
       "\n",
       "mpl.default_extension = \"png\";var comm_websocket_adapter = function(comm) {\n",
       "    // Create a \"websocket\"-like object which calls the given IPython comm\n",
       "    // object with the appropriate methods. Currently this is a non binary\n",
       "    // socket, so there is still some room for performance tuning.\n",
       "    var ws = {};\n",
       "\n",
       "    ws.close = function() {\n",
       "        comm.close()\n",
       "    };\n",
       "    ws.send = function(m) {\n",
       "        //console.log('sending', m);\n",
       "        comm.send(m);\n",
       "    };\n",
       "    // Register the callback with on_msg.\n",
       "    comm.on_msg(function(msg) {\n",
       "        //console.log('receiving', msg['content']['data'], msg);\n",
       "        // Pass the mpl event to the overriden (by mpl) onmessage function.\n",
       "        ws.onmessage(msg['content']['data'])\n",
       "    });\n",
       "    return ws;\n",
       "}\n",
       "\n",
       "mpl.mpl_figure_comm = function(comm, msg) {\n",
       "    // This is the function which gets called when the mpl process\n",
       "    // starts-up an IPython Comm through the \"matplotlib\" channel.\n",
       "\n",
       "    var id = msg.content.data.id;\n",
       "    // Get hold of the div created by the display call when the Comm\n",
       "    // socket was opened in Python.\n",
       "    var element = $(\"#\" + id);\n",
       "    var ws_proxy = comm_websocket_adapter(comm)\n",
       "\n",
       "    function ondownload(figure, format) {\n",
       "        window.open(figure.imageObj.src);\n",
       "    }\n",
       "\n",
       "    var fig = new mpl.figure(id, ws_proxy,\n",
       "                           ondownload,\n",
       "                           element.get(0));\n",
       "\n",
       "    // Call onopen now - mpl needs it, as it is assuming we've passed it a real\n",
       "    // web socket which is closed, not our websocket->open comm proxy.\n",
       "    ws_proxy.onopen();\n",
       "\n",
       "    fig.parent_element = element.get(0);\n",
       "    fig.cell_info = mpl.find_output_cell(\"<div id='\" + id + \"'></div>\");\n",
       "    if (!fig.cell_info) {\n",
       "        console.error(\"Failed to find cell for figure\", id, fig);\n",
       "        return;\n",
       "    }\n",
       "\n",
       "    var output_index = fig.cell_info[2]\n",
       "    var cell = fig.cell_info[0];\n",
       "\n",
       "};\n",
       "\n",
       "mpl.figure.prototype.handle_close = function(fig, msg) {\n",
       "    var width = fig.canvas.width/mpl.ratio\n",
       "    fig.root.unbind('remove')\n",
       "\n",
       "    // Update the output cell to use the data from the current canvas.\n",
       "    fig.push_to_output();\n",
       "    var dataURL = fig.canvas.toDataURL();\n",
       "    // Re-enable the keyboard manager in IPython - without this line, in FF,\n",
       "    // the notebook keyboard shortcuts fail.\n",
       "    IPython.keyboard_manager.enable()\n",
       "    $(fig.parent_element).html('<img src=\"' + dataURL + '\" width=\"' + width + '\">');\n",
       "    fig.close_ws(fig, msg);\n",
       "}\n",
       "\n",
       "mpl.figure.prototype.close_ws = function(fig, msg){\n",
       "    fig.send_message('closing', msg);\n",
       "    // fig.ws.close()\n",
       "}\n",
       "\n",
       "mpl.figure.prototype.push_to_output = function(remove_interactive) {\n",
       "    // Turn the data on the canvas into data in the output cell.\n",
       "    var width = this.canvas.width/mpl.ratio\n",
       "    var dataURL = this.canvas.toDataURL();\n",
       "    this.cell_info[1]['text/html'] = '<img src=\"' + dataURL + '\" width=\"' + width + '\">';\n",
       "}\n",
       "\n",
       "mpl.figure.prototype.updated_canvas_event = function() {\n",
       "    // Tell IPython that the notebook contents must change.\n",
       "    IPython.notebook.set_dirty(true);\n",
       "    this.send_message(\"ack\", {});\n",
       "    var fig = this;\n",
       "    // Wait a second, then push the new image to the DOM so\n",
       "    // that it is saved nicely (might be nice to debounce this).\n",
       "    setTimeout(function () { fig.push_to_output() }, 1000);\n",
       "}\n",
       "\n",
       "mpl.figure.prototype._init_toolbar = function() {\n",
       "    var fig = this;\n",
       "\n",
       "    var nav_element = $('<div/>')\n",
       "    nav_element.attr('style', 'width: 100%');\n",
       "    this.root.append(nav_element);\n",
       "\n",
       "    // Define a callback function for later on.\n",
       "    function toolbar_event(event) {\n",
       "        return fig.toolbar_button_onclick(event['data']);\n",
       "    }\n",
       "    function toolbar_mouse_event(event) {\n",
       "        return fig.toolbar_button_onmouseover(event['data']);\n",
       "    }\n",
       "\n",
       "    for(var toolbar_ind in mpl.toolbar_items){\n",
       "        var name = mpl.toolbar_items[toolbar_ind][0];\n",
       "        var tooltip = mpl.toolbar_items[toolbar_ind][1];\n",
       "        var image = mpl.toolbar_items[toolbar_ind][2];\n",
       "        var method_name = mpl.toolbar_items[toolbar_ind][3];\n",
       "\n",
       "        if (!name) { continue; };\n",
       "\n",
       "        var button = $('<button class=\"btn btn-default\" href=\"#\" title=\"' + name + '\"><i class=\"fa ' + image + ' fa-lg\"></i></button>');\n",
       "        button.click(method_name, toolbar_event);\n",
       "        button.mouseover(tooltip, toolbar_mouse_event);\n",
       "        nav_element.append(button);\n",
       "    }\n",
       "\n",
       "    // Add the status bar.\n",
       "    var status_bar = $('<span class=\"mpl-message\" style=\"text-align:right; float: right;\"/>');\n",
       "    nav_element.append(status_bar);\n",
       "    this.message = status_bar[0];\n",
       "\n",
       "    // Add the close button to the window.\n",
       "    var buttongrp = $('<div class=\"btn-group inline pull-right\"></div>');\n",
       "    var button = $('<button class=\"btn btn-mini btn-primary\" href=\"#\" title=\"Stop Interaction\"><i class=\"fa fa-power-off icon-remove icon-large\"></i></button>');\n",
       "    button.click(function (evt) { fig.handle_close(fig, {}); } );\n",
       "    button.mouseover('Stop Interaction', toolbar_mouse_event);\n",
       "    buttongrp.append(button);\n",
       "    var titlebar = this.root.find($('.ui-dialog-titlebar'));\n",
       "    titlebar.prepend(buttongrp);\n",
       "}\n",
       "\n",
       "mpl.figure.prototype._root_extra_style = function(el){\n",
       "    var fig = this\n",
       "    el.on(\"remove\", function(){\n",
       "\tfig.close_ws(fig, {});\n",
       "    });\n",
       "}\n",
       "\n",
       "mpl.figure.prototype._canvas_extra_style = function(el){\n",
       "    // this is important to make the div 'focusable\n",
       "    el.attr('tabindex', 0)\n",
       "    // reach out to IPython and tell the keyboard manager to turn it's self\n",
       "    // off when our div gets focus\n",
       "\n",
       "    // location in version 3\n",
       "    if (IPython.notebook.keyboard_manager) {\n",
       "        IPython.notebook.keyboard_manager.register_events(el);\n",
       "    }\n",
       "    else {\n",
       "        // location in version 2\n",
       "        IPython.keyboard_manager.register_events(el);\n",
       "    }\n",
       "\n",
       "}\n",
       "\n",
       "mpl.figure.prototype._key_event_extra = function(event, name) {\n",
       "    var manager = IPython.notebook.keyboard_manager;\n",
       "    if (!manager)\n",
       "        manager = IPython.keyboard_manager;\n",
       "\n",
       "    // Check for shift+enter\n",
       "    if (event.shiftKey && event.which == 13) {\n",
       "        this.canvas_div.blur();\n",
       "        // select the cell after this one\n",
       "        var index = IPython.notebook.find_cell_index(this.cell_info[0]);\n",
       "        IPython.notebook.select(index + 1);\n",
       "    }\n",
       "}\n",
       "\n",
       "mpl.figure.prototype.handle_save = function(fig, msg) {\n",
       "    fig.ondownload(fig, null);\n",
       "}\n",
       "\n",
       "\n",
       "mpl.find_output_cell = function(html_output) {\n",
       "    // Return the cell and output element which can be found *uniquely* in the notebook.\n",
       "    // Note - this is a bit hacky, but it is done because the \"notebook_saving.Notebook\"\n",
       "    // IPython event is triggered only after the cells have been serialised, which for\n",
       "    // our purposes (turning an active figure into a static one), is too late.\n",
       "    var cells = IPython.notebook.get_cells();\n",
       "    var ncells = cells.length;\n",
       "    for (var i=0; i<ncells; i++) {\n",
       "        var cell = cells[i];\n",
       "        if (cell.cell_type === 'code'){\n",
       "            for (var j=0; j<cell.output_area.outputs.length; j++) {\n",
       "                var data = cell.output_area.outputs[j];\n",
       "                if (data.data) {\n",
       "                    // IPython >= 3 moved mimebundle to data attribute of output\n",
       "                    data = data.data;\n",
       "                }\n",
       "                if (data['text/html'] == html_output) {\n",
       "                    return [cell, data, j];\n",
       "                }\n",
       "            }\n",
       "        }\n",
       "    }\n",
       "}\n",
       "\n",
       "// Register the function which deals with the matplotlib target/channel.\n",
       "// The kernel may be null if the page has been refreshed.\n",
       "if (IPython.notebook.kernel != null) {\n",
       "    IPython.notebook.kernel.comm_manager.register_target('matplotlib', mpl.mpl_figure_comm);\n",
       "}\n"
      ],
      "text/plain": [
       "<IPython.core.display.Javascript object>"
      ]
     },
     "metadata": {},
     "output_type": "display_data"
    },
    {
     "data": {
      "text/html": [
       "<img src=\"data:image/png;base64,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\" width=\"640\">"
      ],
      "text/plain": [
       "<IPython.core.display.HTML object>"
      ]
     },
     "metadata": {},
     "output_type": "display_data"
    }
   ],
   "source": [
    "%matplotlib notebook\n",
    "import matplotlib.pyplot as plt\n",
    "plt.plot(x,f)\n",
    "plt.show()"
   ]
  },
  {
   "cell_type": "markdown",
   "metadata": {},
   "source": [
    "## Printing Arrays"
   ]
  },
  {
   "cell_type": "code",
   "execution_count": 27,
   "metadata": {},
   "outputs": [
    {
     "name": "stdout",
     "output_type": "stream",
     "text": [
      "[0 1 2 3 4]\n"
     ]
    }
   ],
   "source": [
    "a=np.arange(5)\n",
    "print(a)"
   ]
  },
  {
   "cell_type": "code",
   "execution_count": 28,
   "metadata": {},
   "outputs": [
    {
     "name": "stdout",
     "output_type": "stream",
     "text": [
      "[[ 0  1  2]\n",
      " [ 3  4  5]\n",
      " [ 6  7  8]\n",
      " [ 9 10 11]]\n"
     ]
    }
   ],
   "source": [
    "b=np.arange(12).reshape(4,3)\n",
    "print(b)"
   ]
  },
  {
   "cell_type": "code",
   "execution_count": 29,
   "metadata": {},
   "outputs": [
    {
     "name": "stdout",
     "output_type": "stream",
     "text": [
      "[[[ 0  1  2  3]\n",
      "  [ 4  5  6  7]\n",
      "  [ 8  9 10 11]]\n",
      "\n",
      " [[12 13 14 15]\n",
      "  [16 17 18 19]\n",
      "  [20 21 22 23]]]\n"
     ]
    }
   ],
   "source": [
    "c=np.arange(24).reshape(2,3,4)\n",
    "print(c)"
   ]
  },
  {
   "cell_type": "markdown",
   "metadata": {},
   "source": [
    "## Basic Operations"
   ]
  },
  {
   "cell_type": "code",
   "execution_count": 30,
   "metadata": {},
   "outputs": [
    {
     "data": {
      "text/plain": [
       "array([0, 1, 2, 3])"
      ]
     },
     "execution_count": 30,
     "metadata": {},
     "output_type": "execute_result"
    }
   ],
   "source": [
    "a=np.array([20,30,40,50])\n",
    "b=np.arange(4)\n",
    "b"
   ]
  },
  {
   "cell_type": "code",
   "execution_count": 31,
   "metadata": {},
   "outputs": [
    {
     "data": {
      "text/plain": [
       "array([20, 29, 38, 47])"
      ]
     },
     "execution_count": 31,
     "metadata": {},
     "output_type": "execute_result"
    }
   ],
   "source": [
    "c=a-b\n",
    "c"
   ]
  },
  {
   "cell_type": "code",
   "execution_count": 32,
   "metadata": {},
   "outputs": [
    {
     "data": {
      "text/plain": [
       "array([0, 1, 4, 9])"
      ]
     },
     "execution_count": 32,
     "metadata": {},
     "output_type": "execute_result"
    }
   ],
   "source": [
    "b**2"
   ]
  },
  {
   "cell_type": "code",
   "execution_count": 33,
   "metadata": {},
   "outputs": [
    {
     "data": {
      "text/plain": [
       "array([ 9.12945251, -9.88031624,  7.4511316 , -2.62374854])"
      ]
     },
     "execution_count": 33,
     "metadata": {},
     "output_type": "execute_result"
    }
   ],
   "source": [
    "10*np.sin(a)"
   ]
  },
  {
   "cell_type": "code",
   "execution_count": 34,
   "metadata": {},
   "outputs": [
    {
     "data": {
      "text/plain": [
       "array([ True,  True, False, False], dtype=bool)"
      ]
     },
     "execution_count": 34,
     "metadata": {},
     "output_type": "execute_result"
    }
   ],
   "source": [
    "a<35"
   ]
  },
  {
   "cell_type": "code",
   "execution_count": 35,
   "metadata": {},
   "outputs": [
    {
     "data": {
      "text/plain": [
       "array([[2, 0],\n",
       "       [0, 4]])"
      ]
     },
     "execution_count": 35,
     "metadata": {},
     "output_type": "execute_result"
    }
   ],
   "source": [
    "A=np.array([[1,1],[0,1]])\n",
    "B=np.array([[2,0],[3,4]])\n",
    "A*B"
   ]
  },
  {
   "cell_type": "code",
   "execution_count": 36,
   "metadata": {},
   "outputs": [
    {
     "data": {
      "text/plain": [
       "array([[5, 4],\n",
       "       [3, 4]])"
      ]
     },
     "execution_count": 36,
     "metadata": {},
     "output_type": "execute_result"
    }
   ],
   "source": [
    "A.dot(B)"
   ]
  },
  {
   "cell_type": "code",
   "execution_count": 37,
   "metadata": {},
   "outputs": [
    {
     "data": {
      "text/plain": [
       "array([[5, 4],\n",
       "       [3, 4]])"
      ]
     },
     "execution_count": 37,
     "metadata": {},
     "output_type": "execute_result"
    }
   ],
   "source": [
    "np.dot(A,B)"
   ]
  },
  {
   "cell_type": "code",
   "execution_count": 38,
   "metadata": {},
   "outputs": [
    {
     "data": {
      "text/plain": [
       "array([[3, 3, 3],\n",
       "       [3, 3, 3]])"
      ]
     },
     "execution_count": 38,
     "metadata": {},
     "output_type": "execute_result"
    }
   ],
   "source": [
    "a=np.ones((2,3),dtype=int)\n",
    "b=np.random.random((2,3))\n",
    "a*=3\n",
    "a"
   ]
  },
  {
   "cell_type": "code",
   "execution_count": 39,
   "metadata": {},
   "outputs": [
    {
     "data": {
      "text/plain": [
       "array([[ 3.61914215,  3.82673845,  3.28576888],\n",
       "       [ 3.36137087,  3.96175817,  3.9391732 ]])"
      ]
     },
     "execution_count": 39,
     "metadata": {},
     "output_type": "execute_result"
    }
   ],
   "source": [
    "b+=a\n",
    "b"
   ]
  },
  {
   "cell_type": "code",
   "execution_count": 40,
   "metadata": {},
   "outputs": [
    {
     "ename": "TypeError",
     "evalue": "Cannot cast ufunc add output from dtype('float64') to dtype('int64') with casting rule 'same_kind'",
     "output_type": "error",
     "traceback": [
      "\u001b[0;31m---------------------------------------------------------------------------\u001b[0m",
      "\u001b[0;31mTypeError\u001b[0m                                 Traceback (most recent call last)",
      "\u001b[0;32m<ipython-input-40-0a45668e3cc6>\u001b[0m in \u001b[0;36m<module>\u001b[0;34m()\u001b[0m\n\u001b[0;32m----> 1\u001b[0;31m \u001b[0ma\u001b[0m\u001b[0;34m+=\u001b[0m\u001b[0mb\u001b[0m\u001b[0;34m\u001b[0m\u001b[0m\n\u001b[0m",
      "\u001b[0;31mTypeError\u001b[0m: Cannot cast ufunc add output from dtype('float64') to dtype('int64') with casting rule 'same_kind'"
     ]
    }
   ],
   "source": [
    "a+=b"
   ]
  },
  {
   "cell_type": "code",
   "execution_count": 41,
   "metadata": {},
   "outputs": [],
   "source": [
    "a=np.ones((2,3),dtype=np.float64)\n",
    "a+=b"
   ]
  },
  {
   "cell_type": "code",
   "execution_count": 42,
   "metadata": {},
   "outputs": [
    {
     "data": {
      "text/plain": [
       "array([[ 4.61914215,  4.82673845,  4.28576888],\n",
       "       [ 4.36137087,  4.96175817,  4.9391732 ]])"
      ]
     },
     "execution_count": 42,
     "metadata": {},
     "output_type": "execute_result"
    }
   ],
   "source": [
    "a"
   ]
  },
  {
   "cell_type": "code",
   "execution_count": 43,
   "metadata": {},
   "outputs": [
    {
     "data": {
      "text/plain": [
       "'float64'"
      ]
     },
     "execution_count": 43,
     "metadata": {},
     "output_type": "execute_result"
    }
   ],
   "source": [
    "a=np.ones(3,dtype=np.int32)\n",
    "b=np.linspace(0,pi,3)\n",
    "b.dtype.name"
   ]
  },
  {
   "cell_type": "code",
   "execution_count": 44,
   "metadata": {},
   "outputs": [
    {
     "data": {
      "text/plain": [
       "array([ 1.        ,  2.57079633,  4.14159265])"
      ]
     },
     "execution_count": 44,
     "metadata": {},
     "output_type": "execute_result"
    }
   ],
   "source": [
    "c=a+b\n",
    "c"
   ]
  },
  {
   "cell_type": "code",
   "execution_count": 45,
   "metadata": {},
   "outputs": [
    {
     "data": {
      "text/plain": [
       "'float64'"
      ]
     },
     "execution_count": 45,
     "metadata": {},
     "output_type": "execute_result"
    }
   ],
   "source": [
    "c.dtype.name"
   ]
  },
  {
   "cell_type": "code",
   "execution_count": 46,
   "metadata": {},
   "outputs": [
    {
     "data": {
      "text/plain": [
       "array([ 0.54030231+0.84147098j, -0.84147098+0.54030231j,\n",
       "       -0.54030231-0.84147098j])"
      ]
     },
     "execution_count": 46,
     "metadata": {},
     "output_type": "execute_result"
    }
   ],
   "source": [
    "d=np.exp(c*1j)\n",
    "d"
   ]
  },
  {
   "cell_type": "code",
   "execution_count": 48,
   "metadata": {},
   "outputs": [
    {
     "data": {
      "text/plain": [
       "'complex128'"
      ]
     },
     "execution_count": 48,
     "metadata": {},
     "output_type": "execute_result"
    }
   ],
   "source": [
    "d.dtype.name"
   ]
  },
  {
   "cell_type": "code",
   "execution_count": 49,
   "metadata": {},
   "outputs": [
    {
     "data": {
      "text/plain": [
       "array([[ 0.5761132 ,  0.65466393,  0.84943945],\n",
       "       [ 0.9314337 ,  0.02778117,  0.93265785]])"
      ]
     },
     "execution_count": 49,
     "metadata": {},
     "output_type": "execute_result"
    }
   ],
   "source": [
    "a=np.random.random((2,3))\n",
    "a"
   ]
  },
  {
   "cell_type": "code",
   "execution_count": 50,
   "metadata": {},
   "outputs": [
    {
     "data": {
      "text/plain": [
       "3.9720892982822322"
      ]
     },
     "execution_count": 50,
     "metadata": {},
     "output_type": "execute_result"
    }
   ],
   "source": [
    "a.sum()"
   ]
  },
  {
   "cell_type": "code",
   "execution_count": 51,
   "metadata": {},
   "outputs": [
    {
     "data": {
      "text/plain": [
       "0.027781169138136552"
      ]
     },
     "execution_count": 51,
     "metadata": {},
     "output_type": "execute_result"
    }
   ],
   "source": [
    "a.min()"
   ]
  },
  {
   "cell_type": "code",
   "execution_count": 52,
   "metadata": {},
   "outputs": [
    {
     "data": {
      "text/plain": [
       "0.93265784736523027"
      ]
     },
     "execution_count": 52,
     "metadata": {},
     "output_type": "execute_result"
    }
   ],
   "source": [
    "a.max()"
   ]
  },
  {
   "cell_type": "code",
   "execution_count": 53,
   "metadata": {},
   "outputs": [
    {
     "data": {
      "text/plain": [
       "array([[ 0,  1,  2,  3],\n",
       "       [ 4,  5,  6,  7],\n",
       "       [ 8,  9, 10, 11]])"
      ]
     },
     "execution_count": 53,
     "metadata": {},
     "output_type": "execute_result"
    }
   ],
   "source": [
    "b=np.arange(12).reshape(3,4)\n",
    "b"
   ]
  },
  {
   "cell_type": "code",
   "execution_count": 54,
   "metadata": {},
   "outputs": [
    {
     "data": {
      "text/plain": [
       "array([12, 15, 18, 21])"
      ]
     },
     "execution_count": 54,
     "metadata": {},
     "output_type": "execute_result"
    }
   ],
   "source": [
    "b.sum(axis=0)"
   ]
  },
  {
   "cell_type": "code",
   "execution_count": 55,
   "metadata": {},
   "outputs": [
    {
     "data": {
      "text/plain": [
       "array([0, 4, 8])"
      ]
     },
     "execution_count": 55,
     "metadata": {},
     "output_type": "execute_result"
    }
   ],
   "source": [
    "b.min(axis=1)"
   ]
  },
  {
   "cell_type": "code",
   "execution_count": 56,
   "metadata": {},
   "outputs": [
    {
     "data": {
      "text/plain": [
       "array([[ 0,  1,  3,  6],\n",
       "       [ 4,  9, 15, 22],\n",
       "       [ 8, 17, 27, 38]])"
      ]
     },
     "execution_count": 56,
     "metadata": {},
     "output_type": "execute_result"
    }
   ],
   "source": [
    "b.cumsum(axis=1)"
   ]
  },
  {
   "cell_type": "markdown",
   "metadata": {},
   "source": [
    "## Universal Functions"
   ]
  },
  {
   "cell_type": "code",
   "execution_count": 57,
   "metadata": {},
   "outputs": [
    {
     "data": {
      "text/plain": [
       "array([0, 1, 2])"
      ]
     },
     "execution_count": 57,
     "metadata": {},
     "output_type": "execute_result"
    }
   ],
   "source": [
    "B=np.arange(3)\n",
    "B"
   ]
  },
  {
   "cell_type": "code",
   "execution_count": 58,
   "metadata": {},
   "outputs": [
    {
     "data": {
      "text/plain": [
       "array([ 1.        ,  2.71828183,  7.3890561 ])"
      ]
     },
     "execution_count": 58,
     "metadata": {},
     "output_type": "execute_result"
    }
   ],
   "source": [
    "np.exp(B)"
   ]
  },
  {
   "cell_type": "code",
   "execution_count": 59,
   "metadata": {},
   "outputs": [
    {
     "data": {
      "text/plain": [
       "array([ 0.        ,  1.        ,  1.41421356])"
      ]
     },
     "execution_count": 59,
     "metadata": {},
     "output_type": "execute_result"
    }
   ],
   "source": [
    "np.sqrt(B)"
   ]
  },
  {
   "cell_type": "code",
   "execution_count": 60,
   "metadata": {},
   "outputs": [
    {
     "data": {
      "text/plain": [
       "array([ 2.,  0.,  6.])"
      ]
     },
     "execution_count": 60,
     "metadata": {},
     "output_type": "execute_result"
    }
   ],
   "source": [
    "C=np.array([2,-1,4],dtype=np.float64)\n",
    "np.add(B,C)"
   ]
  },
  {
   "cell_type": "markdown",
   "metadata": {},
   "source": [
    "## Indexing, Slicing, and Iterating"
   ]
  },
  {
   "cell_type": "code",
   "execution_count": 61,
   "metadata": {},
   "outputs": [
    {
     "data": {
      "text/plain": [
       "array([  0,   1,   8,  27,  64, 125, 216, 343, 512, 729])"
      ]
     },
     "execution_count": 61,
     "metadata": {},
     "output_type": "execute_result"
    }
   ],
   "source": [
    "a=np.arange(10)**3\n",
    "a"
   ]
  },
  {
   "cell_type": "code",
   "execution_count": 62,
   "metadata": {},
   "outputs": [
    {
     "data": {
      "text/plain": [
       "8"
      ]
     },
     "execution_count": 62,
     "metadata": {},
     "output_type": "execute_result"
    }
   ],
   "source": [
    "a[2]"
   ]
  },
  {
   "cell_type": "code",
   "execution_count": 63,
   "metadata": {},
   "outputs": [
    {
     "data": {
      "text/plain": [
       "array([ 8, 27, 64])"
      ]
     },
     "execution_count": 63,
     "metadata": {},
     "output_type": "execute_result"
    }
   ],
   "source": [
    "a[2:5]"
   ]
  },
  {
   "cell_type": "code",
   "execution_count": 64,
   "metadata": {},
   "outputs": [
    {
     "data": {
      "text/plain": [
       "array([ 0,  8, 64])"
      ]
     },
     "execution_count": 64,
     "metadata": {},
     "output_type": "execute_result"
    }
   ],
   "source": [
    "a[:6:2]"
   ]
  },
  {
   "cell_type": "code",
   "execution_count": 65,
   "metadata": {},
   "outputs": [
    {
     "data": {
      "text/plain": [
       "array([-1000,     1, -1000,    27, -1000,   125,   216,   343,   512,   729])"
      ]
     },
     "execution_count": 65,
     "metadata": {},
     "output_type": "execute_result"
    }
   ],
   "source": [
    "a[:6:2]=-1000\n",
    "a"
   ]
  },
  {
   "cell_type": "code",
   "execution_count": 66,
   "metadata": {},
   "outputs": [
    {
     "data": {
      "text/plain": [
       "array([  729,   512,   343,   216,   125, -1000,    27, -1000,     1, -1000])"
      ]
     },
     "execution_count": 66,
     "metadata": {},
     "output_type": "execute_result"
    }
   ],
   "source": [
    "a[::-1] #reversed a"
   ]
  },
  {
   "cell_type": "markdown",
   "metadata": {},
   "source": [
    "### Multidimensional arrays"
   ]
  },
  {
   "cell_type": "code",
   "execution_count": 68,
   "metadata": {},
   "outputs": [],
   "source": [
    "def f(x,y):\n",
    "    return 10*x+y"
   ]
  },
  {
   "cell_type": "code",
   "execution_count": 69,
   "metadata": {},
   "outputs": [
    {
     "data": {
      "text/plain": [
       "array([[ 0,  1,  2,  3],\n",
       "       [10, 11, 12, 13],\n",
       "       [20, 21, 22, 23],\n",
       "       [30, 31, 32, 33],\n",
       "       [40, 41, 42, 43]])"
      ]
     },
     "execution_count": 69,
     "metadata": {},
     "output_type": "execute_result"
    }
   ],
   "source": [
    "b=np.fromfunction(f,(5,4),dtype=int)\n",
    "b"
   ]
  },
  {
   "cell_type": "code",
   "execution_count": 70,
   "metadata": {},
   "outputs": [
    {
     "data": {
      "text/plain": [
       "23"
      ]
     },
     "execution_count": 70,
     "metadata": {},
     "output_type": "execute_result"
    }
   ],
   "source": [
    "b[2,3]"
   ]
  },
  {
   "cell_type": "code",
   "execution_count": 71,
   "metadata": {},
   "outputs": [
    {
     "data": {
      "text/plain": [
       "array([ 1, 11, 21, 31, 41])"
      ]
     },
     "execution_count": 71,
     "metadata": {},
     "output_type": "execute_result"
    }
   ],
   "source": [
    "b[0:5,1]"
   ]
  },
  {
   "cell_type": "code",
   "execution_count": 72,
   "metadata": {},
   "outputs": [
    {
     "data": {
      "text/plain": [
       "array([ 1, 11, 21, 31, 41])"
      ]
     },
     "execution_count": 72,
     "metadata": {},
     "output_type": "execute_result"
    }
   ],
   "source": [
    "b[:,1]"
   ]
  },
  {
   "cell_type": "code",
   "execution_count": 74,
   "metadata": {},
   "outputs": [
    {
     "data": {
      "text/plain": [
       "array([[10, 11, 12, 13],\n",
       "       [20, 21, 22, 23]])"
      ]
     },
     "execution_count": 74,
     "metadata": {},
     "output_type": "execute_result"
    }
   ],
   "source": [
    "b[1:3,:]"
   ]
  },
  {
   "cell_type": "code",
   "execution_count": 75,
   "metadata": {},
   "outputs": [
    {
     "data": {
      "text/plain": [
       "array([40, 41, 42, 43])"
      ]
     },
     "execution_count": 75,
     "metadata": {},
     "output_type": "execute_result"
    }
   ],
   "source": [
    "b[-1]"
   ]
  },
  {
   "cell_type": "code",
   "execution_count": 77,
   "metadata": {},
   "outputs": [
    {
     "data": {
      "text/plain": [
       "(2, 2, 3)"
      ]
     },
     "execution_count": 77,
     "metadata": {},
     "output_type": "execute_result"
    }
   ],
   "source": [
    "c=np.array([[[0,1,2],[10,12,13]],[[100,101,102],[110,112,113]]])\n",
    "c.shape"
   ]
  },
  {
   "cell_type": "code",
   "execution_count": 78,
   "metadata": {},
   "outputs": [
    {
     "data": {
      "text/plain": [
       "array([[100, 101, 102],\n",
       "       [110, 112, 113]])"
      ]
     },
     "execution_count": 78,
     "metadata": {},
     "output_type": "execute_result"
    }
   ],
   "source": [
    "c[1,...]"
   ]
  },
  {
   "cell_type": "code",
   "execution_count": 79,
   "metadata": {},
   "outputs": [
    {
     "data": {
      "text/plain": [
       "array([[100, 101, 102],\n",
       "       [110, 112, 113]])"
      ]
     },
     "execution_count": 79,
     "metadata": {},
     "output_type": "execute_result"
    }
   ],
   "source": [
    "c[1,:,:]"
   ]
  },
  {
   "cell_type": "code",
   "execution_count": 80,
   "metadata": {},
   "outputs": [
    {
     "data": {
      "text/plain": [
       "array([[  2,  13],\n",
       "       [102, 113]])"
      ]
     },
     "execution_count": 80,
     "metadata": {},
     "output_type": "execute_result"
    }
   ],
   "source": [
    "c[...,2]"
   ]
  },
  {
   "cell_type": "code",
   "execution_count": 81,
   "metadata": {},
   "outputs": [
    {
     "data": {
      "text/plain": [
       "array([[ 0,  1,  2,  3],\n",
       "       [10, 11, 12, 13],\n",
       "       [20, 21, 22, 23],\n",
       "       [30, 31, 32, 33],\n",
       "       [40, 41, 42, 43]])"
      ]
     },
     "execution_count": 81,
     "metadata": {},
     "output_type": "execute_result"
    }
   ],
   "source": [
    "b"
   ]
  },
  {
   "cell_type": "code",
   "execution_count": 82,
   "metadata": {},
   "outputs": [
    {
     "name": "stdout",
     "output_type": "stream",
     "text": [
      "[0 1 2 3]\n",
      "[10 11 12 13]\n",
      "[20 21 22 23]\n",
      "[30 31 32 33]\n",
      "[40 41 42 43]\n"
     ]
    }
   ],
   "source": [
    "for row in b:\n",
    "    print(row)"
   ]
  },
  {
   "cell_type": "code",
   "execution_count": 83,
   "metadata": {},
   "outputs": [
    {
     "name": "stdout",
     "output_type": "stream",
     "text": [
      "0\n",
      "1\n",
      "2\n",
      "3\n",
      "10\n",
      "11\n",
      "12\n",
      "13\n",
      "20\n",
      "21\n",
      "22\n",
      "23\n",
      "30\n",
      "31\n",
      "32\n",
      "33\n",
      "40\n",
      "41\n",
      "42\n",
      "43\n"
     ]
    }
   ],
   "source": [
    "for element in b.flat:\n",
    "    print(element)"
   ]
  },
  {
   "cell_type": "markdown",
   "metadata": {},
   "source": [
    "# Shape Manipulation\n",
    "## Chaning the Shape of an Array"
   ]
  },
  {
   "cell_type": "code",
   "execution_count": 85,
   "metadata": {},
   "outputs": [
    {
     "data": {
      "text/plain": [
       "array([[ 7.,  4.,  7.,  5.],\n",
       "       [ 1.,  1.,  8.,  8.],\n",
       "       [ 3.,  4.,  6.,  0.]])"
      ]
     },
     "execution_count": 85,
     "metadata": {},
     "output_type": "execute_result"
    }
   ],
   "source": [
    "a=np.floor(10*np.random.random((3,4)))\n",
    "a"
   ]
  },
  {
   "cell_type": "code",
   "execution_count": 87,
   "metadata": {},
   "outputs": [
    {
     "data": {
      "text/plain": [
       "(3, 4)"
      ]
     },
     "execution_count": 87,
     "metadata": {},
     "output_type": "execute_result"
    }
   ],
   "source": [
    "a.shape"
   ]
  },
  {
   "cell_type": "code",
   "execution_count": 88,
   "metadata": {},
   "outputs": [
    {
     "data": {
      "text/plain": [
       "array([ 7.,  4.,  7.,  5.,  1.,  1.,  8.,  8.,  3.,  4.,  6.,  0.])"
      ]
     },
     "execution_count": 88,
     "metadata": {},
     "output_type": "execute_result"
    }
   ],
   "source": [
    "a.ravel()"
   ]
  },
  {
   "cell_type": "code",
   "execution_count": 89,
   "metadata": {},
   "outputs": [
    {
     "data": {
      "text/plain": [
       "array([[ 7.,  4.],\n",
       "       [ 7.,  5.],\n",
       "       [ 1.,  1.],\n",
       "       [ 8.,  8.],\n",
       "       [ 3.,  4.],\n",
       "       [ 6.,  0.]])"
      ]
     },
     "execution_count": 89,
     "metadata": {},
     "output_type": "execute_result"
    }
   ],
   "source": [
    "a.reshape(6,2)"
   ]
  },
  {
   "cell_type": "code",
   "execution_count": 90,
   "metadata": {},
   "outputs": [
    {
     "data": {
      "text/plain": [
       "array([[ 7.,  1.,  3.],\n",
       "       [ 4.,  1.,  4.],\n",
       "       [ 7.,  8.,  6.],\n",
       "       [ 5.,  8.,  0.]])"
      ]
     },
     "execution_count": 90,
     "metadata": {},
     "output_type": "execute_result"
    }
   ],
   "source": [
    "a.T"
   ]
  },
  {
   "cell_type": "code",
   "execution_count": 91,
   "metadata": {},
   "outputs": [
    {
     "data": {
      "text/plain": [
       "(4, 3)"
      ]
     },
     "execution_count": 91,
     "metadata": {},
     "output_type": "execute_result"
    }
   ],
   "source": [
    "a.T.shape"
   ]
  },
  {
   "cell_type": "code",
   "execution_count": 92,
   "metadata": {},
   "outputs": [
    {
     "data": {
      "text/plain": [
       "(3, 4)"
      ]
     },
     "execution_count": 92,
     "metadata": {},
     "output_type": "execute_result"
    }
   ],
   "source": [
    "a.shape"
   ]
  },
  {
   "cell_type": "code",
   "execution_count": 93,
   "metadata": {},
   "outputs": [],
   "source": [
    "a.resize((2,6))"
   ]
  },
  {
   "cell_type": "code",
   "execution_count": 94,
   "metadata": {},
   "outputs": [
    {
     "data": {
      "text/plain": [
       "array([[ 7.,  4.,  7.,  5.,  1.,  1.],\n",
       "       [ 8.,  8.,  3.,  4.,  6.,  0.]])"
      ]
     },
     "execution_count": 94,
     "metadata": {},
     "output_type": "execute_result"
    }
   ],
   "source": [
    "a"
   ]
  },
  {
   "cell_type": "code",
   "execution_count": 95,
   "metadata": {},
   "outputs": [
    {
     "data": {
      "text/plain": [
       "array([[ 7.,  4.,  7.,  5.],\n",
       "       [ 1.,  1.,  8.,  8.],\n",
       "       [ 3.,  4.,  6.,  0.]])"
      ]
     },
     "execution_count": 95,
     "metadata": {},
     "output_type": "execute_result"
    }
   ],
   "source": [
    "a.reshape(3,-1) #If a dimension is given as -1, the other dimensions are automatically calculated"
   ]
  },
  {
   "cell_type": "markdown",
   "metadata": {},
   "source": [
    "## Stacking together different arrays"
   ]
  },
  {
   "cell_type": "code",
   "execution_count": 96,
   "metadata": {},
   "outputs": [
    {
     "data": {
      "text/plain": [
       "array([[ 9.,  9.],\n",
       "       [ 5.,  6.]])"
      ]
     },
     "execution_count": 96,
     "metadata": {},
     "output_type": "execute_result"
    }
   ],
   "source": [
    "a=np.floor(10*np.random.random((2,2)))\n",
    "a"
   ]
  },
  {
   "cell_type": "code",
   "execution_count": 97,
   "metadata": {},
   "outputs": [
    {
     "data": {
      "text/plain": [
       "array([[ 0.,  9.],\n",
       "       [ 2.,  9.]])"
      ]
     },
     "execution_count": 97,
     "metadata": {},
     "output_type": "execute_result"
    }
   ],
   "source": [
    "b=np.floor(10*np.random.random((2,2)))\n",
    "b"
   ]
  },
  {
   "cell_type": "code",
   "execution_count": 99,
   "metadata": {},
   "outputs": [
    {
     "data": {
      "text/plain": [
       "array([[ 9.,  9.],\n",
       "       [ 5.,  6.],\n",
       "       [ 0.,  9.],\n",
       "       [ 2.,  9.]])"
      ]
     },
     "execution_count": 99,
     "metadata": {},
     "output_type": "execute_result"
    }
   ],
   "source": [
    "np.vstack((a,b))"
   ]
  },
  {
   "cell_type": "code",
   "execution_count": 100,
   "metadata": {},
   "outputs": [
    {
     "data": {
      "text/plain": [
       "array([[ 9.,  9.,  0.,  9.],\n",
       "       [ 5.,  6.,  2.,  9.]])"
      ]
     },
     "execution_count": 100,
     "metadata": {},
     "output_type": "execute_result"
    }
   ],
   "source": [
    "np.hstack((a,b))"
   ]
  },
  {
   "cell_type": "markdown",
   "metadata": {},
   "source": [
    "## Splitting One Array into Several Smaller Ones"
   ]
  },
  {
   "cell_type": "code",
   "execution_count": 101,
   "metadata": {},
   "outputs": [
    {
     "data": {
      "text/plain": [
       "array([[ 1.,  0.,  5.,  1.,  4.,  8.,  1.,  8.,  4.,  0.,  9.,  2.],\n",
       "       [ 5.,  3.,  4.,  3.,  4.,  3.,  5.,  7.,  4.,  3.,  2.,  3.]])"
      ]
     },
     "execution_count": 101,
     "metadata": {},
     "output_type": "execute_result"
    }
   ],
   "source": [
    "a=np.floor(10*np.random.random((2,12)))\n",
    "a"
   ]
  },
  {
   "cell_type": "code",
   "execution_count": 102,
   "metadata": {},
   "outputs": [
    {
     "data": {
      "text/plain": [
       "[array([[ 1.,  0.,  5.,  1.],\n",
       "        [ 5.,  3.,  4.,  3.]]), array([[ 4.,  8.,  1.,  8.],\n",
       "        [ 4.,  3.,  5.,  7.]]), array([[ 4.,  0.,  9.,  2.],\n",
       "        [ 4.,  3.,  2.,  3.]])]"
      ]
     },
     "execution_count": 102,
     "metadata": {},
     "output_type": "execute_result"
    }
   ],
   "source": [
    "np.hsplit(a,3)"
   ]
  },
  {
   "cell_type": "code",
   "execution_count": 103,
   "metadata": {},
   "outputs": [
    {
     "data": {
      "text/plain": [
       "[array([[ 1.,  0.,  5.,  1.,  4.,  8.,  1.,  8.,  4.,  0.,  9.,  2.]]),\n",
       " array([[ 5.,  3.,  4.,  3.,  4.,  3.,  5.,  7.,  4.,  3.,  2.,  3.]])]"
      ]
     },
     "execution_count": 103,
     "metadata": {},
     "output_type": "execute_result"
    }
   ],
   "source": [
    "np.vsplit(a,2)"
   ]
  },
  {
   "cell_type": "markdown",
   "metadata": {},
   "source": [
    "# Copies and Views\n",
    "## No Copy at All"
   ]
  },
  {
   "cell_type": "code",
   "execution_count": 104,
   "metadata": {},
   "outputs": [
    {
     "data": {
      "text/plain": [
       "True"
      ]
     },
     "execution_count": 104,
     "metadata": {},
     "output_type": "execute_result"
    }
   ],
   "source": [
    "a=np.arange(12)\n",
    "b=a\n",
    "b is a"
   ]
  },
  {
   "cell_type": "code",
   "execution_count": 105,
   "metadata": {},
   "outputs": [
    {
     "data": {
      "text/plain": [
       "(3, 4)"
      ]
     },
     "execution_count": 105,
     "metadata": {},
     "output_type": "execute_result"
    }
   ],
   "source": [
    "b.shape=3,4\n",
    "a.shape"
   ]
  },
  {
   "cell_type": "code",
   "execution_count": 106,
   "metadata": {},
   "outputs": [],
   "source": [
    "def f(x):\n",
    "    print(id(x))"
   ]
  },
  {
   "cell_type": "code",
   "execution_count": 109,
   "metadata": {},
   "outputs": [
    {
     "name": "stdout",
     "output_type": "stream",
     "text": [
      "139787997342976\n"
     ]
    }
   ],
   "source": [
    "f(a)"
   ]
  },
  {
   "cell_type": "code",
   "execution_count": 110,
   "metadata": {},
   "outputs": [
    {
     "name": "stdout",
     "output_type": "stream",
     "text": [
      "139787997342976\n"
     ]
    }
   ],
   "source": [
    "f(b)"
   ]
  },
  {
   "cell_type": "markdown",
   "metadata": {},
   "source": [
    "## View or Shallow Copy"
   ]
  },
  {
   "cell_type": "code",
   "execution_count": 111,
   "metadata": {},
   "outputs": [],
   "source": [
    "c=a.view()"
   ]
  },
  {
   "cell_type": "code",
   "execution_count": 112,
   "metadata": {},
   "outputs": [
    {
     "data": {
      "text/plain": [
       "False"
      ]
     },
     "execution_count": 112,
     "metadata": {},
     "output_type": "execute_result"
    }
   ],
   "source": [
    "c is a"
   ]
  },
  {
   "cell_type": "code",
   "execution_count": 113,
   "metadata": {},
   "outputs": [
    {
     "name": "stdout",
     "output_type": "stream",
     "text": [
      "139787997251744\n"
     ]
    }
   ],
   "source": [
    "f(c)"
   ]
  },
  {
   "cell_type": "code",
   "execution_count": 114,
   "metadata": {},
   "outputs": [
    {
     "data": {
      "text/plain": [
       "True"
      ]
     },
     "execution_count": 114,
     "metadata": {},
     "output_type": "execute_result"
    }
   ],
   "source": [
    "c.base is a"
   ]
  },
  {
   "cell_type": "code",
   "execution_count": 115,
   "metadata": {},
   "outputs": [
    {
     "data": {
      "text/plain": [
       "False"
      ]
     },
     "execution_count": 115,
     "metadata": {},
     "output_type": "execute_result"
    }
   ],
   "source": [
    "c.flags.owndata"
   ]
  },
  {
   "cell_type": "code",
   "execution_count": 116,
   "metadata": {},
   "outputs": [],
   "source": [
    "c.shape=2,6"
   ]
  },
  {
   "cell_type": "code",
   "execution_count": 117,
   "metadata": {},
   "outputs": [
    {
     "data": {
      "text/plain": [
       "(3, 4)"
      ]
     },
     "execution_count": 117,
     "metadata": {},
     "output_type": "execute_result"
    }
   ],
   "source": [
    "a.shape"
   ]
  },
  {
   "cell_type": "code",
   "execution_count": 118,
   "metadata": {},
   "outputs": [
    {
     "data": {
      "text/plain": [
       "array([[ 0,  1,  2,  3,  4,  5],\n",
       "       [ 6,  7,  8,  9, 10, 11]])"
      ]
     },
     "execution_count": 118,
     "metadata": {},
     "output_type": "execute_result"
    }
   ],
   "source": [
    "c"
   ]
  },
  {
   "cell_type": "code",
   "execution_count": 119,
   "metadata": {},
   "outputs": [],
   "source": [
    "c[0,4]=1234"
   ]
  },
  {
   "cell_type": "code",
   "execution_count": 120,
   "metadata": {},
   "outputs": [
    {
     "data": {
      "text/plain": [
       "array([[   0,    1,    2,    3, 1234,    5],\n",
       "       [   6,    7,    8,    9,   10,   11]])"
      ]
     },
     "execution_count": 120,
     "metadata": {},
     "output_type": "execute_result"
    }
   ],
   "source": [
    "c"
   ]
  },
  {
   "cell_type": "code",
   "execution_count": 121,
   "metadata": {},
   "outputs": [
    {
     "data": {
      "text/plain": [
       "array([[   0,    1,    2,    3],\n",
       "       [1234,    5,    6,    7],\n",
       "       [   8,    9,   10,   11]])"
      ]
     },
     "execution_count": 121,
     "metadata": {},
     "output_type": "execute_result"
    }
   ],
   "source": [
    "a"
   ]
  },
  {
   "cell_type": "code",
   "execution_count": 122,
   "metadata": {},
   "outputs": [
    {
     "data": {
      "text/plain": [
       "array([[ 1,  2],\n",
       "       [ 5,  6],\n",
       "       [ 9, 10]])"
      ]
     },
     "execution_count": 122,
     "metadata": {},
     "output_type": "execute_result"
    }
   ],
   "source": [
    "s=a[:,1:3]\n",
    "s"
   ]
  },
  {
   "cell_type": "code",
   "execution_count": 123,
   "metadata": {},
   "outputs": [],
   "source": [
    "s[:]=10"
   ]
  },
  {
   "cell_type": "code",
   "execution_count": 124,
   "metadata": {},
   "outputs": [
    {
     "data": {
      "text/plain": [
       "array([[   0,   10,   10,    3],\n",
       "       [1234,   10,   10,    7],\n",
       "       [   8,   10,   10,   11]])"
      ]
     },
     "execution_count": 124,
     "metadata": {},
     "output_type": "execute_result"
    }
   ],
   "source": [
    "a"
   ]
  },
  {
   "cell_type": "markdown",
   "metadata": {},
   "source": [
    "## Deep Copy"
   ]
  },
  {
   "cell_type": "code",
   "execution_count": 125,
   "metadata": {},
   "outputs": [
    {
     "data": {
      "text/plain": [
       "array([[   0,   10,   10,    3],\n",
       "       [1234,   10,   10,    7],\n",
       "       [   8,   10,   10,   11]])"
      ]
     },
     "execution_count": 125,
     "metadata": {},
     "output_type": "execute_result"
    }
   ],
   "source": [
    "d=a.copy()\n",
    "d"
   ]
  },
  {
   "cell_type": "code",
   "execution_count": 126,
   "metadata": {},
   "outputs": [
    {
     "data": {
      "text/plain": [
       "False"
      ]
     },
     "execution_count": 126,
     "metadata": {},
     "output_type": "execute_result"
    }
   ],
   "source": [
    "d is a"
   ]
  },
  {
   "cell_type": "code",
   "execution_count": 127,
   "metadata": {},
   "outputs": [
    {
     "data": {
      "text/plain": [
       "False"
      ]
     },
     "execution_count": 127,
     "metadata": {},
     "output_type": "execute_result"
    }
   ],
   "source": [
    "d.base is a"
   ]
  },
  {
   "cell_type": "code",
   "execution_count": 128,
   "metadata": {},
   "outputs": [
    {
     "data": {
      "text/plain": [
       "array([[9999,   10,   10,    3],\n",
       "       [1234,   10,   10,    7],\n",
       "       [   8,   10,   10,   11]])"
      ]
     },
     "execution_count": 128,
     "metadata": {},
     "output_type": "execute_result"
    }
   ],
   "source": [
    "d[0,0]=9999\n",
    "d"
   ]
  },
  {
   "cell_type": "code",
   "execution_count": 129,
   "metadata": {},
   "outputs": [
    {
     "data": {
      "text/plain": [
       "array([[   0,   10,   10,    3],\n",
       "       [1234,   10,   10,    7],\n",
       "       [   8,   10,   10,   11]])"
      ]
     },
     "execution_count": 129,
     "metadata": {},
     "output_type": "execute_result"
    }
   ],
   "source": [
    "a"
   ]
  },
  {
   "cell_type": "markdown",
   "metadata": {},
   "source": [
    "## Indexing with Arrays of Indices"
   ]
  },
  {
   "cell_type": "code",
   "execution_count": null,
   "metadata": {},
   "outputs": [],
   "source": [
    "a=np.arange(12)**2"
   ]
  },
  {
   "cell_type": "code",
   "execution_count": 131,
   "metadata": {},
   "outputs": [
    {
     "data": {
      "text/plain": [
       "array([  0,   1,   4,   9,  16,  25,  36,  49,  64,  81, 100, 121])"
      ]
     },
     "execution_count": 131,
     "metadata": {},
     "output_type": "execute_result"
    }
   ],
   "source": [
    "a"
   ]
  },
  {
   "cell_type": "code",
   "execution_count": 130,
   "metadata": {},
   "outputs": [
    {
     "data": {
      "text/plain": [
       "array([ 1,  1,  9, 64, 25])"
      ]
     },
     "execution_count": 130,
     "metadata": {},
     "output_type": "execute_result"
    }
   ],
   "source": [
    "i=np.array([1,1,3,8,5])\n",
    "a[i]"
   ]
  },
  {
   "cell_type": "code",
   "execution_count": 132,
   "metadata": {},
   "outputs": [
    {
     "data": {
      "text/plain": [
       "array([[ 9, 16],\n",
       "       [81, 49]])"
      ]
     },
     "execution_count": 132,
     "metadata": {},
     "output_type": "execute_result"
    }
   ],
   "source": [
    "j=np.array([[3,4],[9,7]])\n",
    "a[j]"
   ]
  },
  {
   "cell_type": "markdown",
   "metadata": {},
   "source": [
    "## Indexing with Boolean Arrays"
   ]
  },
  {
   "cell_type": "code",
   "execution_count": 133,
   "metadata": {},
   "outputs": [
    {
     "data": {
      "text/plain": [
       "array([[ 0,  1,  2,  3],\n",
       "       [ 4,  5,  6,  7],\n",
       "       [ 8,  9, 10, 11]])"
      ]
     },
     "execution_count": 133,
     "metadata": {},
     "output_type": "execute_result"
    }
   ],
   "source": [
    "a=np.arange(12).reshape(3,4)\n",
    "a"
   ]
  },
  {
   "cell_type": "code",
   "execution_count": 134,
   "metadata": {},
   "outputs": [],
   "source": [
    "b=a>4"
   ]
  },
  {
   "cell_type": "code",
   "execution_count": 135,
   "metadata": {},
   "outputs": [
    {
     "data": {
      "text/plain": [
       "array([[False, False, False, False],\n",
       "       [False,  True,  True,  True],\n",
       "       [ True,  True,  True,  True]], dtype=bool)"
      ]
     },
     "execution_count": 135,
     "metadata": {},
     "output_type": "execute_result"
    }
   ],
   "source": [
    "b"
   ]
  },
  {
   "cell_type": "code",
   "execution_count": 136,
   "metadata": {},
   "outputs": [
    {
     "data": {
      "text/plain": [
       "array([ 5,  6,  7,  8,  9, 10, 11])"
      ]
     },
     "execution_count": 136,
     "metadata": {},
     "output_type": "execute_result"
    }
   ],
   "source": [
    "a[b]"
   ]
  },
  {
   "cell_type": "markdown",
   "metadata": {},
   "source": [
    "### Mandelbrot Set Example"
   ]
  },
  {
   "cell_type": "code",
   "execution_count": 139,
   "metadata": {},
   "outputs": [],
   "source": [
    "%matplotlib notebook\n",
    "import numpy as np\n",
    "import matplotlib.pyplot as plt\n",
    "def mandelbrot(h,w,maxit=20):\n",
    "    y,x=np.ogrid[-1.4:1.4:h*1j,-2:0.8:w*1j]\n",
    "    c=x+y*1j\n",
    "    z=c\n",
    "    divtime=maxit+np.zeros(z.shape,dtype=int)\n",
    "    for i in range(maxit):\n",
    "        z=z**2+c\n",
    "        diverge=z*np.conj(z) > 2**2\n",
    "        div_now=diverge & (divtime==maxit)\n",
    "        divtime[div_now]=i\n",
    "        z[diverge]=2\n",
    "    return divtime"
   ]
  },
  {
   "cell_type": "code",
   "execution_count": 140,
   "metadata": {},
   "outputs": [
    {
     "data": {
      "application/javascript": [
       "/* Put everything inside the global mpl namespace */\n",
       "window.mpl = {};\n",
       "\n",
       "\n",
       "mpl.get_websocket_type = function() {\n",
       "    if (typeof(WebSocket) !== 'undefined') {\n",
       "        return WebSocket;\n",
       "    } else if (typeof(MozWebSocket) !== 'undefined') {\n",
       "        return MozWebSocket;\n",
       "    } else {\n",
       "        alert('Your browser does not have WebSocket support.' +\n",
       "              'Please try Chrome, Safari or Firefox ≥ 6. ' +\n",
       "              'Firefox 4 and 5 are also supported but you ' +\n",
       "              'have to enable WebSockets in about:config.');\n",
       "    };\n",
       "}\n",
       "\n",
       "mpl.figure = function(figure_id, websocket, ondownload, parent_element) {\n",
       "    this.id = figure_id;\n",
       "\n",
       "    this.ws = websocket;\n",
       "\n",
       "    this.supports_binary = (this.ws.binaryType != undefined);\n",
       "\n",
       "    if (!this.supports_binary) {\n",
       "        var warnings = document.getElementById(\"mpl-warnings\");\n",
       "        if (warnings) {\n",
       "            warnings.style.display = 'block';\n",
       "            warnings.textContent = (\n",
       "                \"This browser does not support binary websocket messages. \" +\n",
       "                    \"Performance may be slow.\");\n",
       "        }\n",
       "    }\n",
       "\n",
       "    this.imageObj = new Image();\n",
       "\n",
       "    this.context = undefined;\n",
       "    this.message = undefined;\n",
       "    this.canvas = undefined;\n",
       "    this.rubberband_canvas = undefined;\n",
       "    this.rubberband_context = undefined;\n",
       "    this.format_dropdown = undefined;\n",
       "\n",
       "    this.image_mode = 'full';\n",
       "\n",
       "    this.root = $('<div/>');\n",
       "    this._root_extra_style(this.root)\n",
       "    this.root.attr('style', 'display: inline-block');\n",
       "\n",
       "    $(parent_element).append(this.root);\n",
       "\n",
       "    this._init_header(this);\n",
       "    this._init_canvas(this);\n",
       "    this._init_toolbar(this);\n",
       "\n",
       "    var fig = this;\n",
       "\n",
       "    this.waiting = false;\n",
       "\n",
       "    this.ws.onopen =  function () {\n",
       "            fig.send_message(\"supports_binary\", {value: fig.supports_binary});\n",
       "            fig.send_message(\"send_image_mode\", {});\n",
       "            if (mpl.ratio != 1) {\n",
       "                fig.send_message(\"set_dpi_ratio\", {'dpi_ratio': mpl.ratio});\n",
       "            }\n",
       "            fig.send_message(\"refresh\", {});\n",
       "        }\n",
       "\n",
       "    this.imageObj.onload = function() {\n",
       "            if (fig.image_mode == 'full') {\n",
       "                // Full images could contain transparency (where diff images\n",
       "                // almost always do), so we need to clear the canvas so that\n",
       "                // there is no ghosting.\n",
       "                fig.context.clearRect(0, 0, fig.canvas.width, fig.canvas.height);\n",
       "            }\n",
       "            fig.context.drawImage(fig.imageObj, 0, 0);\n",
       "        };\n",
       "\n",
       "    this.imageObj.onunload = function() {\n",
       "        this.ws.close();\n",
       "    }\n",
       "\n",
       "    this.ws.onmessage = this._make_on_message_function(this);\n",
       "\n",
       "    this.ondownload = ondownload;\n",
       "}\n",
       "\n",
       "mpl.figure.prototype._init_header = function() {\n",
       "    var titlebar = $(\n",
       "        '<div class=\"ui-dialog-titlebar ui-widget-header ui-corner-all ' +\n",
       "        'ui-helper-clearfix\"/>');\n",
       "    var titletext = $(\n",
       "        '<div class=\"ui-dialog-title\" style=\"width: 100%; ' +\n",
       "        'text-align: center; padding: 3px;\"/>');\n",
       "    titlebar.append(titletext)\n",
       "    this.root.append(titlebar);\n",
       "    this.header = titletext[0];\n",
       "}\n",
       "\n",
       "\n",
       "\n",
       "mpl.figure.prototype._canvas_extra_style = function(canvas_div) {\n",
       "\n",
       "}\n",
       "\n",
       "\n",
       "mpl.figure.prototype._root_extra_style = function(canvas_div) {\n",
       "\n",
       "}\n",
       "\n",
       "mpl.figure.prototype._init_canvas = function() {\n",
       "    var fig = this;\n",
       "\n",
       "    var canvas_div = $('<div/>');\n",
       "\n",
       "    canvas_div.attr('style', 'position: relative; clear: both; outline: 0');\n",
       "\n",
       "    function canvas_keyboard_event(event) {\n",
       "        return fig.key_event(event, event['data']);\n",
       "    }\n",
       "\n",
       "    canvas_div.keydown('key_press', canvas_keyboard_event);\n",
       "    canvas_div.keyup('key_release', canvas_keyboard_event);\n",
       "    this.canvas_div = canvas_div\n",
       "    this._canvas_extra_style(canvas_div)\n",
       "    this.root.append(canvas_div);\n",
       "\n",
       "    var canvas = $('<canvas/>');\n",
       "    canvas.addClass('mpl-canvas');\n",
       "    canvas.attr('style', \"left: 0; top: 0; z-index: 0; outline: 0\")\n",
       "\n",
       "    this.canvas = canvas[0];\n",
       "    this.context = canvas[0].getContext(\"2d\");\n",
       "\n",
       "    var backingStore = this.context.backingStorePixelRatio ||\n",
       "\tthis.context.webkitBackingStorePixelRatio ||\n",
       "\tthis.context.mozBackingStorePixelRatio ||\n",
       "\tthis.context.msBackingStorePixelRatio ||\n",
       "\tthis.context.oBackingStorePixelRatio ||\n",
       "\tthis.context.backingStorePixelRatio || 1;\n",
       "\n",
       "    mpl.ratio = (window.devicePixelRatio || 1) / backingStore;\n",
       "\n",
       "    var rubberband = $('<canvas/>');\n",
       "    rubberband.attr('style', \"position: absolute; left: 0; top: 0; z-index: 1;\")\n",
       "\n",
       "    var pass_mouse_events = true;\n",
       "\n",
       "    canvas_div.resizable({\n",
       "        start: function(event, ui) {\n",
       "            pass_mouse_events = false;\n",
       "        },\n",
       "        resize: function(event, ui) {\n",
       "            fig.request_resize(ui.size.width, ui.size.height);\n",
       "        },\n",
       "        stop: function(event, ui) {\n",
       "            pass_mouse_events = true;\n",
       "            fig.request_resize(ui.size.width, ui.size.height);\n",
       "        },\n",
       "    });\n",
       "\n",
       "    function mouse_event_fn(event) {\n",
       "        if (pass_mouse_events)\n",
       "            return fig.mouse_event(event, event['data']);\n",
       "    }\n",
       "\n",
       "    rubberband.mousedown('button_press', mouse_event_fn);\n",
       "    rubberband.mouseup('button_release', mouse_event_fn);\n",
       "    // Throttle sequential mouse events to 1 every 20ms.\n",
       "    rubberband.mousemove('motion_notify', mouse_event_fn);\n",
       "\n",
       "    rubberband.mouseenter('figure_enter', mouse_event_fn);\n",
       "    rubberband.mouseleave('figure_leave', mouse_event_fn);\n",
       "\n",
       "    canvas_div.on(\"wheel\", function (event) {\n",
       "        event = event.originalEvent;\n",
       "        event['data'] = 'scroll'\n",
       "        if (event.deltaY < 0) {\n",
       "            event.step = 1;\n",
       "        } else {\n",
       "            event.step = -1;\n",
       "        }\n",
       "        mouse_event_fn(event);\n",
       "    });\n",
       "\n",
       "    canvas_div.append(canvas);\n",
       "    canvas_div.append(rubberband);\n",
       "\n",
       "    this.rubberband = rubberband;\n",
       "    this.rubberband_canvas = rubberband[0];\n",
       "    this.rubberband_context = rubberband[0].getContext(\"2d\");\n",
       "    this.rubberband_context.strokeStyle = \"#000000\";\n",
       "\n",
       "    this._resize_canvas = function(width, height) {\n",
       "        // Keep the size of the canvas, canvas container, and rubber band\n",
       "        // canvas in synch.\n",
       "        canvas_div.css('width', width)\n",
       "        canvas_div.css('height', height)\n",
       "\n",
       "        canvas.attr('width', width * mpl.ratio);\n",
       "        canvas.attr('height', height * mpl.ratio);\n",
       "        canvas.attr('style', 'width: ' + width + 'px; height: ' + height + 'px;');\n",
       "\n",
       "        rubberband.attr('width', width);\n",
       "        rubberband.attr('height', height);\n",
       "    }\n",
       "\n",
       "    // Set the figure to an initial 600x600px, this will subsequently be updated\n",
       "    // upon first draw.\n",
       "    this._resize_canvas(600, 600);\n",
       "\n",
       "    // Disable right mouse context menu.\n",
       "    $(this.rubberband_canvas).bind(\"contextmenu\",function(e){\n",
       "        return false;\n",
       "    });\n",
       "\n",
       "    function set_focus () {\n",
       "        canvas.focus();\n",
       "        canvas_div.focus();\n",
       "    }\n",
       "\n",
       "    window.setTimeout(set_focus, 100);\n",
       "}\n",
       "\n",
       "mpl.figure.prototype._init_toolbar = function() {\n",
       "    var fig = this;\n",
       "\n",
       "    var nav_element = $('<div/>')\n",
       "    nav_element.attr('style', 'width: 100%');\n",
       "    this.root.append(nav_element);\n",
       "\n",
       "    // Define a callback function for later on.\n",
       "    function toolbar_event(event) {\n",
       "        return fig.toolbar_button_onclick(event['data']);\n",
       "    }\n",
       "    function toolbar_mouse_event(event) {\n",
       "        return fig.toolbar_button_onmouseover(event['data']);\n",
       "    }\n",
       "\n",
       "    for(var toolbar_ind in mpl.toolbar_items) {\n",
       "        var name = mpl.toolbar_items[toolbar_ind][0];\n",
       "        var tooltip = mpl.toolbar_items[toolbar_ind][1];\n",
       "        var image = mpl.toolbar_items[toolbar_ind][2];\n",
       "        var method_name = mpl.toolbar_items[toolbar_ind][3];\n",
       "\n",
       "        if (!name) {\n",
       "            // put a spacer in here.\n",
       "            continue;\n",
       "        }\n",
       "        var button = $('<button/>');\n",
       "        button.addClass('ui-button ui-widget ui-state-default ui-corner-all ' +\n",
       "                        'ui-button-icon-only');\n",
       "        button.attr('role', 'button');\n",
       "        button.attr('aria-disabled', 'false');\n",
       "        button.click(method_name, toolbar_event);\n",
       "        button.mouseover(tooltip, toolbar_mouse_event);\n",
       "\n",
       "        var icon_img = $('<span/>');\n",
       "        icon_img.addClass('ui-button-icon-primary ui-icon');\n",
       "        icon_img.addClass(image);\n",
       "        icon_img.addClass('ui-corner-all');\n",
       "\n",
       "        var tooltip_span = $('<span/>');\n",
       "        tooltip_span.addClass('ui-button-text');\n",
       "        tooltip_span.html(tooltip);\n",
       "\n",
       "        button.append(icon_img);\n",
       "        button.append(tooltip_span);\n",
       "\n",
       "        nav_element.append(button);\n",
       "    }\n",
       "\n",
       "    var fmt_picker_span = $('<span/>');\n",
       "\n",
       "    var fmt_picker = $('<select/>');\n",
       "    fmt_picker.addClass('mpl-toolbar-option ui-widget ui-widget-content');\n",
       "    fmt_picker_span.append(fmt_picker);\n",
       "    nav_element.append(fmt_picker_span);\n",
       "    this.format_dropdown = fmt_picker[0];\n",
       "\n",
       "    for (var ind in mpl.extensions) {\n",
       "        var fmt = mpl.extensions[ind];\n",
       "        var option = $(\n",
       "            '<option/>', {selected: fmt === mpl.default_extension}).html(fmt);\n",
       "        fmt_picker.append(option)\n",
       "    }\n",
       "\n",
       "    // Add hover states to the ui-buttons\n",
       "    $( \".ui-button\" ).hover(\n",
       "        function() { $(this).addClass(\"ui-state-hover\");},\n",
       "        function() { $(this).removeClass(\"ui-state-hover\");}\n",
       "    );\n",
       "\n",
       "    var status_bar = $('<span class=\"mpl-message\"/>');\n",
       "    nav_element.append(status_bar);\n",
       "    this.message = status_bar[0];\n",
       "}\n",
       "\n",
       "mpl.figure.prototype.request_resize = function(x_pixels, y_pixels) {\n",
       "    // Request matplotlib to resize the figure. Matplotlib will then trigger a resize in the client,\n",
       "    // which will in turn request a refresh of the image.\n",
       "    this.send_message('resize', {'width': x_pixels, 'height': y_pixels});\n",
       "}\n",
       "\n",
       "mpl.figure.prototype.send_message = function(type, properties) {\n",
       "    properties['type'] = type;\n",
       "    properties['figure_id'] = this.id;\n",
       "    this.ws.send(JSON.stringify(properties));\n",
       "}\n",
       "\n",
       "mpl.figure.prototype.send_draw_message = function() {\n",
       "    if (!this.waiting) {\n",
       "        this.waiting = true;\n",
       "        this.ws.send(JSON.stringify({type: \"draw\", figure_id: this.id}));\n",
       "    }\n",
       "}\n",
       "\n",
       "\n",
       "mpl.figure.prototype.handle_save = function(fig, msg) {\n",
       "    var format_dropdown = fig.format_dropdown;\n",
       "    var format = format_dropdown.options[format_dropdown.selectedIndex].value;\n",
       "    fig.ondownload(fig, format);\n",
       "}\n",
       "\n",
       "\n",
       "mpl.figure.prototype.handle_resize = function(fig, msg) {\n",
       "    var size = msg['size'];\n",
       "    if (size[0] != fig.canvas.width || size[1] != fig.canvas.height) {\n",
       "        fig._resize_canvas(size[0], size[1]);\n",
       "        fig.send_message(\"refresh\", {});\n",
       "    };\n",
       "}\n",
       "\n",
       "mpl.figure.prototype.handle_rubberband = function(fig, msg) {\n",
       "    var x0 = msg['x0'] / mpl.ratio;\n",
       "    var y0 = (fig.canvas.height - msg['y0']) / mpl.ratio;\n",
       "    var x1 = msg['x1'] / mpl.ratio;\n",
       "    var y1 = (fig.canvas.height - msg['y1']) / mpl.ratio;\n",
       "    x0 = Math.floor(x0) + 0.5;\n",
       "    y0 = Math.floor(y0) + 0.5;\n",
       "    x1 = Math.floor(x1) + 0.5;\n",
       "    y1 = Math.floor(y1) + 0.5;\n",
       "    var min_x = Math.min(x0, x1);\n",
       "    var min_y = Math.min(y0, y1);\n",
       "    var width = Math.abs(x1 - x0);\n",
       "    var height = Math.abs(y1 - y0);\n",
       "\n",
       "    fig.rubberband_context.clearRect(\n",
       "        0, 0, fig.canvas.width, fig.canvas.height);\n",
       "\n",
       "    fig.rubberband_context.strokeRect(min_x, min_y, width, height);\n",
       "}\n",
       "\n",
       "mpl.figure.prototype.handle_figure_label = function(fig, msg) {\n",
       "    // Updates the figure title.\n",
       "    fig.header.textContent = msg['label'];\n",
       "}\n",
       "\n",
       "mpl.figure.prototype.handle_cursor = function(fig, msg) {\n",
       "    var cursor = msg['cursor'];\n",
       "    switch(cursor)\n",
       "    {\n",
       "    case 0:\n",
       "        cursor = 'pointer';\n",
       "        break;\n",
       "    case 1:\n",
       "        cursor = 'default';\n",
       "        break;\n",
       "    case 2:\n",
       "        cursor = 'crosshair';\n",
       "        break;\n",
       "    case 3:\n",
       "        cursor = 'move';\n",
       "        break;\n",
       "    }\n",
       "    fig.rubberband_canvas.style.cursor = cursor;\n",
       "}\n",
       "\n",
       "mpl.figure.prototype.handle_message = function(fig, msg) {\n",
       "    fig.message.textContent = msg['message'];\n",
       "}\n",
       "\n",
       "mpl.figure.prototype.handle_draw = function(fig, msg) {\n",
       "    // Request the server to send over a new figure.\n",
       "    fig.send_draw_message();\n",
       "}\n",
       "\n",
       "mpl.figure.prototype.handle_image_mode = function(fig, msg) {\n",
       "    fig.image_mode = msg['mode'];\n",
       "}\n",
       "\n",
       "mpl.figure.prototype.updated_canvas_event = function() {\n",
       "    // Called whenever the canvas gets updated.\n",
       "    this.send_message(\"ack\", {});\n",
       "}\n",
       "\n",
       "// A function to construct a web socket function for onmessage handling.\n",
       "// Called in the figure constructor.\n",
       "mpl.figure.prototype._make_on_message_function = function(fig) {\n",
       "    return function socket_on_message(evt) {\n",
       "        if (evt.data instanceof Blob) {\n",
       "            /* FIXME: We get \"Resource interpreted as Image but\n",
       "             * transferred with MIME type text/plain:\" errors on\n",
       "             * Chrome.  But how to set the MIME type?  It doesn't seem\n",
       "             * to be part of the websocket stream */\n",
       "            evt.data.type = \"image/png\";\n",
       "\n",
       "            /* Free the memory for the previous frames */\n",
       "            if (fig.imageObj.src) {\n",
       "                (window.URL || window.webkitURL).revokeObjectURL(\n",
       "                    fig.imageObj.src);\n",
       "            }\n",
       "\n",
       "            fig.imageObj.src = (window.URL || window.webkitURL).createObjectURL(\n",
       "                evt.data);\n",
       "            fig.updated_canvas_event();\n",
       "            fig.waiting = false;\n",
       "            return;\n",
       "        }\n",
       "        else if (typeof evt.data === 'string' && evt.data.slice(0, 21) == \"data:image/png;base64\") {\n",
       "            fig.imageObj.src = evt.data;\n",
       "            fig.updated_canvas_event();\n",
       "            fig.waiting = false;\n",
       "            return;\n",
       "        }\n",
       "\n",
       "        var msg = JSON.parse(evt.data);\n",
       "        var msg_type = msg['type'];\n",
       "\n",
       "        // Call the  \"handle_{type}\" callback, which takes\n",
       "        // the figure and JSON message as its only arguments.\n",
       "        try {\n",
       "            var callback = fig[\"handle_\" + msg_type];\n",
       "        } catch (e) {\n",
       "            console.log(\"No handler for the '\" + msg_type + \"' message type: \", msg);\n",
       "            return;\n",
       "        }\n",
       "\n",
       "        if (callback) {\n",
       "            try {\n",
       "                // console.log(\"Handling '\" + msg_type + \"' message: \", msg);\n",
       "                callback(fig, msg);\n",
       "            } catch (e) {\n",
       "                console.log(\"Exception inside the 'handler_\" + msg_type + \"' callback:\", e, e.stack, msg);\n",
       "            }\n",
       "        }\n",
       "    };\n",
       "}\n",
       "\n",
       "// from http://stackoverflow.com/questions/1114465/getting-mouse-location-in-canvas\n",
       "mpl.findpos = function(e) {\n",
       "    //this section is from http://www.quirksmode.org/js/events_properties.html\n",
       "    var targ;\n",
       "    if (!e)\n",
       "        e = window.event;\n",
       "    if (e.target)\n",
       "        targ = e.target;\n",
       "    else if (e.srcElement)\n",
       "        targ = e.srcElement;\n",
       "    if (targ.nodeType == 3) // defeat Safari bug\n",
       "        targ = targ.parentNode;\n",
       "\n",
       "    // jQuery normalizes the pageX and pageY\n",
       "    // pageX,Y are the mouse positions relative to the document\n",
       "    // offset() returns the position of the element relative to the document\n",
       "    var x = e.pageX - $(targ).offset().left;\n",
       "    var y = e.pageY - $(targ).offset().top;\n",
       "\n",
       "    return {\"x\": x, \"y\": y};\n",
       "};\n",
       "\n",
       "/*\n",
       " * return a copy of an object with only non-object keys\n",
       " * we need this to avoid circular references\n",
       " * http://stackoverflow.com/a/24161582/3208463\n",
       " */\n",
       "function simpleKeys (original) {\n",
       "  return Object.keys(original).reduce(function (obj, key) {\n",
       "    if (typeof original[key] !== 'object')\n",
       "        obj[key] = original[key]\n",
       "    return obj;\n",
       "  }, {});\n",
       "}\n",
       "\n",
       "mpl.figure.prototype.mouse_event = function(event, name) {\n",
       "    var canvas_pos = mpl.findpos(event)\n",
       "\n",
       "    if (name === 'button_press')\n",
       "    {\n",
       "        this.canvas.focus();\n",
       "        this.canvas_div.focus();\n",
       "    }\n",
       "\n",
       "    var x = canvas_pos.x * mpl.ratio;\n",
       "    var y = canvas_pos.y * mpl.ratio;\n",
       "\n",
       "    this.send_message(name, {x: x, y: y, button: event.button,\n",
       "                             step: event.step,\n",
       "                             guiEvent: simpleKeys(event)});\n",
       "\n",
       "    /* This prevents the web browser from automatically changing to\n",
       "     * the text insertion cursor when the button is pressed.  We want\n",
       "     * to control all of the cursor setting manually through the\n",
       "     * 'cursor' event from matplotlib */\n",
       "    event.preventDefault();\n",
       "    return false;\n",
       "}\n",
       "\n",
       "mpl.figure.prototype._key_event_extra = function(event, name) {\n",
       "    // Handle any extra behaviour associated with a key event\n",
       "}\n",
       "\n",
       "mpl.figure.prototype.key_event = function(event, name) {\n",
       "\n",
       "    // Prevent repeat events\n",
       "    if (name == 'key_press')\n",
       "    {\n",
       "        if (event.which === this._key)\n",
       "            return;\n",
       "        else\n",
       "            this._key = event.which;\n",
       "    }\n",
       "    if (name == 'key_release')\n",
       "        this._key = null;\n",
       "\n",
       "    var value = '';\n",
       "    if (event.ctrlKey && event.which != 17)\n",
       "        value += \"ctrl+\";\n",
       "    if (event.altKey && event.which != 18)\n",
       "        value += \"alt+\";\n",
       "    if (event.shiftKey && event.which != 16)\n",
       "        value += \"shift+\";\n",
       "\n",
       "    value += 'k';\n",
       "    value += event.which.toString();\n",
       "\n",
       "    this._key_event_extra(event, name);\n",
       "\n",
       "    this.send_message(name, {key: value,\n",
       "                             guiEvent: simpleKeys(event)});\n",
       "    return false;\n",
       "}\n",
       "\n",
       "mpl.figure.prototype.toolbar_button_onclick = function(name) {\n",
       "    if (name == 'download') {\n",
       "        this.handle_save(this, null);\n",
       "    } else {\n",
       "        this.send_message(\"toolbar_button\", {name: name});\n",
       "    }\n",
       "};\n",
       "\n",
       "mpl.figure.prototype.toolbar_button_onmouseover = function(tooltip) {\n",
       "    this.message.textContent = tooltip;\n",
       "};\n",
       "mpl.toolbar_items = [[\"Home\", \"Reset original view\", \"fa fa-home icon-home\", \"home\"], [\"Back\", \"Back to  previous view\", \"fa fa-arrow-left icon-arrow-left\", \"back\"], [\"Forward\", \"Forward to next view\", \"fa fa-arrow-right icon-arrow-right\", \"forward\"], [\"\", \"\", \"\", \"\"], [\"Pan\", \"Pan axes with left mouse, zoom with right\", \"fa fa-arrows icon-move\", \"pan\"], [\"Zoom\", \"Zoom to rectangle\", \"fa fa-square-o icon-check-empty\", \"zoom\"], [\"\", \"\", \"\", \"\"], [\"Download\", \"Download plot\", \"fa fa-floppy-o icon-save\", \"download\"]];\n",
       "\n",
       "mpl.extensions = [\"eps\", \"jpeg\", \"pdf\", \"png\", \"ps\", \"raw\", \"svg\", \"tif\"];\n",
       "\n",
       "mpl.default_extension = \"png\";var comm_websocket_adapter = function(comm) {\n",
       "    // Create a \"websocket\"-like object which calls the given IPython comm\n",
       "    // object with the appropriate methods. Currently this is a non binary\n",
       "    // socket, so there is still some room for performance tuning.\n",
       "    var ws = {};\n",
       "\n",
       "    ws.close = function() {\n",
       "        comm.close()\n",
       "    };\n",
       "    ws.send = function(m) {\n",
       "        //console.log('sending', m);\n",
       "        comm.send(m);\n",
       "    };\n",
       "    // Register the callback with on_msg.\n",
       "    comm.on_msg(function(msg) {\n",
       "        //console.log('receiving', msg['content']['data'], msg);\n",
       "        // Pass the mpl event to the overriden (by mpl) onmessage function.\n",
       "        ws.onmessage(msg['content']['data'])\n",
       "    });\n",
       "    return ws;\n",
       "}\n",
       "\n",
       "mpl.mpl_figure_comm = function(comm, msg) {\n",
       "    // This is the function which gets called when the mpl process\n",
       "    // starts-up an IPython Comm through the \"matplotlib\" channel.\n",
       "\n",
       "    var id = msg.content.data.id;\n",
       "    // Get hold of the div created by the display call when the Comm\n",
       "    // socket was opened in Python.\n",
       "    var element = $(\"#\" + id);\n",
       "    var ws_proxy = comm_websocket_adapter(comm)\n",
       "\n",
       "    function ondownload(figure, format) {\n",
       "        window.open(figure.imageObj.src);\n",
       "    }\n",
       "\n",
       "    var fig = new mpl.figure(id, ws_proxy,\n",
       "                           ondownload,\n",
       "                           element.get(0));\n",
       "\n",
       "    // Call onopen now - mpl needs it, as it is assuming we've passed it a real\n",
       "    // web socket which is closed, not our websocket->open comm proxy.\n",
       "    ws_proxy.onopen();\n",
       "\n",
       "    fig.parent_element = element.get(0);\n",
       "    fig.cell_info = mpl.find_output_cell(\"<div id='\" + id + \"'></div>\");\n",
       "    if (!fig.cell_info) {\n",
       "        console.error(\"Failed to find cell for figure\", id, fig);\n",
       "        return;\n",
       "    }\n",
       "\n",
       "    var output_index = fig.cell_info[2]\n",
       "    var cell = fig.cell_info[0];\n",
       "\n",
       "};\n",
       "\n",
       "mpl.figure.prototype.handle_close = function(fig, msg) {\n",
       "    var width = fig.canvas.width/mpl.ratio\n",
       "    fig.root.unbind('remove')\n",
       "\n",
       "    // Update the output cell to use the data from the current canvas.\n",
       "    fig.push_to_output();\n",
       "    var dataURL = fig.canvas.toDataURL();\n",
       "    // Re-enable the keyboard manager in IPython - without this line, in FF,\n",
       "    // the notebook keyboard shortcuts fail.\n",
       "    IPython.keyboard_manager.enable()\n",
       "    $(fig.parent_element).html('<img src=\"' + dataURL + '\" width=\"' + width + '\">');\n",
       "    fig.close_ws(fig, msg);\n",
       "}\n",
       "\n",
       "mpl.figure.prototype.close_ws = function(fig, msg){\n",
       "    fig.send_message('closing', msg);\n",
       "    // fig.ws.close()\n",
       "}\n",
       "\n",
       "mpl.figure.prototype.push_to_output = function(remove_interactive) {\n",
       "    // Turn the data on the canvas into data in the output cell.\n",
       "    var width = this.canvas.width/mpl.ratio\n",
       "    var dataURL = this.canvas.toDataURL();\n",
       "    this.cell_info[1]['text/html'] = '<img src=\"' + dataURL + '\" width=\"' + width + '\">';\n",
       "}\n",
       "\n",
       "mpl.figure.prototype.updated_canvas_event = function() {\n",
       "    // Tell IPython that the notebook contents must change.\n",
       "    IPython.notebook.set_dirty(true);\n",
       "    this.send_message(\"ack\", {});\n",
       "    var fig = this;\n",
       "    // Wait a second, then push the new image to the DOM so\n",
       "    // that it is saved nicely (might be nice to debounce this).\n",
       "    setTimeout(function () { fig.push_to_output() }, 1000);\n",
       "}\n",
       "\n",
       "mpl.figure.prototype._init_toolbar = function() {\n",
       "    var fig = this;\n",
       "\n",
       "    var nav_element = $('<div/>')\n",
       "    nav_element.attr('style', 'width: 100%');\n",
       "    this.root.append(nav_element);\n",
       "\n",
       "    // Define a callback function for later on.\n",
       "    function toolbar_event(event) {\n",
       "        return fig.toolbar_button_onclick(event['data']);\n",
       "    }\n",
       "    function toolbar_mouse_event(event) {\n",
       "        return fig.toolbar_button_onmouseover(event['data']);\n",
       "    }\n",
       "\n",
       "    for(var toolbar_ind in mpl.toolbar_items){\n",
       "        var name = mpl.toolbar_items[toolbar_ind][0];\n",
       "        var tooltip = mpl.toolbar_items[toolbar_ind][1];\n",
       "        var image = mpl.toolbar_items[toolbar_ind][2];\n",
       "        var method_name = mpl.toolbar_items[toolbar_ind][3];\n",
       "\n",
       "        if (!name) { continue; };\n",
       "\n",
       "        var button = $('<button class=\"btn btn-default\" href=\"#\" title=\"' + name + '\"><i class=\"fa ' + image + ' fa-lg\"></i></button>');\n",
       "        button.click(method_name, toolbar_event);\n",
       "        button.mouseover(tooltip, toolbar_mouse_event);\n",
       "        nav_element.append(button);\n",
       "    }\n",
       "\n",
       "    // Add the status bar.\n",
       "    var status_bar = $('<span class=\"mpl-message\" style=\"text-align:right; float: right;\"/>');\n",
       "    nav_element.append(status_bar);\n",
       "    this.message = status_bar[0];\n",
       "\n",
       "    // Add the close button to the window.\n",
       "    var buttongrp = $('<div class=\"btn-group inline pull-right\"></div>');\n",
       "    var button = $('<button class=\"btn btn-mini btn-primary\" href=\"#\" title=\"Stop Interaction\"><i class=\"fa fa-power-off icon-remove icon-large\"></i></button>');\n",
       "    button.click(function (evt) { fig.handle_close(fig, {}); } );\n",
       "    button.mouseover('Stop Interaction', toolbar_mouse_event);\n",
       "    buttongrp.append(button);\n",
       "    var titlebar = this.root.find($('.ui-dialog-titlebar'));\n",
       "    titlebar.prepend(buttongrp);\n",
       "}\n",
       "\n",
       "mpl.figure.prototype._root_extra_style = function(el){\n",
       "    var fig = this\n",
       "    el.on(\"remove\", function(){\n",
       "\tfig.close_ws(fig, {});\n",
       "    });\n",
       "}\n",
       "\n",
       "mpl.figure.prototype._canvas_extra_style = function(el){\n",
       "    // this is important to make the div 'focusable\n",
       "    el.attr('tabindex', 0)\n",
       "    // reach out to IPython and tell the keyboard manager to turn it's self\n",
       "    // off when our div gets focus\n",
       "\n",
       "    // location in version 3\n",
       "    if (IPython.notebook.keyboard_manager) {\n",
       "        IPython.notebook.keyboard_manager.register_events(el);\n",
       "    }\n",
       "    else {\n",
       "        // location in version 2\n",
       "        IPython.keyboard_manager.register_events(el);\n",
       "    }\n",
       "\n",
       "}\n",
       "\n",
       "mpl.figure.prototype._key_event_extra = function(event, name) {\n",
       "    var manager = IPython.notebook.keyboard_manager;\n",
       "    if (!manager)\n",
       "        manager = IPython.keyboard_manager;\n",
       "\n",
       "    // Check for shift+enter\n",
       "    if (event.shiftKey && event.which == 13) {\n",
       "        this.canvas_div.blur();\n",
       "        // select the cell after this one\n",
       "        var index = IPython.notebook.find_cell_index(this.cell_info[0]);\n",
       "        IPython.notebook.select(index + 1);\n",
       "    }\n",
       "}\n",
       "\n",
       "mpl.figure.prototype.handle_save = function(fig, msg) {\n",
       "    fig.ondownload(fig, null);\n",
       "}\n",
       "\n",
       "\n",
       "mpl.find_output_cell = function(html_output) {\n",
       "    // Return the cell and output element which can be found *uniquely* in the notebook.\n",
       "    // Note - this is a bit hacky, but it is done because the \"notebook_saving.Notebook\"\n",
       "    // IPython event is triggered only after the cells have been serialised, which for\n",
       "    // our purposes (turning an active figure into a static one), is too late.\n",
       "    var cells = IPython.notebook.get_cells();\n",
       "    var ncells = cells.length;\n",
       "    for (var i=0; i<ncells; i++) {\n",
       "        var cell = cells[i];\n",
       "        if (cell.cell_type === 'code'){\n",
       "            for (var j=0; j<cell.output_area.outputs.length; j++) {\n",
       "                var data = cell.output_area.outputs[j];\n",
       "                if (data.data) {\n",
       "                    // IPython >= 3 moved mimebundle to data attribute of output\n",
       "                    data = data.data;\n",
       "                }\n",
       "                if (data['text/html'] == html_output) {\n",
       "                    return [cell, data, j];\n",
       "                }\n",
       "            }\n",
       "        }\n",
       "    }\n",
       "}\n",
       "\n",
       "// Register the function which deals with the matplotlib target/channel.\n",
       "// The kernel may be null if the page has been refreshed.\n",
       "if (IPython.notebook.kernel != null) {\n",
       "    IPython.notebook.kernel.comm_manager.register_target('matplotlib', mpl.mpl_figure_comm);\n",
       "}\n"
      ],
      "text/plain": [
       "<IPython.core.display.Javascript object>"
      ]
     },
     "metadata": {},
     "output_type": "display_data"
    },
    {
     "data": {
      "text/html": [
       "<img src=\"data:image/png;base64,iVBORw0KGgoAAAANSUhEUgAABaAAAAQ4CAYAAAD/4ntSAAAgAElEQVR4XuzdC7Rcd30f+h+ypFjoCNmAn3BFsDApUJ4xTRNMUUKJGy5JYSXEeZAA1wtCGtquNOld0EtWIIve5HaRrGbdvIC4OEnbxJD0ZjWUQMnDwaY04REeAYKFTHCDLNsQIyQhI8nyXXvP/I/mbJ05s2dm79mvz1mLtc/M7P3f///n/5+Dzte/85+HhC8CBAgQIECAAAECBAgQIECAAAECBAgQIFCDwENqaFOTBAgQIECAAAECBAgQIECAAAECBAgQIEAgBNAWAQECBAgQIECAAAECBAgQIECAAAECBAjUIiCAroVVowQIECBAgAABAgQIECBAgAABAgQIECAggLYGCBAgQIAAAQIECBAgQIAAAQIECBAgQKAWAQF0LawaJUCAAAECBAgQIECAAAECBAgQIECAAAEBtDVAgAABAgQIECBAgAABAgQIECBAgAABArUICKBrYdUoAQIECBAgQIAAAQIECBAgQIAAAQIECAigrQECBAgQIECAAAECBAgQIECAAAECBAgQqEVAAF0Lq0YJECBAgAABAgQIECBAgAABAgQIECBAQABtDRAgQIAAAQIECBAgQIAAAQIECBAgQIBALQIC6FpYNUqAAAECBAgQIECAAAECBAgQIECAAAECAmhrgAABAgQIECBAgAABAgQIECBAgAABAgRqERBA18KqUQIECBAgQIAAAQIECBAgQIAAAQIECBAQQFsDBAgQIECAAAECBAgQIECAAAECBAgQIFCLgAC6FlaNEiBAgAABAgQIECBAgAABAgQIECBAgIAA2hogQIAAAQIECBAgQIAAAQIECBAgQIAAgVoEBNC1sGqUAAECBAgQIECAAAECBAgQIECAAAECBATQ1gABAgQIECBAgAABAgQIECBAgAABAgQI1CIggK6FVaMECBAgQIAAAQIECBAgQIAAAQIECBAgIIC2BggQIECAAAECBAgQIECAAAECBAgQIECgFgEBdC2sGiVAgAABAgQIECBAgAABAgQIECBAgAABAbQ1QIAAAQIECBAgQIAAAQIECBAgQIAAAQK1CAiga2HVKAECBAgQIECAAAECBAgQIECAAAECBAgIoK0BAgQIECBAgAABAgQIECBAgAABAgQIEKhFQABdC6tGCRAgQIAAAQIECBAgQIAAAQIECBAgQEAAbQ0QIECAAAECBAgQIECAAAECBAgQIECAQC0CAuhaWDVKgAABAgQIECBAgAABAgQIECBAgAABAgJoa4AAAQIECBAgQIAAAQIECBAgQIAAAQIEahEQQNfCqlECBAgQIECAAAECBAgQIECAAAECBAgQEEBbAwQIECBAgAABAgQIECBAgAABAgQIECBQi4AAuhZWjRIgQIAAAQIECBAgQIAAAQIECBAgQICAANoaIECAAAECBAgQIECAAAECBAgQIECAAIFaBATQtbBqlAABAgQIECBAgAABAgQIECBAgAABAgQE0NYAAQIECBAgQIAAAQIECBAgQIAAAQIECNQiIICuhVWjBAgQIECAAAECBAgQIECAAAECBAgQICCAtgYIECBAgAABAgQIECBAgAABAgQIECBAoBYBAXQtrBolQIAAAQIECBAgQIAAAQIECBAgQIAAAQG0NUCAAAECBAgQIECAAAECBAgQIECAAAECtQgIoGth1SgBAgQIECBAgAABAgQIECBAgAABAgQICKCtAQIECBAgQIAAAQIECBAgQIAAAQIECBCoRUAAXQurRgkQIECAAAECBAgQIECAAAECBAgQIEBAAG0NECBAgAABAgQIECBAgAABAgQIECBAgEAtAgLoWlg1SoAAAQIECBAgQIAAAQIECBAgQIAAAQICaGuAAAECBAgQIECAAAECBAgQIECAAAECBGoREEDXwqpRAgQIECBAgAABAgQIECBAgAABAgQIEBBAWwMECBAgQIAAAQIECBAgQIAAAQIECBAgUIuAALoWVo0SIECAAAECBAgQIECAAAECBAgQIECAgADaGiBAgAABAgQIECBAgAABAgQIECBAgACBWgQE0LWwapQAAQIECBAgQIAAAQIECBAgQIAAAQIEBNDWAAECBAgQIECAAAECBAgQIECAAAECBAjUIiCAroVVowQIECBAgAABAgQIECBAgAABAgQIECAggLYGCBAgQIAAAQIECBAgQIAAAQIECBAgQKAWAQF0LawaJUCAAAECBAgQIECAAAECBAgQIECAAAEBtDVAgAABAgQIECBAgAABAgQIECBAgAABArUICKBrYdUoAQIECBAgQIAAAQIECBAgQIAAAQIECAigrQECBAgQIECAAAECBAgQIECAAAECBAgQqEVAAF0Lq0YJECBAgAABAgQIECBAgAABAgQIECBAQABtDRAgQIAAAQIECBAgQIAAAQIECBAgQIBALQIC6FpYNUqAAAECBAgQIECAAAECBAgQIECAAAECAmhrgAABAgQIECBAgAABAgQIECBAgAABAgRqERBA18KqUQIECBAgQIAAAQIECBAgQIAAAQIECBAQQFsDBAgQIECAAAECBAgQIECAAAECBAgQIFCLgAC6FlaNEiBAgAABAgQIECBAgAABAgQIECBAgIAA2hogQIAAAQIECBAgQIAAAQIECBAgQIAAgVoEBNC1sGqUAAECBAgQIECAAAECBAgQIECAAAECBATQ1gABAgQIECBAgAABAgQIECBAgAABAgQI1CIggK6FVaMECBAgQIAAAQIECBAgQIAAAQIECBAgIIC2BggQIECAAAECBAgQIECAAAECBAgQIECgFgEBdC2sGiVAgAABAgQIECBAgAABAgQIECBAgAABAbQ1QIAAAQIECBAgQIAAAQIECBAgQIAAAQK1CAiga2HVKAECBAgQIECAAAECBAgQIECAAAECBAgIoK0BAgQIECBAgAABAgQIECBAgAABAgQIEKhFQABdC6tGCRAgQIAAAQIECBAgQIAAAQIECBAgQEAAbQ0QIECAAAECBAgQIECAAAECBAgQIECAQC0CAuhaWDVKgAABAgQIECBAgAABAgQIECBAgAABAgJoa4AAAQIECBAgQIAAAQIECBAgQIAAAQIEahEQQNfCqlECBAgQIECAAAECBAgQIECAAAECBAgQEEBbAwQIECBAgAABAgQIECBAgAABAgQIECBQi4AAuhZWjRIgQIAAAQIECBAgQIAAAQIECBAgQICAANoaIECAAAECBAgQIECAAAECBAgQIECAAIFaBATQtbBqlAABAgQIECBAgAABAgQIECBAgAABAgQE0NYAAQIECBAgQIAAAQIECBAgQIAAAQIECNQiIICuhVWjBAgQIECAAAECBAgQIECAAAECBAgQICCAtgYIECBAgAABAgQIECBAgAABAgQIECBAoBYBAXQtrBolQIAAAQIECBAgQIAAAQIECBAgQIAAAQG0NUCAAAECBAgQIECAAAECBAgQIECAAAECtQgIoGth1SgBAgQIECBAgAABAgQIECBAgAABAgQICKCtAQIECBAgQIAAAQIECBAgQIAAAQIECBCoRUAAXQurRgkQIECAAAECBAgQIECAAAECBAgQIEBAAG0NECBAgAABAgQIECBAgAABAgQIECBAgEAtAgLoWlg1SoAAAQIECBAgQIAAAQIECBAgQIAAAQICaGuAAAECBAgQIECAAAECBAgQIECAAAECBGoREEDXwqpRAgQIECBAgAABAgQIECBAgAABAgQIEBBAWwMECBAgQIAAAQIECBAgQIAAAQIECBAgUIuAALoWVo0SIECAAAECBAgQIECAAAECBAgQIECAgADaGiBAgAABAgQIECBAgAABAgQIECBAgACBWgQE0LWwapQAAQIECBAgQIAAAQIECBAgQIAAAQIEBNDWAAECBAgQIECAAAECBAgQIECAAAECBAjUIiCAroVVowQIECBAgAABAgQIECBAgAABAgQIECAggLYGCBAgQIAAAQIECBAgQIAAAQIECBAgQKAWAQF0LawaJUCAAAECBAgQIECAAAECBAgQIECAAAEBtDVAgAABAgQIECBAgAABAgQIECBAgAABArUICKBrYdUoAQIECBAgQIAAAQIECBAgQIAAAQIECAigrQECBAgQIECAAAECBAgQIECAAAECBAgQqEVAAF0Lq0YJECBAgAABAgQIECBAgAABAgQIECBAQABtDRAgQIAAAQIECBAgQIAAAQIECBAgQIBALQIC6FpYNUqAAAECBAgQIECAAAECBAgQIECAAAECAmhrgAABAgQIECBAgAABAgQIECBAgAABAgRqERBA18KqUQIECBAgQIAAAQIECBAgQIAAAQIECBAQQFsDBAgQIECAAAECBAgQIECAAAECBAgQIFCLgAC6FlaNEiBAgAABAgQIECBAgAABAgQIECBAgIAA2hogQIAAAQIECBAgQIAAAQIECBAgQIAAgVoEBNC1sGqUAAECBAgQIECAAAECBAgQIECAAAECBATQ1gABAgQIECBAgAABAgQIECBAgAABAgQI1CIggK6FVaMECBAgQIAAAQIECBAgQIAAAQIECBAgIIC2BggQIECAAAECBAgQIECAAAECBAgQIECgFgEBdC2sGiVAgAABAgQIECBAgAABAgQIECBAgAABAbQ1QIAAAQIECBAgQIAAAQIECBAgQIAAAQK1CAiga2HVKAECBAgQIECAAAECBAgQIECAAAECBAgIoK0BAgSaEPjWiHhpRFwbEVdExKmI+NuIeHdEvCUiDjbRKfckQIAAAQIECBAgQIAAAQIECBCoVkAAXa2n1ggQ2Frg6yLirRHxQ1ucdn9EvCYifhEmAQIECBAgQIAAAQIECBAgQIBAtwUE0N2eP70n0CWB7OfNOyLiu8edPh4R/yEiPhgRWTB9XUR8T0Skn0s/FhG/0qUB6isBAgQIECBAgAABAgQIECBAgMBGAQG0FUGAwKoEsqrn3xzf7N6IeE5EfLpw8xdHxM3jEPprEfH3IuJvVtVB9yFAgAABAgQIECBAgAABAgQIEKhWQABdrafWCBDYXCD7WfO5iHjM+OXrI+LtU7CyqucfHb92U0S8HCoBAgQIECBAgAABAgQIECBAgEA3BQTQ3Zw3vSbQNYFnR8T7xp3+fERcFRFnpwxif0R8dvzasYi4NCKyfaF9ESBAgAABAgQIECBAgAABAgQIdExAAN2xCdNdAh0V+NnxBwtm3X9zRLxqxjg+ExGPH5/z7RHx3o6OW7cJECBAgAABAgQIECBAgAABAoMWEEAPevoNnsDKBP5bRDx/fLcbxh8+uNXNfysiXjI+4Scj4udX1lM3IkCAAAECBAgQIECAAAECBAgQqExAAF0ZpYYIENhCINtSI9taI/v6toj40xlaPxMRPzU+59cj4hV0CRAgQIAAAQIECBAgQIAAAQIEuicggO7enOkxgS4KfCkiHj7u+FMi4hMzBvEvIuIXx+f8bkS8uMZB/2VEPDYijk/sPV3j7TRNgAABAgQIECBAgACBxgQeFxFr4w+Jf3pjvXBjAgQGJSCAHtR0GyyBxgRORcSO8d2vLhH0ZhXPbxmf/98j4roFev6yiMj+N+vr2oi4YNZJXidAgAABAgQIECBAgECPBI5GxEU9Go+hECDQYgEBdIsnR9cI9EhgmQD6PRHxTxaweH1E/HTZ6y6I7bHHv7/KcjmPAAECBAgQIECAAIEOChyLL8cDcSbr+Rci4tEdHIIuEyDQQQEBdAcnTZcJdFCgiS04ylZAPy0i9l4Uj4xrHnKgg7S6TIAAAQIECBAgQIAAgXICH3rwlvhyfDE7+c8iwi9A5dicRYDAkgIC6CUBXU6AQCmBQxFx1fjMtn0I4S0R8RwBdKl5dBIBAgQIECBAgAABAh0WEEB3ePJ0nUCHBQTQHZ48XSfQIYH/FhHPH/f3hoj4DzP6/lsR8ZLxOT8ZET9f41gF0DXiapoAAQIECBAgQIAAgfYICKDbMxd6QmBIAgLoIc22sRJoTuBnI+I149u/OSJeNaMrn4mIx4/P+faIeG+NXRdA14iraQIECBAgQIAAAQIE2iMggG7PXOgJgSEJCKCHNNvGSqA5gWdHxPvGt//8eDuOs1O6sz8iPjt+7VhEXBoR99fYdQF0jbiaJkCAAAECBAgQIECgPQIC6PbMhZ4QGJKAAHpIs22sBJoT2BYRn4uIfeMuXB8Rb5/SnV+JiB8dv/YbEZF9mGCdXwLoOnW1TYAAAQIECBAgQIBAawQE0K2ZCh0hMCgBAfSgpttgCTQq8NKIuGncg3uyD/6LiL8u9Oh7xsF09rPpVEQ8ISLuqLnXAuiagTVPgAABAgQIECBAgEA7BATQ7ZgHvSAwNAEB9NBm3HgJNCeQ/bz5LxHxwnEXsu01sg8j/GBEfF1EXBcRL46I9HPpX0TE/7uC7gqgV4DsFgQIECBAgAABAgQINC8ggG5+DvSAwBAFBNBDnHVjJtCcwIURcWNE/MAWXfhaRPybiPiFFXVTAL0iaLchQIAAAQIECBAgQKBZAQF0s/7uTmCoAgLooc68cRNoVuDbxns7Pysirhhvt/G3EfGeiHhzRNy+wu4JoFeI7VYECBAgQIAAAQIECDQnIIBuzt6dCQxZQAA95Nk3dgIEMgEBtHVAgAABAgQIECBAgMAgBATQg5hmgyTQOgEBdOumRIcIEFixgAB6xeBuR4AAAQIECBAgQIBAMwIC6Gbc3ZXA0AUE0ENfAcZPgIAA2hogQIAAAQIECBAgQGAQAgLoQUyzQRJonYAAunVTokMECKxYQAC9YnC3I0CAAAECBAgQIECgGQEBdDPu7kpg6AIC6KGvAOMnQEAAbQ0QIECAAAECBAgQIDAIAQH0IKbZIAm0TkAA3bop0SECBFYsIIBeMbjbESBAgAABAgQIECDQjIAAuhl3dyUwdAEB9NBXgPETICCAtgYIECBAgAABAgQIEBiEgAB6ENNskARaJyCAbt2U6BABAisWEECvGNztCBAgQIAAAQIECBBoRkAA3Yy7uxIYuoAAeugrwPgJEBBAWwMECBAgQIAAAQIECAxCQAA9iGk2SAKtExBAt25KdIgAgRULCKBXDO52BAgQIECAAAECBAg0IyCAbsbdXQkMXUAAPfQVYPwECAigrQECBAgQ6K3ABRdfvOXYHrjvvt6O3cAIECBA4HwBAbRVQYBAEwIC6CbU3ZMAgTYJCKDbNBv6QoAAAQKVCgigK+XUGAECBDovIIDu/BQaAIFOCgigOzltOk2AQIUCAugKMTVFgACBoQjMCnaH4rDqcarYXrW4+xEg0DcBAXTfZtR4CHRDQADdjXnSSwIE6hMQQNdnq2UCBAj0VkAA3czUCqCbcXdXAgT6IyCA7s9cGgmBLgkIoLs0W/pKgEAdAgLoOlS1SYAAgZYKCI5bOjENdEuY3QC6WxIg0LiAALrxKdABAoMUEEAPctoNmgCBCQEBtOVAgACBAQkIoAc02TOGKoC2FggQGKKAAHqIs27MBJoXEEA3Pwd6QIBAswIC6Gb93Z0AAQJzCwiR5yZzQYUCgusKMTVFgMDKBQTQKyd3QwIEIkIAbRkQIDB0AQH00FeA8RMg0DkBAXTnpqxXHRZA92o6DYbA4AQE0IObcgMm0AoBAXQrpkEnCBBoUEAA3SC+WxMgQCATEChbB30XEFr3fYaNj0B3BATQ3ZkrPSXQJwEBdJ9m01gIEFhEQAC9iJprCBAgUKGAALpCTE21UkAA3cpp0SkCgxQQQA9y2g2aQOMCAujGp0AHCBBoWEAA3fAEuD0BAv0SECb3az6NZrUCgurVersbgSEKCKCHOOvGTKB5AQF083OgBwQINCsggG7W390JEOiZgAC6ZxNqOCsVEECvlNvNCAxSQAA9yGk3aAKNCwigG58CHSBAoGEBAXTDE+D2BAh0S0DA3K350tv+Cgir+zu3RkagTgEBdJ262iZAYJqAANraIEBg6AIC6KGvAOMnQGAuAQH0XFxOJlCbgAC6NloNE+i1gAC619NrcARaKyCAbu3U6BgBAisSEECvCNptCBBov4Bwuf1zpIcEygoIqMtKOY/AsAQE0MOab6Ml0BYBAXRbZkI/CBBoSkAA3ZS8+xIg0DoBAXTrpkSHCCwsIIBemM6FBHotIIDu9fQaHIHWCgigWzs1OkaAwIoEBNArgnYbAgTaLyCAbv8c6SGBsgIC6LJSziMwLAEB9LDm22gJtEVAAN2WmdAPAgSaEhBANyXvvgQIrFxAwLxycjck0FoBAXVrp0bHCNQqIICulVfjBAhMERBAWxoECAxdQAA99BVg/AQGJCCAHtBkGyqBGQICaEuEwDAFBNDDnHejJtC0gAC66RlwfwIEmhYQQDc9A+5PgEBlAgLmyig1RGDwAgLqwS8BAD0VEED3dGINi0DLBQTQLZ8g3SNAoHYBAXTtxG5AgMCqBATQq5J2HwL9FxBA93+OjXCYAgLoYc67URNoWkAA3fQMuD8BAk0LCKCbngH3J0CgtICAuTSVEwkQqFFAOF0jrqYJ1CwggK4ZWPMECGwqIIC2MAgQGLqAAHroK8D4CXRIQADdocnSVQI9FhBA93hyDa33AgLo3k+xARJopYAAupXTolMECKxQQAC9Qmy3IkBgtoCQebaRMwgQaKeAYLqd86JXBCYFBNDWAwECTQgIoJtQd08CBNokIIBu02zoCwECIYC2CAgQ6KqAALqrM6ffQxIQQA9pto2VQHsEBNDtmQs9IUCgGQEBdDPu7kpg8AKC5sEvAQAEBiMgmB7MVBtoBwQE0B2YJF0k0EMBAXQPJ9WQCBCYS0AAPReXkwkQqEpAAF2VpHYIEGi7gAC67TOkf0MSEEAPabaNlUB7BATQ7ZkLPSFAoBkBAXQz7u5KYDACgubBTLWBEiAwp4Bgek4wpxOoQEAAXQGiJggQmFtAAD03mQsIEOiZgAC6ZxNqOATaJiCAbtuM6A8BAm0REEC3ZSb0Y0gCAughzbaxEmiPgAC6PXOhJwQINCMggG7G3V0J9E5A0Ny7KTUgAgQaFBBON4jv1r0WEED3enoNjkBrBQTQrZ0aHSNAYEUCAugVQbsNgb4LCKD7PsPGR4DAKgUE0KvUdq8hCQighzTbxkqgPQIC6PbMhZ4QINCMgAC6GXd3JdBJASFzJ6dNpwkQ6JGAYLpHk2kojQgIoBthd1MCgxcQQA9+CQAgMHgBAfTglwAAAuUFBNDlrZxJgACBOgQE0HWoanNIAgLoIc22sRJoj4AAuj1zoScECDQjIIBuxt1dCXRCQODciWnSSQIECIRg2iIgUE5AAF3OyVkECFQrIICu1lNrBAh0T0AA3b0502MCKxMQQK+M2o0IECCwlIAAeik+Fw9IQAA9oMk2VAItEhBAt2gydIUAgUYEBNCNsLspgXYJCJrbNR96Q4AAgWUFBNLLCrq+rwIC6L7OrHERaLeAALrd86N3BAjULyCArt/YHQi0XkAA3fop0kECBAjMJSCAnovLyQMSEEAPaLINlUCLBATQLZoMXSFAoBEBAXQj7G5KoFkBgXOz/u5OgACBJgWE003qu3fTAgLopmfA/QkMU0AAPcx5N2oCBM4JCKCtBgIDFBBAD3DSDZkAAQJjAQG0pTBkAQH0kGff2Ak0JyCAbs7enQkQaIeAALod86AXBGoREDTXwqpRAgQI9EpAIN2r6TSYGQICaEuEAIEmBATQTai7JwECbRIQQLdpNvSFQMUCAuiKQTVHgACBHgoIoHs4qYY0VUAAbXEQINCEgAC6CXX3JECgTQIC6DbNhr4QWEJA2LwEnksJECBAYF1AIG0x9FlAAN3n2TU2Au0VEEC3d270jACB1QgIoFfj7C4EahcQQNdO7AYECBAYhIAAehDTPNhBCqAHO/UGTqBRAQF0o/xuToBACwQE0C2YBF0gUIWAALoKRW0QIECAgADaGuizgAC6z7NrbATaKyCAbu/c6BkBAqsREECvxtldCFQuIHCunFSDBAYp8JCL9/Z63A/ed7TX41vl4ATTq9R2r7oEBNB1yWqXAIGtBATQ1gcBAkMXEEAPfQUYf2cFBNCdnTodJ9AqAQF0q6aj1Z0RQLd6enSupIAAuiSU0wgQqFRAAF0pp8YIEOiggAC6g5Omy8MUEDgPc96NmsA8An0Pk+exmPdcldLzikUIpOc3c0XzAgLo5udADwgMUUAAPcRZN2YCBCYFBNDWA4GOCAigOzJRukmgQQEB9OL4Auj57QTQ85u5onkBAXTzc6AHBIYoIIAe4qwbMwECAmhrgEAHBATOHZgkXSSwYgEB84rBp9xOWL05jEC6HetTL7YWEEBbIQQINCEggG5C3T0JEGiTgAroNs2GvhCYEBBAWw4ECBQFBNDtWBMCaAF0O1aiXiwiIIBeRM01BAgsKyCAXlbQ9QQIdF1AAN31GdT/3ggInHszlQZCYGEBAfPCdK24UDB9/jSoim7F0tSJCQEBtOVAgEATAgLoJtTdkwCBNgkIoNs0G/oyaAEB9KCn3+AJ5AIC6G4vBAG0ALrbK3gYvRdAD2OejZJA2wQE0G2bEf0hQGDVAgLoVYu7H4GxgMDZUiAwTIEhhMwPXLy79sm94L4Ttd+jqhsIps9JqoiualVpZ1EBAfSicq4jQGAZAQH0MnquJUCgDwIC6D7MojF0UkAA3clp02kCSwsIoJcmzBsQQFfjuOpWBNCrFne/ooAA2pogQKAJAQF0E+ruSYBAmwQE0G2aDX3prYCwubdTa2AEpgr0NWheRXXzMstKML2M3uqvFUiv3nzodxRAD30FGD+BZgQE0M24uysBAu0REEC3Zy70pMcCAugeT66hEZgiIIBuZmkIoJtxX/SuAuhF5Vy3qIAAelE51xEgsIyAAHoZPdcSINAHAQF0H2bRGFonIHBu3ZToEIHaBPoaNCewWRXPp/deOLftjqP3z33Nohd0KZCeHONQ940WSC+60l1XVkAAXVbKeQQIVCkggK5SU32w084AACAASURBVFsECHRRQADdxVnT59YLCKBbP0U6SKAyAQG0ALqyxTTRkAC6DlVtEogQQFsFBAg0ISCAbkLdPQkQaJOAALpNs6EvnRUQOHd26nScQGmBvgfNCaJsxfOpvds32O08eqa0ZfFEFdGz6QTSs42cQaCMgAC6jJJzCBCoWkAAXbWo9ggQ6JqAALprM6a/rRQQQLdyWnSKQKUCAugRZ9pyQwBd6fKa2ZgAeiaREwiUEhBAl2JyEgECFQsIoCsG1RwBAp0TEEB3bsp0uA0CAuc2zII+EKhXYCiBc1IsW/l8/FE7N8Cf2nP+r1Rrdz2w5eRMq5ZeZSV06qA9out9H1Xduj2iqxYdXnsC6OHNuRETaIOAALoNs6APBAg0KSCAblLfvTsrIIDu7NTpOIHSAgLojVSp8lkAXXoJ1XqiiuhaeTXeYwEBdI8n19AItFhAAN3iydE1AgRWIiCAXgmzm3RdQODc9RnUfwKbCwwtZJ5UmFXxnM5NwXN6nALoE1eOfpU6sf90frzoozvWm9957MH8+53Hz2659E6tbdvw+toXTuWPVULP/44dWiCtEnr+NeKKkYAA2kogQKAJAQF0E+ruSYBAmwQE0G2aDX1prYAAurVTo2MElhIQQM/mE0DPNmrDGQLoNsyCPnRBQADdhVnSRwL9ExBA929OjYgAgfkEBNDzeTl7IAIC54FMtGEOTmDIgXOa7LKVz+n8YgCdPnwwVS+nSuiTl5+rdt51ZFTZvPvwqBJ62le69vTa6LxLPzJqo7hH9Cororu6J3TReGiBdDZ+VdGD+5G+0IAF0AuxuYgAgSUFBNBLArqcAIHOCwigOz+FBlCHgAC6DlVtEmheQAAdIYDeeh0KoJt/ny7aAwH0onLDuk4APaz5NloCbREQQLdlJvSDAIGmBATQTcm7bysFBM+tnBadIrCwgMD5HN2ywXNqKVVArz8e7+P85cefu9fZ/SfzB2eOj/aF3n3o3P7Q2eNU8fzmH3hz/vqP//yr8uPaXQ9smOsmK6EnO9KHUFpF9MI/RlzYMwEBdM8m1HAIdERAAN2RidJNAgRqExBA10ar4S4KCKC7OGv6TGC6gAD6nI0AevF3igB6cbsmr1QR3aR+e+8tgG7v3OgZgT4LCKD7PLvGRoBAGQEBdBkl5wxGQAA9mKk20IEICKAF0FUsdQF0FYqrb0MAvXrzLtxRAN2FWdJHAv0TEED3b06NiACB+QQE0PN5ObtHAsLmHk2moRAYCwicRxDzVjtvtoCKHz6YziluwbH+/Hgrjuxx8cMF01YbN/zXV+an3/hdb8mPr37LaOuN9GGFO4+f+yDD7PniFhyT/VzlBxOm+/YhiJ40HMq2HIJo/xcxKSCAth4IEGhCQADdhLp7EiDQJgEBdJtmQ19WKiCAXim3mxFYiYAAesQsgK5nuQmg63Gtu1UBdN3C3WpfAN2t+dJbAn0REED3ZSaNgwCBRQUE0IvKua5zAgLnzk2ZDhOYKSBw3khURfCcWpxWAZ1en/ZhhNnrp/aMfs06vWd0dvrQwd1P/bv88YmPPTw/PvSu0Xk7jz24YSDzVEKnC1dZES2InvnWbPUJAulWT0/tnRNA107sBgQIbCIggLYsCBDYSuCmiHjpHET/PCJ+qcT5/zQiXhIR10TE5dnvYRHx+Yj4g4jI/ib1cIk2qjpFAF2VpHZaLyCAbv0U6SCBuQUE0BvJBNBzL6GFLhBAL8TWmosE0K2ZikY6IoBuhN1NCQxeQAA9+CUAgMCWAlUH0BdHxG9HxHVb3PVoRGQbJL59RXMjgF4RtNs0JyB4bs7enQlUKSBsnq65yuA59WKrCuj1c8aV0F+9YlThXGcF9DSdOiuj+xZEJ8Oh7A2dxiuQrvIndfvbEkC3f470kEAfBQTQfZxVYyJQncBkAP1TEfFXM5r+WER8bso5F0bEH0fEt4xfvzcifn3c5sMi4kUR8e3j1x4YP84qouv+EkDXLaz9xgUE0I1PgQ4QqERAAD2dUQA93UYAPf/bTwA9v5kruiMggO7OXOkpgT4JCKD7NJvGQqB6gckA+lsjIgtrF/3KAuyfGV98e0Rk7RW32viJiHjTRED9uIj4yqI3LHmdALoklNO6IyBw7s5c6SmBrQQEzrPXR5XBc7rbrL2fi71KldCn1rad1+HiXtDPfNEn8nPe94En5ceHHdx4TdoLepE9oGdrbTyjymBaJfS8+u08XyV0O+el6l4JoKsW1R4BAmUEBNBllJxDYLgCVQXQWYVzFjbvHlN+U0T8xRTWd0XEd4xfe31EvKFmfgF0zcCaX72AAHr15u5IoA4BAfRsVQH0bKNpZwigZ9uphJ5t5IzuCQiguzdnekygDwIC6D7MojEQqE+gqgD6hyLiN8fdvC0inr1Fl58bEX80fv1gRDy+vuHlLQugawbW/OoEBM+rs3YnAnUKCJ7L63YlgE57QJ/dfzIf3Nm7s53JInYdGVVA7zi2ccyrrIQuai8TTPe1EjoZCaTLvzed2V4BAXR750bPCPRZQADd59k1NgLLC1QVQGcfPPh94+68NiJ+bouubY+I+yJibXxOFkBnQXRdXwLoumS1u3IBAfTKyd2QQC0CAujyrALo8lZlzxRAT5cSQJddRc5rs4AAus2zo28E+isggO7v3BoZgSoEJgPo90XElRHxqIjIPsr9ixHx4YjItsz4jxFx/xY3/GREPHH8elbh/CczOndrRFw7Pud7IuL3qhjMlDYE0DXiarpeAYFzvb5aJ7AqAYHz/NJ1BM+pF1XuAX3iytGvWycvP5sfH/eUv82Pn/34o/Pj9uOj13eMj6kPqSJ67a7sc5nPfe08emZ+rAqumDeUVgldAXrLmrA/dMsmZInuCKCXwHMpAQILCwigF6ZzIYFBCEwG0FsN+K6IeGlEvHeTk7KfM1/Lfrcav3ZVRHxuhl62XUe2bUf29bqI+Lc1aguga8TVdL0CAuh6fbVOYFUCAuj5pQXQ85stc4UAeqPe0Cqhs9ELoJd5B7XrWgF0u+ZDbwgMRUAAPZSZNk4CiwlkAfSLxxXL2YcGZsFxFiZfEhHfHBHfnW1fOG46K+353k2qlfdExFcmbp99IGFhp8PzOvcLEfHj42ffFBH/erHul7pKAF2KyUltEhA8t2k29IXA/AIC5/nN0hV1Bs/pHotWQE+O6tTaaG/nU3tGv26lPaBPXTaqYN6+djo/7lkb7Ql99NDF+fHs7lHF8867sx3JIi66fdTqzuOjCurJr6aqobM+zAqk+14BXZwLgfTi72lXrl5AAL16c3ckQCBCAG0VECCwlcA1EfHXEXF8yklXRES2v/Nzxq9nv0VlezaP/r509JVt2/GFicdZJfSsvx/NKp7/zfiat0TEjywwTS+LiOx/s76eFhF7L4pHxjUPOTDrXK8TaIWAALoV06ATBBYWEEAvTBcC6HN2AujF11HVVwqgqxbVXp0CAug6dbVNgMA0AQG0tUGAwLICu8d7QX/DuKFfioh/PtHosgH0myPiVQt08vUR8dNlrxNAl5Vy3qoFhM2rFnc/AvUJCJ4Xt11F8Jx6V0cF9Ons78Em9oI+dP2vbcB43T1Pzh+/687RR2ac+NjD8+ND7xr9urbzWPbxG5tXQqeGqg6kT+0dVWFPfhXvoRJ6o48gevH3uCtXJyCAXp21OxEgcE5AAG01ECBQhcBLIuK3xg3dGRGPmWi0qS04VEBXMbPaaFxAAN34FOgAgcoEBNCLUwqgBdCLr57VXSmAXp21Oy0uIIBe3M6VBAgsLiCAXtzOlQQInBMoVjlnVdFfHb+c/Zw5lW13OH7sQwitHAIlBATPJZCcQqDlAgLn5SdolcFz6u28FdDpusmK4eIe0MUK6Bu/K9thLOLAro17O9949PL8+X/3uy/KjzuOj35d2zH+9IxUCT0pu9n+0MvLb2whjeeeZ492UXv0H472uE4V0SqhzxcfYhidKfiwwqrffdW3J4Cu3lSLBAjMFhBAzzZyBgECswWyfZ2zkDl9PSoiDk88/mREjP6mNOK54w813KrVWyPi2vEJ37PJBxvO7lH5M3wIYXkrZ65QQAC9Qmy3IlCTgAB6eVgBtAB6+VXUTAsC6Gbc3XW2gAB6tpEzCBCoXkAAXb2pFgkMUSD7MMLJwPmh2TaHExDZBxV+3/jxayPi57ZAyiql74uItfE52YcaHqwRVQBdI66mywsInMtbOZNAWwUEztXNTFeD5yRQrID+8tNOb8A58JTsM54j3rYv+2/u576u+/QL8gef/fij8+P2cQV0OuOi22cbV1URncYwecdUAX3RR7Pag4i1ux7IjyqhZ8/L0AJpldCz10RTZwigm5J3XwLDFhBAD3v+jZ5AVQI/EBH/adzY/4qIfYWGfygifnP8XPab1j/a4sZZhfQfjV//bERcXVUnp7QjgK4ZWPPlBATQ5ZycRaDNAgLo6mZHAC2Arm41taMlAXQ75kEvIgTQVgEBAk0ICKCbUHdPAv0SyKqdPxQRTxgP61ci4scKQ9wbEV+IiGxv6OzrmyLiL6YwvCsivmP82hsi4vU1cwmgawbW/NYCgmcrhEC3BYTO9cxf3wLoh/yTL+VQ9x15WH7cvjaqiL72qkP58WP3ZB+nEfHUS0d/UHbbHfs3wO5ZG/1h2an3P2L9+d2HRx9MOOtr3orozSqfT1w5+rXxa08dfcTHw/9wV35MbacK6NQXe0JPnxVB9KwV6/W6BQTQdQtrnwCBzQQE0NYFAQLTBF4aEfdExHsiYuMn5Jy74rKI+M8R8W3jp+6PiG+IiDs3afSnJ8Lkz4yvmdy2I7vkJyLiTeNrvxgRj4uIozVPkQC6ZmDNby0ggLZCCHRbQABdz/wJoAXQ9ays5lsVQDc/B0PvgQB66CvA+Ak0IyCAbsbdXQl0QeDfR8S/jIgjEfHfI+Lj4++/FhGPjIhvjojsAwKzCujsKwupvz8i3j5lcFmpzJ9ExD8cv35vRLw1Iv4qIrJyoOzj3q8bv5ZtKJi1/fsrgBJArwDZLc4XEDxbFQS6KSBwrnfemgie04hO771wocGd2pt9fMXmX6ma+MvZJ1ps8XXqsjMbXk17RKfK6BMfe3j++o6JPaF3HBtdsvNYuUrosoM7tWf0K+LpPeeuOHn5qBYh7Un90LtG56R7q4Quq3vuvKEF0Wnk9oaef61UfYUAumpR7REgUEZAAF1GyTkEhimQAugyo8/2fb4hIt474+Tst6ffiYjnbXHeVyLiVRGRfXDhKr4E0KtQdo/zBATQFgWBbgoIoOudNwH0yFcAXe86a0PrAug2zMIw+yCAHua8GzWBpgUE0E3PgPsTaK9AthnhgfF+zc+IiMsjItt4MKuHOT6uhs72fn5nRPyXrFBmjqFk1c4/GBHPjIhsG48TEfH5cVtvHu8XPUdzS50qgF6Kz8VlBQTOZaWcR6CdAoLneuelyeA5jazKCujiPsqbVRVPip5eG1Uxnxkfv/9b358//sd7Ppkfb/ivr8yPqQI5+z5VIZedmWKldOrTtOsnK6BP7B/9M+/x++/Kj5/9+OhDEncd2ZYfL749++O1iOJe0KntaXtCX3Bf9k/AYX8Jooc9/02MXgDdhLp7EiAggLYGCBAYuoAAeugrYEXjF0CvCNptCNQkIICuCXbcrABaAF3vCmtv6wLo9s5NX3smgO7rzBoXgXYLCKDbPT96R4BA/QIC6PqN3SEiBNCWAYFuCwig650/AbQAut4V1t7WBdDtnZu+9kwA3deZNS4C7RYQQLd7fvSOAIH6BQTQ9RsP+g6C50FPv8F3WEDgXP/ktSF0nhzlvFtwlPnwwdT+tO0u0jYXxS04tl12f37p9U/8cH78T38x+gzntz33xvUuv/ot2UdmRKQPI5w1Y+leL/z+W/NTf/+3n50f072L15/df3L9qYMHbsq/33/z6J5pK5DP3PCr+eNn/9iP5Md5t+CYvOfQt+MQRM9awV6vSkAAXZWkdggQmEdAAD2PlnMJEOijgAC6j7PaojEJoFs0GbpCYA4BAfQcWAueKoCOEECfWzwC6KMLvpO6fdkD993X7QF0sPcC6A5Omi4T6IGAALoHk2gIBAgsJSCAXorPxdMEBM/WBoFuCgie65+3rgfPSWieCuj1a/Zs/utXMYhOlcXpultOjj7s7xV//sPrE7Tt0K78+x3Hy/1KlyqdX/ydt+XXparq1ODnXvDW/Nurb3lZfnzN09+9fq//+90vzL9PHzqYqq7TBxvuPH42f31aBXRqaNqHEU6uOkH0MIPoyTUglK7357AAul5frRMgsLlAuX+t0CNAgEB/BQTQ/Z3bRkcmgG6U380JLCwggF6YrvSFAujzqQTQ50wE0AJoAXTpH6cLnSiAXojNRQQILCkggF4S0OUECHReQADd+SlsxwAEzu2YB70gMK+AwHleseXP73oAvVXlc9I5tTaqWC5+ld0L+tRlZ/JL057PB3aNKoxffudo3+bs67Y79ufHVAmdni9WRBf3l967f7TlwS886R358aodX8mP+7avbejudZ9+wfrjv/kf/1v+/UPvGv36WKx8TidWUQGd2hJEC6IF0Zv9FFn+OQH08oZaIEBgfgEB9PxmriBAoF8CAuh+zWdjoxFAN0bvxgSWEhBAL8W30MUC6PPZihXQAugIAbQAWgC90I/YmRcJoGcSOYEAgRoEBNA1oGqSAIFOCQigOzVd7eus4Ll9c6JHBMoICJ7LKFV7TtuC5zS603svnGugdVRApw589YoH82+/5Xl/lR/ftu/W/Jiqkd969e+s9/W5t706//7s3Zv3P1U6Hzs+2it6z9rJ/PiRa27Oj8/40PX5Mb1+8MBN+ePHvvMV+XHn3dvPc7no9o1Ppb2f07OzKqDTeWX2gk7nCqIF0YLouX5EzTxZAD2TyAkECNQgIICuAVWTBAh0SkAA3anpal9nBdDtmxM9IlBGQABdRqnacwTQEdO24EjSAujz15wAWgAtgK72Z7EAulpPrREgUE5AAF3OyVkECPRXQADd37mtbWRC59poNUygdgHBc+3E591gSMFzGvy0PaDXX9+z+a9haSuOk5eP9nw+u/uB/Lh97XR+fM3T373ue8PeI/n3V9/ysvx45viODfYHnvLX+eNURZ1eTJXP9x15WP7UthMXbLhu+/FR3yb3kt59eFSZnb6Klc/rzx8d7V0962ueCujUliBaEC2InvXOKve6ALqck7MIEKhWQABdrafWCBDonoAAuntz1niPBdCNT4EOEFhYQAC9MN3CFwqgz6eb9WGEAujzzQTQAmgB9MI/hjdcKICuxlErBAjMJyCAns/L2QQI9E9AAN2/Oa1tRILn2mg1TKAWAWFzLaylG21r8JwGUHbv5zJ7PhdR5q2ATpXP631bG1UcnxkfUyV0qmrOXnvpJe/Pz/mjY0/Kj++684n58Ree9I78eGDXqIr65Xc+Oz8ePrE3Pz7zEZ/Pj+/4g2s3dDtVPO84dv4U7zw26s+0yud0RR17QBd7I4gWRKc1IZAu/eN4w4kC6MXcXEWAwHICAujl/FxNgED3BQTQ3Z/DlY1AAL0yajciUImAALoSxoUbEUBPpytWQAugyy8zAbQAWgBd/v2y2ZkC6OX8XE2AwGICAujF3FxFgEB/BATQ/ZnL2kYieK6NVsMEahEQPNfCOnejQwugZ1U9TwKWDaDTNakSettl9683s2ftZP79R665ecPcvO6eJ+ePP/ilx+THO+5+ZH48e/eF+XGzPZ6z54uVz6nqebLxqiqgU5v2gp77bbV+wYP3CaIThkro+daRAHo+L2cTIFCNgAC6GketECDQXQEBdHfnbmU9F0CvjNqNCFQiIICuhHHpRgTQ0wkF0CMbAfTibzMB9Dk7AfR860gAPZ+XswkQqEZAAF2No1YIEOiugAC6u3NXW88FzrXRaphArQKC51p5Szc+tOA5wayiAjrtBZ3d8+LLv5Lf+vn7PrVhbtJe0PcdeVj+/LYTF2x4fdeRbZvOZVcqoFPnh74Vx+QkCqNHGoLocj+mBdDlnJxFgEC1AgLoaj21RoBA9wQE0N2bs9p7LICundgNCNQiIICuhXXuRgXQs8kWrYAWQJ+zFUCfsxBAC6Bn/9Q5d4YAeh4t5xIgUJWAALoqSe0QINBVAQF0V2euhn4LnmtA1SSBGgUEzjXiLtD0UIPnRNVUBXTaA/rOM8fzrjz3tlfnxzPHd+THVAFddu/nNJ627gFdXJqCaEF0cU2ohN76B7gAeoH/g3MJAQJLCwiglybUAAECHRcQQHd8AqvsvgC6Sk1tEahfQABdv/E8dxBAb761xWaGVVZAC6BPzLNMe32uSujR9AqgBdC9fqMbHIGOCgigOzpxuk2AQGUCAujKKLvbkOC5u3On58MUEDy3a97bHjwnrdN7L9wS7tTe7QvBVln5vN7XtQc39OXUZWfyx4/ff9f681fuPpp//7Z9t+bH193z5Pw4bQ/oVVRAp87tPDrq76yvRT6EcFqbKqHPyQiiRxaC6M3fLSqgZ/1k8joBAnUICKDrUNUmAQJdEhBAd2m2auqrALomWM0SqElAAF0T7ILNCqCrq3xOU3BaAD33ahRAC6CLi0YALYCe+weJCwgQqE1AAF0brYYJEOiIgAC6IxNVRzcFz3WoapNAfQKC5/psF2m5C8HzrKrnyXG3oQK6GDyfGQfR2y67P+/q9U/88HqX33jpJzZM2y0nR0H4gV1n8+PVt7wsP569e1T5XbYCerO9n9ONdh4ftT3rq2wF9GQ7VVZDZ+0KpCNUQo9WmCB64ztWBfSsn2BeJ0CgDgEBdB2q2iRAoEsCAuguzVbFfRVAVwyqOQI1Cwigawaes3kB9Aisyi04BNBzLsItThdAC6DT8hBAC6Cr+8miJQIEFhUQQC8q5zoCBPoiIIDuy0zOMQ7B8xxYTiXQoIDAuUH8LW7dheA5db9MBXSbKp9TxXPq/9ndD+Tfpr2f33r176zPzL7ta5vO0p1njufPP/e2V+fHYgV0umjH8Y2/Cu44NnqligrodI95KqGrroBOfRBEC6I3e6MMOZRWAd3O/2/VKwJ9FxBA932GjY8AgVkCAuhZQj18XQDdw0k1pF4KCKDbOa0C6NG81FH5LICufs0LoAXQAuiNAgLo6n/OaJEAgdkCAujZRs4gQKDfAgLofs/vpqMTQA9w0g25kwIC6HZOmwBaAF12ZaqALitV73n2gj7fVwX0FzOUP8u2ja939WmdAAECIwEBtJVAgMDQBQTQA1oBgucBTbahdlpA8NzO6RM8Vx88n7x89KF+f/rdb8qPz3n3j2+Y/O1rp/PHe9ZO5senXnp4/fW37bt1w7npQwh/9m+enz9/x92PzI9nju/Ij9tOXJAf04cRpovTVhxltuBI19TxYYR1bcGR+qwSWiX0Zj9ZhxhEq4Bu5//H6hWBvgsIoPs+w8ZHgMAsAQH0LKEevS6A7tFkGkqvBQTQ7ZxeAfRoXqrcekMAfW6tC6Drf9+rhD7fWACtArr+d547ECCQCQigrQMCBIYuIIAewAoQPA9gkg2xFwKC53ZOo+C5XPB8as/0X61O7xm1cXrtwfyY9npOHzL4uRe8NX8+VTH/q0++eMNiSJXP1+49uP78DXuPbDjnxqOX54/ffvia/FisgE4np0rodO/dh0YV0qkCOp231YcRrp9zfFTBPeurDVtxTPZxqNXQAujpK3VIQbQK6Fk/sbxOgEAdAgLoOlS1SYBAlwQE0F2arQX7KoBeEM5lBFYsIIBeMXjJ2wmgR1CzKp8F0NMXlAC65Jut5tME0ALoTEAAXfMbTfMECGwqIIC2MAgQGLqAALrHK0Dw3OPJNbReCQie2zmdfQuek/KpvdtLgU8LnLcKmosNp8rntNXGoet/LT+lWOn8Y1dnnwUW8bzdn82PP334O/Ljoy78cn5846WfKNXnyZOe8aHr84fHju/Kj2kf6Y9cc/OGtr7hxh/NHz/0ro2/GpapgE4NzdoTum0BdOq3Sui5l1XvLxhCJbQAuvfL2AAJtFJAAN3KadEpAgRWKCCAXiH2qm8lgF61uPsRWExAAL2YW91XCaC3bUosgD6fRQBd97ux2vZVQk/3FEBXu9a0RoAAgSQggLYWCBAYuoAAumcrQOjcswk1nN4JCJu7M6VdCKBP772wNOisyudixfM8QXOxE6nyOT2fKqD37r8vf6pYhTxtEKlS+sCucnstT7bz8jufvaHZt+27dcPjq295Wf5426FRhfSO46NfDdNe0PNUQKeGqwii6/4wwq0WzNAqogXR01dDn4NoFdCl/2/DiQQIVCgggK4QU1MECHRSQADdyWmb3mkBdM8m1HB6JyCA7s6UCqAX/1VJAL35Oi+zFYcAenU/IwTQAuiIOLC6FedOBAgMWWDxf1UNWc3YCRDok4AAuiezKXjuyUQaRm8FBM/dmNouhM6ZZNnK562qnqft8fzlx2+cqzNrD+ZP7Dqy+ZYcW83s6fG1qY2zux/IT7/48q/kx6deejg/Xrv3YH68Ye+RyhbKnWeO522998TjNrT9unuenD+++VPfmB/P3j2qIi+OL1VCZ6/NWw09rRK67QF0wlcJXdky7HxDfayEVgHd+WVpAAQ6KSCA7uS06TQBAhUKCKArxGyyKQF0k/ruTWC2gAB6tlEbzhBARwigRytRAN2Gd+Rq+qASerqzAHo1a9BdCBDov4AAuv9zbIQECGwtIIDu+AoRPHd8AnW/9wKC53ZPcVcC56RYZ+Vz2vP5q1eMKp5f/J235cdUKVzcK3mrmU2Vz+mcYgX09rXT+Ut71k7mx1QJ/YYr/zB/vG/72soWzjM+dH1+r1Pvf8TUe06G0dlJy1ZEq4Re2fTOdSNB9HSuPgXRKqDnels4mQCBigQE0BVBaoYAgc4KCKA7O3WjjgugOz6But97AQF0u6dYAH1ufgTQAujiu9VWHO3++bXK3gmgV6ntXgQI9FFAAN3HWTUmAgTmERBADZvInQAAIABJREFUz6PVonMFzy2aDF0hsImA4Lndy6KvwXNS32zv52l7PqfgOX1wYKpe/swNv5o39/I7n50fU3Xyt/7eT+aPtx8v/6vUrAroj1xzc+0LJu39/MEvPSa/170ndufHo4cu3jCeHVuMq1gJPavTyfTi20d7X6evrlRAF8fX90BaBfSsFR3RhyBaBfTseXYGAQLVC5T/V1P199YiAQIE2iAggG7DLCzQBwH0AmguIbBCAQH0CrEXuJUA+hyaAFoAXfYtJIAuK9Xf8wTQ/Z1bIyNAoF4BAXS9vlonQKD9AgLo9s/Rhh4Knjs2Ybo7OAHBc7unvCvBc9m9novaxcrnzaqeU+BcvDZV6568/Gz+0rbL7s+PBw/clB9vObktP77iz384P569+8LSk31296gCuLj38/P3fSp//o2XfqJ0W4uemCqg33XnE/Mm7jvysNE4T1ww6luh8nmrSujUh2JFdLGK/Fue91f5qR/9zSfnx7W7VEIvOn+rvE4l9GztLgfRKqBnz68zCBCoXkAAXb2pFgkQ6JaAALpb82XP547Nl+4OT0AA3e45F0BHCKAF0Mu+S1VCLyvY/esF0N2fQyMgQGC1AgLo1Xq7GwEC7RMQQLdvTjbtkcrnjkyUbg5OQODcjSkfavA8GTan6tzijKWK5/R8qla++PKv5E+lKuVXPvwD+eMXfvSG/JgqiLdaAani+arLvpifduXuo/nx8Im9Gx6/9JL3548P7BpVX9fxVayAPnZ8V36bM8d35MdpldBb9SXtbZ2qp9PjVD2exv2F/74vb2b34Qfz487jo3F2dS/ooklfA2mV0LPfiV0MolVAz55XZxAgUL2AALp6Uy0SINAtAQF0R+ZLAN2RidLNwQkIoLsx5QLoCAH0aBuMtAWHALq6964AujrLrrUkgO7ajOkvAQJNCQigm5J3XwIE2iIggG7LTEzph+C55ROke4MVEDx3Y+rbHDwvus/zpPy0PZ9T5fNXrxhV3GZfn7nhV/Pj/ptftWHyDl3/a/nj6z79gvz4nie8c8PrNx69PH98w94jG8674+5HTl0Ee9ZO5q995Jqb8+OdZ47nx33b1/JjqkZ+7Nfdmz9+3u7Pbni9ytWV7v2Wv/vmvNkPfukx+fHeE7vz4yW7T+THz3780fmxuBf0Zn1Jlc5/+t1vyl9+xcHv23DaMx/x+fzxb//ps/Ljww6O9s/eeWxjBfTkRbOqoXccHe3J3eavvgbRmblq6K1XXpeCaBXQbf4pom8E+isggO7v3BoZAQLlBATQ5ZwaO0sA3Ri9GxPYUkAA3Y0FIoAWQAugV/deFUCvzrptdxJAt21G9IcAgbYJCKDbNiP6Q4DAqgUE0KsWL3k/wXNJKKcRWLGA4HnF4Averu/Bc2KZVgH95//PqNr55Xc+e13wDVf+Yf592sP59592Y/44VSWnE285OarWvWrHaA/o9Hp6/mf/5vn586mCOG1lkaqes9dSVfH3Xvmh/NxUPb3gdFZyWarkvu3o1Xl71+49uKFvV9/ysvxxcU/ozW6e9ni+9qpD+ctv23drfkz3+OWDz8kfHz10cX4cSgX0ZlZ9CaVVQJd7G3YhiFYBXW4unUWAQLUCAuhqPbVGgED3BATQLZ0zAXRLJ0a3Bi8ggO7GEhBAC6CLK1UA3cx7VwDdjHtTdxVANyXvvgQItF1AAN32GdI/AgTqFhBA1y08Z/uC5znBnE5gRQKC5xVBL3mbNgbPVez1XGQpVj6n149fcUH+bfrAwZOXn12/dO/++/Lv077M6YVUJf2xe67Mn0rVy6/9+nfljw/sGrWRKqB/497RvsbpK1USp8riyddSZfCS01rp5WkcaVyp8bRVx3Nve3X+VKqEnrz59rXT+cODB27a0Ke0p/XNn/rG/Pmzd1+YH3cdGVWT7zg2Oj3tAZ0u3nn83PysP3f0zJbj7cJe0JsNQBBd6TJufWNtDqJVQLd++egggV4KCKB7Oa0GRYDAHAIC6DmwVnGqAHoVyu5BYH4BAfT8Zk1cIYAWQM9adwLoWUL1vC6Arse1ra0KoNs6M/pFgEBTAgLopuTdlwCBtggIoFsyE4LnlkyEbhAoCAie270khhI4p1mYVvl8am1Uabt+3p7RrzmpEjr7PlVDp0ro+448bMM1qbo37eVcrJQuroRpQW523lavtXVFFSvB097Wk/2dZpOuve2O/fnpdVZAp/50tRI69b/rgbQ9obd+Jwug2/qTTr8IEGhKQADdlLz7EiDQFgEBdEtmQgDdkonQDQIFAQF0u5eEAHo0PwLo5depAHp5w3laEEDPo9W9cwXQ3ZszPSZAoF4BAXS9vlonQKD9AgLolsyRALolE6EbBATQnVoDAmgBdFULVgBdlWS5dgTQ5Zy6epYAuqszp98ECNQlIICuS1a7BAh0RUAA3fBMCZ4bngC3JzBFQOVzu5dGm4LnOj5ksKg/beuNdN60CujJdtJ2HKfXHsyfPjM+pnPO7n4g/zZtxXHtVYfyx238IME6Vmf6IMEv3H9R3vzhE3un3uZ7r/xQ/toNe49sek7aguRH/vOP5K/vOD76tbP4YYSbfQhhanDnjA8jTOfZiqOO1TC7TVtwzDZKZ7QtjPYhhOXnzpkECFQnIICuzlJLBAh0U0AA3fC8CaAbngC3JzBFQADd7qUhgN44PwLo5derAHp5w0Va6GoltAC6/GwLoMtbOZMAgf4KCKD7O7dGRoBAOQEBdDmnys8SPFdOqkECCwsImxemW+mFbQmdV1HxnGBnVT6vn1f4EML158cfRjg5UcVK6PRaqojedtn9+VN/fO0v5cd929dWOs9N3ezOM8enjjeF06lv/3jPJ/NvD+w6mx9vPHr5hm6nyujHvvMV+fM/+A/+Z358xx9cmx8vun10+lYV0KnBoVRCp/F2LZAWRJd/x7YliFYBXX7OnEmAQHUCAujqLLVEgEA3BQTQDc2bALoheLclsImAALoby0IAPX2eihXQ6cxTAujSi1sAXZqq1hMF0LXyNtq4ALpRfjcnQKBhAQF0wxPg9gQINC4ggF7xFAieVwzudgS2EBA8d2N5NB08r7LieT043rt9rslZJIBONyjuCZ0qoA8euGmuPgz55OIHGD5/36dyjjde+on8mMLt5//y/5k/3n14tA+3Cujpq0YQ3d93VNNBtAro/q4tIyPQZgEBdJtnR98IEFiFgAB6FcoT9xBArxjc7QgIoDu/BgTQs6dQAD3bqM4zBNDV6wqgqzdtS4sC6LbMhH4QILBKAQH0KrXdiwCBNgoIoFcwK0LnFSC7BYE5BFQ+z4HVwKlNBs5NVDtPEpfd8zldMy14Xn99iy040jmpAjo9Prv/ZP7tVZd9MT9+75Ufyo9pX+MGlkRrb5n2fv65v/wneR/PHN+xoa/b107nj7cd2pUfH3rX6NfPncfKV0CnBsvuBZ3O33F0tJd3X77aHkjbC3r+ldZUEK0Cev65cgUBAssLCKCXN9QCAQLdFhBAr2D+BNArQHYLAnMICKDnwGrgVAF0eXQBdHmrOs4UQNehunmbAujVWa/qTgLoVUm7DwECbRAQQLdhFvSBAIEmBQTQK9AXQK8A2S0IlBAQPJdAavCUVQbPTVc6F5nnrXxO188KoCfvkz6Q8PSejXcv7gF9dvcD+Qmpevc1T393/lgF9PlvjrS38ws/ekP+4tFDF4/sjo9+zdyRjsc2XrtIBXRqQSX0iQZ/Ss2+tUro2UbFM1YdRKuAnn+OXEGAwPICAujlDbVAgEC3BQTQK5g/AfQKkN2CQAkBAXQJpAZPEUDPjy+Ant+syisE0FVqlmtLJXQ5py6dJYDu0mzpKwECiwoIoBeVcx0BAn0REEDXOJOC5xpxNU1gDgHB8xxYKzx1yIFzxrxo1fPkFNUZQF98+VfyWz310sP58aWXvD8/Hth1doWrpN23SgH0c97943lHd969PT+myufU+x0NVkCv98Ge0CtdTCqh5+deVRCtAnr+uXEFAQLLCwiglzfUAgEC3RYQQNc4fwLoGnE1TWAOAQH0HFgrPFUAPQorl/kSQC+jt/y1AujlDRdtQSX0onLtvU4A3d650TMCBJYXEEAvb6gFAgS6LSCArmH+BM81oGqSwAICgucF0FZwySqC57bt8TzJWkXlc2qvigD6xP7TeXOp4vkj19ycP77u0y/Ij1fuPpof33DlH+bHfdvXVrBKunGLq295Wd7RM8d35Md5K6AnR7nz+HyV5fPuBT15rx09q4ZOY2tTKK0CevH3cN1BtAroxefGlQQILC4ggF7czpUECPRDQABdwzwKoGtA1SSBBQQE0AugreASAfTylc9pmgTQK1iwW9xCAN2sf/HuAuh2zceivRFALyrnOgIE2iwggG7z7OgbAQKrEBBAV6gseK4QU1MEFhAQOC+AtoJLhh44r4fFe5sJntfvv2f0q8/pPaNnTq89mB9PXXYmP37uBW/dsBrS9hLvPfG4/Pkb9h5ZwWpp9y1uPHp53sG3H74mP95x9yPzY7ECOo0i7QWd9oDeeWxkvtnXvBXQqY1lKqHX+9mzimhBdLvfR7N6J4CeJeR1AgS6KCCA7uKs6TMBAlUKCKAr1BRAV4ipKQILCAigF0BbwSUC6BFyU1tvpCk+JYBeerULoJcmXEkDAuiVMNd2EwF0bbQaJkCgQQEBdIP4bk2AQCsEBNAVTIPguQJETRBYQkDwvARejZfWGTy3eY/nImmVwfN6mLy2rdTMpdB58uRiBfTZ/Sfzl//42l/Kj/Z4nk6bAujbjl6dn/Sxe67Mj5fsPpEfP/vxR+fH7cdHv2bOUwGd7jpvJXQVFdDFEfdlj+g2BNH2gi71o2rTk+oKou0BvficuJIAgcUFBNCL27mSAIF+CAigK5hHAXQFiJogsISAAHoJvBovFUCPcAXQNS6yFTctgF4x+JK3E0AvCdjw5QLohifA7QkQqFRAAF0pp8YIEOiggAC6gkkTQFeAqAkCCwgInhdAq/GSugLnLlU7T/I2GTynfmxWAf3VK0b7EKfK54MHbqpxVfSr6VtOjirPD526ND8W98V+3T1Pzp9/151PzI+n3v+I/FhmD+gkNW8F9Pp1R0d7edfxpSJ6eVWV0IsbVh1Eq4BefC5cSYDA4gIC6MXtXEmAQD8EBNAVzKMAugJETRBYQEAAvQBajZcIoDfiCqBrXGwNNS2Abgi+ots2WREtgF58EgXQi9u5kgCB9ggIoNszF3pCgEAzAgLoJdwFz0vguZTAEgKC5yXwKrq0rrA5656K5+mTdGqJvZ9Tq6kC+jM3/OqGG6Xq3Tde+omKVslwmknB9G/c+6x80O/7wJPy464jo4rpeSqgk1obK6GLM9rVymhBdDffm1UF0Sqguzn/ek2g6wIC6K7PoP4TILCsgAB6CUEB9BJ4LiWwhIAAegm8ii4VQJ8PWUfFc/EuAuiKFnDFzQigKwatuTkBdM3ANTUvgK4JVrMECKxEQAC9EmY3IUCgxQIC6AUmR/C8AJpLCFQgIHiuAHHJJgTP5wBXETinu5UNntfP33P+rzmn94xePb022gP6zPh443e9JX/8rz754vx4ye4T+fE9T3jnkqtleJc/9p2vyAe98+7t+XHH8dE8LFIBnfS6UAm92Ux3oTq6iSDaVhyL/1wQQC9u50oCBJoXEEA3Pwd6QIBAswIC6AX8BdALoLmEQAUCAugKEJdsQgB9DlAAveRi6uHlAuhzkyqA3nyBC6AXf+MLoBe3cyUBAs0LCKCbnwM9IECgWQEB9AL+AugF0FxCoAIBAXQFiEs2IYAWQC+5hHp9uQBaAD1rgQugZwlNf10AvbidKwkQaF5AAN38HOgBAQLNCgig5/AXPM+B5VQCFQkInSuCXLAZgXMzgXO6axVbb6S2iltwpOfTVhxndz+QP7V97XR+vPaqQ/nxbftuXXD19P+yG49eng/yhr1HNgz2G2780fxxcQuOdNLOY6NtUOb56upWHLPG2IZKaVtxzJqldr2+bBDtQwjbNZ96Q2AoAgLoocy0cRIgME1AAD3H2hBAz4HlVAIVCQigK4JcsBkB9Dm4VW65ke4qgF5w4a7oMgH08tAC6OUNh9aCAHpoM268BPohIIDuxzwaBQECiwsIoOewE0DPgeVUAgsKCJwXhKvoMoFzs4Fz1cFzqnqeXB7pQwjTc9MqoF/z9HfnpxSreytaap1u5s4zx/P+v/CjN+TH+448LD9uO3FBftx1ZNuG8aUPIUxPLlIBvX7t8bML2e08emah69py0SqC6lVWQtuKY/mVtWgQrQJ6eXstECAwv4AAen4zVxBos0D2nr4qIp4REU+f+N9lE51e5H3/TyPiJRFxTURkf2uZfTz85yPiDyIi++j4w3OgZL+Z/EBEfF9EPCUiLo2IL0fEZyPi9yPirePHczS51KkC6Dn4BNBzYDmVwIICAugF4Sq6TAB9DrKJiud096oqnwXQFb0xCs0IoOtx3apVAfTqzdt+RwF022dI/wgQmBRYJIgiSIBAewV+PiL+1YzuzfO+vzgifjsirtuizaMR8cqIeHsJlsdExDsi4plbnJuF2VnY/acl2qviFAF0CUXBcwkkpxBYUkDwvCTggpfXGTinLp3ee+GCvav+siZD5TKjKRs8n9pT7p8zmwXQ6/OytnEf4lQJve2y+/NTDh64qUyXB3XOLSdHlc2/ce+z8uNtd+zPj2fvHq3x7cdH85L2fi7itKESOutT16uhZy26ZcNqldCzhNv3+jxhtAro9s2fHhEYgkC5f7kNQcIYCfRD4N9HxL+cGMrXIuKT44ro9HTZ9332m8QfR8S3jC+8NyJ+PSL+KiKyv7N8UUR8+/i17FN7ssdZRfS0r0dGxPsj4vHjE+4ct3dwXAWdVUV/0/i1rML6WyPigyuYFgF0CWQBdAkkpxBYUkAAvSTggpcLoBeEq+kyAXRNsBU1K4CuCLLmZgTQNQO3sHkBdAsnRZcIENggUDaIwkaAQDcEskrkJ0bEX47/96mIyDa8myzxKfu+/6mI+JnxsG8fB8LFrTZ+IiLeND4nC6gfFxFfmUJ1Y0T8H+PXsiD6+YVzs379YkT88/E5WXD+1IgYfSR9fV8C6C1sBc/1LTwtE0gCgufVroU2Bc5tr0aue2bKhs2T/aij8jm1rwJ6/hm/7tMvyC/67McfnR/nrYCevOMy+0Jn7excYG/ovldCF2d03mB6FZXQ9oKe/3232RUC6GoctUKAQH0CZYOo+nqgZQIEViEwbwCdVThnYfPuceeyyuS/mNLRd0XEd4xfe31EvGGT866OiL/OPpsmIrKq7KwKOquALn5tj4iPRMSTxy+8LPsrz5qBBNBbAAuga159micQEQLo1S4DAfRqvbe6mwC6PXOxaE8E0IvKNXOdALoZ91XcVQC9CmX3IEBgGQEB9DJ6riXQHYF5A+gfiojfHA/vtoh49hZDfW5E/NH49Ww7jbTFxuQlk9XU/zEisvanfWUfp55t9ZF9vXdim4+6tAXQm8gKnutabtolcE5A8Fz/alhF2Dw5ill7PddZ8Vw2zF2kSrSqmSrbx8n7la14Ttdstefz+jmFvZ/T86kC+nFP+dv8qfc84Z358caj2ecvR9yw90hVFJ1v53X3jGoFbv7UN+bH4h7QaYDFvaCLe0BvBrFsJXRqc5G1riJ6+tKsuxpaJXQ1PxbKBNH2gK7GWisECMwnIICez8vZBLoqMG8AnX3w4PeNB/vaiPi5LQaeVS3fFxFr43OyADoLoie/PhAR/3D8xPdHxO9s0d4V4+rr7JRs+5CsGvtkjfAC6E1wBdA1rjhNExgLCKDrXwoC6PONFwnlqpopAXRVks23I4Bufg6q6ME8FdEC6CrE629DAF2/sTsQILCYgAB6MTdXEeiawLwBdLb/craXdPaVVTj/yYwB3xoR147P+Z6I+L2J87OfM9m+0Cmgzj4u/Y4Z7f2viBhtJhhxTUR8uEZwAfQmuALoGlecpgcvIHiubwmsOnDORrJV1XNVFc9lgttUKfzVK0b/l//Quzb+M7+KqtJZ4XWZfk6b/XkrnYvtlKl8TtecLlRAp8rn9PrZ3aOPn7j48tHHWlyyO/ts5IjXfn2261jEgV1n61vELW85Bc8f/NJj8p7efiirG4jYduKC/Jj2gE7DKFZArz9/rPxAl127s9btZj3pWiV08WfNtPdi0aI4zjKBdF1BtAro8u+JMmduFUSrgC4j6BwCBKoWEEBXLao9Au0UmCeAzn4uZPs07xgP5aqI+NyMYWXbdaRtNV4XEf924vwsSM4C5ewr+41uV/b7+oz23jex7cdLIuI/1cgqgN4EVwBd44rT9OAFBND1LQEBdIQAevb6EkDPNpp2hgB6cbs6rxRA16nbzbYF0N2cN70m0GcBAXSfZ9fYCJwTmCeA3jOuWE5XZ1tgzKpT+YWI+PHxBW+KiH89gZ9tEvjx8eO/i4hHlJiY/xIRLxqf9+qI+OUS1yx6igB6Qk7wvOgych2B6QIC5/pWR9sC5zTSFAYtUxFcVq1Y+fyZG341v/QbbvzR/JgqUNPeu8tWk5bt11bnLVvtPNn2MpXPqZ1pFdDb10b/vXzP2mgnsB+7+s/y4xD3gk77YP/ywefkBseOZ/UEEWeOj+oVplVAJ+MqKqEXXXubrfl5q6LbUBFd5i8q0s+c9B77y9f9Ss529S3Z53pHrN320NHxrlGVf/pqUyV01ifV0Iuu9vOv2yyIVgFdna+WCBAoLyCALm/lTAJdFpgngL4yIr4wMdjsN4tsL+atvrKK538zPuEtEfEjEyd/S0S8f/w4azdtrbFVe1nF8w+MT8ja/dkF8LN/aY/+tb3119MiYu9F8ci45iEHZp3b+9cF0L2fYgNsQEAAXR+6ADpCAF1+fRUrn9OVAujZhgLoWf8Unm247BkC6GUFh3m9AHqY827UBNooIIBu46zoE4HqBVYZQL85Il5VYQA960MQp2m9PiJ+uizlkANooXPZVeI8AvMJCJ7n8ypzdhOBc+rXVns9p3OKlc/FSt9UrbvzWV/KL3nw3Rv/KGhWdfJmlcOpzUd9+515m+95wjvzY/FD4g4euCl//ulv/Gf5cda9ysxH2XOmOZS9fpnzpoXOWZvTgud0v2IF9EeuuTl/6ZaT2/LjkPaCfvmdz87HfNsd2Ud5nPsqVkCv2x3f/NfMaZXQ2XWpSn/R+U7vhZOXj/boTnt57z40qtKebL+4/uetiE59rLMyukzgXLQqVkCnLXl2PzX7I8SIU+8f/czZfXjyV4OINH6V0IuuvvZeJ4Bu79zoGYGhCQighzbjxjtUgXkC6L5swaECuuRqF0CXhHIagTkFBNBzgpU4XQB9/j/dBdBbLxwBdIk3VolTBNCbIwmgI+r6UMJM3FYcJd6cM04RQC9vqAUCBKoREEBX46gVAm0XmCeAzn4unMo+yHw8qGU/hPB/i4hRWZYPIWzlOhFAt3JadKrDAoLn6iavycA5jWJW5fNklWKqPrzoZaPP3r390BUbMFJFbXpy26HRProPvWvzf5KX2d84Baxn94/2KX7N09+94Z63Hb06f/yxe7Idts5VQBarTZepiJ61p3OqwixWHG/fpEo2nXPo+l/L+5v2si6uqmmVtPMEzqnNVClbvEexAvqS3SfyU67cfTQ/vuHKP8yP+7avVbfoW9RSqqLPuvTBLz0m79kddz9yQw9TBfT6mj5xwcY1P6USOp20TEX0tPfHif2jvbs/94K35scUnn/w/8s+lmT0NWtP9EUropuavuJ+8+k9mYye+aJP5F173weelB93HRlV8af3y0W3j3q+9oXsV4DNv3YcvX/L4dURRAugq1tRk0G0PaCrc9USAQLlBQTQ5a2cSaDLAvME0Nk4PxkRTxwP+LkR8SczBn9rRFw7Pud7IuL3Js7Pfs58Jfs37fi57G8375jRXvabe9or+pqI+HCN+IP/EEIBdI2rS9ODFBBAVzftAujZlgLojUYC6NlrpuwZAuiyUs2fJ4Bufg7a3gMBdNtnSP8I9F9AAN3/OTZCApnAvAH0b0fE943pZu3BnFVK3zcRMD8+Ig4W2D8QEf9w/Nz3R8TvbDEtWbnY4fHr2Ud0Z1uCjMq66vkabAAteK5nQWl1uAKC5+Xnvg2BcxrFPJXP6ZoUAp24cvRP7LQX7fd/6+izeP/xnuy/70a84s9/OD+evfvC/JiqEdfvvTb6v+2v/5ZRJXXa13n/zec+YiFVD6eK4b37s/8rjkj7FKcPjXvjrd+ZP7/z7tEfNhUrTpfdd3erWS/uyZuqmtM1z/jQ9euX33fkYfn3P/gP/md+fOOlo4rNdM7RQxfnjzermp7sQ7HKeqv+la18Tm0UK6Cv3Tv6584Ne49sdZvOvZbWTqqezwZw+MTefBz3ntidH48dH1Xvp69pe0FPG/y2y0bVtOk9MDm3W1VFb4VZ/I8xad/zFKS/4w9SrcS598GsSuh0vzZWRBdD50mbYgV0+ln0j7559DPolo//vfyYfi6kCuhpe0FPtj2tErqOCuh0X5XQ1f0YyYJoFdDVeWqJAIHyAgLo8lbOJNBlgXkD6B+KiN8cDzirbv5HWww+q5D+o/Hrn42I0d/6bvz6qYj4mfFTvxURo9+8N/+6ISJ+ffxS1u7zaoYXQNcMrHkCQxEQQC8/0wLokWEK0gTQAujl31XztyCAPt9MAH3ORAA9/3uqTVcIoNs0G/pCYFgCAuhhzbfRDldg3gA6K3P5QvYh2WOyb4qIv5jC966I+I7xa2+IiNdvcl5WFf3piMg2nPvaOKQelXVt/MrKsz4SEWmTvpdHxE01T9vgAmiVzzWvKM0PSkDoPP90tylk3qz3syqf0zWTez+vP7c22lc1VR/+5et+JX+c9qBNVaSpovnOM8fz15/z7h/Pj9sK++cWq5of+85XrHc57U+c9nwuVuEW215lBXRxb95i9eXb9mX/bXvrr9T/F340++/SEalCumiUWknVzGm7n91uAAAgAElEQVTf38nq6nROqmAu7mNc7MmetY1/eJWuS+c98xGfz7997Nfdmx/377wnPx7YdXbWsFr9+i0nR+v30KlL8+NWFdDFgaSK6OKe0NMGnOZp8vW0vtNaLYuVqt7TGrj48mznt3N/DZDef4+68MvrTaZq6M/c8Kv5c09/4z/Lj2X3Qm9DIL1MBXSq3v93v/uifNxVVEAn3DoqoVVAl303zD5PAD3byBkECNQjIICux1WrBNomMG8AnfX/pyfC5M9ExLdNbI2RxvcTEfGm8YMvRsTjImL0yTznf70tIl42fvq2iPjfx3tDpzOzn0f/PiL+xfiJvx4H0WdqxhRA1wyseQJ9FhBAzz+7AuhzW2oIoKevHwH0/O+tZa8QQAugl9mCI60/AfSy78R6rxdA1+urdQIEpgsIoK0OAv0SuCgifnKTIf1fE8/9201ef90mz2Wb+2UfPpj2bs7KfLKPE/+riMg2asxKJq4bX5ft1Zx9+ODvb8F5SUT8j3FInZ2WlQ9lW21k23Zkr/3AxL2+Og68/3wF0yOAXgGyWxDoi4DAef6ZbHvgnEa0TOVzaqNYkfjl7O9/IqJYoXngKdl/Y41IlcApbL3j9Ggf5LRHdLG6+bpPv2B9Aq7cPfrvvdOqiWftnVzlXtDFiud10/Fe1mn8af/ZMhXQxZWWxpMqoYuvz6oInzy/WB391EtHHz1R3NM5Vc6ma1MFbap8Ts8/b3f2T5mIfdvT5y3P/z5pwxXFAPpzX8v+ebbx6wv3Z//UPLcndHr1tV+f/UFcxB8de1J+fNedo8+yLu4VnfZl3my86X3w3Ntenb+c9ocu7vtdfD8Vq6nTns+vfHj2ESSbz0t6L6W/Rvj7vziqgC67J3Sx/6uoiN6q4jn1Z9rez+mvKX7/aTfmpxb/6uJhB0fV72t3Zf+kj9h5dHb9x7StOFJfBNFteFdv3oe/+Mo7474zd2Uv/ln2xxvt7ameESDQJwEBdJ9m01gIRHx9RHxuAYhpPwsePv7AwK32Yc7+zjH7VKTsgwtnfT02It4REd+4xYnZJ/m8JCL+eFZjFb0ugK4IUjMEhiAggJ5/lgXQAmgB9PzvmyauEEALoAXQTbzzVn9PAfTqzd2RAIEIAbRVQKBfAlUH0Eknq3b+wYh4ZkRcFhEnxhXM74yIN4/3iy4recE4YL4+Ip4yrn7OyrgOjSuo35Jt9Vi2sQrOG0wAbe/nClaLJgYrIHguP/VdCZzTiMpWPqfzN9v7ef218R7Q64/3jP6pnSqE04cLpn1ni1WY6bpUwZkqbdP+zunD4bLzins+p2s++KXH5M2kfY7Tnrxp7+RiNWmxEnpyplM1aHH2p1U8r5sWKp9T9eXz930qP+WNl36i/IIan5mqkW+7Y/+Ga9N+zR+55ubSbSardMG0/qRAtut7O5eGmePEYlhdXI9prb798DUbWk0Vx1vdKr0vbj90RX5acd/vtNdzqnq//okfnntdFauttx3K/vAv4qF3bfz1uOye0FuNZ9Hq6DIVz8WfNenxV68Y7b53dv9oP/NkdPOnRjUgabzp/b/78Oj8Yl+3qoSeVQGd+lJlJbS9oOd4k25xqgC6GketECAwn4AAej4vZxMg0D8BAXT/5tSICFQuIIAuTyqAPmdV/HN4AbQAuvw7qd1nCqDLz48AOqtbqeZLAF2NowC6GketECAwn4AAej4vZxMg0D8BAXT/5tSICFQuIIAuTyqAFkCnoD1tvaECuvz7pytnCqDLz5QAWgBdfrWs5kwB9Gqc3YUAgY0CAmgrggCBoQv0PoC29cbQl7jxLyMgeJ6u17WguTiSebfeSNcvswVHauPk5Wfzb9NWAhdfnn2cQsQ820gUx5O2qPjYPVfmL6UPfytuwTFtRtPWHFttyTHrvVQMng9d/2uzLpn5etoq4S1/9835uenD7dKFl+wehVtltnZI16Q2u/6hgTPxWnRC2pKjuFVHmS5efcvL8tPSWk7XpPdNWgPpgxDn2TIltZ0+8HDXkdGH8RW3n6liK44yYy1zTvrLis3OTdvjnNh/On/5B//B/8yPaZuZtL3JvSd2588/+O5H5Mc0vq3C8mnbcczaiqPKLTjSmFVCl1kp088RQC/n52oCBBYTEEAv5uYqAgT6IyCA7s9cGgmBygUE0NNJBdDn2xT3bC1uwZGuEECXf6sKoMtbtflMAXR1syOAjhBAL7eeBNDL+bmaAIHFBATQi7m5igCB/ggIoPszl0ZCoDIBwfP5lF0PnNOI6qh8LmqlILoYFKXqxGkB9FMvPZw39dJL3p8ft6rkTMHse088Lj/3tqNX58fDJ/bmx/QhhMW+pQ/tSxXSBw/ctOGU/Te/av1x8QMLy77BiltvLFPZXbxnCjLTeB914ZfzU1758A/kR1XNZWep/eelD4ssVr2n98nb9t269CAmP9gza+zf/W72udvnfxhh8UarqIjeKmgu9qf4Qacv/s7b8lOmfcDmN9z4oxvGWRzPZpXQi1ZAp75WWQktgF5u6Qugl/NzNQECiwkIoBdzcxUBAv0REED3Zy6NhEBlAgLo8ykF0NtLry8B9IO5Vdr7WQBdeuk4cUJAAF3+V3UBtLfOPAIC6Hm0nEuAQFUC5f9frao7aocAAQLtEuhtAG3v53YtNL1pt4DAeTQ/fQmZN1tti1Y+p7a22vu5eL9iAF0Mh1KFcNoD+nMveGveRPpgt3n2sE3XpD4cOnVp/m2qEE57Qhf3Si7eK+0hfcvH/976cLaduCD/vmwldHFc29dG+9BeddkX8+MzH/H5/DitKnOenxKpcnX/znvyy+Yxm+c+zm1OIAXQH/zSYzZ04q1X/07+uI5q91QZnPZCL+4F3ZzG+XdOP1cmX0n7sJ+67Ez+dNon+/n7PpU//sL9F+XHVD3+93/xn+WPdx8e/Uej4leZSuhZe0CnNlVAt2f1CKDbMxd6QmBIAgLoIc22sRIgsJmAANq6IEAgBNCjRSCAnv5mEEDP/kEhgJ5t5IzyAgLora0E0OXXkjM3CgigrQgCBJoQEEA3oe6eBAi0SUAA3abZ0BcCKxYYevDc58A5W0rLVj1PLsdlAuivXH02b+pxT/nb/Jj2Z77+iR/OH1dRETztrZNCvGLl47TzUyV09nqqknzsO1+Rn54qome9TVNld6qATvtOpyrMOsc7q29e767AMh9kWBx1MdxO78lth3blp6YK6HTdMpXQxb+AKLZdxYykyufUVvqPQdsuuz9/Kv0Vwnue8M78cXpP7z60YzTeY6Mry+xtnaqii3tCq4SuYiZX04YAejXO7kKAwEYBAbQVQYDA0AUE0ENfAcY/aAEB9O5ez78AOkIA3eslPqjBCaCnT7cAelBvhaUHK4BemlADBAgsICCAXgDNJQQI9EqgdwG0vZ97tT4NpiaBoQXPfa90Li6TpoLn1I+0B/SJK0f/1D55+agC+sbvekt+/I17n5UfU4Vxui4FbJ/72iX5U4/9unvz4w17jyz8TrjzzPH82jtOPyw/zrNXcrr2ube9Or/2zPFRteS0Suhi5XPqdLH6cuHBuJBARQJpD/RX/PkPb7q2077nVVQrn9g/2gs97fWehpCqkNPj9Pr+m1+VPzWrD8XQOX+Prm3cyzlVQB88cFPeZvoLh/d94Emb3mOrSu8vP200jktvHX0g69oXTm2YjbIV0OmiKvaEfvC+oxWtiGE1I4Ae1nwbLYG2CAig2zIT+kGAQFMCAuim5N2XQIMCAugG8VdwawH0OWQB9AoWnFt0TkAALYDu3KKtsMMC6AoxNUWAQGkBAXRpKicSINBTgd4E0Cqfe7pCDatSgaEEz0OreE6LpMrgObU5z97P69esbcu/TRXQj/r2O/PHaf/VaYs6VScePrE3P+WZj/h8fnzlwz+QH/dtX6v0/bBZYymYy1772b95fn5K2h83nZ8qodPj4l7Pl+w+saHpK3ePqhSv3XswPy5T0V07gBsMSuDqW16Wj7dY3Z+qjxPGIpXQqUI5VSWnPeCLPwfSNjlpb/RnfOj6/LYfuebm/FisiN5qgoofBPq2596Yn57+8iG9v1/+xzfkzxf/mqE47smK6vQXDm2qgE4WKqHne9sKoOfzcjYBAtUICKCrcdQKAQLdFRBAd3fu9JzA3AIC6LnJOnWBAHr56RJAL2+ohe4ICKAv2DBZAujurN1leiqAXkbPtQQILCoggF5UznUECPRFQADdl5k0DgKbCPQ9cB5qpXNxqusIntM95qmATns/p2u//PjRd6mK8ND1v5Y/TqFXOm/P2slN379PvfRw/nxxr+hVvdnTntS/fPA5+S2PHd+14dap36nieVqF92SonTUwzz7Uqxqr+wxTIFUbp7VdrO7fefdov+P0NasSeqt9mffuvy9vJr2vX3rJ+/PH094Ps6qVJ/uVqpPTc+mvEtL+69975Yc2jKP4nk7nFVfB5Hv6uk+/IH/5nt/blx/X7nogP+48eiY/zrsHdLqXvaBX/94TQK/e3B0JEIgQQFsFBAgMXUAAPfQVYPy9FhBA93p61wcngK5nngXQ9bhqtT0CAujRf1QSQLdnTa6iJwLoVSi7BwECRQEBtDVBgMDQBTofQNv7eehL2PjP+8fNxaP9c/v4peJ546zWGTynOy1TAX1qz+if2qf3jFor7gmb7pGqF1PVYnr+2qsO5d82VQGd+pH2qP3glx6TP3Xvid35cVblcx/fg8bUXYH0gZzZCN7yd9+cD6S4ptPo0v7L6a8Vzt59Yf5ScYuKrTSK+zEXq5Jf+/Xvyi+fVgGdKo6Le7AfPHBTfl0Kz7Pv5/3rhOK+06na+jfufVbe9sfuuTI/Hj108foQ09gvun301M7jZ0fHFlRAp07aC7rc+1MAXc7JWQQIVCsggK7WU2sECHRPQADdvTnTYwJbCvS56lkAvXHqBdCr+WEggF6Ns7vUKyCAPucrgK53rbW9dQF022dI/wj0U+D/Z+9toOM8yzvvC1lSLGsUxUksf6RViBWnTQK4CckbAg6YBRrImm3ZbjGwtEnWJzRQdnv6vWXT0491C9stbDkHWjZuTlJ2ecEE9uVdXGgKLKZx4C0JoSEkaWPkENPYlp1EUSxFjqUo77nvZ67RzK155vmeeT5+c47PrXme+/N33TMa/f2f60aALmdcWRUEIBCeAAJ0eFbUhECuCZRFeEZkDt5meROedcZuDmjXAa313DyxQU5Jv9zKwaTSrXHj4WvadvgHm75sr4/319IdkN4gkDEBV4j1G851QoeZlvvNBk1zEfR6Vjfy5OkxO8xnj1zRMlyn9voaPTLnfRPoynMet+UbRx6ypeu2Vpf1o5Mb7f2+Oe9QwqFjfbYcOLk89ODJF+0TdT7rHRzQYXZDvuogQOcrHswGAlUhgABdlUizTghAwI8AAjR7AwIlIYAAXZJAhlgGAnQISBlUQYDOACpd9pQAArR3sCACdE+3YdcHR4DuOnIGhAAEhEMI2QQQgAAECitAk/uZzVt1AgjO1dsB3RCelWrY3M+u67k5KuqA1muaC7rxvOY5Cl0H9NoNz9rrmmP57Zvus893jR7rSdA1dcFX5i604z/2/Dpb+rkqezJJBoVAhgRUqP7Ut1/VcZTmPO5+jmd9PUX9xoAeCvqm4R/YObRrr+5pv7zS7uR1Lq/7m1+1twan+m05MOv51KI4oLXvgZlTsSKxanouVrt2jcgF3RklAnRqW42OIACBCARwQEeARVUIQKCUBBCgSxlWFlUFAgjQVYhy6xoRoBGgq7frWXEeCCBAiwSl4ECAzsNODTcHBOhwnKgFAQikSwABOl2e9AYBCBSPAAJ08WLGjCtOoKjCM7md42/cbgrPOsssHNDatzqh3VzQr37T922V69fdY0t1MUZ1NcYn3bllXOdmVvOhXwh0i4AK0HsffqUdcnF2oGVodT5v2zzZuH77+N3dml7ocXQdF5xxwrZxv1Uxsfdmez1ODmidBA7o0OHoWUUE6J6hZ2AIVJoAAnSlw8/iIQABEUGAZhtAoGAEEKALFrAUposA7R0IFvZr9Skgb9sFAnRWZOk37wQQoHFA532PRpkfAnQUWtSFAATSIoAAnRZJ+oEABIpKoHACNLmfi7rVmHdcAgjOcckVv11RhWcl7+aA1uuuA1pzQPet93KnHtx+R/GDxwogUCICegDnA8c32VWdnB1qWd1Ibd4+17zt5uffeemX7LVe/seR/qfR7x15i52Lzl8nv3XsiP1R3doX7LvJPndzQZtrw0e8nPWDs0teObPYNsJxHdDNnSXNB00O6M4vPgToEr05sRQIFIgAAnSBgsVUIQCBTAggQGeClU4hkB4BBOj0WBatJwTookWM+UKgnAQQoBGgy7SzEaDLFE3WAoHiEECALk6smCkEIJANAQTobLjSKwRSI4AAnRrKwnWEAF24kDFhCJSSAAI0AnSZNjYCdJmiyVogUBwCCNDFiRUzhQAEsiFQGAGa1BvZbAB6zS+BIgjPHCyYzf7phfCsK0nj8MFGXyPtP2r7peAYnZi2Te+/Ym82YOkVAhBIhcC1j+xo24+m3TA3e5l6QyenB5h+8IfX2UuHps61pXuI4mM79rRdj6bwMDd//j/9pq1ThBQcuhhScbTf7gjQqbwN0AkEIBCRAAJ0RGBUhwAESkcAAbp0IWVBZSGAAF2WSEZfBwI0AnT0XUMLCHSPAAJ0vnNAI0B3fi0gQHfvvYKRIACBZQII0OwGCECg6gQQoKu+A1h/bgggOOcmFD2bSFmEZwUY9hDCpQnvALM9V33SlnlwTvZsEzAwBApA4LaZDXaWB2a22PK81c/YcvfYg7mevR4y2De3qu08l4ZfsNf7awu2rB1Y06hXO+rd00eeDyHUOeKAbr8dEaBz/TJlchAoLQEE6NKGloVBAAIhCSBAhwRFNQhkTQABOmvC+e8fARoBOv+7lBlCQAQBGgd0kV8HCNBFjh5zh0BxCSBAFzd2zBwCEEiHQO4FaHI/pxNoeskvgTwKz+R27u5+6aXwrCsNyv18utYXGoqf81k7cHNAqwN68/onbZW7Lt4XeiwqQgACvSOgQrTOYNfosd5Nps3ImgP6pr//RXt3aWq1LftnPRlgoF5q04GTrZ0MnnyxcSEo93Ojj5lTqTFYNT2XSl84oVsxIkCnsq3oBAIQiEgAAToiMKpDAAKlI4AAXbqQsqCiEUCALlrE0p8vArSXggMBOv29RY8QyJIAAvRKugMI0FluuVT6RoBOBSOdQAACEQkgQEcERnUIQKB0BBCgSxdSFpRnAnkUmw0vHM+92TVFEJ6VTJYO6MWa5zLU/KuP7djTEhAVufLmruzNrmFUCEAgiMAtx19uq3zp8CW2nD52pi0Hp/ptGcX5rGPhgA6iXpz7CNDFiRUzhUCZCCBAlymarAUCEIhDAAE6DjXaQCAmAQTomOBK2gwB2hOeEaBLusFZFgR6RAABuhU8KThaeSBA9+iFybAQqDgBBOiKbwCWDwEISC4FaPI+szPLRiBvwjOO597tsDyIzs2rTzP3s/brlwNacz9rvYW681kFaL3et97LoTpS81JzrBv28qCSG7p3+5aRIVAkAtc+ssNO99DUubZcnB2wpTqgdS3qhNbcz805n2392aUVyx6cWeyIghQc+d8pCND5jxEzhEAZCSBAlzGqrAkCEIhCAAE6Ci3qQiAmAQTomOBK2AwBejmoCNAl3OAsCQI5IIAA3RoEHNCtPBCgc/AiZQoQqCABBOgKBp0lQwACLQQQoNkQEMiAQF4EZ5zOGQQ3ZpcIzyvBqQCtd9xUHP21BXtLndD3X7E3Jn2aQQACVSJw4+Fr7HKPzI3a8u2b7rPlH//Nz9qyf9aTAdYc9co0nM8uX5zQ+d1xCND5jQ0zg0CZCSBAlzm6rA0CEAhDAAE6DCXqQCAiAQToiMAqUB0BemWQEaArsPFZIgR6QAABuj10nNAeFwToHrwoGRICEBAEaDYBBCBQdQK5EqDJ/Vz17Vjc9edBcMbtnM/9U3bh2S/fs4mGm/NZI+QKz3o9yAG9dexII8jbRg/an980/ANbjvfX8rkBmBUEINB1Avvn++yY24daczhrag7NJ3/Z7vfZejigux6ing6IAN1T/AwOgcoSQICubOhZOAQgUCeAAM1WgEAKBBCgU4BY0i4QoFcGFgG6pJudZUEgJwQQoNsHAge0xwUBOicvVKYBgYoRQICuWMBZLgQgsIIAAjSbAgIxCCA4x4BWkSZ5E5xd7KdH+9tG4nTNcwyGfbRzPvs5nrXPsMKz1ndzQK8bnmtM78pzHrc/X3DGCVvuGj0WdurUgwAEKkbgluMvtyu+96nzbfnDb/64Ld0c0IOzrY7pZkyDM4uRqOUxB3TzAqosRiNAR9rKVIYABFIigACdEki6gQAECksAAbqwoWPivSSAAN1L+vkeGwHaPz4I0Pneu8wOAmUlgAC9MrII0EcNlG+YTC1l3fesCwIQyBcBBOh8xYPZQAAC3SeAAN195oxYYAK9FJ7J8ZzvjVNU4VmpBjmgXcdzkNu5OVp+wrPWCcr9rM7nTcMzjW7JAZ3v1wOzg0AeCUzsvdlOa+iY942P4SMvtkwTB3Qeo5b+nHBAp8+UHiEAgWACCNDBjKgBAQiUmwACdLnjy+pSJoAAnTLQEnWHAO0fTAToEm10lgKBAhNAgF4OHg5oHNAFfikzdQgUkgACdCHDxqQhAIEUCeRCgF61dm2KS6IrCKRHAME5PZZl7SnPwrNfvufmWPg5n/0cz3MTC7a55mdemlrd6K5v/Sn7s17rn23/UVsdz9pwafgF++PaDc/a8v4r9rZsF/36vOZ7NjfJ+VzWVxTrgkByAvqesXvsQdvZBftusuXglJcD3839rCOm6YDWPtPIBb1qejn/fXI6Xg8I0AjQae0l+oEABMIRQIAOx4laEIBAeQkgQJc3tqwsBQII0ClALHkXCNAI0CXf4iwPAoUjgAAdHDIEaATo4F1CDQhAIE0CCNBp0qQvCECgiAQQoIsYNeacGQEE58zQlq7jsgnPruNZA6a5njWNxvDWp+0t16XcHGB1G/bNreoYd3VMH9x+R8d6hxdn7f3x/lrp9hELggAE0iNw+X07bWcnZ4ds+bVtH7Plm/7qN22pzmcdcfBk+BzQjTYzi5EmnIYDWgfECR0JvW9lckCnw5FeIACBaAQQoKPxojYEIFA+AgjQ5YspK0pAAAE6AbyKNUWAbk2T0Rx+BOiKvRhYLgRyQgABOnogquiERoCOvk9oAQEIJCeAAJ2cIT1AAALFJtBTAZrcz8XePEWffS/FZsPuhbXDRUdYqfnnWXDWQMTJ+eyX69kN7vyGJXtpdGLalu0c0DcevsbeO3BowpaLswMd94jmkVaXIg7nSr2kWCwEUiOgKTc+9e1X2T712xeah36gno9+4GTrkOqA7pT72Z3kIA7o1OLWq44QoHtFnnEhUG0CCNDVjj+rhwAERBCg2QWVJYAAXdnQx1o4AjQCdKyNQyMIQCBzAgjQ8RHjgJbt8enREgIQgEB4AgjQ4VlREwIQKCcBBOhyxpVVtSHQS8EZt3Nxt2Sehecwjmclf7rW1xKEuU3ex2DN7bw0MW+f9016uVMXa15u1A+8+Qst7T575Ar7/K6L960IqjqgHzi+yd7TPKyuE1qdzyM1b8yPXHqnLbcPeSI3DwhAAAJ+BK59ZIe9dWJu+VtE08fO9N6/6nnnXeez9uXngNb7YZzQOKCLvzdxQBc/hqwAAkUkgABdxKgxZwhAIE0CCNBp0qSvXBNAgM51eHI7OQRoBOjcbk4mBoEKEkCATjfoOKBxQKe7o+gNAhDwI4AAzd6AAASqTgABuuo7oELrR4CuULBTXCoCNAJ0ituJriAAgYQEEKATAnSaI0AjQKe7o+gNAhBAgGYPQAACEGhPoCcCNIcPsh27QQDBuRuUyzVGnsXmZtJhU2+4aTdMH3ro4Hdv+XPb5eHFWVve+vTVttz78CtteXD7HbbU3Kq7xx4MDLam4DgyN9q2bvNX5k2FdcNztl67dB6Bg1EBAhAoNYH9817aoK+evNSW9z51vi31fURT/JhrS1Or7T1NvaFg9PDBxnOfQwj1fpgUHI26PTiMcNW0956ZxaNKQjQpOLLYQfQJAQgEEcABHUSI+xCAQNkJIECXPcIVXh8CdIWDH3PpCNAI0DG3Ds0gAIGUCSBArwSKAJ3OJkOATocjvUAAAtEIIEBH40VtCECgfAQQoMsX08qtqJdCs8JOcshgVNFzYOZU5WKc1YKjss9qHmH7Det81v7aOaD18MG5iQVb7bEde1qGV9FHLwYdDKgOalP/K3MX2mYTg8dt6ddWndI6xrbRg/bHXaPHwqKgHgQgUBEC+p70wR9eZ1esDmg9eNBccw8fVDQ4oMNvEhzQ4VlREwIQgEAcAgjQcajRBgIQKBMBBOgyRbOia0GArmjgU1g2AjQCdArbiC4gAIEMCSBAL8PFAZ3ORsMBnQ5HeoEABKIRQICOxovaEIBA+Qh0VYAm93P5NlAvVlQkwTkvAieuaW+n5iUeYV83UR3P2m+n3M9aZ2HE+2l+w5ItRyembfmRS++0ZZDzOewa2tVTQWny9Ji9jfM5CU3aQqAaBDQf/ROnzrILPnBoorFwzQGtFzQXdJYOaB1rsIu5oLMUoHU9VXBCI0BX4z2DVUIgbwQQoPMWEeYDAQh0mwACdLeJM15iAgjQ0REiQHvMEKCX9w4CdPTXES0gAIHeEUCAFkGATmf/IUCnw5FeIACBaAQQoKPxojYEIFA+AgjQ5YtpKVaUB5G5GWTYHM9FEzh1jWUVqIsWj7iOZ41jO+dz495I68deV4C+8BX/bKvedfG+UryHsAgIQKDcBK59ZEdjgY9ObrQ/ay5oveE6oQdOtjIZPPliW0iDs943Q8I8uumA1vlkKUTjgA4TdepAAAIQiE4AATo6M1pAAALlIoAAXa54lmY1CNDdDSUCdHd5+42GAJ2PODnARCQAACAASURBVDALCEAg/wQQoLOJEQJ0NlzpFQIQgAACNHsAAhCoOgEE6KrvgJysv+iCc5BwGNUhlZOwNKaRd4G6aE5nBRu0b8Lug07O58ZYPg7ouYkFW+WxHXvCDkc9CEAAArkisGX/DXY+i7MDLfPqr3nvb5ojeuhYn32uTmg/B7R2koUTOo3fpzigk20/UnAk40drCEAgHgEE6HjcaAUBCJSHAAJ0eWJZ6JUgQOc7fGn8wZzlChGgPVGl0+M0AnQQIu5DAAIFJYAAnV7gcECnx5KeIAABCDQTQIBmP0AAAlUn0BUBetXatVXnzPrrBPImNLuBiZrrefa8QdvF3CbvI4W6qmpHXwiMedFd0X4LTEusLqqo7HJJy+XcUVyuJReg12541g6xbnjOlnu2fMaW4/21wL1MBQhAAAK9JKDpODSHvft8/7z3Hvn+W29u+V2tcw5yQpt6Yd3QYX+3J/ldiQM62W7DAZ2MH60hAIF4BBCg43GjFQQgUB4CCNDliWUhVoIAvRymsH+kFiKwTZNM8kd181oRoMNHPo0UHAjQ4XlTEwIQyBcBBOj04oEDOj2W9AQBCECgmQACNPsBAhCoOgEE6KrvgIzWn3eh2Sw7rNvZ1HXFUHW1qvCn6Q3Gfu6wJXr88+O2dF1V7RxUZRWiM9paue22G05nd/FhhGdt45eCY6H2oq2yWC/71p+yzw9uv6NlOHUQbh9aym0MmBgEIFAdAvqeZFY8eXrMLnzX6LG2AC6/b6e9PvfA2bYcmG391lIYB7R2nJYTOsl/1mbpgNZ1llmIxgFdnfcJVgqBPBFAgM5TNJgLBCDQCwII0L2gXoExEaARoCuwzVuWiABdtYizXghAoJcEEKCzpY8AnS1feocABKpHAAG6ejFnxRCAQCsBBGh2RCICRRCadYFRHM/axi8NhCs2zm5cZZvMbnvOlmc8sMaWmhO6k7vKdVPhiE60JTNv3Auh2V1UFOeztg1yQDfqrV+0Pz62Y48t9avtb990n33u5zDMHDwDQAACEEhIYGKvlwN66JiXE1p/R2u3UZzQjTaznb8V4vc7HQd0wmAmaI4DOgE8mkIAArEJIEDHRkdDCECgJAQQoEsSyF4tAwHaI48A3asd2P1xEaDbf8W9+5FgRAhAAALRCCBAh+eFAzo8K2pCAAIQCEMAAToMJepAAAJlJpCpAL1q7doys6vM2ookMrcLShzns/YT1gE9fZHngJ7f4DmhloZfaLs/zvqHgRXXF0a8S8NHvFy86ojGCd29l1geROUwq43qfHZdz81j6L5r7HUnF7Tu4f7agq2ybfOkLW8fvzvMVKkDAQhAIHcEXAFaJ5iGE9pdbNhvN8VxQpMDOtnWwgGdjB+tIQCBeAQQoONxoxUEIFAeAgjQ5YllZitBgF6J1hUsEaAz235d6RgBWsQ9jBABuitbj0EgAIEuEkCADg8bB3R4VtSEAAQgEIYAAnQYStSBAATKTAABuszRjbi2ogvNutwkjmftw8/5rPddwVKdqeo4fW6j52ZerLtKX3v1Q/b5N7/yskZUTtdz7Q5O9dtra456H0s0B6XrnnLDWUWHdFGE4ogvvcDqUZ3PjX064v9RN6wDWvu6aOKo/fGui/cFzpcKEIAABPJE4JbjL7fT+fTXX2PL/lnvvXGgXupcXSd0lDXoe+r3f+XPbbPLdr/PlrWj3jei0swF3Q0HtK69jEI0DugoO5u6EIBAWgQQoNMiST8QgEBRCSBAFzVyGcwbAXoZKgJ0BhsshS4RoKNBTCMFh46IAB2NPbUhAIH8EECAjh8LBOj47GgJAQhAoJkAAjT7AQIQqDqBTARocj/ne1uVRWh2KXfD+axjBjmgXXfp3ISXR/ff/l//X2Pa9z51vv35ib8dt6U6r9QBrRWDnND53m3MLgmBuM7nxj5t44B296bW9UvBoffXbnjW/nj/FXuTLIm2EIAABLpGQIXnvQ+/0o65NLXaluqA1omk4YTW91b9fX/7G26z3f/27/+SLf3Od8hrDmhlgwDdte3KQBCAQMkJIECXPMAsDwIQCCSAAB2IqHwVEKD9YxrkfNaWCNDle13kcUUI0HmMCnOCAASKQgABOnmkEKCTM6QHCEAAAoYAAjT7AAIQqDoBBOiS7YCyisvtwpSG49ntN6kA3RCo685TdUTNb1iyt77+c3/aGPL1n/8N+/PQsT5b+jmgtUHRndCumKrpIVzHd1nWm+StJQvhWecTlPtZ67mHEI7U5u2tdcNztrzynMdt+Z6zv9VY6nh/LcmyaQsBCEAgFQL7573fq391wsv5fODQhC3VAa2DBDmhmyfj5of2ey9dmvDeKxdnB2w5POmVax9tnwsaB3QqIY/UCTmgI+GiMgQgkBIBBOiUQNINBCBQWAII0IUNXfuJI0AnCygCdDJ+nVojQIdniwAdnhU1IQABCLgEEKDT2xM4oNNjSU8QgEC1CSBAVzv+rB4CEBBBgC7ZLkCAThZQBOhk/BCg0+GHAJ0OR3qBAASqSQABOr24I0Cnx5KeIACBahNAgK52/Fk9BCCAAF3YPVAlodkNUtqpN8KKzs3z8MsB7c51bpP3UUNTcIxOTK/Yc3MPnG2vrTnq1fVLSaENi5KKw09E1dQbz27x0pLo48yD3lemg9Zv68y2ti3sC9mZeFLhWbtTxs3d+x0+qHtT6/atP9UWp6bg2Dp2xN6/ft09ttw+VM5YlGVPsQ4IQEDk8vt2WgzTx85si+OxHXvs9Ym9N9vSTc1hrrkHFWpH7gGu+h56cPsdtsqW/TfY8uwvD3m/4+q/vwZnFlvmEiUVx6ppLxVSNx9lEqJJwdHNncNYEICAEkCAZi9AAAJVJ4ADuqA7AAE6vcAhQKfHsrknBOjoXBGgozOjBQQgAIEgAgjQQYSC7yNABzOiBgQgAIFOBBCg2R8QgEDVCaQqQK9au7bqPDNbf1UF57Tdzu0CFEeA1n7UCe0nHD5zkVfz1W/6vi1vH7+7MYVrH9lhf9bD3P761mvs8zAO4OZ15MUNHCSeqitXnbg/+06Pxae/7h0SFfYwxnYxzAuDuG8AQezC9us6n9u5nl233uTOT7TtXvene/Oui/eFnQ71IAABCOSCgL6fHZo6t2U++s2O+6/Ya6/fcvzlttw99qAt1RFtfm7nijbXT6/3nMy3v+E2W7rfCrltZoO9fusfv82WOKB7vyVwQPc+BswAAlUkgABdxaiz5jITMK/pzSJyuYhc1vRvfdOiw77urTAbAdZbRSTMX+WrRORdIvIOEXmFiIyJyDMi8gMR+YKImO8AmufdeiBAd4t0wnEQoBMC7NAcATodtkEiKgK0P+cgdmEjhAAdlhT1IACBKhFAgE4ebRzQyRnSAwQgUG0CYYWoalNi9RAoDoEPi8ivBUw37Os+CwH6fBG50xgeO8zRJNd8t4h8vUvYEaC7BDrsMFUVml0+eXc+63z9HNAqBD638UVbdWli3pY7L/lOY6l7H36l/blv0ssLqfklB056VYrghI4inLoC9NzEgl3nRRNHbfno5EaPx5z5fzqRc+8P+3a9vHuK5oSOwi/Me0gnAVqdz429W3ftae5TvX54cdb+eOvTV9vyiVNn2fK81d7/jaozMMx8qAMBCEAgDwRuPOx9w+jI3KgtNw3PtEzLL6e9pu4wlWcmW7/ltzT8gu3DdT6ri1q/3eOeb4ADuvc7Agd072PADCBQRQLR/7KpIiXWDIHiEPgzEfmVpuk+LyIP1R3Rejns675ZgP4lETkegOFbIjLVoY75zp85san+hXw5LCJ/KSIH6y5o44q+qt7enCzyehG5twvoEaC7ADnKEAjQHi0EaARoBOgo7xxeXQTo6MxoAQEIlJ8AAnTyGOOATs6QHiAAgWoTCCtEVZsSq4dAcQi8R0QuEZHv1v89LCImMZtnQfQeYV/3zQL0BSLyw4QYTGK4f1fvwwjR14nIs868Pioi/75+zQjnW40Ol3DcoOYI0EGEMrqP0NwKthuCsxvKJKk3tC/XAe26fNV1qjki1e1r2qvjd3Cq33bnOqB1jKhO6OZ1pu0IjuPYdZnMb1iyU1T3mDLR3MKac1NdYy3rOdn8dh784kx7/cEj+teIwy7seH7Cc7PrebFWd+PXXXvqfN4/32eHcfOW6nV3Dm69sHOkHgQgAIFeEdA8zBODnp8kzvvYlv03tJ3+ts2T9rqe8aD1znhgjfe73flWEw7oXu2C5XFxQPc+BswAAlUkEFaIqiIb1gyBMhHotQC9RUT+0XyzXESMK9u4oI0D2n0YFep+EfFOQBExn3T/KuNAIEBnDNivewToVjII0AjQCNDx34wQoOOzoyUEIFB+AgjQyWOMAzo5Q3qAAASqTQAButrxZ/XVIdBrAfp3ReQP67j/p4j8Qgf0u+qpOUyVr4jIT2ccplQE6FVrW/PiZTznwnSPyBwcqqIKz7oydUDPbvTyFutjYcT7Sd2+fetP2ecHt9/RqKNO3/5Z7+OIOqC1grqm/CjGcUZHdQQnce2qKDr2c97/tx2aMpmIWhk0r01dY345sZvrxlm7aR91/cE72L9GEnZhx3WFZ22nucdf+uofNbras+Uz9uffO/IWW6pbL+xY1IMABCBQNQIqXJt1H5gxfhKRB45vsuW6YZMxT0T/81TZXLDvJvuj++2m4SPenyN+DuhmtgMz3meGoMeqaW8O3XyUQYjGAd3NHcNYEICAEkCAZi9AoBoEei1Am/zQr6qjfqeIeCpA+4c5hcscRGgeJn3ImUbDyjBMCNAZwkWADoaLAC2CAO3tEwTo4NeLWwMBOjozWkAAAhAISwABeiUpBOiwu4d6EIAABFoJIECzIyBQDQJJBWjjRP4JEVlvzniqH0hoDgj8goh8LiBPs3mfMbmea3XUE8YIGIDdWNZ+rF7nChH5ToZhQoBOES6Cc3iYvRCedXZp5H7WvtQBffxyL4/u0oT3/0UjNa+8btykol9+3PvU+Y0nmgO6b85zTw8d8/pwH0FO6DDU4zqGw/TdYDHS+rFKXeBzEwu2ipvrWQ+FOnDIvC2KLE2ttqWfIG/u+bFIur4kzuhuOJ3dOPgJz8pccz+3c0CP9+uvoyjRpS4EIAABCBgCKko/9vw6C2T32IO21OsfP/g6+3xmsvXbgfpNqA13nmHvD84Yn0n7Bw7obPcaDuhs+dI7BCDQngACNDsDAtUgkFSA7kTpURF5VweR2AjJ+h1oc6DgkIh4aoz/4+9E5Jr67XeLyKcyDBMCdIpwEaDDw0SAXj6EEAEaATr8K8eriQAdlRj1IQABCKRDAAF6Jh2QPewFAbqH8BkaAhUmgABd4eCz9EoRiCtAbxWRr4qIcTv/cz0lhkmR8VoR+VfGqFenaBK1vUFEvtmGqjlQ8Hv160+LyDkhyP8vEXlbvd77ReTjIdq4VcwBhu2P626t+VMiMnqWnCtXvGR7jGG8JlXNAY3gHH3L9FJ41tmm4YBW57O6X1UQnN32nB1G3bw6pjqf9lz1yRXQJk+P2Wt/8jnvZe/mgtYGSZzQrjN2zdHsPgLpWDpvzYN94SvM2+hyvszL79tpn08fM5mGRFSIj+OA9tuJSZ3R0Xd4Ni38BOfGnq7nHG88r3m/9k6vX3bYPbZjTzaTo1cIQAACEAgkcO0jO2yd5z52ni1xQAciy6wCAnRmaOkYAhDoQCC7v77ADgEI5IlAHAH61XVX8/M+CzEpOUz6jZfV7x8TkQtFxD0NxPRzT73OE02pNTrxMY5n46o2jw+IyAdjwPx9c9ZU2HYI0GFJtdZDgI7ODQEaAVoPbEKADv/6QYAOz4qaEIAABPJIAAE6P1FBgM5PLJgJBKpEAAG6StFmrVUmEEeADsNrg4iYxG/n1iv/hoh82GmYVID+HRH5UJjJOHVwQMeAFtQEwTmI0Mr7eRCc3Vll6YDWsVwX8PNbPWf017Z9rDGdW5++2v689+FX2tLNgawVozqi3bFNP5oTWHNU902abEDLbusk7uoVfB037uBrnrJV7r9iry3dPJknZ725LM4O2NJ1Qjf3ryzSmm9eHdJBgnMQc433Yt0Jbeq7DvTor2ZaQAACEIBAEAEVmn/wPe84Fz3fYfiI9+eInjlQVAe0rr/IhxEiQAftYu5DAAJZEECAzoIqfUIgfwSyEqDNSm8Rkf9cX7LJ3eydPLL86FUKjrBRIAd0WFIiggAdAVa9KgK0BwIBGgE6yqsHAToKLepCAAIQyA8BBOj8xMJvJgjQ+Y8RM4RAGQkgQJcxqqwJAisJZClANzucT4iIl8x1+fHjInJYtbiyHUJY9tzPCM7x307KKjwrETcHdOP6SOtHCzf3sjqQTf3/eNnf2GYf+u6bbenmjdZcyG4U1NW6NGzONRUZnNJ09P7x0nE3r3/SVnKdWdoyibPYdV6rC1fzEG9/xT/aYW4fv9uWNx72zlo9MjdqyxNzw7ZUR7SfI9zUSeqE1rmGWW+WLumoQrMb4XZud1OnnQNa98tFE0dtN5oKJf6rnJYQgAAEqktg/3yfXfz2oSVb6rd7do2arHwiF+y7yZZn/YP37R79XYIDuvd7BgG69zFgBhCoIgEE6CpGnTVXkUCWAvQWEXm0DnXBfL50AJv3mWdFpFa/PiEihwKC8KOmXNFX1HNRZxW3RA5oBOiswlL8fhGgvRgiQC8fhIcAvfJ1jQBd/Pc6VgABCFSTAAL0TGEDjwBd2NAxcQgUmgACdKHDx+QhEJpAlgK0SeL6zfpMjovI+jaz+paIvKp+/Z0i8pkOM99oDIH1+8beaLKpzodeafSKCNBNzHA8R99Abos8Cs86xzRzP2ufp2ueA8rvMbfJ+6ihjtSff+uBFVXfOPKQvfZrD/28LaePndlSp79m/m9rOUeyPh+peW8NM5NrbdnOMa1uac3/qy5jt42bZzqMM9iuy8n33LxWXYTOYXLnJyJtsC37TSr75XWbn9W9++ikeatcdn/75cn2G1Dj8dJXm//vE/nhN82XVZad1fbnk5Gm29XKfs5nnUQnB7TuH3XDX3nO47bZ7jFzpAEPCEAAAhAIQ0BTbbgH6+rv19de7f1uf/jj3nnlYZzPOu7AzKkwU5BV0+7Z56GapVKJHNCpYKQTCECgQgQQoCsUbJZaaQJZCtAfEJE/qtM13yt/bRvSvysif1i//j9E5Bc7RGOXiPxl/f5XReRNGUcOAboJMAJ08t2GAN3KEAFaBAE6+evK7QEBOn2m9AgBCEAgCgEEaBzQUfYLdSEAAQggQLMHIFANAlkJ0Cbf8/dFZF0d42+JyH9tg/QiEXlERIxV8nkRMWk7PNtd68Mkcr1fRMzBheZxo4jckXGIKitAIzanu7PyLDzrSrNwQGvffk5oTbHw3Vv+3FbVnJDN9DU1xbbRg/byZ4+YzDsie7Z4X5YY79cMPl4rN8/k5fftbAmm66A2N9duMJmAlg8C1D+c1fnr7oaojmLTXl23bl9uzmqdy7phz7m1adj7I1ZzQ2v7W457b4X3PnV+o0t1minHoPzXug7XEaz5kB/bscf2PbH3ZlsOHVvpaM+TEzqs8KzAlL15rmt2HdDK//p199hmms/UjSPPIQABCFSZgP5O2vvwKy2GxVkvt7P7O/y/3fGv7XX93VE76p3XoI/BmcVAjDigAxElqkAKjkT4aAwBCMQkgAAdExzNIFAwAlEF6F8RkftExPtrvP3jQhH5nIhsrd+eqgvLfl/avl1EvO+Ti5jv4P/Lem5o7d28H/2ZiPyH+gVzWpdRX4I/pSYLBgJ0Mn60rhNAgG6figMBetkBrQIoAnT8tw0E6PjsaAkBCEAgCQEE6FZ6pOBIsptoCwEIVJEAAnQVo86ay0zgLBH5jTYL/E9N1zRdRnO1W5w2XxCRnxGRx0TEpMEwLucTdTF4Qz3NhrnvWR9ETKK2nxYRk4LD72Fc0iZXtBGuzcMk3TSpNn5Qd1C/qylP9HMi8i9E5O+7EKzIAnRRDx7E8ZzebiqC2Ny82iydzzpO1FzQzfMb3vq0fXpydsiW2zZP2vKB45tsqU5hdf8eXpy119UZrc9vOvgOe13zPJufrxt/2F574pR5e1x2Gd94+Br7fP/3ftKWfXOrWjaIisV6vV1+6aAd1ey+NXVdB67msN465qW9Vwf4rtFjQV2Lur7V7e3nhHbd17e/4Tbbt5/L9ydue29j7Lh5sQMnH6NCkPCsXbbL/az3+tZ7OUV3XvIdW2ru8cnT5ss8IhOD5hgDHNAxwkMTCECgQgT09+c3v+LldtaH/s5Q5/PgSc//ormftR4O6N5vFhzQvY8BM4BAFQkgQFcx6qy5zAReWheNo67RfS9QATpMP+aEketFxPuLvvPjAhG5U0S87+61fxjl5d0i8rWgzlK6jwCdEsgqdYMAvTLaCNArmSBAp/eugACdHkt6ggAEIJCEAAK0Rw8HdJJdRFsIQKCKBBCgqxh11lxmAmkJ0BN1l/NVIvJTImLsYeeIyJp62ownROTbIvL/iMiXjbEvAlRjMzQCs0na+oq6+9kkQDWWRyN83yoi0xH6S1q19AI0zuekW2S5fdGEZ515HhzQmoqjnZDo51pVx7CuQ1NXqGPYzZmsTuhbn766EbQLzjBf3hBxXcX6B/SBQ+btbvmxef2T9om6rbfs9zIHLU2ttmUUJ7TrPtZRNAex64B219Np5+6f91Ke/NWJ19gyyMntOp/d/NKHps5tWWfzWv3yYXcjN3RY4bmx12ue464de8137XJ1HfXpvWPQEwQgAIFiEmj3vugKz36OZ12x63xuXC9JDmhdTxGFaBzQxXxdMmsIFJ0AAnTRI8j8IQCBpAQQoJMSrFB7BGj/YAc5oBGgl9khQId/00CADs+KmhCAAATSIoAAHZ4kAnR4VtSEAASqTQAButrxZ/UQgIAIAjS7IDQBBGgEaBzQy3sAB3Totw4qQgACECgUAQTo8OFCgA7PipoQgEC1CSBAVzv+rB4CECihAE3KjfS3dVGFZyWRJAXH6dH+UEDDOqCbO3PdrZqKQ+u4aRTUOeymyQg1wXolN03Hlw5fYu+4Bx1e+8gOe11TUyzOemeuuocVdhrbTSGidTWViI65adhkIRK5ft09tvQ7ILDdWH7z1LrK7OD2O1qaawoOXb8eZti8Plds70YqjqiO58Ye90m9oes39VwGUfYNdSEAAQiUkcBtM+ZscZEDM1tsqYf/6qHAmn7K3NPfCW7qDeWihw42ns+2z9BXlkMIdZ0I0GV8ZbAmCEAgCwII0FlQpU8IQKBIBErngEaATn/7IUAHM0WAXskIATp437g1EKCjM6MFBCAAgbgEEKDjkltuhwCdnCE9QAAC1SCAAF2NOLNKCEDAn0BpBGiE5/S3edGFZyVSFAd0Y751N6s+Vyd03/pT9tLXtn3MluP9NVvqH9BvGv5By/UwO0KdwE+cOstWdw8CvPw+c16qiDqEO/XZ7LY19dQ17V7fttmcubr82DZ60D5xD0oMM3+t43eooh50eN34w7bq7rEH23arTupHJzc27g9OdXa/p+GIjis4++2V0+sX7S2/AwejMKUuBCAAgaoQ8Ps2TfPvgbDOZ2XmHkIYxvmsbQdmvN/3QY9V03NBVTK/jwCdOWIGgAAESkIAAbokgWQZEIBAbAII0LHRlb8hArRIN1Nw+ImKCNDBrzUEaI8RAnTwXqEGBCAAAZcAAnT8PYEAHZ8dLSEAgWoRQICuVrxZLQQgsJJAaAF61dq1ueKH4zm7cCA8hxeeNQpxUnA0BOeR1li6uaAbY9TdrRdNHG1poDmU1UmsTmhTSV3SUXeLewCTOqE1L6b2pw5j8/z+K/bay1rXHdPNM93ukKeo89T6KkBr/k697uaZdhl14rNl/w22G80BGnQAo58jOu6aOrULyheOAzoL6vQJAQiUlYD7O2Rm0vvM2/y+H9YB7TqflRkO6Pzsnm8/u0+mF+1nqW+YoyfyMzNmAgEIlJkAAnSZo8vaIACBMAQQoMNQqlgdBGgEaARoEQToir3xsVwIQKCyBBCg44ceB3R8drSEAASqRQABulrxZrUQgMBKAoUToHE+Z7eNyyI8K6Fu5H52o+HnhD49EvyRQ/MB+zmg3VQc6j5Wl++V5zxup+OX5zjJztGvJ5+YG27pRnMrN4+rf8hrxSNzo/ZHdWpfv+4e+3z70FKSKbW01VzWelFzWrsDRMk37ea/7ptb1Xa+mpvbdUqn6Yj22xM6Id0bevCjuuTvunhfaozpCAIQgEBVCFyw7ya71Dg5oKvmgNY9USQhGgd0VV7JrBMC+SIQ/NdgvubLbCAAAQikTQABOm2iBe4PAXo5eGFzP7vhRoAWQYD2Pl4iQBf4zZCpQwAClSaAAB09/AjQ0ZnRAgIQqBYBBOhqxZvVQgACKwkURoDG+Zzd9i2b8Kyk4jig4wrPOmYaAnRj/rUXW4LuulzXbnjW3ndzK2e3U1aKy+etfqYxnJ/zev98n60zeXrMlhODx22ZpgPaTRnijrlr9JgdM0reaa37hgPvb0G6ef2T9rnrLlbBQp3SQTmj04iT7gntSx3Q/bUFe0nnan5++6b77DVlkcb49AEBCECgjASiCNC6/sGTrb+zXSd0UA7ogZlTkVGump6L3CarBgjQWZGlXwhAoCwEEKDLEknWAQEIxCWAAB2XXInaIUAvBxMBuvPGdt3NCNDLvBCgS/SmyFIgAIFKE0CAjh5+BOjozGgBAQhUiwACdLXizWohAIGVBHIvQON8zm7bIjx7bJOKzs0RysIB7TqfdTzN85tlbmUdS93Atz59dcuGvOCME43neXTWRnE8u680bXvTwXe03PLLq+weWqiNsnBCu85nHauTA/p3XvolWy1N53l27070DAEIQKB3BDoJ0DqrgZOt88MBPdO7gEUcmRzQEYFRHQIQSIUAAnQqGOkEAhAoMAEE6AIHL+nUEaA9ggjQwTsJAXqZEQJ08H6hBgQgAIEiE0CAjh49HNDRmdECAhCoFgEEeqUwTwAAIABJREFU6GrFm9VCAAIrCQQK0KvWru0aN9zO3UFdVuFZ6UXN/ZwXAbox/xHvp/kNSy0bwnW3bts8ae/fPn53dzZOmxzKKkybCYz317o2j24OdMvxl7cM5+a61rQkBw5N2HqLswO21FzQ2jgNJ7Sf81nH6Fvv5RAdqc3b8v4r9nYTFWNBAAIQKCSB22Y22Hl//ODrbDl97MwV7+P6Hu53wKw6otUJTQ7o/G4FHND5jQ0zg0CZCSBAlzm6rA0CEAhDAAE6DKWS1UGAbg0oAnT4De6mtECAXj6YEQE6/D6iJgQgAIE8EUCATh4NHNDJGdIDBCBQbgII0OWOL6uDAASCCeRCgMb5HByoNGqUXXhWRmEd0GkKzzq2mwP69Ej4jxoLdefzQu1F293p9Yu2XLvhWVuenB2ypbpbrxt/2D53Hblp7BX6WCawf76vBYdfDuVrH9lh6z06ubGlfhIndJDjWQdSd7zula1jR+ytbrrj2TMQgAAEikpA3+c/+MPr7BIOTZ1ry6Wp1Y0l+X2LRd+nb/tXt9q6v/rhm21ZO/pCC47BGe93ut9jYMb7BkuUx6rpuSjVM62LAJ0pXjqHAARKQCD8X4UlWCxLgAAEINCGAAJ0hbYFAnRrsBGgK7T5EywVAToBPJpCAAIQKAABBOjkQUKATs6QHiAAgXITQIAud3xZHQQgEEygpwI0zufgAKVRA+E5e+FZR0jTAT289WnbrebxdQ8CxPmcxqsj/T4uv2+n7VQd6zqCX27oJDNw84If3H5Hku5oCwEIQKCSBFSA/urJS+369ferfrPFXNNvt7jfatH34cd27LFtX/bR99ly+Ij3bSbNBV12B7RunCII0eSAruTLnEVDoOcEEKB7HgImAAEI9JgAAnSPA9CN4RGgWyln4XzWERCgu7Gj8z0GAnS+48PsIAABCLgEEKDT2xMI0OmxpCcIQKBcBBCgyxVPVgMBCEQn0BMBGudz9EDFaVEV4VnZ5Cn3c0OQDpEDWnM/N9ZRzwGteSVfe/VD9pbm89U/lCdPj9nru0aPxdketMmIwI2Hr2np+fp199jnmlvUzRFt7rmOuqCpqeNO6/XXFuyPm9c/acu7Lt4X1AX3IQABCEAgAgG//1zcc9UnbS/u+QBX/fZ77fUgB3Sc3M867TzlgNY5IUBH2FRUhQAEKkUAAbpS4WaxEIBAGwII0CXeFgjQ7YObhQPadT7ryGEOIUSALteLEAG6XPFkNRCAAAQMAQTocPsAATocJ2pBAALVI4AAXb2Ys2IIQKCVAAJ0yXZE1URnE75eOp8bQnOtr2UnJRGetSN1QPetP9XSt7pcNw3P2OvbRg/aEid0Pl7M6lB33XC3HH+5neDeh1/ZmKjmhY47c3U+a3vdG1ee87i9RJ7wuGRpBwEIQKCVgL6HP3HqLHtDv5XkcoqaAxoHdPd3Gjmgu8+cESEAAREEaHYBBCBQdQII0CXbAQjQ/gHNwvmso8XJ/eznfNY+EaCL+eJEgC5m3Jg1BCAAgU4EEKDD7Q8c0OE4UQsCEKgeAQTo6sWcFUMAAq0EfAXoVWvXps6K3M+pI210WEXhWRcf5IDOUngOK0C7YnPzTlio53x2d4cK0JrvV92uI7V5W3Xd8Jwt92z5jC3H+2vZbTB6TkxAU3M8cHxTo6+Ts0P256hOaNf5rB2SAzpxmOgAAhCAQEcCt81ssPf1W0fXPrLDPv/hN3/clmuOehLD4MkXvXJ2yStnFtv2iwO6+xsOB3T3mTMiBCCAA5o9AAEIQAABuiR7AAHaP5AI0CXZ5AVfBgJ0wQPI9CEAAQiICAJ0522AA5qXCQQgAIH2BHBAszMgAIGqE0CALskOQIBGgMYBne8XMwJ0vuPD7CAAAQiEIYAAjQAdZp9QBwIQgIBLAAGaPQEBCFSdQFcEaFJvZLfNEJ7LJzzrisKm4NAD595z9rdsU4To7F5vafSsX9c2fZ2YG7Zdhk3F4Zd6Q9OybB07YvvzOxwrjfnTBwQgAAEIrCSwZf8N9mLtwBqvPPpCSyVScORn15CCIz+xYCYQqBIBBOgqRZu1QgAC7QggQBd8XyBA+wewqKk3dEUI0AV/cfpMHwG6nHFlVRCAQLUJIEB78ScFR7VfB6weAhDwJ4AAze6AAASqTiBTARrnc3bbC+E5n8Jzp8MGzYz9DhxsXo0rPOs9db/qQXObhmfsrfNWP2PLN448ZMvtQ96BRzzySUC/vm1m5x5idWjq3EiTdg+kvOvifZHaUxkCEIAABJIR0P9U1G8jfeXD22yHQYcP6qgcQpiMf5zWOKDjUKMNBCCQlAACdFKCtIcABIpOAAG6oBFEgPYPXC+dzwjQBX1BdXHaCNBdhM1QEIAABDImgADdChgHdMYbju4hAIHCEkCALmzomDgEIJASgUwEaJzPKUWnTTcIz/kSnnU2z1zUOi91MevV/tngjxx+KTe0j22bJ+2P6njW6+R+zu711q2e2x1QGGXsdcNztro68HaPPRilOXUhAAEIQKANgf3zfY2rXz15qf3Z7/31st3vs/cHT77olbPet5GyyP2sk1o17b335/GRZyEaB3QedwxzgkD5CQT/NVh+BqwQAhCoNgEE6ILFHwHaP2C9cD7rbBCgC/ZCytl0EaBzFhCmAwEIQEBEEKDjbwME6PjsaAkBCJSTAAJ0OePKqiAAgfAEUhWgcT6HBx+1ZlWF54XR1YGoshSeT9eW3U/tJnJ6xPso8dxGz/G0NDFvy4Pb77ClHkq0NOW/jqXhF2xdzfGsTucHjm9qGXLr2BH7/PbxuwOZUKFYBG45/nI74XufOt+WJ+aGQy1Anc9uPnAc0KHwUQkCEICAJaCpkR57fp19ru+hzSmTdt/91pbf1X2TQ/b5mqPe5wDX+axocUDnb5PhgM5fTJgRBKpAAAG6ClFmjRCAQCcCCNAF2R8I0P6BQoAuyCZmmr4EEKDZHBCAAAR6RwABOn32OKDTZ0qPEIBAsQkgQBc7fsweAhBITgABOjnDTHtAeM5eeA5yObebgTqf3UMH5zd4OR/f+fp7bKkuKnVCN/e1ODtgn6rzefP6J+3zuy7e1zKkpmfQ3M/kfM70JdeTzg8vztpxb336aluqEzrsZNQBjTs+LDHqQQACEFgmoAL0xw++zl6cPnamLQen+huVBpyzHAZOerfU+awVNfdz4/nMYlvUAzOnEoeAHNDxEOKAjseNVhCAQDICCNDJ+NEaAhAoPgEE6JzHEAHaP0BpOZ8RoHP+IqjA9BCgKxBklggBCOSWAAJ0+qHBAZ0+U3qEAASKTQAButjxY/YQgEByAisE6FVr10buldzPkZGFblA1ATpJzuc4QnLYQKjj2a3vOqAHX/OUraK5eV0387WP7Gh0oa5VvXD9Os81vX3Ic1G7DxUpx/trYadNvYIS0JQcT5w6y67gyNxoy0rcvaPueHI/FzTgTBsCEMgFAffchv4m17M6oMM6n3VB5IDORWhbJoEDOn8xYUYQqAIBBOgqRJk1QgACnQggQOd8fyBArwyQn/MZATrnm5nphSaAAB0aFRUhAAEIpEYAATo1lIIDOj2W9AQBCJSDAAJ0OeLIKiAAgfgEEKDjs8u0ZVWE5zCOZwWtwnOWQrMbVD/ns9ZzHdALtRftrcV6+dqrH7LP/2DTl235lbkLG0PsGj2W6R6i8+IScA/EUie0uyJ1Pl9wxgl7iz1V3JgzcwhAoPcE0hSgs3Q+KylyQMfbMzig43GjFQQgkIwAAnQyfrSGAASKTwABOqcxRIBeGRgE6JxuVqaVOgEE6NSR0iEEIACBQAII0IGIQlfAAR0aFRUhAIGKEECArkigWSYEIOBLIJEATe7n9HdW2YXnsI7ndmk2ZjeuagHunjyfRjSCHM/uGEEO6KXhF2yT/tqCLUdq840ufnnLN+zPuFbTiFw5+3APJ/Rb5RtHPKe9X/7wctJhVRCAAATSIXDj4WtsRwcOTdhyaWr1io41H/Sao56EoJ9BBmfbn9uAA3omneBk0AsO6Ayg0iUEIBBIAAE6EBEVIACBkhNAgM5ZgBGgvYAgQOdsYzKdnhBAgO4JdgaFAAQqRgABOv2A44BOnyk9QgACxSaAAF3s+DF7CEAgOYHIAjSu5+TQ2/VQVuE5rONZmbjCc7Pr+bu3/Lmt9rKPvs+WehK9to3qiI7qdm6Om5/zWetoDmh9rk7otRuebXSzdeyI/fn28buz2VT0WngCKkA35w5vt6iJweP2Mg7owoecBUAAAj0k4ArRzVP52raP2ac/86HfsiUO6M6BQoDu4UZmaAhAIJcEEKBzGRYmBQEIdJEAAnQXYXcaCgHao4MAnZMNyTRyQQABOhdhYBIQgEBFCCBApxdoBOj0WNITBCBQDgII0OWII6uAAATiE0CAjs8ulZZFF56jOpz9oLnC8+lanydIjyz/qn5u44v22j/t+gtbTuy92Zaal3Fg1qvrOqNTCZTTSZADWqurE9rNBW3uH9x+h622f95bK+7VLCJVjj5ViD60cGbbBW0e8Jz14/21ciyYVUAAAhDoIYFbjr/cjr577MEVs7hst/ctLD8HtF/uZ+1oYOZUaitbNT2XWl9ZdpQ3MZoc0FlGm74hAAE/AgjQ7A0IQKDqBBCge7wDEKC9ACBAI0D3+KWY6+ERoHMdHiYHAQiUjAACdLoBRYBOlye9QQACxSSAAF3MuDFrCEAgPQKhBWhyP6cH3fSUZ+E5LVdzJ2LtDhm0QnTd+axtmx3Q6jq+8m2eI0lzJ2/Zf4N93jc5ZEt1QmsfaTqiwzqfG/Nfv9iCob+20Hi+ef2T9udNw95J8eSCTvc1VsbeVIh214bzuYzRZk0QgECvCeg3lMw8dv3v99jpnHnQ+9ZS7egLbafn54BO0/msA+OAjrdDcEDH40YrCEAgGQEE6GT8aA0BCBSfAAJ0j2KIAN3fljwCdI82JMMWggACdCHCxCQhAIGSEECATieQOKDT4UgvEIBAsQkgQBc7fsweAhBITgABOjnDSD30QnjuhqM5CIKf49lt5wrQzffnNnm/tuc3LNlycucnbKkO6KWp1fb50DHPneT3iOOIjup89sv9PFKbb0xr3bCXu/HKcx635XvO/pYtcbMG7SbuQwACEIAABLInoKk4zEh3fnGbHfCsR71xB2e9zyL66GbuZx0TB3S8PYADOh43WkEAAskIIEAn40drCECg+AQQoLscQwTozsARoBGgu/ySZDgIQAACEIBAWwII0OlsDBzQ6XCkFwhAoNgEEKCLHT9mDwEIJCcQKECT+zk55CxF5zy4mzsRSsP5rP0/c5H30+l6XuXHduyxz699ZIctD02da0u/XNBhIqnuaNfxrG0Xai+G6UbUAT06Md1SX13P5qI6n3ePeTmteUAAAhCAAAQgkD0BTWek3zjSVBvbh1pdzc0zuWz3++zTwZPe5wAc0OHjhAAdnhU1IQCB8hJAgC5vbFkZBCAQjgACdDhOiWohQAfj6+R81tYI0MEcqQEBCEAAAhCAQGcCCNDd3SEI0N3lzWgQgEA+CSBA5zMuzAoCEOgeAQToLrBGgA6GjAAdzIgaEIAABCAAAQgkJ4AAnZxhlB4QoKPQoi4EIFBWAgjQZY0s64IABMISaAjQV539trZtSMERFuXKemkIz3lPseGuOmzKjRXtap0PDjT13UMI+9afst3svOQ7trz3qfNt+ejkRlsOTvV3DN7A7MqPAW6KDU2lEXUXuHPTNBvN+SQ5dDAqVepDAAIQgAAE0iOghxgvzg7YTvvmVtlSDzNuPrQ4buoNne3AjPeZJc0HhxDGo8khhPG40QoCEEhGAAE6GT9aQwACxSeAAJ1hDBGgw8MN44BGgA7Pk5oQgAAEIAABCHQmgADdnR2CA7o7nBkFAhDINwEE6HzHh9lBAALZE0CAzoBxEuG5Ko5nF3sUAVrbzm/wDgu68BX/bEs91E+d0D/43o/Z6/1tnM5BYVfn8wfe/AVb9UPffbMtl6ZWt226NPxCy/X+2oJ9vnn9ky1zU9ezuaiHHwXNhfsQgAAEIAABCKRHwD28WH+3u85ndT03jxz18EFtiwM6vfgl7QkHdFKCtIcABOIQQICOQ402EIBAmQggQGcQTQTo6FARoKMzowUEIAABCEAAAtEJIEBHZ5akBQ7oJPRoCwEIlIUAAnRZIsk6IACBuAR8BWhyP0dHGkV4LprTuZlG3DzP7YgGCc+nR5Z/VS+MtPag+ZpPr1+0Ny6aOGrLTcMzttz/vZ9saaC5HV1HdLs8z+pofmzHHtuH+8eq5ov02yXqgB6pzdsqW8eO2HLb6MFGk12jx6JvMlpAAAIQgAAEIJCIgJ7H8KXDl9h+PnLpnbZ8/60321JzPzc7oPPkfNbFkwM63jbAAR2PG60gAIFkBBCgk/GjNQQgUHwCCNApxhABOjpMBOjozGgBAQhAAAIQgEB8AgjQ8dnFaYkDOg412kAAAmUjgABdtoiyHghAICoBBOioxJrqhxWci+x2NstN0/Hs4o4iQGtb1wmtuaDVtew6oR84vsk2PTk71DJ8JxezOpgPbr/DtnEd0NqR24frfNZ6OKATvNBoCgEIQAACEMiQgArSf33rNXaUvOd+VhQ4oONtChzQ8bjRCgIQSEYAAToZP1pDAALFJ4AAnSCGCNAJ4NWbIkAnZ0gPEIAABCAAAQjEJ4AAHZ9dmJY4oMNQog4EIFB2AgjQZY8w64MABIIIIEAHEWpzP0h4LrrjWZecpfO5MUatr20EmnM/uxXUAa05oPW+5nLuW3/KXlL3stv+8vt22kvqiG52MQflbv74wde1ne+64Tl7/cTccMt9vf47L/3Sinbbh5Zi7D6aQAACEIAABCCQBoHbZjbYbv7kc2+z5ZqjnjygDmg373PzmIMz3vkTQY+BGe8zSRYPHNDxqOKAjseNVhCAQDICCNDJ+NEaAhAoPgEE6BgxRICOAc2niZ8DGgE6Pcb0BAEIQAACEIDASgII0N3ZFTigu8OZUSAAgXwTQIDOd3yYHQQgkD2BFQL0S9aOZj9qwUZAcE4/YHGEZ51FkAPazQV918X7Whag+Zz14ts33de4rw5ndS7rvV2jx2wd/WP1wMwW+/y81c/YcvfYg7a88bCXP9J9bBs9aC9pP+kTpUcIQAACEIAABNoR0BQbT5w6y96+ffxuW+6f976F9asfvtmWbu7ndg7osM5nnQcOaBEEaF6XEIAABEQQoNkFEIBA1QkgQIfYAQjQISBFrIIAHREY1SEAAQhAAAIQiEUAAToWttQaIUCnhpKOIACBAhNAgC5w8Jg6BCCQCoFMBegg4TbJCrLMexc077LkeFb+3cj17MbaFaA7pdxw2wY5oDUH9LbNk7apOp20H3UxP/b8OnvpPWd/qzHE7x15i/3Zz7F8eHHW3j+0cGbLtDYPPGuf3/r01bZUl5U6pC8444S9jgM6yauethCAAAQgAIHoBPSbT49ObrSNB6f6bak5n7XHNHM/a584oHFAR9+xtIAABMpIAAG6jFFlTRCAQBQCCNBtaCFAR9lC8eoiQMfjRisIQAACEIAABKIRQICOxivt2jig0yZKfxCAQBEJIEAXMWrMGQIQSJNAKgJ0kGCb5oR70VfZHM/KsGjOZ513kAN6dGLaVt06dsSWrgM6zB5Sp/N4fy1M9UYdt53ml1SHdNT+Ig1OZQhAAAIQgAAEVhDQbz599sgV9t4Tfztuy4GTXtUwzmftlBzQ0TcYAnR0ZrSAAATKRwABunwxZUUQgEA0AgjQIXghQIeAFLJKEuezDoEAHRI21SAAAQhAAAIQaBwgjADdm82AAN0b7owKAQjkiwACdL7iwWwgAIHuE4gsQBfd7RxGTJ49b9BGot3p52FCFNUdE6bPNOr0wvGs8+6G8Lw0/IIdrr+2YMuR2rwtP3LpnbbcPrSUBkb6gAAEIAABCECgQAT0EMI7v7jNzlpzP6vzWZfS6XNf3M925IAmB3SBXipMFQIQyJAAAnSGcOkaAhAoBAEE6DZhQoBOf+8iQKfPlB4hAAEIQAACEAgmgAAdzCjLGjigs6RL3xCAQFEIIEAXJVLMEwIQyIpAQ4B+1cQNHcfolfM5jGM5Dpx2bmAVSZ+5yOvxrEe9Mq4TutO84jpp0lprnH7itElDeNZxn9v4ov1xseaV7sPPAa25oK9fd49tghM6TiRpAwEIQAACECgGAT108NDUuXbCfZNDtozjfNYVx/3chgN6ec/kRYj+9rP7ZHrxqJnYN8zHwmLsamYJAQgUnQACdNEjyPwhAIGkBBCgmwgiQCfdTivbI0Cnz5QeIQABCEAAAhDwJ4AAnc/dgQCdz7gwKwhAoDsEEKC7w5lRIACB/BIIFKC76XzOyu1s8PvlP3YFUlP3rBt+ZCN2/PPeKelRTkdPGuq4DhsdN06e53YMmtfRyQEe1Pb0iPerVg8OdPnoCfTu9XYHDf7Trr+w1S6/b6ctp4+d2Rb3RRPW1SJXnvN4y/3dYw8mDQ/tIQABCEAAAhAoCIGfuO29dqYDs95nEf3MESX3sy416uezLJ3POqdV03MFiYQ3TQToQoWLyUIAAikTQIBOGSjdQQAChSOAAF3rWxE0BOhWJAjQhXtdM2EIQAACEIBA5QkgQOdrCyBA5ysezAYCEOguAQTo7vJmNAhAIH8EfAXobjife+F4dkPQ7OBVt+6zW5ZstTMPtorTtaMv5C+CHWYU5E5OczHKTvtUB/PcxIK9NDw5EGm4hXqe5+Z8z33rT9k+Dm6/w5bqhHY7XjfsOYLuunhfpDGpDAEIQAACEIBA8QjoIYP6Tac0hWelgQM6+b5AgE7OkB4gAIHiEkCALm7smDkEIJAOAQToJgc0AnT8TYUAHZ8dLSEAAQhAAAIQiE8AATo+u262RIDuJm3GggAE8kYAATpvEWE+EIBAtwkgQCNAp7LnEKBTwUgnEIAABCAAAQhEJIAAHRFYj6ojQPcIPMNCAAK5IIAAnYswMAkIQKCHBFYI0FVJvaHMO6Xg6K8fWrPmqPfrIs3DCJOmx5jb1PlAnSz2lCsytxvDPWzwvJ8+bKsdmjrXln2TQ5Gm1pyCY2nYS4Gihwxqio0bD1/Tts9towft9V2jxyKNSWUIQAACEIAABIpHIGzqDV1ZpzMu7Oe+mcXYEDiEcCU6BOjY24mGEIBACQggQJcgiCwBAhBIRAABuoMDGgG6dW8hQCd6rdEYAhCAAAQgAIEMCSBAZwg3ha4RoFOASBcQgEBhCSBAFzZ0TBwCEEiJQEOAvvKKX06pS/9u8nDooDu72Y2rGpfUvesegDd0rPUwwuEjL9o2fs6ZpO7mdgRd8Xd223O2Wu3AGl/g6tiOG9gwgrP27TqfleHSxLytMlLzypnJtS3TUZHfnaM6n9X13Hx/7YZn7dOtY0dsefv43ba8bWaDLScGj9ty84BXb7y/FhcB7SAAAQhAAAIQyCGBC/bd1JjV4FS//Xmg/s21gZOtE/b7PIQDuruBRYDuLm9GgwAE8kUAATpf8WA2EEhKYFhE3igirxORV5pv6ovI2SJivj/3pIj8g4jsE5FPi8hshMF+RkTeLSJXiIhRuOZE5HER+aKI3CoingoW7mHUzneJyDtE5BUiMiYiz4jID0TkCyKyp/48XG/JayFAI0D77iIE6OQvMHqAAAQgAAEIQCB9AgjQIqumzZ8kxXkgQBcnVswUAhBInwACdPpM6RECvSLwayLyRyKyOsQEjoqIsU38dUBdY9U0YvW1HerNiMh7ROSzIcY9X0TuFJErO9Q1YrYRu78eor80qnRFgM6j81ldyppLuRnm/IYl+3R0YtqWfq5dzQ3tBiKp89j05yf+PrfRc1+/9NU/ahn2+OfHA/dD0LyiCM7uYH7u8b71p2zVnZd8x5af+varWpr2zS070JtvtHM+99cWbBV1U183/rB9vnvswcC1UwECEIAABCAAgeITUOFZXc9mRVGdz0oBB3R39wMCdHd5MxoEIJAvAgjQ+YoHs4FAEgKfEJFfqncwJSJfE5F7RcScPmYULuM2/gUR2VivY04z+zd113G7cY2Qbfp4df3mCRH5SxH5voicKSJvE5GfburLPDeOaL+HOYHtnror29QxJ7OZ/swpacYFbVzRV9UbGzvD6+vzT8IkTFsE6Pphfs2wEKDDbJ3WOgjQ0ZnRAgIQgAAEIACBaAQQoJd54YCOtne09ref3SfTi8aPJN8Qke3xeqEVBCAAgWgEEKCj8aI2BPJM4C/q4u6HReQuETECs/sYEZH/W0R21G+YtBwXGoNrm7q/KyJ/WL/+aF0QdlNt/LqI/Gm9jhGoTV9e0tmVj9tE5N/VLxsh+jqnrnk/+qiI/Pt6nYdMilufdaQZhxUCdJBbOcqp3nPj8XLvhjl1fPa8wVgc1OWrTmLNNWw6U9et5hj+yKXGsC6yfchzRN9y/OW2/PTXX2NLNze0m3Ow0wT93MiuC9nNrazi+ORO838uIhN7b7al5lJWF1AsOAGNdH3Nc9Jcz25T5aoO6IPb77BVLr9vpy2nj5n/x1l+qLt583rzshQ5NGX+z6b1oX3cePgae2PbqPn/G5Fdo+b/mXhAAAIQgAAEIFA2Avq5Qb+N1unzTlq5n5VhmM+jfryjfF6OGzME6HjkEKDjcaMVBCCQjAACdDJ+tIZAngiYXM9Ph5iQyRNtVCt1Ql8vIp902hllzIjNpq55GGfyt336/pKIvKV+7/dF5A/a1NsiIv8oIuYku+frQrlxQLsPc4LK/SLiqZwiN4jIX4VYU5IqCNA1L6WFeSBAd95KCNBJXmq0hQAEIAABCEAgKgEEaH9iCNBRd5NXHwE6HjdaQQACyQggQCfjR2sIFJVAc7qOj4iIcTI3P0yqDhWlD4iIZ7ds/3iDiHy1fssI2+bgQ/fR7Kb+n/VUIH797aqn5jD3v9KU5iMr1g0B+qfe4GLwhjw96p0s3u6hzhB1eah72nUn++XY0zzMYRbnOoPj5jPULj6bAAAgAElEQVR2HcWDr3mqMfzWMc/kfvv43R2ntGW/+b8BkTMeWNO2nuvAccdsbuQ6iP0czFrv9HpzpqbI7W8wpnqRm/7+F23ZNzm0Yi5uX24f2sA9PV6vu3NTV7O6r009dWBrG3U8L84O2EsXTdivOMpdF5vzP5dd5Pc+ZVKii5yY8/6fR9mft9qcySmi95sX9fZN99mnOJ47bk9uQgACEIAABApLQL/ldODQhF2Dfp7QMyNwQC+HFgE63jZHgI7HjVYQgEAyAgjQyfjRGgJFJfAnIvKb9ckbMfq9zkLMwYPvqF/7HRH5UIeFGnXWnFSnuSaMAO3lBVh+fEtE9OS1d4rIZzr0Z5zZmurDKI3GjT2fIWgEaARoQYDO8BVG1xCAAAQgAAEIhCaAAB0alSBAh2fVXBMBOh43WkEAAskIIEAn40drCBSVwN+IyLX1yf9HEfkvzkJM/uVL6teMw/n/BCzU2GW31euYgw0/31TfvM+YvNAqUBs7x6GA/n4kIj9Wr3OFiHwnQ9ANAfqSf/3bdhh1Nfu5mNu5lv3cye71oHWoU7jZQezmaj7zoMlkIuKXG1nzMofNTfwfLzPbwXuEdda6Xwd11zU6Yf5PQsTNV2iuqYNZnTyuY1ivf/3nvPTir//8b9hS04O4juLbZjbY+7vvfusKvJpXWW+oi0hzXOv1k7Ot7mmtp/dvucY7X/ND332zLZuZffzg61rGvf+Kvfb5/nkvTpOnzRmbK9nqfW28ecBLnz7e771UDi/O2vLQwnKuaM3FvWKhXIAABCAAAQhAoJAE9HPMZ4+Yj7zL34zSsyJc57MusvlbXn5ncPh9W87vm3kuQHJAp7ulXpxud+xOumOE6Q0BOgwl6kAAAmkTQIBOmyj9QSD/BH5CRB6u52M2s720/lxnbt4XTJ5mL3+AyGYReSxgWSZdh0nbYR63iMgfNdU3QrIRlM3DHIxolL6FgP7+rintx7tF5FMZYkWARoAWBOgMX2F0DQEIQAACEICALwEE6PibAwd0PHYI0PG40QoCEEhGAAE6GT9aQ6BoBFYZY2aTW/lzIvLzziJG6o5lvWzslycDFmrySP9qvY6xrWp6D3PJHCj4vfo9c0jiOSGg/S8ReVu93vtF5OMh2rhVTJJiL1Fx58dPicjoWXKu4IDGAa1bBQd00MuG+xCAAAQgAAEIpEEAATo+RQToeOwQoONxoxUEIJCMAAJ0Mn60hkDRCHxMRH65PunjInJZU75lXcsmEXmiaWHGCe2d+ub/MI7nD9Rv3yoiv9RU9dUick/9uelXU2t06s84nt9Vr2D6/WAM0L8vIr8Xth0CtEeKFBweBwTosK8c6kEAAhCAAAQgkIQAAnR8egjQ8dghQMfjRisIQCAZAQToZPxoDYEiETC5nlXIPV3PAW3c0O4jqQD930Xk5qZOkwrQQYcg+sUgsgP6p97w6237Oj1qzlls/9DceAMzp2yFhdHVtvTLH+320i6ftN9Yfnmmw9bXem7u6EEOIeQQwiK9kzFXCEAAAhCAQIkJcAhh+OAiQIdn1VwTAToeN1pBAALJCCBAJ+NHawgUhcCviciH65M1+ZdN2o3/12fyZUnBETY2jRzQCNAiW8eOWG63j5tzJf0fW/Z72U3OeGBN20ruYTiu6N3cyD0ssflQnXb19BDD299wm71909//oi37JlsPEjTX3L50LO1D+x+c8v6Twa++1lusvWh/nNz5icbUJvY2/3+LiHuoonto4i3HTVYakXufOt+WJ+aGbansz1v9TMv9ZgZv33SffRrWqd4xiNyEAAQgAAEIQCB3BBCgw4cEATo8q+aaCNDxuNEKAhBIRgABOhk/WkOgCAR+Q0T+a32ixvn8b0Tkix0mbt4XTD21/SY9hPDHReRwfbxcH0J45RVedhJ1MfsxUrdzmODPjdfCVFtRJ8yp467LOuxA6qR+bqMnpqqoan5eGjYhElm74VlbfuTSO225fWjJliqefvrrr7HPh471tQzrdwp7u7n5nczuOr1d8Xp+gzcXFYFVAO6f9X6l+QnYYfl0qqfra56TK6Bre+WqgvTB7XfYW5fft9OWerq91u+veWdzbl7/pC0PTZ27Yirah/5xum30oK2DIJ1GdOkDAhCAAAQgkD8C+rlhZnKtnVynzzvu5zC/z1qDs95nqaBHmM+jfn1E+bwcNA+/+wjQ8cghQMfjRisIQCAZAQToZPxoDYG8EzDpK/64Psnn6wf7fTnEpB8SkUvq9d4gIv8noI2xy26r1zEC9+eb6pv3GaNmqhI7YbS1gP5+1JQr+goR+U6IOcet0nBAI0AjQAdtIgToIELchwAEIAABCEAgTQII0P40EaDj7TQE6HjcaAUBCCQjgACdjB+tIZBnAuYAPnMQn3nMi8jPisjfhpzwp0XkHfW6QTmYjVN6uklgvkhEPFvm8uNbIvKq+tN3ishnOsxjY9PBiMaOa1KCmPln9VghQGcxUJCrOsmYnXJUd+pX80/PbVr5q0BdxqMTJrQi6rrR/tR9s+Zo+18jfo6bKOt0ndDaVp3bL321+X+K5cfxz48Hdh80L78xAzs2znmzU01ZT9PhOqB3XuL9P8qnvq0vBa9+39yqtt2rG735prqkR2reS+K68YdtuXvswTBTpA4EIAABCEAAAgUncMG+m+wKNH2Y+Vm//RXWAa0IgpzQOKDT3SwvTs+k22HM3hCgY4KjGQQgkIgAAnQifDSGQG4J/JGIfKA+u+dE5K0hXMzNi/kFEflk/YJxN7+2w0qNQ/qr9fs/EJEtber+roj8Yf36/xARL2lv+8cuEfnL+i3T75sypowAjQDd2GII0Bm/2ugeAhCAAAQgAIFEBBCgl/HhgI63lRCg43GjFQQgkIwAAnQyfrSGQB4J/BcR+a36xGZF5F+KyN9FnOioiDwhIt7paCJXici3ffr4koi8pX7vD5pc183VjSv6EWP2FBGTCsSI1K32Va+2cVPfLyLeKW0iN4qIlzg3u0dXBGidfh6d0LMblx24fi5eN9fz8BEvf7Sfc0bd1WmGzRWHZ7eZ/1sRqR1ofxCind9Jb55xH1EEaTdXtTqhlyY8t7K6lv3c5O4c1UHdzgmtObrdQyNvm9lgu5kYPG7LzQNeLu/x/ni5yONyox0EIAABCEAAAtkSUCHaft5xDlMO64TGAZ1tjNzecUB3lzejQQAC+SKAAJ2veDAbCCQl8GER+bV6J0Z5MsLwN2N22pzC459E5F80pcbQLn9dRP60/sScnHahydbgM97tInJD/d6BujDuqWPew7wf/ZmI/If683+sC9GLMecfthkCNAK0715BgA77MqIeBCAAAQhAAALdJIAALYIDOt6OwwEdjxutIACBZAQQoJPxozUE8kTgP4vILU0T+mAH13LzvI1wbARh9zFUT9uhCWtPiMgeEfm+iJxZP9Dw2nojk6vZHD74hQ5A1tXFcCNSm8fj9VQbJm2HufeupjzRxtpqBO+/7wLghgD9qglPH39hrRq/sxs9T07oZreyCq7PbvFOR3dzPaujOMgxE4ZcUpe05q5Wl09St3OoOY8E/9p0ndDn/fRh2/WhqXNt2TdpXlrhH+qENi3UDX3RxFHbwV0X77PljYevadvhtlEvHfuu0WPhB6QmBCAAAQhAAAKFJPATt73XztvNCe33GSno8xw5oNPdBjig0+VJbxCAQLEIBP8lXaz1MFsIVJmAFVJjAPiGiGz3aXd2/cDATnmYjYv5ZhExBxcGPS4QkTtF5JUdKhql7N0i8rWgzlK6jwBdM5lRvAcCdOddFcYRjQCd0iuTbiAAAQhAAAIQiEQAAToSrq5XRoDuOnIGhAAEckQAATpHwWAqEEhIIAsBWqf0NhH5tyJypYisF5G5uoPZ2C//ez1fdNjpm4TDRmDeKSKvqLufTdqOybqD+lYRmQ7bWQr1VgjQ2mdVnNCdHNBnHlwWpw2X2lFjdi/OI6nLOspKXXFahei5iQXbzfDkQJTuRHNINzug+9afsn0c3O6lRr/8PvMyWvlYN2xeossO6UgDUxkCEIAABCAAgUIRuOW4d3zK7rEHbRlWiA5yQDdDiOqGHpjxPrNk+SAFRzy6pOCIx41WEIBAMgII0Mn40RoCECg+AQToDg5oBOjwGxwBOjwrakIAAhCAAAQgkB4BBOj0WGbZEw7oLOnSNwQgkHcCCNB5jxDzgwAEsiaAAI0AncoeQ4BOBSOdQAACEIAABCAQkQACdERgPaqOAN0j8AwLAQjkggACdC7CwCQgAIEeEvAVoHVO3UjFoWP14nDCdmkqzrrhR3ZKxz8/bss0Dx8MinXUr3i6/Z0e7Q8aYsX9oFQdnb6iGtRWhWk3N7ROQg9RdCel9TUVh7n/T7v+wlbT1BvTx8x5oCsfekjhleeYsz6XH/rV3MiAaAABCEAAAhCAQOEIpJmKI+rnM1JwrNwuCNCFewkxYQhAIEUCCNApwqQrCECgkAQQoJsc0BpBBOjWvYwAXcjXNpOGAAQgAAEIVJoAAnS+wo8Ana94MBsIQKC7BBCgu8ub0SAAgfwRCBSgdcrddEI3Y8rKFd3OKaxu3mcu8mZw1qNeGeWQmrAhjuqkCdtvu3pxXNFJxmtu6zqk3VQdUcZ5buOLtnrzwYTN7ZeGvUMi+2vewYcjtXlbbh07Ysvr191jy+1DS1GGpS4EIAABCEAAAgUicO0jO+xsD02da8u+ySFbrjnq/fmv32zTJYX5nBf3c1uWTmgOIYy3KTmEMB43WkEAAskIIEAn40drCECg+AQQoJtiiACd/oZGgE6fKT1CAAIQgAAEIOBPAAE6n7sDB3Q+48KsIACB7hBAgO4OZ0aBAATyS6AhQF919tvsLF+ydrTjbHvlhE4LYRhH9ex5g3a4MI6YdvOK65JJa41+/RTdCd0uL7RZqzqi/RzQH7n0TosE53PWO4z+IQABCEAAAvkjoIcU3vnFbXZycZzQcT/b4YAWyYvwrDsTB3T+XqPMCAJVIIAAXYUos0YIQKATAQToNnQQoNN/0aThhEaATj8u9AgBCEAAAhAoOwEE6N5GGAG6t/wZHQIQyAcBBOh8xIFZQAACvSMQWYBuN9Wiu6KD8IdxTQf1kcf7vXBEd0OIHp2Ytrg19/Pt43dHxn94cda2Ge+vRWrrtts/32fbbx54NlZ/kQanMgQgAAEIQAACKwjcNrPBXvvskSts+cTfjtty4KRXVXNCh/nmW1QnNA5oHNC8JCEAAQgYAgjQ7AMIQKDqBBCgQ+wABOgQkEJWQYCOJmiHxEo1CEAAAhCAAAR8CCBA93Zr4IDuLX9GhwAE8kEAATofcWAWEIBA7wikIkD7TT9LZ3SWJ38HzbtsgnTRnNBBqTj61p+yW3Lb5klbug5o/UP0sefX2fvvOftbjS38e0fe4rUdPWjLXaPHWra3OpwPLZzZcl0dzrc+fbW9/sSps2x53upnbHnBGSfa9te7lz4jQwACEIAABKpBQA8lfHRyo13w4FS/LTUXtFII44TGAR19zyBAR2dGCwhAoHwEEKDLF1NWBAEIRCOAAN2GFwJ0tE0Up3YSJzQCdBzitIEABCAAAQhUkwACdG/jjgDdW/6MDgEI5IMAAnQ+4sAsIACB3hHIVIDu3bLSHbkqgnQ3ndCuAK0ROz0S/Ks5SIBeGn7BdnfRxFFb3nXxvpYNoX+I6sW3b7qvcf/jB19nf143PGdLvadOaHVPH5jZYu+rw3n32IP2+Y2Hr2m7+fwc1enuVHqDAAQgAAEIQMAloIcQ6reT9JtRek7Dr374ZttEHdDavl1OaBzQ0fcXAnR0ZrSAAATKRyD4r9zyrZkVQQACEGgmgAAdYj8gQIeAFLEKAnREYFSHAAQgAAEIQCAWAQToWNhSa4QAnRpKOoIABApMAAG6wMFj6hCAQCoEVgjQ2utL1o6mMkAZO0GQTi+qcYToIAe05oA+uP2OthO9/L6d9vrJ2SFbLs4ONOr11xbszyO1eVtuHTtiS3Uwq0Pa7Vgd0yfmhltu6fXfeemXVsxl+9BSeiDpCQIQgAAEIACBSAT0W01/8rm32XaaEzrNXNADM965FFk8sjwPJc35IkCnSZO+IACBohJAgC5q5Jg3BCCQFgEE6BgkEaBjQPNpggCdHkt6ggAEIAABCEAgPAEE6PCsktREgE5Cj7YQgEBZCCBAlyWSrAMCEIhLAAE6LjkRCRKiteuF0dUJRul90yxzQ/sJ0Lrqdjmh1QGtdeY3eE5iN/fzpuEZe/2B45tsqY5nbdfsfHYpqxNaXdSaN/rQ1LktVd0+XAe1Vnad1Oa65pXufYSZAQQgAAEIQKC6BDRFx1/f6p3j4OaCttdmW7+1FDYXNA5oEQTo6r62WDkEILBMAAGa3QABCFSdAAJ0gh2AAJ0AXr0pAnRyhvQAAQhAAAIQgEB8AgjQ8dmFaYkAHYYSdSAAgbITQIAue4RZHwQgEEQAATqIUIT7YQVp02WRXdFpOqKjCNCu83mh9qKNzun1i7a8aOKoLdX5vP97P9kSvb65VfZ5/2zrr//Fej/NldVN/diOPfay64Du5J62YwTkkjZ1cEBHeHFRFQIQgAAEIJASARWcv3T4EtvjRy6905bvv/VmWw6c9AZqdkLjgI4PHwE6PjtaQgAC5SGAAF2eWLISCEAgHgEE6Hjc2rZCgI4OEwE6OjNaQAACEIAABCAQnwACdHx2cVoiQMehRhsIQKBsBBCgyxZR1gMBCEQl4CtAa0cvWTsatc/K148iRLuwiuaMTssNHSREG05zm1p/bWvu5wtf8c8W45XnPG7Le58635Y/+N6P2dJ1PIfZoOqK/sCbv2Crf+i7b7bl0lT7fN7qmNa+1QG9ef2TLXN7z9nfagw/3l8LMxXqQAACEIAABCCQIgH3W036u33oWJ8dpZ0DWofPkxN61fRcilSy6woBOju29AwBCBSHAAJ0cWLFTCEAgWwIIEBnwBUBOjpUBOjozGgBAQhAAAIQgEB0AgjQ0ZklaYEAnYQebSEAgbIQQIAuSyRZBwQgEJcAAnRcciHaJRGitfuqOKKjCNDqfO5bf8pi2nnJd2ypzudHJzfa54NT/R2jNODkgjaVNa+0NmyXHzpE6MWd2+6xB20z/dqv+Vnd0DihwxClDgQgAAEIQCBdAlv232A71HMd9KwI1wltP1Oc9M6dwAEdPQYI0NGZ0QICECgfAQTo8sWUFUEAAtEIIEBH4xWpNgJ0eFwI0OFZURMCEIAABCAAgeQEEKCTMwzTAwJ0GErUgQAEyk4AAbrsEWZ9EIBAEIGGAH3FS7bbuqvWrm1pQw7oIITB99MQov1GybtDOmyO6DAC9DMXeRROr1+05WM79tjS/Spt3+SQvd7O4RwULc37uDDSvqbrkPbrT53ToxPTLVXWDS/na9Sc1eqODpob9yEAAQhAAAIQSE7g8OKs7US/gbR/3sv9vH1oybfzy3a/z96L64QemPG+tZXmgxzQ8Wh++9l9Mr141DT+hgl7vF5oBQEIQCAaAQToaLyoDQEIlI8AAnQXYooAHQwZATqYETUgAAEIQAACEEhOAAE6OcMoPeCAjkKLuhCAQFkJIECXNbKsCwIQCEsAATosqQT1EKCD4SFABzOiBgQgAAEIQAACyQkgQCdnGKUHBOgotKgLAQiUlQACdFkjy7ogAIGwBAIFaO2IVBxhkXaul6UY7TdyHtJ0pJGKY26T92tbDyGc3PkJ+1xzOC5NrbbP9fAgPx6aZiNKRN2UHEGpODQFx9LwC3aY/tqCLUdq841hNR2HpuLgUMIoEaEuBCAAAQhAIFsCzQcH3/nFbXawsx71xox6GCEpOLKNVZTeScERhRZ1IQCBtAggQKdFkn4gAIGiEkCA7nLkEKA7A+/khEaA7vJmZTgIQAACEIBAhQkgQKcTfBzQ6XCkFwhAoNgEEKCLHT9mDwEIJCeAAJ2cYaweeiFEh51oNxzTfo5oV4A+PbL8q1pdyFe+7UG7lNvH77alOqD9Dh+M43j2YxXVCa0HJmp/6oQ2zzevf9Je3jQ807KesHGiXvUI6NfG3ZXrQVrVI8KKIQABCGRHQA8nNCPs+t/vsQOdedA7sLB21PuGk/sYnPEOSnYfOKCzi1PUnnFARyVGfQhAIA0CCNBpUKQPCECgyAQQoHsUPQTo/rbkEaB7tCEZthAEEKALESYmCQEIlIQAAnQ6gcQBnQ5HeoEABIpNAAG62PFj9hCAQHICoQVoHYpc0MmhN/eQZyE6zErTcku7jmgVopsd0M9tfNFO6Z92/YUtJ/bebMv+We/X+YCWJ8PMPFmdsE5ov1zQZvSD2++wk9A/cLcPLSWbFK1LS0CF50MLZ7Zd4+aBZ+11nNCl3QIsDAIQ6CIBTb2xe8z7xlXz47Ld77NPB096n0l6mQt61fRcF6nEHwoBOj47WkIAAuUhgABdnliyEghAIB4BBOh43FJrhQDtoUSAFkGATu1lVbqOEKBLF1IWBAEI5JgAAnS6wUGATpcnvUEAAsUkgABdzLgxawhAID0CCNDpsUzUU9GFaL/FR3VIu0L07MZVja6/e8uf259f9lHPfeTmdlY3UthANLurw7bRekEOaHU+a/2lYS9X5NoNnlPVPLaOHbGl5rKOOgfql5+ACs9fmbuw42InBo/b+/wnRvn3BCuEAASyI3Dj4Wts5wcOTawY5GvbPmav/cyHfsuWfg5obdiNXNB5dkDnTXRuDig5oLN7DdEzBCDgTwABmt0BAQhUnQACdE52AAK0FwgE6JxsSKaRCwII0LkIA5OAAAQqQgABOr1AI0Cnx5KeIACBchBAgC5HHFkFBCAQn0BkAbp5KPJBxwfv17KsQrSuN6wj2hWiTftmN7R5HtXxHCZaUV3Rfk5ov9zPI7X5xjR+ecs37M+7Ro+FmRp1KkhABehbn7664+rfOPKQvY8DuoKbhCVDAAKJCbjC89LU6hV96nkTa456EgIO6M7YEaATb0s6gAAESkYAAbpkAWU5EIBAZAII0JGRZdsAAdrjiwCd7T6j92IQQIAuRpyYJQQgUGwCCNDpxw8BOn2m9AgBCBSbAAJ0sePH7CEAgeQEEgnQOjxO6OSBcHsouxCt6w3riG4WpU/X+tIH7tNjkCM6yAH92qs9Z+ofbPqyLZtz+eJ87loYCzfQbTMb7Jwfe36dLZ84dVbbNZy3+hl7/YIzTtiSPVW4UDNhCEAgRwS27L/BzkYd0Op6NtcGZj3pQM+fcL+FNTi71LISckDP5CiyrVMhB3RuQ8PEIFBqAgjQpQ4vi4MABEIQQIAOAakXVRCgV1JXVzQCdC92JGN2kwACdDdpMxYEIAABjwACdHo7AQd0eizpCQIQKAcBBOhyxJFVQAAC8QkgQMdn15WWVRGiFWYYR3S79BymfZbCtJ8T2nVAD77mKbuUdcNztrzr4n0t++TaR3Y0nm8abnUHXb/uHnvPL4+vpmMY7691Ze8xSO8I3HL85XZwdT4fmRttmYy7d9QJvXvswd5NmpEhAAEIFJxAmgK0osjSCb1q2vuskccHAnQeo8KcIACBXhJAgO4lfcaGAATyQAABOg9R6DAHBOiVcBCgEaBz/rJNPD0E6MQI6QACEIBAZAII0JGR+TZAgE6PJT1BAALlIIAAXY44sgoIQCA+gRUCtHa1au3ayL2SCzoyssAGVROgFUgSJ3QgVKdCHOe0OqJdB/T8Bi8H5Dtf77mZ1ZGqf9Q2D704O2Cf9tcWbLl5/ZO2dF3TejiSulzfc/a3bD2c0FEjnd/67mGD9z51fqTJqiP69vG7I7WjMgQgAAEIiGjao48ffJ3FMX3sTFsOTvU38GgOaL2Qh1zQOKDj7V5yQMfjRisIQCAZAQToZPxoDQEIFJ8AAnTOY4gA7R8gPyd01JAiQEclRv20CSBAp02U/iAAAQiEJ4AAHZ5V2Jo4oMOSoh4EIFAVAgjQVYk064QABPwIIEAXZG8gRGcvRLcbIUicVif0cxtftM2XJuZteXD7HbZ0v87bboyl4RfsZXVCb9s8aZ8/cHxTS/WtY0fsc1yuBXnRRpimptxQ5/OJueFQrTXXuDqgyQUdChuVIAABCLQQcA9+1W8v6XVTeffdb235Xd03OWSfrznqSQqDJ73PAYOz3jeh9EEO6PxtNhzQ+YsJM4JAFQggQFchyqwRAhDoRAABuiD7AwHaP1BpOaHbjYAAXZAXSMGniQBd8AAyfQhAoNAEEKDTDx8O6PSZ0iMEIFBsAgjQxY4fs4cABJITSFWA1umQCzp5YPx6qKoQbXgE5YXOUojWePgJ0s9c1BqxxZrnhNJH/2zwRw5t4zqitQ91RqvLVa+TEzq711u3etY8367rPez46oS+8pzHbRN174VtTz0IQAACEFhJYP98X+PiV09e2vH99bLd77P3XSc0Duj87Swc0PmLCTOCQBUIBP81WAUKrBECEKgyAQTogkUfAdo/YAjQtYLtZqarBBCg2QsQgAAE8kcAATp+THBAx2dHSwhAoJwEEKDLGVdWBQEIhCeQiQCtw+OEDh+IqDURovMlRGsu6IWRzpFccJzR7Wq7TmitozmiN69/0l5y8/6+ceQhe337UGv+yah7i/rZEmjOKbpr9Jgd7NpHdtjy0NS5kQYfqXk5x9UBfdfF+yK1pzIEIAABCCQjoO/f+g2Ur3x4m+1Qc0H7OaB11IGZU7EnsGp6LnbbrBrmWXjWNeOAzir69AsBCHQigADN/oAABKpOAAG6oDsAAdo/cL1wQiNAF/SF1INpI0D3ADpDQgACEMiIAAJ0K1gE6Iw2Gt1CAAKFJ4AAXfgQsgAIQCAhgUwFaJ0bTuiEUerQHCE6n0K0zqqTIzrIDe2XE9p1varrilzQ2b3O0uxZxQrT54m5Ydv1ydkhWy7ODnQcSl3wbiXdE1vHjthbt4/fneaU6QsCEIAABAIIbNl/g61RO7DGK4++0NIii1zQOKDjbUsc0PG40QoCEEhGAAE6GT9aQwACxSeAADDntQ4AACAASURBVF3wGCJA+wewl05onRUCdMFfYBlMHwE6A6h0CQEIQKDHBBCgvQDggO7xRmR4CEAgtwQQoHMbGiYGAQh0iUBXBGhdC07o7KKKEF0+ITqsA3rPls/YxY/3cwhhdq+w5D23O2gwrPPZHd3PCa35wckFnTxe9AABCECgHQFNo+Tm8P/hN3/cVl9z1JMYBk++6JWz3rkMOKDzs59wQOcnFswEAlUigABdpWizVghAoB0BBOiS7AsEaARoBOh8v5gRoPMdH2YHAQhAIAwBBOjOlHBAh9lF1IEABKpIAAG6ilFnzRCAQDMBBOiS7AcEaARoBOh8v5gRoPMdH2YHAQhAIAwBBGgE6DD7hDoQgAAEXAII0OwJCECg6gR8BWgFs2rt2tQZkYojdaSNDqsoRC+Mrg4FNMuc0KdrfS1zOD0S/BHDzQ/tHkqoKTj61p9q6VvTLGwanrHXt40etKV+HTgUDCplRmD/vLcXtg95X7vWxy3HX25/3PvwKxvXgg4dDJqkm4pD94YeTLl77MGgLrgPAQhAAAIhCOh7+BOnzrK1/Q57fdlH32fvDx8hBUcIrD2pQgqOnmBnUAhUnkDwX4eVRwQACECg5AQQoEsWYARo/4AiQJdss+d0OQjQOQ0M04IABCCQgAACdDh4pOAIx4laEIBA9QggQFcv5qwYAhBoJYAAXeIdUTUxupdOaNcBrdsqiRNaHdCvvfoh2526rVTgnDw9Zq/jfM7Xi1hTbeisrl93j/3xgz+8zpaPTm5cMeG+uVWRFrE0/EJLfXVCcwhhJIxUhgAEIBCawOX37bR19fBYbbjnqk/aH91vvVz12++11zmEMDTirlXEAd011AwEAQg0EUCAZjtAAAJVJ4AAXeIdgADdPrhZOKERoEv8Qoq4NAToiMCoDgEIQKAABBCgwwUJB3Q4TtSCAASqRwABunoxZ8UQgEArgZ4I0DoFckF3ZztWRYjupQNaIxknF7S21ZzQmgt6eOvT9tb9V+y15eHFWVve+vTVtiS/b3deP1FH8RMpNN9zVLdzp/HVCa0O6IPb74g6XepDAAIQqDwB/WbRV09e2vL79dpHdjTY6LdX3PdwfR9+bMee/5+99wGzq6zvfX+dzIwJM2EIkD9EG4QhWFBAMFTRoPEgUmls9VqNWivQPCi29JxHa8/VXnqtHlrbXvWePkerB5oL9LTViJ56b3MQqtYoQVQwCggoYYKmZTJJgGHIDBMzw+Q+77v2b2bvd/ba6//a689nP0+ed++13r+f37v2zHzzXb9l60bNAa0D9E20Pu8hTFCWjE+FqZZrHQToXHEzGAQgUCICCNAlChZThQAEMiGAAJ0J1mJ1igDdGo8sHNA6AgJ0sfZ+N2aDAN0N6owJAQhAID4BBOj47NyWCNDpsaQnCECgWgQQoKsVT1YDAQhEJ9BVAVqnixM6euDitECIzl6ITlOAPrp61k54xZpnbKl5J5cPTtvPl697yJY4oeNcDeHbqDChLdw8n3pcnXJujmfXLdc7Gf7XT80DHjRbdeDpXjlv1ahtonnDg9pzHgIQgECdCej3vObq33vgZItj7sDSeSx+3936Pb3tN26wdd//yWtsObi/NVd//4T3M93vVXYHdBmEZ2VPDug6X+2sHQLdIxD+L4DuzZGRIQABCGRJAAE6S7oF6xsBujUgWTihEaALtulTmA4CdAoQ6QICEIBAgQkgQCcPDgJ0cob0AAEIVJsAAnS148vqIACBYAKFEKB1mjihgwOWRo2qC9Fhc0EryzSF6CQPI9T5aC7o6TVzLeF28/1uPH3Ens/T5ap5qNf1Dtqx9bN5r8fS2KNF6uO6g+e0TMd1nOtDB3ftHbb1/HI9R3E++60/yBHds9rLIaouec0fXiSezAUCEIBA0Qhsm1hjp/SZPa+x5fjY8bZsvoNFv8P7fO5i6Tvsrar/8DGvnGz9GY4DujhRxwFdnFgwEwjUiQACdJ2izVohAIF2BBCga7gvEKBbg44AHf4iQIBenPIEATr8/qEmBCAAgSISQIBOHhUc0MkZ0gMEIFBtAgjQ1Y4vq4MABIIJBArQ2sWSFSuCe8ugBq7oDKA2uqyqEF1WB7Q6nzXiM4Oei0pdr+qA1vNnDu+3b9cOTNjyipV32dIvR3GSnaTC8w1PXdTSzWnPOzT/eevQWJIhMmnrCuZRBtG2V+95e0uzO87a0bab9TuvtMebc4aaz2k4n90B/ZzQrkv+9NVPzDf98Atvy2x/ROFKXQhAAAJFJ3DajqvtFPsP9M5P1XU+q+NZK6jzef4zDujChhkHdGFDw8QgUGkCCNCVDi+LgwAEQhBAgA4BqapVEKC9yBbFAY0Anf6VhgCNAJ3+rqJHCECg6gQQoKNHGAd0dGa0gAAE6kUAAbpe8Wa1EIDAYgKFF6B1yjihs9u+CNELbJOK0UlyQPsJ0Do71wm9Ys0z9tTKgSlb+jlz09w5mm5C+3z+0qfnu3dzI+sJfbjTyNFV9tBw/0FbpunUdoVmd0x1Z0cRpLXuJbuubUGormKXtwoWmjM0C+ezG0vXCd3JAf22tffa5kV0qqe5R+kLAhCAQFICnQRo1/msY+GA9u7GKsMLB3QZosQcIVA9AgjQ1YspK4IABKIRQICOxquStRGgF8KKAN15iyNAiyBAV/JrkEVBAAIQmCeAAB19M+CAjs6MFhCAQL0IIEDXK96sFgIQWEygNAK0Th0ndHbbuGpCdNRc0M1k4wrRaTigNfezG2l1u/asPmJPLR+ctqU6oC886ef2s58TOcnOuezhzbb5oamBlm4uX/fQ/Gcd1xWpR6eGbJ0sc1Vfd/Cclnk9fuSEtsvdOLTHHg/jAr7g3i227vjY8bZUZ7PbscZDcz+r89nNF5qEv9+e0D5dd7zmB8/DFZ9kXbSFAAQgUEQCUQToIOezrq9/Yjb0UvsmvJ/zQa8l494dUEV4IUAXIQrMAQIQKDIBBOgiR4e5QQACeRBAgM6DcknGQIBeCBQCdOumRYBGgC7J1xjThAAEIJCYAAJ0dIQI0NGZ0QICEKgXAQToesWb1UIAAosJlE6A1iXghM5uO1dFiM7TAe3nfNYoHV3u/ytHUO7n+T5We+4pdbfqcXUWq7v30oFH5zfHut7BWBvFzZWsbuDDk8ta+lMXtjm4e8N2e07rugO7uaqj5GMOWoS6ru87uLalqo7px6gTn/U7r7R9uc5mv7mk6XgOWq/riHYd0I9tvjGoC85DAAIQgECDgPszZGJkhT3TnMtfv+PdHNB1d0CXSXjWDU8OaC59CECgGwQQoLtBnTEhAIEiEUCALlI0CjIXBGiRqA5oBGgEaATognyBMQ0IQAACEQkgQEcE1lQdATo+O1pCAAL1IoAAXa94s1oIQGAxgdACtDZdssJzhRTthSM6/YggRIcXouMI0K7zWSPo527VXMPf2PhpW1Xdu9sm1tjP6nyO4nrW3MmaM/mmdXe2bCQ3D3KnXdY7ONNyenayz352j288faSlXpS8zH7jq3iwa+9wSxV1aGuuar/82Jpi5JGRU+bb9x/o7XhR+QnOrjuuUyd+eyDs1ezulaMNlzwO6LAEqQcBCEBARH8G7D1wssWhP7+afw6EdUArz/7JuRa0Vc0BjQDNFQQBCEAgHAEE6HCcqAUBCFSXAAJ0dWObeGUI0AjQCND+lxECdOKvGDqAAAQgUAgCCNDxw4AAHZ8dLSEAgXoRQICuV7xZLQQgsJhAZQRoXRpO6PS3edmF6DxyQafhgA7K66tO4tNXP2GDfMdZOyIHW/Mu3/DURbbtbfvOtqWbn9nvj/GeqSWhx5wbeK5t3RVrnmkZU/MzX7HyLnt807JW11inAf3mqW2U2Z5NN7d0o85vXf/42PH2fPP6mnN/mnNpCM5B8OI6onXvuLmgm93nLoOguXAeAhCAQNUJ6B1EuybW26XqcwT0eQf6DABzTn8mhHVCuw5oZRnGCd03cSQU+iXjU6HqZVkJATpLuvQNAQhUiQACdJWiyVogAIE4BBCg41CrWRsE6OCAI0AvZoQAHbxv3BoI0NGZ0QICEIBAXAII0HHJLbRDgE7OkB4gAIF6EECArkecWSUEIOBPoHICtLtUHNHpbf+yCtFJHNBKL+ihhGEF6HYCo+te1TFdAVedw+etGrVV3HzNrrvZ1DnteYds3a1DYy0bwS9nsuuuXr/zSttOXWCuK7jT7nLduFpXXbman9lvPZ363jndY0/fcuhVttx5/6/Y0nVoK8ObLtlmz6u7Wh3Q9zx5qj2ueT87ud3c+UTJ9Rz3KowqSPs5oc34fnmhdd9EyR0edz20gwAEIFAGAu2+F/Xn5ne+9hK7BNcJ3X/4WMvScEAXN9Lff2aHjM/uNxP8lvnVoLgzZWYQgECVCCBAVymarAUCEIhDAAE6DrWatkGA9g88AvRiNgjQyb8oEKCTM6QHCEAAAlEJIECHJ4YDOjwrakIAAvUmgABd7/izeghAQAQBml0QmgACNAI0DuiFPYADOvRXBxUhAAEIlIoAAnT4cCFAh2dFTQhAoN4EEKDrHX9WDwEI1ECA1iCTiiO97V42IboIKTim1nq/crgPGjTHBs57yp7Thx5tPH3EftaHIbkPCHT/MNbPV+95u213aGpgPtiXr3vIvn/8yAm21LQdeitxUOoKTWkRRXjWwdUBrZ81HYZfCo6NQ3tsVTddSLude8G9W+xhfXhg/4HethvcdWG7qTjcRi/a9r75Q+5DB/MQnP2u0rBOaL90LqbfntXeQ622nP0DW75u+YO2HDm6ypbD/QdtGeUhkH7z5TgEIACBqhJwU3HoOv1ScripOKryEMIyCs8aK1JwVPXqZF0QKDYBBOhix4fZQQAC2ROovANaESJAp7eZEKAXswxKwYEALYIAHf8aRICOz46WEIAABNIkgADt0USATnNX0RcEIFAHAgjQdYgya4QABDoRiCxAN3e2ZMWK0tJFkE43dGUQpbN0QvsJ0EeXe79q/PC6v7HlaTuuXgR+07k/scfUAfzF0Q32843rv2BL9+Fw2ybW2OPqFFY3sHasruDmgfQBhrs3bLeHL3t4sy1/9p1fbrsRXPdvmN3Szt1t2rkuZJ2LOrvXDkzY7t2HKroPCjR17jhrRwtHP+ezzlfX4fdwPn0w3/D2a2yTZWPeww2bX910PrtzCRKi3Rg0u9Dd/wDQB04q/ytW3mWHwwEdZrdTBwIQqBsB/Zm0/aGX2aXPTvZ535nOz/D/++b/zR7Xnx2D+59rQYUDuvs7Bwd092PADCBQRwII0HWMOmuuMgFz3/nrROQ1ImJ+OzxTRE40vyOKyBMi8iMRMerF50VkMgCEFWYjwHpjo++gJktE5J0iYu6VP1dEzL3PT4vIoyLyFaM5NT4H9ZPWeQTotEjWvB8E6MXCpdkSCNAI0Gl+NSBAp0mTviAAAQiEJ4AA3coKB3T4vUNNCEAAAoYAAjT7AALVIfABEfkzEVkaYkn7RcTYEP9Xh7pZCNCnisitInJhh3FHReRdIvLNEOtIo0ptBeh28HBFJ99SRRais3BAR0298dY37loEWXPxfuDBt9pzroNZcyar28rNoTwx4t2J0C5Pszpgzzj3320dzQ/ttomb77idIOrnwh3Z8rlIG2z9zittfV23eX/msPn6Fnlk5BRbqgM6qmNb5/jCV/6b7Ued4M39FMn57IILK0SHcUBfeNLPbffXr3ogUnyoDAEIQKDOBPROIr0zR+9G0p+vr77Iy7P/0Gde4v28mpzzygnji+n86pvwcvYHvZaMTwVVyew8AnRmaOkYAhCoKAEE6IoGlmXVkoBRNt7bWPkBEfmGiNwjImMiYlzHxm38OyLiqRYi5n6432q4jtsBaxagTb/e05n8X3eLiBnX73WyiJj7m40r27z2icjfioh56pZxQRtX9Msb58xvk69tzD/rYCJANxFGgE6+3RCgWxm6uZ8RoMPvMQRof1YI0OH3ETUhAAEIZEEAAdpLn1XGFyk4yhg15gyB8hNAgC5/DFkBBJTAZxvi7idNmtCGwOzSWS4i/ygiXvJTLy3HGSLS7jeoZgH6NGOQS4h6m4j8bqMPI0RfLiLPNGufIvLXIvIHjWPGNnGezzoSTqWlOQJ0B5oI0vG3WhGF6DQc0Erk6FCvfes6oDXlhtZToVAdt3PD0/NQP3T+7fb9X/zw12w5d6D1Bo52jmZTz82pHJQH2fbdGFfz/j56/wvsmG7O4ySuX1cU1TUfXe25vTRPpuZ61gc5jU4N2fPqzj48uayFRzsO6lSOO1+da5j2/YePxb8QAlq6+yXqQH5CtJvz2u6BAS8PqbrI1bUXdUzqQwACEICAyM5pL/WW5s13n8+gz3w44Udermj9WRLGCY0DOtsdhgCdLV96hwAE2hNAgGZnQKA6BEyu56dCLMfkiTauY3VCXyEif9emXZoC9HoRMU8ZM7+p/qIhlBsHtPsyitZuETmnccLcf35LiDUlqYIA3YEeAnT8rYUA7bFDgBZBgPa/jhCg43/H0BICEIBANwkgQOOA7ub+Y2wIQKB8BBCgyxczZgyBNAg0p+v4lIj8YcYC9J+IyMcaY/x9IxWI3zq2NlJzmPNfE5HXp7HgDn0kEqC13yUrvBy0VX8hSEePcFWFaNcB7ed8VmK/OO9Z+/YbGz89D/GGpy6y77c/ZJ6ZuuCAdh2/fvmN/dy7nfIyqxO6Z8RzGSd1ErfbEe74/a960lbbvWG7LdUl9pk93nNe1fGsuZ57pkzWpPY5rdOeb5bu5uhXy0KLqMK0n/u8OQe05gHH+ZwkMrSFAAQg0JmApuZw7zQaGPXupsEB3f0dhAO6+zFgBhCoIwEE6DpGnTVDQOSvROSPGiCMGP2+NlDSdECb/NCvaIzxDhH5QocgGGe2eRCheZn71o8XkYV79tOPHgJ0BKYI0BFgNaoiQHsgEKARoKNcPQjQUWhRFwIQgEBxCCBAFycWfjNBgC5+jJghBKpIAAG6ilFlTRAIJmASr17WqPYhEfnLAAHaOJFfJCKrTcrXxgMJzQMOvyIiXwrI02y+Z0yu58HGGMMisjdgiv8mIl6CVpENIvKD4CXFroEAHRudCIJ0dHhFEKTTyAXt54Ce3Og5nd18zj2rvSfa3/jyxRl/Ro6a55CK/NWX3mzLqI7nMFFwU4Ectz+7X4FcN+70mjk7RdeBe8G9W+zx8THz/2wirvO5HYcwOZubeRTV4RwmZs11ggTpoPzbpq/HNt8YdVjqQwACEIBASgRUmH7208+3PfZPeM9HaPcqcg7oY+PlTb2hrBGgU9rUdAMBCEQikN1fX5GmQWUIQCBHAkZIfqiRj9kM++LGZ3cKzQ7oTtN7RETe2UEkNkKyEZTNyzwBytz3PhOw3m+LyMWNOu8SkX/IkA8CdAK4CNDR4SFAI0BrCggE6PDXDwJ0eFbUhAAEIFBEAgjQxYkKAnRxYsFMIFAnAgjQdYo2a4WAiEksagTXjQ0Yxr38Vh8wpt55IvJ1ETFu539vpMQwKTJeLSK/YVKUNtoaa+MlIvKdNn2ZBwre3zhuHpJ4UohA/E8R8ayQIteKyGdCtHGrmAcYmn9Br5eKyNAJcrJs+KVNQXV9z9clB3QQIATpIEIL57spRKfhgNaVqBP64AXmGaMimmN5+aCXOefydeb/uxZe9zx56vyHR0a8Z6Gq83fZmNeH+4rq+m3XRx5OYL882FPD3v+5nTm835YqQF+1z/t/tl17zY0hi3NgR3FAJ12f5uQMv4MXah4dbB+3OH2FbeMnSLtO9xe+Uv//U+TG9V72p3W9ekNO2NGoBwEIQAACSkCfY/DYL1baQ9evesCW7vMNJkZan4+id0KtufV5tj4O6O7tKQTo7rFnZAjUmQACdJ2jz9rrSMA8/ev3Gws/KCLnN+Vbdnm8suFq/oUPKOOkNgL2Sxrnx8wd5iIy5dQ3/dzVOPZ4U2qNTvyN49m4qs3rj0Xk4zGC9aci8pGw7RCgw5LqXA8BOjxHBGgRBGgE6PBXTGtNBOi45GgHAQhAIBkBBGhScCTbQbSGAATqSgABuq6RZ911JGByPauQa/I4mxzQxuWc5LVGRIzt4eRGJx8UkU86HSYVoD8sIn8RY5I4oGNAS7sJgnQw0W4I0Vk4oCdPMTdYLLzUiar5j9X5tGfTzfOVhrdfY9/3Tnq/jriO3yDncxzXb1SnbxJ3r4qkq96yz65v7wHvq7KZQTOz9Tu9mzZ6RkymogUe7TjEWbvpM+r6g3ewf40k7MKO6ydEP3vKMdtFOwf0R0bfYM/dtO7OsMNQDwIQgEAtCajYbBa/a2K9ZXDfwbW2XDngeU70rh4FdNqOq+3b/gPejZL6s31g1Pte1p9DOKC7t6VwQHePPSNDoM4EEKDrHH3WXicCH2gShs294Cbtxv+bEoDrROS/NPoyuZtf4/TbrRQcYZdHDuiwpGLUQ4AOhoYAjQCtuwQBOvh6cWsgQEdnRgsIQAACYQkgQC8mxUMIw+4e6kEAAhBoJYAAzY6AQPUJGFfy/9VYpnE+/5aI/HOKy252OB8SkVVO378sIp79r8IPIdQ1kws6/M5CnG5lVVYhWnNAq9tVBUE3F+/R1d7T7jUPsnmvKThcl5Tr+I3r9jVjpO34jePqdZmoK3xuwDyXdXFuaHWGH79ncW7lqCzSXn/4K3xxzTjswo7nl397ZtBz3JnXbOO9cn9s8432+M5pj/OmZXMtw+lxdw5uvbBzpB4EIACBbhFQIXm432TgW/x9F2Ze+p+kbt2Np4/YQ3pXidZ73n3H2eP6M11/fvk5oPsmzCNlwr2WjLsZ/8K1S1KrCsKzrh8HdJKdQFsIQCAuAQTouORoB4FyEDDpK/68MVWTy9k82O+rKU/d3I/3SKNP467ud/o33zPPiIg+9ck8bWtvwBzMU6Ne0KizoZGLOuVpz3eXigNae0OADh8mBOhWVgjQ/iknooquzWTTFmDjiKgI0F5E4rAL+42CAB2WFPUgAIE6EkCATh51BOjkDOkBAhCoNwEE6HrHn9VXm4B5AJ95EJ95TYvIm0TkXzJY8kUi8p1Gv8ZWsbrNGHeLyCsax98hIl/oMI9Tmh6MaOyByxvzz2DqtksE6KzIxuwXYdoDl4cgnUYuaNcBrWFXQVBz8c4Nm68hkS1n/2B+Z2x/6GX2vV/O46jCc9pic5gtHEVUdYXoqWHzf3YLDmj3oYwn747+a1o3GITh5FcnCr8w4/gJ0aZtsxvafFZXvjqhtf99s5P27Q1PmR9vIo8fOcGWz1/6tC2vX2UefcALAhCAQHkIXLXPe+jt6NSQLdcOtD5I74qV3vPC3Ts8Lrh3y/wiJ0ZWtCxY7ya56ZJtLW2vO2iy74l8/puvsqXezYMDujj7BQd0cWLBTCBQJwLR/7KpEx3WCoHyEvgzEfnjxvSfFZE3isi/ZrQcM44Zz7zME51e3WacPxGRjzWO/w8ReXeHuWwVkb9tnP+6iFya0by1WwTojAFH7R4B2iOGAC2CAB391zQE6FZmmgrGXFMI0FG/jakPAQhUhQACdPJI4oBOzpAeIACBehOI/pdNvXmxegiUgcBfish/bkzU2Lh+XUTMwwGzeJl8zz82D8JudG7G1XzTzeOdKSIPG6OjiJhUICZth0mz4b7M47J3i4hnnRC5SkRuzmLiTX0iQGcMOK3u6ypMF12I9nNAa9yfNle/iLzyUvNVsZAj0ry/7OHN9tiFJ/3clv/rBs+hVQbhud2+DnLzug7oN73D/J/dgkts2ZiXi9jNlxnmGiqb8OyuKYhdGAamTicHtPahQrTmhB7Z8rm23ev+dE/ecdaOsNOhHgQgAIFCENDvs70HTm6Zz/JB7+6k3Ru221Ldy3qnhz6TwJzrnWwvHejdJK4TWgfS9B83/LnJBLjwbIb+Ce/ZEPoiB3R+WwUHdH6sGQkCEFgggADNboBAtQh8UkQ+0FiSybv8hqb0GFFW+p9E5F4R8e7Ha/86Q0S+JCLnNU4faAjLh33q3yQiVzbO7WoI42aO+jLfR/9VRP5j48BPGkJ062+nUVYRri4CdDhOXa+FAJ1dCJKk4kCAXohLkIiKAO2/h4PYhd39CNBhSVEPAhCoEwEE6OTRxgGdnCE9QAAC9SaAAF3v+LP6ahH4L8a40LSkj4vI90Ms8QkRMYJw8+srIvKbIvKYiJg0GMa6eEhEjBi8ppFmw5zvazQyj61+fSMFh9+QxiVtckUb4dq8jOXRpNp4tOGgfmdTnmiTNuQ/iMj3Qsw/aZVUBWidDA8jTBqW4PZ1FaQNmbRd0XEEaBWeNVJ+AuLUWu9Xjek1c7YcGh5fFNyp+060x47b79UNckCXxe3rx0RF0mfWe0z05ebJ7HQVlIVB8JXcWiMrIdqM0pyOo3lU3Zt6rGe1+ZG2+KVOwfNWjdqTfjlTo66Z+hCAAASyJqC5nMfHjm87lObCV8dzO7dzn48D2r2rRL9D92zybmJcv9Pzn5z41WXez/hJ72cfDuiso+7fPw7o7rFnZAjUmQACdJ2jz9qrRsAKqTEW9S3zzBGnnQrQYbp70PwdLiILTxbzb3WaiNwqIt6Tx9q/xkTkXSLyjTCDp1AHAToFiN3oAgE6PeoI0OmxbO4JATo6VwTo6MxoAQEIQCCIAAJ0EKHg8ziggxlRAwIQgEAnAgjQ7A8IVIdAmgL0cMPl/HIReamImFzPJxmDooiYtBmPN9zV/yQiXxWRVhtfZ6ZLGgKzeaz2uQ33s3kU94iIGOH7BhFZbJHMLk4I0Nmx7UrPdRKm03ZCm4CFFaODHNBuugl1mX7zLZ+Y3xev/fIH7fuwuY/L7vp1xVVl5Of4Lvt6k3wBJBWi3VQczXNxndCue0/rzg08Z9/2Ds7YUh3QKwem7GfNXf6eE++e735d72CSZdMWAhCAQCoEdk57zxS45dCrbLlrr/nVXmTuwNKW/l2ns5/L2TTS5xNoB37fpXPDXl7p2UnvRsmBEa9c8Yj3nZrE+axjUl7HbgAAIABJREFULxn3vofzeFVJeFZeOKDz2DmMAQEIuAQQoNkTEIBA3QkgQFdsByBAJwsoAnQyfp1aI0CHZ4sAHZ4VNSEAAQi4BBCg09sTCNDpsaQnCECg3gQQoOsdf1YPAQiIIEBXbBcgQCcLKAJ0Mn4I0OnwQ4BOhyO9QAAC9SSAAJ1e3BGg02NJTxCAQL0JIEDXO/6sHgIQQICu5R6oqkidRkqOpAK0m3pDN9jUsJfG4Ld/9bvze+6eJ0+17x//l3W21Nt73ZQUdU5FUcsLtGnRWQjRfg8jdFNxaAoOnc6KNSYDlcjuDdvrHhbWDwEIlITAdQfPsTPd/pD3+BVNwRGUesNNtxFmufrdqj/vb7pkm232v//pe22ZxsMHdR6k4AgTEf86pOBIxo/WEIBAPAII0PG40QoCEKgOARzQ1Yll6JUgQPujQoAOvY2omAMBBOgcIDMEBCBQWQII0MlDiwM6OUN6gAAEIGAIIECzDyAAgboTyESAVqhLVqyoO99Srb8qwnQeTmi/hxCqA/rZU47Z2M8OeuWrL3rQlt/52kvm98TR1bP2ff+BXlset9/7tUQd0EHOZ/dBRqXabDEn63KP2U3pmsUVopM8jNB1QJ85vN9yu+OsHaXjx4QhAIF6E1Ah+vPf9B5KqA5o96GDcZzPSlYd0D/+T39jD51//e/ZcnB/+4cParu+iSORg4MDOjKylgY4oJPxozUEIBCPAAJ0PG60ggAEqkMAAbo6sUy8EgToBYRBTmgE6MTbLVYHCNDRsCFAR+NFbQhAoJoEEKDjxxUHdHx2tIQABCDQTAABmv0AAQjUnQACdN13QIj1l12YTuKI9hOiXSF0/MwlluT0mjlbuu5RxXzCj/oWEVfX1MCo55b2yxMZIlRUiUmgLMJ2VCd0GgJ076CXv3zj6SO2vGndnTEp0wwCEIBAdwkMb7/GTmDZWE/LRFzns/sshjizdu9i8rtrqagO6CoKzxpHHNBxdjRtIACBpAQQoJMSpD0EIFB2AgjQZY9gDvNHgF4MGQE6h42X4xAI0CJ+DyFEgM5xIzIUBCCQKQEE6PB4EaDDs6ImBCAAgTAEEKDDUKIOBCBQZQKZCtAKjlzQ1d1CZRKn4zihwzqgJ0/xHNCTG5+15fPuO86W6qrq5KYK65Kq7i4q18qKIFZHdUIbwq4bWp33KjxrFDQ3+WObb7SHLnt4sy3ftvZeW24dGitXwJgtBCAAgQYBV4BOw/kc93kNcZzP879Xj09lHlME6MwRMwAEIFAzAgjQNQs4y4UABBYRQIBmUyQigADt4UOATrSNStUYARoBulQblslCAALzBBCgw28GBOjwrKgJAQhAIAwBBOgwlKgDAQhUmQACdJWj28W1lUGYjuKIdp3QKkKqE1Xdpavess9SP/jldbZ0nc/tnFJ+eSG7GD6GjkGgG8J0FCd0kAN6dtDLQd6z+ogt92y6uYXCzmkvZ+qmZV6ec14QgAAEuklAv5PMHEaOrrJT8btD44J7t9jzU/edaMu+SU8GCHOXkrvGIMez1g/62Y4Dunu7hxzQ3WPPyBCoMwEE6DpHn7VDAAKGAAI0+yATAgjQCNCZbKwCd4oAXeDgMDUIQKByBBCgsw0pDuhs+dI7BCBQPwII0PWLOSuGAARaCSBAsyNyJVB0YTqsK1od0ZPP77f8pta2uqkG9z8XyDXIHRXYQUErJHF1NS/JL/92QZftO608hOkwTmg/B/TU8Iyd+4o1z9hy5YCXW/TG9V+w5brewbIhZ74QgEDNCGiu+jvO2mFX7n5WsfraG66x5+Pkfk7L+ayhSfKzckmGOaCrLDwrexzQNfuCYLkQKAgBBOiCBIJpQAACXSOAAN019PUcGAF6Ie4I0J2vAQTo8N8RCNDhWVETAhCoHgEE6PRiigCdHkt6ggAEINBMAAGa/QABCNSdQC4CtEJesmJF3Xmzfh8CRROmozqhg1yuZRebkzi18tj0ZRWrg/ZNWHZpCNCPbb4x7HDUgwAEIFAoAut3XmnnMzvZ1zKv3kHvDo+5A0ttuWzMy2UfNvdzWNez6TPsz/k0fp7igE62/XBAJ+NHawhAIB4BBOh43GgFAQhUhwACdHViWeqVIEAXO3xp/MGc5QoRoD1RpdMrKAUHAnQQQc5DAAJFJYAAnV5kcECnx5KeIAABCDQTQIBmP0AAAnUngABd9x1Q0PWXXZAuKFbfaRVdYI7Ls2zCdFJHdCcntJ8APb1mzuI949x/t6XmUI3LnHYQgAAE8iCgaTfMWI+MnGKH7Jla0jJ072Tj+QxaHm6dWf/hY22nmoXzWQdK4+ctDuhkOwwHdDJ+tIYABOIRQICOx41WEIBAdQggQFcnlpVaCQJ0vuFM4w/ifGccbjQE6AVOCNDh9gy1IACBchBAgM4mTjigs+FKrxCAAAQQoNkDEIBA3QkgQNd9B5Rw/UUQp6PmiO425qoKzFG51kWQbueEDhKgh4bHLc5PvfhWW25a5jmjs3jtnPZShowcXWXLrUNjWQxDnxCAQIUIXHfwHLuax4+cYMtde4fnV6c5nvWA63zW45r7WT+7Dugozuf5PiZmI1FO8vM4S+ezLgIBOlI4qQwBCEAgNAEE6NCoqAgBCFSUAAJ0RQNb5WUhQEePbpI/eKOPVtwWCNALsZlZ7r3XFBwI0MXdt8wMAhAQQYAWQYBO50ogBUc6HOkFAhCIRgABOhovakMAAtUjkKsArfiWrFhRPZKsqGsEyiRIt4MUVRRFTE5vq0Vln97I8XqKmiO6nRN6aq336+/U8Iwt3YcPqjtZZxjkhN43Ozm/mK9NnWHfD/cftKVf26v2XdwCYOPQHvsZJ3S8fUErCFSZgH4nffxnl9tlHpoasOX42PHzy9bcz+p81hN9jdzP858DckBHcUD35+h8nv/9eXwqs1DXwfms8BCgM9tGdAwBCHQggADN9oAABOpOAAG67jugAutHgK5AELu0BARoBOgubT2GhQAEQhJAgF4AlaUDGgE65IakGgQgAIGYBBCgY4KjGQQgUBkCCNCVCSULcQl0U5gOmyOaqBWLQFkE6bBO6E65oH943d9Y+OpgvuGpi+zn7Q+9zJZ7Nt1sS73t/fpVDwQGS53No1NDbeuqc1FPrhzw3Hx3nLUjsG8qQAAC9SKgwvPXD7/YLvyeJ0+1pX6PHJ5cNg9Ec0DjgI6/RxCg47OjJQQgAIEwBBCgw1CiDgQgUGUCCNBVjm7N14YAXfMNEGP5CNAI0DG2DU0gAIEMCCBAL4aKAzqdjUYKjnQ40gsEIBCNAAJ0NF7UhgAEqkegKwK0YiQXdPU2VJFXhCBd5OgUd25FFqXDOqENXdcNrbmgZwaPWfhzw9O27BnxXIWzjeN//GtfaQnOF0c32M/tXMvqgL7v4FpbRx2Ks5N9LX30Dnr5p5cPemN+6sW32jIo33RxdwkzgwAE8iJw2cOb7VDNd1RoPmg3F3QWOaC7kft5/vfmDHJA18n5rBwRoPO6WhkHAhBoJoAAzX6AAATqTgABuu47oEbrR4CuUbBTXCoCNAJ0ituJriAAgYQEEKATAnSaI0DLpnSJ0hsEIACB9gQQoNkZEIBA3QkgQNd9B9Ro/QjQNQp2iktFgEaATnE70RUEIJCQAAJ0QoAI0IIDOt09RG8QgEA4AgjQ4ThRCwIQqC4BBOjqxpaVBRDopiBtpsaDCsu1RYssRCvJMCk53FQcR5e3/jo8s7x9XKbXzNkTQ8Pjtty9YfuiipqCY9feYXvOTb3hNtBUHN/Y+Gl7al3vYLk2BbOFAAQKQUAflvoP33+FnY9fKo6+w63T7T/spSDqn/S+38K8SMERhlKx6yBAFzs+zA4CVSWAAF3VyLIuCEAgLAEE6LCkqFc5AgjQlQtppgtCgEaAznSD0TkEIBCbAAJ0bHRCCg5ScMTfPbSEAASiEECAjkKLuhCAQBUJdFWAVqA8jLCKW6uca+qmKI0julx7psiCdBpOaI2GOqL1YYUD5z1lT7VzQGub03Zcbd+qC9Evsj2rj9hTezbd3DH4+2Yn7Xkc0uW6RpgtBPImcMG9W+yQ+gBUvbvi0lv+yB4/bn/rn//qgNZ5hnFC44DOO6rpj4cDOn2m9AgBCAQTQIAOZkQNCECg2gQQoKsdX1YXkQACdERgNa6OAL04BYduBwToGl8YLB0CXSSAAB0dPg5oHNDRdw0tIACBOAQQoONQow0EIFAlAgjQVYoma0mdAIJ06kgr12HVhGgNkF9u6KnhGVtF8zfPHVg6H1N1NOux3sn2v2rPDnp5V/U1N/CcfbtizTO2dN3Venv9ac87NN9m69BY5fYSC4IABNIhoN8Z1696wHao/ynWf6DXflYndBQHdFTns66kb8K70yPJa8n4VJLmbdvWUXhWEDigU99OdAgBCIQggAAdAhJVIACBShNAgK50eFlcUgII0EkJVr89AjQCdPV3OSuEQLkIIEAHxwsBer+B9C0RHNDBu4UaEIBAGgQQoNOgSB8QgECZCRRCgFaA5IIu81aqx9wRpOsR5zirLLIQbdYTlBf66GBPx2X7OaLDsNL80X511RGtTmh1Vy8fnLZNVg547r+1AxPzXWwc2mPfXzrwqC3JDx0mEtSBQL0JDG+/xgJYNuZ93w2Mtt6N0SkHdFQHdBrO5/nfj3FAp7pxcUCnipPOIACBkAQQoEOCohoEIFBZAgjQlQ0tC8uCAAJ0FlSr0ScCtH8cEaCrscdZBQTKTgABeiGCOKBxQJf9emb+ECgbAQToskWM+UIAAmkTQIBOmyj91YJAN4VoBfzcioFasC7bIssqRAc5oN04uI5oc35meedo+QnRrgNae/FzQpvzF570c1tN80KTE7psVwrzhUB+BDQlxz1PnmoH/dl3ftmWbi5oHND5xaSbI+GA7iZ9xoZAfQkgQNc39qwcAhDwCCBAsxMgEIMAAnQMaDVpggDtH2gE6JpcBCwTAgUjgAC9OCA4oHFAF+wyZToQqDwBBOjKh5gFQgACAQQQoNkiEEiBAIJ0ChAr2kXRBOmkuaDdMLVzQmsdP0d0WCHadUCft2p0fnhyQFf0gmFZEEiBwM5pL8fzpmVzLb1d9vBm+/mOs3bY8vzrf8+W/YeDc0FXIQd0nUXn5o2AAzqFi4wuIACByAQQoCMjowEEIFAxAgjQFQsoy+kOAQTo7nAvw6gI0IujhABdhp3LHCFQXgII0O1jhwDtcUGALu+1zcwhUGYCCNBljh5zhwAE0iBQKAFaF7RkxYo01kYfEOgagSII0mbx5Inu2hZYNHDVhWizYD83dFgntJsL2nVA796wvTgBZSYQgEBhCVy172I7t9GpIVu+be29tvzz299ky95JTwZwc0DrgtrlgsYBXdhwR54YAnRkZDSAAARSIIAAnQJEuoAABEpNAAG61OFj8kUlgABd1Mh0b14I0IvZu05oBOju7U9GhkCVCCBAt48mDmiPCwJ0la521gKB8hBAgC5PrJgpBCCQDQEE6Gy40isEWggURZDWSeGM7t4GRYheYK8CtArPeqZn9RH7dvngtC1XDkzZUvO2di96jAwBCJSBgOZ63nvgZDvd2ck+W/Yf6G2Zfl/DCd132DucRi7ovgnv+yuN15Jx77sv6QvhuZUgAnTSHUV7CEAgDgEE6DjUaAMBCFSJAAJ0laLJWgpLAAG6sKHJfWII0AvIEaBz334MCIFaEECAbg0zAjQCdC0ufBYJgYITQIAueICYHgQgkDmBQgrQzasmH3Tme4ABciRQNCFal44jOsdN0DRUEcToo0OtjkA/EkcHe0JD8ssFrR1oTmhXgJ4beM5WeWzzjS1jbZtYYz9vHRoLPQcqQgAC9SVw3cFz7OJv23e2LcfHjrelOqDV+ayE1AGtn10ntG07Oef1MTHbESwO6OLvOxzQxY8RM4RAFQkgQFcxqqwJAhCIQgABOgot6kIgIQEE6IQAK9YcAfqYjaib+xkBumIbneVAIGcCCNCtwHFAt/JAgM75gmQ4CEDAEkCAZiNAAAJ1J4AAXfcdwPq7TqCIojSO6Hy3RRmE6Cwd0HPDXq7n01c/YUtyPee7/xgNAnEJ6N0J2r5odynsnPbu3Lj6e++25dyBpbbs1dzPjVLn38kJjQM67i4pXjsE6OLFhBlBoA4EEKDrEGXWCAEIdCKAAM3+gECXCSBAdzkABRgeARoBugDbkClAIDIBBOjFyEjBEXkb5d4AATp35AwIAQjggGYPQAACEJDCC9AaI3JBs1urTqCIQrTLHGd0truwm0J0nrmg3RzQ6oC+8eV/ZwFvWublWuUFAQgUk4AKz7sm1tsJPn/p07a8ftUDxZxwY1an7bjavuuZWtJ2npqHvndwxp4f3HXcfL3B/V6Oen355YJOQ4BeMj6VCkdSb7THiACdyvaiEwhAICIBHNARgVEdAhCoHAEE6MqFlAWVlQACdFkjl968EaARoNPbTfQEgewIIED7P4wQATq7fZdWzwjQaZGkHwhAIAoBBOgotKgLAQhUkQACdBWjypoqQQBBuhJhjLWIqgjRR5e3/1XbdUDrQwiHhsctr90btsfiRiMIQCAfApc9vLntQB9+4W3zx4twJ4PmgP74zy6389p74GRbzk72tczfffCpntw3Ozlf763/xx/Z90G5oBGg89mDSUZBgE5Cj7YQgEBcAgjQccnRDgIQqAoBBOiqRJJ1VI4AAnTlQhp6QQjQCNChNwsVIdAFAgjQOKC7sO1SGxIBOjWUdAQBCEQggAAdARZVIQCBShIojQCt9MkFXcl9yKI6ECiDEN1u+uSLTr6tuyFEp5kLOqoDumf1EQttz6abk8OjBwhAIDUCV+272PZ138G1tjw8uayl7+WD3oNEVw4s5C5WN3Q3ndDqYP7I6Bta5q+TP2/VqH1707o7bak5ovsP9NrPfZMLcsHA6DF7rAwOaHI/d976CNCpfTXQEQQgEIEAAnQEWFSFAAQqSQABupJhZVFVIoAAXaVoRlsLAnQ0XtSGAASyIYAALYIAnc3e6kavCNDdoM6YEIAAAjR7AAIQqDsBBOi67wDWX3gCCNCFD1FmE0SAzgwtHUMAAhEIIEAjQEfYLoWvigBd+BAxQQhUkgACdCXDyqIgAIEIBEonQOvaSMURIcpUrRQBBOlKhTPUYsoqRIdNwaEQXnnpj+3bK1beZUu9dV8fJNbNW/nNfPR2/nW9g6HiRiUIVIXAdQfPsUvZ/tDLbOk+xK93cMYe33j6yPySNa1FkRjoOk573iE7ra1DYy3TG95+jf28bKzHln2HF073H25NwaFn+idmW/qI+xDCJeML6UuSMiMFR2eCCNBJdxjtIQCBOAQQoONQow0EIFAlAgjQVYoma6kFAQToWoS5ZZEI0J4YhABdv73PiotBAAFaBAG6GHsxjVkgQKdBkT4gAIGoBBCgoxKjPgQgUDUCCNBViyjrqQ2BsgrRboB4WGH4LZunEJ3GwwhdB/TM8ta1zgx6jsLZRjk38Jz9vGLNM7bUB5q9be299rPrVgxPLllNdT5/beoM29Fjv1hpy9ctf9CW3RbGk62O1hAIJqAC9D98/xUdK6sT2lQ6ffUTtu4dZ+1oaRP3ToJtE2tsP5cOPGrLdnciRL1bQufymtvfb/t0Hz6IAzp4b5SxBgJ0GaPGnCFQfgII0OWPISuAAASSEUCATsaP1hDoGgEE6K6h79rACNCtt8vnFQgE6LxIM05RCSBA44Au6t6MMy8E6DjUaAMBCCQlgACdlCDtIQCBshMorQCt4MkFXfYtyPzTIoAgnRbJ4veThxAd1gHdTOvooJcqQ1/qgPZzPms91wGtLko/B2W3IqQPYnPH/+jar9pD5IbuVmQYNy4BFZavX/VAxy7W77zSnp87sDT0UHpHQ9TrWV3MI0dX2bG+OLqhZUzXUd18Uq/R0akhe/jCk35uS7+7FS57eLM9/8jIKbbsmVpiyzg5oMn9HHprdL0iAnTXQ8AEIFBLAgjQtQw7i4YABJoIIECzHSBQEQII0BUJZIhlIECHgJRBFQToDKDSZVcJIEAjQHd1A3ZpcAToLoFnWAjUnAACdM03AMuHAAQEAZpNAIGKEaiKEN0uLOSLbqVSNCE6yAHt5nzW1bhOST2+8fQR+/amdXd29SpVke6eJ0+18zg0NWBLzVHdyZHZ1YkzOASaCGgqGXPohqcusmfcPa3Vd2/Ybt+6zufeyfB/Pgfd2fDhF95mx/DLoa7u5L0HTm6J455NN9vPF9y7Zf744cllLXWWD053vEZd4V1d17ccepVtd9/BtbacGFkx36+u/YRHvEP9k3NeOTFrSxzQ5bncEKDLEytmCoEqEQj/E7RKq2YtEIAABBYIIECzGyBQMQII0BULaIflIEDnE2sE6Hw4M0q2BBCgF/giQGe714reOwJ00SPE/CBQTQII0NWMK6uCAATCEyi9AK1LJRd0+KBTsz4EqixGmyjiiPb2cpZCdJRc0K4D+ukzvfmpE3Jky+fsZ3VV6pWobkX3yjxv1ag91C0H9LaJNXb8z+x5jS2juix1Pequ1M9+js/6fDOx0qIQUBex7u3Zyb6WqfUf6G353BfggNa7HJob6fU/NDxuD+t1fcXKu+xnv+tBr5urvrHV1tP8zO3Y6V0Ues7NO/22tfe2NHOvac037/bdfHeDOrIPfnmdrTa4/zlbFsEBfWx8oihbqhTzQIAuRZiYJAQqRwABunIhZUEQgEBEAgjQEYFRHQJlIoAAXaZoxZ8rAnR8dp1aIkBnw5Vei0MAAdpL3YEAXZw9mcdMEKDzoMwYEICASwABmj0BAQjUnQACdN13AOuvFYGqC9IazLo6o7MQoqM4oJW/OqGn1nq/aj//9ftsGZQrWR/yNzo1ZOtfeNLPbfmeE++25brewcyv12a38sd/drkdz81B67pE1W3p5p3Vya4d8NyJG4f22HLr0Fjm62AACIQhoHcj6J5Wl7Gb6znI+dxuLDfn+xnn/nvb7wE3HYaK4pqHenj7NbZdmPzTbt7pmy7ZZtuqyzrIVe2Oof2ZPtRlvepOzxU++PjRlmVHzQG9ZHwqTIhC1cEBHQrTfCUE6Gi8qA0BCKRDAAE6HY70AgEIlJcAAnR5Y8fMIRCZAAJ0ZGSlaoAAnTxcCNDJGdJDeQggQC9pCRYCdHn2bpKZIkAnoUdbCEAgLgEE6LjkaAcBCFSFQGUEaA0IuaCrsjVZR5YE6iJEK8O6OaLTFKLTcEBPr5mzodj2GzfY8pZDr7Klm9tZU1489ouV9vxpzztkyySOYX3w2t6Z421fUfIva9tLdl1r27ouUfcaVYekOqL1vN7eH+QAz/Kap28INBPQ/2i5+nvvbru3VYiN43x2SU8Nz9hDj22+seXUaTuubvms513Hs98cOuWb1o57Vh+xb/dsutmWepfFt+9+sf3srrPvsP8+efql3jqK5IDG+RzvukaAjseNVhCAQDICCNDJ+NEaAhAoPwEE6PLHkBVAIDIBBOjIyErVAAF6IVwI0KXaukw2JwII0AjQOW21Qg6DAF3IsDApCFSeAAJ05UPMAiEAgQAClROgdb04odn7EAgmUDch2iVSdWd0t4RozQF9dLn3q/Yz6z0HtOaA1ZzKW87+gT1+/aoHgjdrzBqaX/bxIyfYHlzXtdutOiSb66pTU/PjBk3FdUJrbujL1z2U+XqD5sb58hLQOwSS3BGgq9fr4p4nT7WH9JrsGfEeyue6jjs5g4OIziz3aqhjOQ1XtTum64bW3M3qgHbvQtBremCkz1tvw/ncf/hY0HKkf9L7PuufmG2pGzYHNLmfAxFnXgEBOnPEDAABCLQhgADNtoAABOpOAAG67juA9deaAAL0QKXjjwAtggBd6S1eq8UhQPuHGwG6VpdC4sUiQCdGSAcQgEAMAgjQMaDRBAIQqBQBBOhKhZPFQCAegboL0Uqtyo7opGJ0lFzQrgPadUCqO1Gdwpr7VdMCRMnT3PzQQBPHkaOrbDh3Tay35X0H19py5cCULTUPszuWOp933v8r8xeROp7dB5P5XWXuujQXtLovLzzp57ZpGo5vFSOH+w/aPqMwi/ctQau8CbguZR3/xvVfsG/X9Q6mPqUXbXuf7VNdykmcz6lPzulQv1eaD6sQfXS1505eseYZW+rdB+6dEC/569+z5wdG2zuf1e3cPAbO56wjm33/CNDZM2YECEBgMQEEaHYFBCBQdwII0HXfAawfAiKCAO1tAwRo/8sBATr4qwIBOpgRNcITQIDuzAoBOvxeomYrAQRodgQEINANAgjQ3aDOmBCAQJEIVFaAVsjkgi7SdmMuZSGAIL04UlURp+M6oZMI0EpTBaPpNV4OVXVAq0vxvFWj9vgVK++yZSdXrz5c8GtTZ9i66ngenRqynzWnrRtJzcd8eNLLdbtn080tVYa3XzP/Oazz2R1Dheih4XF7aveG7ald+up81vU+f+nTtu/3nHi3LbNwxaY2eTqKREAF6Nv2nd3STq+ToHzmYQbT/aR1/+pLb7Zvj9vf+c/kMLmSw4zfqY7mkA/Tj3uXxVvfuMs287vbQJ3euk53PWGczzovcj+HiVCx6iBAFysezAYCdSGAAF2XSLNOCEDAjwACNHsDAhBYRAABevGmQIDuDX2luCk4tCECdGiEvhURoJMzLEsPCNDh/1RHgC7Lri7GPBGgixEHZgGBuhEI/1OtbmRYLwQgUBcCCNB1iTTrhEAMAgjR/tDKLkhn4YRW4VmpqYPRvVXezwGdxCmsOZw157M6nGcn++x0NJ+zX0TV7ay5b2NcLqL5Z9UBPbLlc3G6aWmjTu8bnrrIHnfdsG5u6zADap+4pcPQSqdOkgcIrt95pZ2E7mWdkd45oHvgwy+8zZ6Kkg9c+547sNS2XTbWY0s393MejuewpDs5o/W7Zmp4xnb327/6XVuqE/qyhzfbz4emvAfQHrv9JFvq+to5n3Vebu5nPR7kgF4y7uWfT/N1bHwize5q1xcCdO1CzoIhUAgDTtMYAAAgAElEQVQCCNCFCAOTgAAEukgAAbqL8BkaAkUngADtHyEE6MVsEKC9B5khQBf9my3/+SFAp8ccAVoEATrZfkKATsaP1hCAQDwCCNDxuNEKAhCoDoHKC9AaKnJBV2fTspL8CSBEh2deNmE6qhO6Uy7oIAFaHcI/3fpZC1TdiHectaMFsKYeOO15h+zxrUNjtmzOV6vHtKH7wDbNAe06oN28zp0cz64LVMdq9/Cz5gW4TmjNBX35uodsNb+8tJ12mTq8d+0dbqmmOa2juMeVlXbkN5+d054bNoqjNvyVUu6aymbk6KqWPaqr0r36xdENLQt193o7CnpdPDJyij3tuvc1d3rvoOfy3XL2DyLvK3XBX7LrWm+MES8nupv7OQ3ncydXcadd4H6fdKy7vPXP+mdP8f4zaG54uoXR9ode1rJevf4HRr367lz9XM+mbpDzWeebpgMa4Tmd7w0E6HQ40gsEIBCNAAJ0NF7UhgAEqkcAAbp6MWVFEEidAAJ0eKQI0Aus3BQcCNAI0OGvpGLXRIAOHx8E6PRScCBAh993nWoiQKfDkV4gAIFoBBCgo/GiNgQgUD0CCNDViykrgkDqBBCgwyNFgEaAxgEd/nopa00E6PCRQ4BGgA6/W/KpiQCdD2dGgQAEWgkgQLMjIACBuhOojQCtgSYVR923POtPQgAhOjq9sgjSYVNxREnB8fSZHi/NiaypAzad+xN7/KZ1d9pS0wHsnTnefr76e++25YfOv92Wmm5DUxOYY2sHvIdwaR9uZC64d4s9NDGywpZBqTf80m2EibhfSg5XiH71RQ92nHOnsXQ942MeI/el6RhcZu3qal967rxVo/btxqE9Lbw17YfWe/7Sp+1bTY2ixy8deNS+LftDDV1R+bFfrFyE7/EjJ9hjo1NDLef0AYBfP/xie1wfFqkPw9TKezbd7BtmNy2GPhjQ3bvu9fTY5htb+tQUK+858W7fuLjpb17y179n6+p1EDX1RlyROcz1pXXCpORw77rQB55qGpyvvHSb7e41t7/flpre5Pg9XrqZwf3P2bJT6g2dT1AKjjRTb+iYOKCj7Bj/ugjQ6XCkFwhAIBoBBOhovKgNAQhUjwACdPViyoogkBkBBOjoaBGgEaBVMESAjn795NkCARoBGgE6zyuue2MhQHePPSNDoM4EEKDrHH3WDgEIGAII0OwDCEAgNgEE6ejoii5IJ3FCq0NRXYg/vO5vLCB10qprVB/Epo5P142oVNW1qA/YO23H1fPAgxy/bt/9B3ptW/ehg0mcz37Rdx3R6sKMIkDr/N/0o612GHU+uw+k0zmou1zdsK7L2dRbOeClAtAHNPrNXx9sqOe1nX6+8KSf27fqhB7uP2g/l/1hha4AvWti/Twi3buHpgbaYlOnsz70MuibwXUtW56N/a17NagPPe86olesecae0utGrz91sJtzt/7zRltHHwh6/vWeAzqs8zkPx3PQ+js5ov2c0HoNqtv/r770ZjvMCY94o+m6kjx8EOdzUOS6e/658XG599hOeVqeMBP5lvnq6u6MGB0CEKgLAQToukSaddaFgHnU+IUiYh5x/RLzt5aInGwe6i0i5rfxx0TkuyLyjyLynQhQflNE3iUipv81ImL+gjN/ff2ziNxg7sSM0NcSEXmniLxdRM4VEfP4dHNPq7l/9SsiYu6j9O5xzeeFAJ0PZ0aBQCUJIEBHDysCtAgCtJd6pNMLATqIUPrnEaARoBGg07+uitYjAnTRIsJ8IFAfAgjQ9Yk1K60HASPctibl81/3DhG5QkSe6oDGJI78vIhc1qGOSUL5HhH5YgjEpxrTSUMk96tuxGwjdn8zRH9pVKmdAK3QyAWdxvahDwgsEECMTr4biiROBzmh2+WCVkfi1FrvV2x1/r7jtXfZz69b7uVA1hzPmuN22ZiXf1Vfmjv5ha/8N3tIBevh7dfM19G8uOr+dN3S2ybM/xeLXH/nG22ZpwN6fh3LvXfKYWTL51rW2exSVofzb/+q+X9yketXPWDLoFzW7q5THmF2o7qm3brqLvdzQmv+bTdndJgxy1BH904nB7Sb21mdz34OdXfdPauP2EN6DZj3uqddl35YZnrdzA1P2yaab1pzQqvr2ZzTMcLmfC6C49nlkMQBvfP+X2n5XkjDAZ2F81nXTO7nsFdBcD0E6GBG1IAABLIhgACdDVd6hUC3CBgBelZEvi8iPxaRscY/80SRtY1brDabZ440JnifiLxcRH7RZsJLReQbIvLKxrlDIvK3jX7NE4DMPXuvb5wz/ZvPxhHt9zJObPMXeOORTLKv0Z954o9xQRtXtJmLeRmH9WtF5J4cQCJA5wCZISBQBwII0MmjjADtMUSARoBOfjXF7wEBejE7BOgFJn4PH0SAjn/N5dkSATpP2owFAQg0E0CAZj9AoFoEzmkIxMc6LMuk0bhDRE5s1PmgiHyyTf0/EZGPNY6bzHBGEHZTbfyhiHyiUccI1Gc0Un20G948dvt3GyeMEH25U9d8H/21iPxBo46xiZ0nIt7juLN71VaAVqQ4obPbXPRcTwII0enFvQiCdBQntDoST7jScy4/MnJKCwx11urBnpFl9u1x+9v/Su7mUm5H1nV9fuj821uqqYv1voPm/6FFjt51ki3d3M9hc9+2m4Pmm/WL/LOneL+WuO5kdbw2t9M66pZ+0bb3te3WzyWrPNo18nNHh3VCay5odUB/dO1X7TDregfT2/QF6kmdw2ZK9zxpbmJbnD/bzfnsOqDbxbh5iZ3czkH5yf2uj6nhGTuE5pnWHND3/JP5Ndl7BTmfiyg4d9oarhvazQF94Zu9Owq+ffeLbal3Xej1og7owceP+g7jJzxrgywEaJzP6X0hGOFZX+SATo8rPUEAAuEJIECHZ0VNCFSJQLNw/G0ReY2zOONwNmKzPmnGOJONq7rd6zYReUPjxJ+KyEfbVDJPsflJw3lt3NbGBW0c0O7LPCFpt4joXwhXisgtGYNHgF5hMq3wggAE0iKAAJ0WSREE6GCWCNCtjBCgg/dM2BoI0GFJdb8eAnT3Y1D0GSBAFz1CzA8C1SeAAF39GLNCCLQjYHI6q0XKuJtf5FT6HRH5u8axXSJycQeMl4jI1xvnTToNTbHR3KTZTf33ImL693uZx92bVB/m9bWmNB9ZRRIBGgE6q71FvzUngBCd/gbopiAd5IQ2q9W80CoGuc5gdWz2v+pJC+fY7Z4bWV9BLuR2TmPt8/mv9/5fV/NFq3i4/SHzXOKFfLjnX/979nPQWGlGz49DmmP49RVFkHad0G4u6N0bttth9GF9m5bN5bGEQoyhLuJde4db5uOX+9nP+ZzE8RwEQq8FzTmu8RwY6bNNmx3V7v6P63junzCZ77J5tcszHzSS+92jdx8MnOc98kXvgBgYbb1Z0u/hg0GuZ9NnFs5nXScO6KCIB59vFp61Ng7oYG7UgAAE0ieAAJ0+U3qEQBkIXCsi/60x0W81ckM3z9s8ePDtjQMfFpG/6LAo41o293Tp/adGgDZCdPPrbhF5RePAO0TkCx36M/cra6oP81u9cWN7T5PJ5oUAjQCdzc6i19oTQIBOfwsgQC/+1R0BuvM+Q4BO5zpEgG7PEQEaATqdKyy7XhCgs2NLzxCAQDQCCNDReFEbAlUgYB57/U0RWdNYzO+LyN84CzP5l89uHDMO538NWPidIrKxUee3ROTLTfXN98wzTQK1sc7sDejPJM98QaOOyVn9gwzB116AbmZLPugMdxpd15YAQnR2oe+GIB3HCZ0dARF1F6vT8adbP2uH09zJ6jgNynmb5RzdvoNyRkeZS5g82dqfnxjt5oZW56zrgP799eb/7EW2DplnPNfrpQ8m/MweL2vb4Ukvf7nrgI7qfA7K85wG5XZu/6iO5yyF5rBrDOOIdh3QP7zO+xV//U6T1U5kcNdxXrm/9REr7vpwPoeNSvHrIUAXP0bMEAJ1IYAAXZdIs846EjCOYxWZzb2Hq0TkVSLyFnPnbQPIP4nIW50H/ZnvBZOn2btfUeR08xyXAIAmXYem1bhORP6sqb4Rkr2nMXkPFDR/sXhPh/F/mbzUmvbjXSLyDxkGEAG6CS4CdIY7ja5rSwABOrvQI0AjQCNAZ3d9NfeMAJ1dqo2wEUSADkuKes0EEKDZDxCAQFEIIEAXJRLMAwLpE9ghIr/u063J+/yZRhqO1iRwIssbjmVtalJgHA6Y3qdE5P2NOp8QkT9qqm8eKHh/47NJQNea8LJ9x/9TRN7cOGXShZi5Rn0Zq4dn9+j8eqmIDJ0gJ8uGX9oUVLc25xGiaxNqFtoFAgjS2UEvmiAdRjAKQ8N9wFi7Nq4T+rj9rb/mp5HzOcg1GmaefutN6opOIkT7OaBXrDE3cImsHJiy5YdfaJ67LFKn3M9uvDS3+D1PnmpPPTJiMqeJ9EwtsaXrgPbL+RzF+Zx07wbt23Z7sgiO5zDfDVrH/a7xuxZdFkVyPpPvOUrEg+u2E561FTmgg/lRAwIQSJ8AAnT6TOkRAkUh4CdAHxGRbY2HDH6/zWTXisjjTceNEzrI9mEcz3/caHODiLy3qf0rReSuxmfTr6bW6MTJOJ7f2ahg+v14DKh/KiIfCdsOAbqVFAJ02J1DPQhEJ4AAHZ1Z2BYI0CKaigMB2n/XuKk4EKDDXmEiCNDhWeVZEwE6T9rlGAsBuhxxYpYQqBMBBOg6RZu11pmASXvxyyJi8jl/sJFWwzif/1xE/k8RaX6Me1IB+r+LyDUpCtBBD0H0iysO6AQ7HgE6ATyaQiAkAYTokKASVMtbkA7KD52WI7odkrDu4zhu0AQhaGkado7NjaI6o8M4oYNyQZ9x7r/bKdxxlvm/fBFNP1HH3M9+sVchevtDL7NV5g4stWWQAzqM8zmp41nnHGevl835nPTaDJPrWcdYMu7dCZDVCwd0OmQ7Cc86Ag7odFjTCwQgEI0AAnQ0XtSGQBUIDIiIuYf01Y3FfMxxClclBUfYWJEDug0pBOiw24d6EIhPAAE6PruwLRGgF5OKI8qF5R1UDwE6iFB5ziNAlydWnWaKAF2NODavAgG6ejFlRRCoCgEE6KpEknVAIBqB00RkRETMd8C0iJgEfhONLsyxo8bE0vic9CGExnm9r9EXDyGMFqeu10aI7noImEANCCBE5xvkPETpICe0rjhLR3S+VOONlqUg3ckJHeSA7lltspWJ7Nl0c7yF1ajVZQ9vtqt99H4vw5o6oOPkfk7qfI7znys4njtv1qxdz2Z0nM/pfGGEEZ51JBzQ6TCnFwhAIBoBBOhovKgNgSoReFBEzm4s6A0icnvT4prPmbQd/xqw8DtFZGOjzm+JyJeb6pvvGfMUn8HGsWER2RvQ37815YreICI/yBA8DugOcBGgM9x5dA2BBgEE6Hy3AgJ0vrw7jYYAXZxYxJ0JAnRcct1pF8XxbGaIAN2dOMUZFQE6DjXaQAACeRJAgM6TNmNBoFgEvisiL29MyTzw7/NN0zPv3974HJSD2Tilx5sE5jONachZ6t0i8orGsXeIyBc6oDBu7NHGeeOYNilBjEs7qxcCdAiyCNEhIFEFAgkJIEQnBBizeZEE6ZhLiNSs6K7rsKJ02NzQUZzQ+jBCHND+W2rndI89ecuhV9ly117jK1icAzqsAzqJ6zmO41lXVnXnc1Sh2Y14HsKzjokDOtJXuG9lBOh0ONILBCCQHQEE6OzY0jMEikzA/PVwQERObkzyUhH5etOEf0dE/q7x2bibNV90uzUZh7S2fVRE1rep9CciYnJNm9f/EJF3d4CzVUT+tnHe9GvmluULAToEXQToEJCoAoGEBBCgEwKM2RwBOia4jJohQGcENqVuEaBTAplxNwjQGQMuYPcI0AUMClOCAARaCCBAsyEgUE8CW5pcyL8QkVWNNBlKY0hEHhcR88BC8zJO6e/7oDIPNDQpPMzroyLyp23qGVf0wyJihG8znhGpTZoN92Xc1LtF5JzGiatEJOsEjAjQEa4BhOgIsKgKgZgEEKJjgkupWZaCdNjc0CktJXE33XRLhxWidZF+juh2Dmg3B7Q6n+cGzI1XIr2DM7b80PledrKtQ2OJWVatg32zk3ZJb/qR8Q2IjI8db8ueqSW2XDbmOaX11Xe4lUA3nM9ldz0nFZXD7EGcz2EoFadOFNG5edbkgC5ODJkJBOpEAAG6TtFmrVUn8L5G6otvmOd5dFjsb4rI3zelzPjvInJNm/ofaRKTfyoi/6EpNYZW/0MR+UTjwxMickbTwwzdLm8SkSsbB3eJyK87orf5PvqvIvIfG3V+0hCiZzMOHAJ0BMAI0BFgURUCMQkgQMcEl1IzBOgFkAjQCNB+lxUCdEpfOBG6QYCOAKsmVRGgaxJolgmBihBAgK5IIFkGBBpO4SsaIrFJXXF/I82GyZ9s8igbF7JxKr+0iZZxGxtheaINwWWNhw9q7uZDInKjiPxYRIzN5c0iclmjnbEMmYcPfqVDJFaKyHcaIrWp9vNGqg2TtsOcM3modaxnG/P6Xg6RRYCOABkBOgIsqkIgJQII0imBjNkNgnR3Bem0nNBmFeqGDuuA3nj6iF38TetMNjJe7Qhsm1hjD7su8RdtM74IEc0FnYYDOm7O56I7n/MQloN2b57OZ50LuZ+DouJ/Pq7wrD3igI7PnpYQgEB8AgjQ8dnREgJFI2BSVRgBOsxrTkT+HxExDuZnOjQ4sZGqo1MeZtPeOKibH2Lo1+VpInKriLysw5jmPtd3iYhxcufxQoCOQBkBOgIsqkIgJQII0CmBjNkNAvQCuG44ohGgY27cnJohQCcHjQCdnGHdekCArlvEWS8EqkEAAboacWQVEDAEBkXkIhG5uOEkfkHDWXyCiBgX9FMi8qCI3NUQix+LgM24nX9bRC4UkdUiMtVwMO8QEZPCw+SLDvsyyQGNwGzyUJ/bmKNxYBubkXFQ32BSCYbtLIV6CNAxICJEx4BGEwikQAAxOgWICbtAkO6OIJ2GEO06oDX387bfML96iHzgwbfacuWA+TVH5I6zzK85vKIQOG3H1bZ6/wHzWI/FDug4uZ/L6nwugrAcFDucz0GEinU+qfCsq8EBXay4MhsI1IUAAnRdIs06IQABPwII0DH2BgJ0DGg0gUAKBBCgU4CYsAsE6AWAeTqiEaATbtycmiNAL4BGgG6/6Ui9Ef9iRICOz46WEIBA9wkgQHc/BswAAhDoLgEE6Bj8EaBjQKMJBFIggACdAsSEXSBAI0An3EKVbo4AjQAdtMERoIMI+Z9HgI7PjpYQgED3CSBAdz8GzAACEOguAQToBPwRohPAoykEEhBAiE4AL6WmCNGLQebhiA7rhD663P/PnGdPOWYn/9Otn21ZxHUHz7Gfr1/1QEq7pD7d7JzusYu95dCrbPntu19sy2Vj3nF9CGGUFBxlSL1RBpdzu13YjdQbOg8E6PjfCwjQ8dnREgIQ6D4BBOjux4AZQAAC3SWAAJ2APwJ0Ang0hUACAgjQCeCl1BQBejFIBOiUNlcJu0GALlfQEKDLFS+dLQJ0OePGrCEAAY8AAjQ7AQIQqDsBBOgUdgBCdAoQ6QICMQggRMeAlmGTrETpmaGlGc46u66zEKTDOqB1Ve2c0OqAnhs2z2gW2bPp5uwgVKxnFZpHjq6yK9s6NNayQnWR37bvbHv86F0n2TKKA7qIzueyOp3d7YfwXM4LMi3hWVfPQwjLuQ+YNQTKTgABuuwRZP4QgEBSAgjQSQmKCAJ0ChDpAgIxCCBAx4CWYRME6Fa4CNAZbrYudY0A3SXwKQ2LAJ0SyJy7QYDOGTjDQQACmRBAgM4EK51CAAIlIoAAnUKwEKBTgEgXEEhAACE6AbwMm2YlSJspl8kV3U0hup0Dema5F/SZQS8XtDqhv7Hx0/bzut7BDHdFubveNrHGLmDXxHpb3ndwrS1XDkzZ8tH7X2DL3knvz8w+LQ976w6TAzqqA7p/YjZ1qDie00NKzuf4LNMWnnUmOKDjx4SWEIBAfAII0PHZ0RICEKgGAQToFOKIAJ0CRLqAQAICCNAJ4GXYFAHag4sAneEmy7lrBOicgSccrpuOZ506AnT8ICJAx2dHSwhAoHgEEKCLFxNmBAEI5EsAATpF3gjRKcKkKwjEIIAQHQNaDk2yFKJ1+mVwRKcpREfNBW2F8OXenz6uA/roas9B+9jmG1t2w77ZSfv5a1Nn2NLNd5zD1incECpAf3F0g53b3gMn23J2ss+W/Qd6W+YcxQEd1fmsA6XhgK6K41mZFEF41rkgQEe/jLMSnnUmOKCjx4QWEIBAcgII0MkZ0gMEIFBuAgjQKcYPATpFmHQFgRgEEKBjQMuhCQK0BxkBOofNlvEQCNAZA06pewTolEB2qRsE6C6BZ1gIQCBTAgjQmeKlcwhAoAQEEKAzCBJCdAZQ6RICMQggSMeAlkOTugvS3RKiXQe0hnpqeMa+XbHmGVvu3rDdlpc9vNmWawcmbPnRtV+1JTmiFy6S9TuvtB9cB7Q6n7VmXyMHtH5ulws6qgM6ifO5ao5n5YrwnMMXeA5DIEDnAJkhIACB3AkgQOeOnAEhAIGCEUCAziAgCNAZQKVLCMQggAAdA1oOTRCgW9M0JEEeJRUHAnQS0u3bIkCnzzRJjwjQSegVpy0CdHFiwUwgAIH0CCBAp8eSniAAgXISQIDOMG4I0RnCpWsIRCCAEB0BVo5V8xCidTlFzBGdhhM6DQF6ZvCYxTTbKOcGnrOf1RF93qpR+/mKlXfZctOyuRx3SbGH0jzZr7n9/XaimgM6rAM6quvZjjHh5eyO+qqa67lIYnO7WJD7OeoOFclaeNYZkQM6emxoAQEIJCeAAJ2cIT1AAALlJoAAnWH8EKAzhEvXEIhAAAE6AqwcqyJAJ3dCI0DnuGHbDIUA3T3+CNDdY5/VyAjQWZGlXwhAoAgEEKCLEAXmAAEIdJMAAnQO9BGic4DMEBAIQQAhOgSkLlapsyAd1w2dpQDdO+jlhv7Q+bfbcuvQWBd3RzGHVgH6TT/aaic4MbLClr2T3p+Z6oT2ywGdhwMa53O+ewfnc3TeeQnPOjMc0NFjRAsIQCA5AQTo5AzpAQIQKDcBBOgc4ocAnQNkhoBACAII0CEgdbEKAnR0+AjQ0Zml2QIBOk2a4frC+RyOU5lqIUCXKVrMFQIQiEsAATouOdpBAAJVIYAAnUMkEaBzgMwQEIhAACE6AqwuVM1TiHaX1+1c0VGd0EECtD54sHmdM8tbV605oPXo3PC0fXv66ids+ba199oSB/Tii2HbxBp78C9++Gu2nJ3sa6mkLvKekWX2+HH7vT8/+w97ebejOKCj5n7G+ZzvlxfO5+i88xaedYY4oKPHihYQgEByAgjQyRnSAwQgUG4CCNA5xA8BOgfIDAGBCAQQoCPA6kJVBOjw0BGgw7PKoiYCdBZU2/eJ8zk/1nmNhACdF2nGgQAEikAAAboIUWAOEIBANwkgQOdMHzE6Z+AMB4EOBBCiy7E9uilIG0LdcEWn5YSO4oCeHfRcuT2rj9hyz6aby7FBCjDLq/ZdbGdx38G1trx83UO2vH7VA7bUVB2Xf+Y/288Do+Ed0GGdzzieu7sRcECH598t4VlniAM6fKyoCQEIpEcAATo9lvQEAQiUkwACdM5xQ4DOGTjDQaADAQTocmwPBOjgOPk5oRGgg9mlUQMBOg2KrX0U3fHsrhgBOvweQIAOz4qaEIBAdQggQFcnlqwEAhCIRwABOh63xK0QohMjpAMIpEYAITo1lJl21G0hWheXpyM6rBM6jgDt5n52HdDf2Phpu+R1vYOZxrUonatLud16rzt4Tss0X7f8Qft507I5W2oqDq2k+bJP23G1PfTbv/pdW976zxttecIjXs0wOaDr5oBGeC7KFZH+PLotPOuKcECnH1t6hAAEggkgQAczogYEIFBtAgjQXYovAnSXwDMsBNoQQIAux7ZAgPaPEwJ08j2MAJ2cYRo9IECnQbGYfSBAFzMuzAoCEMiHAAJ0PpwZBQIQKC4BBOguxwYhussBYHgI+BBAlC721iiKGG0o5eGIDnJCuwJ0p9Qb6nxWx7NGem7gOfu2d3DGlhtPH7HlTevuLPZmSGl26nJ+/MgJtsfRqSHfnt+29l57Tp3ObsWd0z320Hv/8b227Jv0/uzsO+zV7D8cnAO6Ls7nsgnOGmtSboS/8IoiPOuMcUCHjx01IQCB9AggQKfHkp4gAIFyEkCA7nLcEKC7HACGh4APAQToYm8NBOjW+CBAJ9+vCNDJGcbpAQE6DrVytUGALle8mC0EIJANAQTobLjSKwQgUB4CCNAFiRVCdEECwTQg4BBAiC72liiSEK2ksnRE+zmh/QTomeUL8Zte4+UrHhoet+X42PEtwVXn8/LBaXt894btHYOvLl/Ng9xcudO5ou4o90GChyeXLZqqHxttu2vvsG0zd2CpLZeNeU5o1/msHbfLAY3zuag7pHVeOKA7x6loonPzbHFAl+MaY5YQqBoBBOiqRZT1QAACUQkgQEclllF9BOiMwNItBBISQIBOCDDj5gjQHmAE6OQbDQE6OcMoPZTV+axrRIBGgI6y36kLAQhAAAGaPQABCNSdAAJ0QXYAAnRBAsE0IOAQQIAu9pZAgEaATmuHIkCnRTJcPwjQ4TiVtRYO6LJGjnlDAAJZEUCAzoos/UIAAmUhgABdsEghRBcsIEwHAg0CCNHl2Ap1EaT9UnFMnrLEBkpTb2jaDXNMU2+4qTVc4XXlwJTt48MvvM2WmmJD02rccuhVLZth49Ae+3nXxPpFm6SIDzD0Sw+yb3bSzv+SXdfacnayb9F6NE3Jnk03t5zT/NHbH3qZPZ5lCo6+iSPluBidWZZdcNbl4HwOt/0QoMNxohYEIFAfAgjQ9Yk1K4UABNoTQIAu2M5AgC5YQJgOBBoEEKDLsRUQoBGgg3YqAnQQoWzOI0Bnw7WovSJAFzUyzAsCEOgWAQTobpFnXNF10/IAACAASURBVAhAoCgEEKCLEglnHgjRBQ0M06o9AYTocmyBIgrRSi7NhxS6TmjNBf29v/ysHU7dzeb9R9d+1R5704+22vIrL91my3W9gy1BVYH29L5nWs7r8Y//7HJ7/NDUgC31YX36gD5zTF3Ub1t7r62zdWis6xtn28QaOwd1aqtzW+e2fueV9rw6n3umPDG/3atntedC3nj6iC3V6a1jfGbPa+zxiZEVtjx+j/cwwv7Dx7xy0nsgZPMr6OGDOJ+7u4VwPofjX2ThWVfAQwjDxZJaEIBAugQQoNPlSW8QgED5CCBAFzRmCNAFDQzTqj0BBOhybAEEaARod6ciQHfn2sX53B3u3RoVAbpb5BkXAhAoOgEE6KJHiPlBAAJZE0CAzppwwv4RohMCpDkEMiKAEJ0R2JS7rboQ7eeAPrrc+zPn2VM8x615/XSrJ0oPb7+mhfLIls/Zz5c9vNmWd5y1o+W8CrfqFNZ6ew+c7BstdUNrvmnNr6xua82ZfNrzDtk+Lh141JauGzuN7aBj3/DURba7e5481Zbq4Fa39qP3v8Ae750M/hNxdtDj+s23fMKWV+95e8tULzzp5/bz57/p5cuuiwO6KmJzu32HA7rz1VgG4VlXgAM6jW9W+oAABKISCP7tImqP1IcABCBQLgII0AWPFwJ0wQPE9GpLAAG6HKFHgEaARoDO71pFgM6PddFGQoAuWkSYDwQgUDQCCNBFiwjzgQAE8iaAAJ038ZjjIUTHBEczCGRMACE6Y8ApdV9kIbp5iXHzQwc5oc0YM8vbw5xe05qPeG7gOVtxxRovB/Tl6x6y5XtOvNuWmkN6fOz4wOj0Ds7YOqevfsKWawcmbDk6NdTy+YqVd9nPm5Ytzo0cOEjICuq6vm3f2baF5q52cz6HcUDrkOqE1jb6WXNE67of/5d1tsnAaGsO6KC8z6ZNGXI/V1V4xvUcfHGVSXjW1eCADo4rNSAAgfQJIECnz5QeIQCBchFAgC5JvBCgSxIoplk7AgjQ5Qg5AjQCNAJ0dtcqAnR2bIveMwJ00SPE/CAAgaIQQIAuSiSYBwQg0C0CCNDdIh9zXITomOBoBoGcCCBI5wQ65jB1FaKbcWl+aBehOqTVEa0u3j2bbrZVd0732PLq773blnMHloaOgrqq1RGtOaLVXX39qgdC9xW3oitAq4O7Z2qJ7dJ1PveFyAXdd7h1NspwppEj+pWX/thW+NHfnWPLwf2eu1xfZXVAV1Vw1rjgfA6+ysooPOuqcEAHx5caEIBA+gQQoNNnSo8QgEC5CCBAlyteggBdsoAx3doRQIAudsgRoEUQoL0UHAjQ8a9VBOj47KrSEgG6KpFkHRCAQF4EEKDzIs04EIBAUQkgQBc1MgHzQoguaeCYdm0IIEQXO9RlEaKVYtTc0G5OaNPP0UHPwey+VJB23bs/3fpZW/WqfRfb8qNrv2rL1375g7aMkyvZzwm9e8P2zDeMOqDvefJUO9ahqQFbToysaFlPJ+ez63gOmrQyXfEIzucgVkU4j/M5OAplFp51dTigg+NMDQhAIH0CCNDpM6VHCECgXAQQoMsVr/nZIkCXNHBMuzYEEKCLHWoE6IX4IEAjQIe9WnE+hyVV3XoI0NWNLSuDAASyJYAAnS1feocABIpPAAG6+DHqOEOE6JIHkOlXngBCdLFDXFUhup0DWiMR5IR+9pRjtupb37jLltsfepkte0aW2TJMbmTNgaxjzjZyIvs5oM9bNWqrqst6Xe9gbhvngnu32LGO3nWS75iu87n/sMco7Kt/cq6lallyP1ddcHbjhwPaf0dXQXjW1eGADvvNRT0IQCBNAgjQadKkLwhAoIwEEKDLGLWmOSNAlzyATL/yBBCgix1iBOiF+KgTGgF68Z5FgC72dZzW7BCgEaDT2kv0AwEIQMAlgADNnoAABOpOAAG6IjsAIboigWQZlSWAEF2O0JZFkA6bEzqOE/rpM1tjpe7lZWPtc0h3iqw6oV0H9Io1z9hm6nzeOLTHft46NJbaRtk3O2n7+trUGS19ay5odXbPHVhqz7vraxadkzqedVE4n1MLb6odITzXQ3jWVeKATvXyoTMIQCAkAQTokKCoBgEIVJYAAnRFQosAXZFAsozKEkCALkdoEaBFEKC9vYoAXY5rNo1ZIkAjQKexj+gDAhCAQCcCCNDsDwhAoO4EEKArtgMQoisWUJZTOQII0eUJaRnE6LBOaEO9kxvanh9sdThrSo44EZtZ3tpqeo2XA3loeNyWuzdsD9XtzmlvTpuWteZQDtP4qn0Xt1S7ad2dLZ/X77zSfnZzW6vwHNX1bPpycz278yy6A5qcz2F2Vj3qVCnnsxsxHND12MOsEgJFI4AAXbSIMB8IQCBvAgjQeRPPeDwE6IwB0z0EEhJAgE4IMMfmCNDx/1RCgG6/URGgc7yAQwyF89kfEgJ0iA1EFQhAAAIRCMT/rSrCIFSFAAQgUGACCNAFDk7SqSFGJyVIewjkQwBROh/OUUcpgwCta0rTCa19uo7o+ePLw/8JpUK0OqBHtnzOdqPO5g88+Fb7+ffXf8uWlw48asuPjL7Bls9f+rQtr1/1QNTwyQX3brFtDk8us+XywWlbuu7rF217nz1+3P7WdUVxQKfhfNYF9k0cibzWuA3q5nhWTgjP/jumysKzrhoHdNxvDNpBAAJJCIT/7SnJKLSFAAQgUFwCCNDFjU3imSFAJ0ZIBxDIhQACdC6YIw+CAN3+oYNRUnMgQHvbLozzGQE68iUauwECNAL00/KEgWD+52tT7I1EQwhAAAIRCCBAR4BFVQhAoJIEEKArGdbWRSFE1yDILLESBBCiixnGqgnRQbmg/aLg54jW+p2EaRWiZwaP2eqzjXJu4Dn7+bHNN9rSdUZr3+etGrVvNw7tmZ/e1qGxlqlum1hjP39xdIMt9x442Rtrsq+lXs/UEvtZxx4Y8c43P3TQfA7jgA5yPuvARROgcT4X87umm7Oqg/NZ+eKA7uZOY2wI1JcAAnR9Y8/KIQABjwACdA12AgJ0DYLMEitBAAG6mGFEgPbiggC9eH8iQBfzmvWbFc5n/3ghQJdrLzNbCECgfAQQoMsXM2YMAQikSwABOl2ehe4NIbrQ4WFyEJgngBBdzM2AEB1OiG6OnuuK9ns44Tff8gnb7DW3v78l+L2DM/az5m9WJ7Q5dtO6O1vqqnv64z+73B53HdDqfO6dbP0TsK/xWR3QVXU+19X13LxJEKAXf7fWSXjW1eOALubPWGYFgaoTQICueoRZHwQgEEQAATqIUIXOI0BXKJgspdIEEKCLGV4EaARo3ZlldD4jQIsgQCNAGwII0MX8GcusIFB1AgjQVY8w64MABIIIIEAHEargeYToCgaVJVWSAEJ0McOKEJ2+EO3mhtbIa57mM4f320M3rv/C/KZY1zvYdoPsm520xy/Zda0t5w4staWf81k7CeOADis8zwvVE7OhN3HfxJHQdaNURHhGeG63X+rofFYOCNBRvkGoCwEIpEUAATotkvQDAQiUlQACdFkjl2DeCNAJ4NEUAjkSQIDOEXaEoRCgPVhBOaGbkQal4kCAFkGAjnARRqyK83kxMAToJwyUb4nIpojbieoQgAAEYhFAgI6FjUYQgECFCCBAVyiYYZeCAB2WFPUg0F0CCNDd5e83OgI0AnTYndmPAzosqkzrIUAjQDcTwAGd6eVG5xCAgA8BBGi2BgQgUHcCCNA13gEI0TUOPksvJQEE6WKFrQxC9MyQl34izOvoUG+YaovqZOGE1kFmB4/Ztz2rvfQUW87+wfz41696oGUu+hDCTcvm7PH1O6+0pZuCQx86qI019YZ+7vQQwrApOKIIz/PzSDkFB6k3SL2he6vObud2X2oI0LG+6mkEAQgkJIAAnRAgzSEAgdITQIAufQjjLwABOj47WkKgGwQQoLtB3X9MBGiPDQL04j2CAF2MaxXnsxcHBOjW/YgAXYzrk1lAoG4EEKDrFnHWCwEIuAQQoNkTghDNJoBAuQggRBcrXmUQog2xIDd0ERzQGlnNCa2fj672HuanDyM079cOTNhjN62705bXHTzHlrftO9uW42PH27Jnaokt9SGEQQ5oHbOdEzptB3SaeZ9xPC98LyA8eywQntv/rECALtbPUGYDgboQQICuS6RZJwQg4EcAAZq9gQDNHoBAyQggQBcrYAjQPaEDEvQwQu0IATo00vmKCNAI0O6uQYBGgI7+TUILCEAgKwII0FmRpV8IQKAsBBCgyxKpHOaJEzoHyAwBgRQJIESnCDOFroouRAc5oBVBEZzQrgCtuaDnBp6bj9SKNc/Y97s3bLflvtlJW16y61pbzk722TJPB3TU1BtpOKARnhcuXpzPHguE585f6DigU/iBRxcQgEBkAgjQkZHRAAIQqBgBBOiKBTTJchCgk9CjLQTyJ4AAnT/zTiMiQKfnhEaADr+3EaARoN3dggCNAB3+G4SaEIBAXgQQoPMizTgQgEBRCSBAFzUyXZwXQnQX4TM0BBIQQJBOAC/FpnUVovN4GGE7B/Tl6x5qiZ5fDmittGysvVDed7h1E8TJAZ2nAxrhGeEZ4TneFzcO6HjcaAUBCCQjgACdjB+tIQCB8hNAgC5/DFNfAQJ06kjpEAK5EECAzgVz4CAI0IGIJCgXdBQHNAJ0MO+q1yD1hhdhnM/hdjoCdDhO1IIABNIlgACdLk96gwAEykcAAbp8Mct9xgjSuSNnQAgkIoAQnQhfao3rJkTn4YDuWX1kPj7LB6fte80BrSeuO3iOfXvPk6facu+Bk205d2CpLXsnvT8B+xqltiuLAxrnsxcxROeFryqE52hf2wjQ0XhRGwIQSIcAAnQ6HOkFAhAoLwEE6PLGLreZI0DnhpqBIJAKAQToVDAm7gQB2h9hXAc0ArQIAjQCtHtlIUBH+7pGgI7Gi9oQgEA6BBCg0+FILxCAQHkJIECXN3a5zxwhOnfkDAiBRAQQohPhS9y4bgJ0M7AgN3RYAXp28JjtVnM/bzr3J/PDXLHyLvv+64dfbEvN/fypF99qP29aNmfLq/ZdbMvRqSFbXnjSz2156z9vbImxOqJdJ7SppPmg+ye9Pv1eYXNA900sOLmjbrS6C9A4nxd2DMJz1KvHq48AHY8brSAAgWQEEKCT8aM1BCBQfgII0OWPYW4rQIDODTUDQSAVAgjQqWCM3QkCtD86BGgE6LgXFgI0AnTcvaPtEKCTEqQ9BCAQhwACdBxqtIEABKpEAAG6StHMaS0I0TmBZhgIZEAAUToDqAFdFlWInhnyciKHfR0d6g1bVaI6oLXjmeXeu+k1ntNYnc+9gzP284fOv31+DluHxuz79TuvtOXsZF/L/NQtfdO6O1uOX3DvFvt5fOx4W/ZMLWk53y5H9MCo58TWl58TOksHNM7nidD7r6oVcTynE1kE6HQ40gsEIBCNAAJ0NF7UhgAEqkcAAbp6Mc18RQjQmSNmAAhkRgABOjO0vh0jQC9G4zqgtQYCtP/+RIBGgEaATuf7GwE6HY70AgEIRCOAAB2NF7UhAIHqEUCArl5Mc10RYnSuuBkMAqkRQIhODWXojuokRPs5oP2EZ4X47Cme0/iVl/7Ylupevuzhzfbzjeu/MM/7kl3X2vdzB9o7uYeGx+35w5PLbLl8cNqWuzdst6U6ofX8nk032+On7bjalv0HFju+T3ikNdyuEzoLBzTCM8IzwnPor9lQFRGgQ2GiEgQgkDIBBOiUgdIdBCBQOgII0KULWbEmjABdrHgwGwiEJYAAHZZUevUQoEUQoL39FOUhhAjQCNAI0Ol9D5ueEKDT5UlvEIBAOAII0OE4UQsCEKguAQTo6sY215UhROeKm8EgkBoBhOjUUIbuqGhCdBa5oKM6oDX1xsyg54A+unrWljddss2Wm5Z5OaGv2nfxPOdde4ft+54Rz+Gsr77J1j/xtM/ZRt/qjP7Ui2+1TU7ve8aW63oHW/pR17U5+LPv/LI9d9x+r+/+w948ozqgEZ5DXybCwwZFEJ7D75coNRGgo9CiLgQgkBYBBOi0SNIPBCBQVgII0GWNXMHmjQBdsIAwHQiEJIAAHRJUitUQoBfDRIBezATnM85nBOgUv3ibukKAzoYrvUIAAp0JIECzQyAAgboTQICu+w7IaP0I0hmBpVsIZEwAQTpjwCJSdgFaCR0dWpwjef7cYE9bkEEPH1S38k+3fral/c5pr7+rv/fu+ePqfHYdz34R1L7f+sZdtso/fP8VLVUf23yj/bx+55W2/ND5t8+f//Pb32TfLxvz5tF32DvlOqGDckCHcUAjPCM8Izxn+z2MAJ0tX3qHAATaE0CAZmdAAAJ1J4AAXfcdkNH6EaAzAku3EMiYAAJ0xoARoNsCdh3QCNDZ78OijkDqDVJvZL03EaCzJkz/EIBAOwII0OwLCECg7gQQoOu+AzJeP0J0xoDpHgIZEUCIzghsU7dld0JHcUCHdT5rnuae1UcsqS1n/8CW6lbWnNDm2LU3XGPPqRs5KGIqcr/pHXfaql/5vJdPWp3Rbvu54en5Q3s23WzfD2/3xuxt5JlWofzi33+vPe7ngMb5HBQdqW3OZ9zOwXsj7RoI0GkTpT8IQCAMAQToMJSoAwEIVJkAAnSVo1uAtSFAFyAITAECMQggQMeAFrEJArSI63xGgI64iSpUva7OZwTo/DcxAnT+zBkRAhAQQYBmF0AAAnUngABd9x2Q0/oRonMCzTAQyIgAgnRGYBvdFkGMnhlaGmuR7ZzQR50c0OqAVsHZHUhdyCpAv+O1d9kqr1v+oC23/n/vsaU6j8374/ZH+1NO8zXr2H6ubD3fPNep4Rl7+Mzh/bZ89P4X2FJzQq945Dn7OaoDuu75ng0zhOdYlx2NEhBAgE4Aj6YQgEBsAtF+a4k9DA0hAAEIFJYAAnRhQ1OtiSFAVyuerKZ+BBCgs405AvQxCxgBOtt9VsTeEaCLGJVqzwkButrxZXUQKCoBBOiiRoZ5QQACeRFAgM6LdM3HQYCu+QZg+aUngACdbQgRoBGgs91hxe0dAbq4sanqzBCgqxpZ1gWBYhNAgC52fJgdBCCQPQEE6OwZM0IbAgjSbAsIlJMAQnS2ceumEJ1mCg6lpKk4nj6zM7ejq2dbKmw69yf2830H19py6r4TbdnXePiffX/Ya+Km1kgaoXbpQqbXzNluNQWIpv/QsfsnvfNuCo6ghw/WOQUHwnPSnUr7uAQQoOOSox0EIJCEAAJ0Enq0hQAEqkAAAboKUSzhGhCgSxg0pgwBEUGAznYbIEB7fBGgs91nRegdAboIUajnHBCg6xl3Vg2BbhNAgO52BBgfAhDoNgEE6G5HoObjI0TXfAOw/NITQJDOJoTdEKLTdECr81ndxL/0a09aUONjx9uyd9B7qN/G00dsqU7n81aN2s+79g63gF0+OG0/H73rpPnjA6Ne2o6gl7qTg+rpefcBiub41Frvz8ZfnPesLU/86jJb4nwOS3WhXt2E5+fGx6NDokWmBBCgM8VL5xCAgA8BBGi2BgSqRWCDiFwoIi8TkZeIyEoROdk8KF1EnhGRx0TkuyLyjyLynYClW2E2Ap43isiOEPWXiMg7ReTtInKuiKwSkafNA9VF5CsicmPjc4iuUqmCAJ0KRjqJSwABOi452kGgGAQQoLOJAwI0AnQ2O6v7vSJAdz8GdZ8BAnTddwDrh0B3CCBAd4c7o0IgKwJGyB0K2bkRi68Qkad86mchQJ8qIrc2RHK/aRrrz7tE5Jsh15G0GgJ0UoK0T4UAQnQqGOkEAl0lgBidHv6qCdBPv9RzPOtLU2zctO7OluOXPbzZfn70/hfYUnMua6UTHglmHNXx7NdjOyf0wYu9XNUn/KjPloP7n7Ol5n4m57N/fBCeg/cuNfIhgACdD2dGgQAEWgkgQLMjIFAtAkaANn8ZfF9EfiwiY41/5q8D8xSbTSJi/rLpaSz7PhF5ubmjsg2GZgH6vSJyMADV3SJyoEMd48S+S0T0MTz7RORvRWRPwwVtXNFmLuY1JSKvFZF7cggPAnQOkBkimAACdDAjakCg6AQQoNOLEAI0AnR6u6kYPSFAFyMOzEIEAZpdAAEIdIMAAnQ3qDMmBLIjcE5DeO6UFNCk6bjDpO9rTOODIvLJAAH6NBH5WcJpbxOR3230YYToyxtpQbRb83301yLyB40DD4rIeSLiWWuyeyFAZ8eWnhMQQJBOAI+mECgIAQTp5IEoqxDt5oCeWe6xmF4zZ8ttv3GDLTct8z7ra9vEGvv2r770Zlv2TXp/rvUd9mr0H178K15ajudO0dL1qAP6BV/1vAw4n/2p1U1wVhLkfE7+vZd1DwjQWROmfwhAoB0BBGj2BQTqSeAPReQTjaV/2yfXc7MDOqkAvV5EftJwXhu3tXFBGwe0++oVkd0iYoR087pSRG7JOEQI0BkDpvt4BBCg43GjFQSKRAABOnk0EKARoJPvou70gADdHe6MGkwAATqYETUgAIH0CSBAp8+UHiFQBgKXicjtjYmabIIvajPpNAXoPxGRjzXG+HsR+Z0OkLY2UnOYKl8TkddnDBQBOmPAdJ+MAEJ0Mn60hkCRCCBIx49GnkL0zNDSSBM9OmT+/7z1FeSAHtnyuZYG1x30/u/9tn1n23LqPu9GteP2e3+uqfO5k9tZ3ciRJt+hcrt1uWOQ87kVYB1FZxzPaV1x+fWDAJ0fa0aCAAQWCCBAsxsgUE8C14rIf2ss/VuN3NAuiTQFaJMf+hWNAd4hIl/ogP0UETEPIjQvk8/6eHPHaoZhQoDOEC5dJyeAAJ2c4f/f3p0A27KddQH/m4QnIS8kQEjCpIQEUMCEsZgHJxAQkEIEYhQwhUAxFYOWIqMUThALS0UJBCIyyRglTBJEhARkNhCZEsaEJER5ZGJ4GbC+e3r79j3vnLO7917du4ffrkrdvHtWr17r93Wfc89/r71aDwTmIiCAPr4SAuiLrTcE0MdfQ1McKYCeQtk5ThUQQJ8q6HgCBI4REEAfo+YYAssW+DNJfjDJxSaDyScl+fIrprQfQNdK5Fol/bAkd3cPJKwHBD4lybce2Ke5vs+8pB6U3p3jkUl+9QDhbyW5ePpOUntW/9SI5ALoEXF1PY6AUHocV70SmEpAEH289BRB9BgroH//DS4C5LsfVu+tJ/e78xW3/nzgnRfvsb/4Oa9z689XP+Di0Rd3vPBiVfWD63Nq1wTPrVc8D6mKlc+3awmeh1w92p5bQAB97go4P4FtCgigt1l3s96GQK043oXMr5HkoUnePcmH1e8xHcF3JPnwawLk/QD6JrH61eixN4TEFSRXoFyv+q3q/kkufuu6/lX7Ur9n9+XHJfn6EUsmgB4RV9fjCAigx3HVK4GpBATQx0sLoO+xE0Affx21PlIA3VpUf2MKCKDH1NU3AQLXCQigXRsE1ivw1CQfeM30KjT+t902HPd+nPrFQRXMPibJ05LUaufndlti1BYZ75Xkg2sBT9f/Hyb5i0meccX5alPDZ3Z//7tJXq8H+bcnuXj8e1LbhdRYh77qAYb1v0Ovt03yoAfnIXnHP/E+h9r6OoFZCQiiZ1UOgyFwtIBAejjdmEH0sSugd/s+78/m5W948evWHzz81bf+fNSj659TybOfefFBr/u9rHvIYPfn7tjXeOnF/7vz+Rcronevc4XOh1Y8X67gfe96+fCiLugIgfOCimWo9xIQQLsoCBA4h4AA+hzqzklgGoHrAugKi5+U5GuT/PgNQ3m3blXzH13TprbkqO033qb7+gvq96p6bs6l9tXP07u/e97e1ho3KdSK51pVXa/PTvJPjyD7giSf3/c4AXRfKe3mJCCAnlM1jIXA8QIC6OF2AujhZqccIYC+XU8AfcrV5NhzCwigz10B5yewTQEB9DbrbtbbE6htL96kW6X8WUneLEmtfP4nST6vthw8kqS2+Pi5JA/pjq++n9A4gP6HSf7ZEeOzAvoINIcsW0Agvez6GT2BnYBAuv+1MEYQ3XIF9N0PvPh1a7cH9KsfebHn86tf+Jq3/rz/C+5z68/diufdzO946dUPHZxiBfTQsHm/WlY+9792l9DyVXfdtYRhGuNAAQH0QDDNCRBoIiCAbsKoEwKLEnhAku/uttGogf/jISuFr5jp5yT5ou7va+/m977U5lxbcPQtij2g+0ppN3sBAfTsS2SABHoJCKB7Md1qJIDub9W3pQD6eqmtrXwWQPe9a5bVTgC9rHoZLYG1CAig11JJ8yAwTOARSZ6TpL4H1FKc2tf5xcO6+P+t97fYeFH3sMP9rmrl9W92f+EhhEciO4zAEAFB9BAtbQnMV0AQfbg2SwmgX/HAi7m804fWB8eS//Gjb33rz9f+lYsV0LvXlCufTwmaL1dmrSufBc6H70EtlicggF5ezYyYwBoEBNBrqKI5EDhO4FlJ3qo79P2TfO9x3eTNk9RDDev1iiR3XOqnvs+8pJ6j0/39I5P86oFz/dbeXtHv2O1FfeTwDh5mBfRBIg2WJiCAXlrFjJfA1QIC6MNXhgD6sNF1LQTQh+0E0IeNtFiegAB6eTUzYgJrEBBAr6GK5kDgOIEfS/LO3aH1wL9vPK6bvGuSZ3TH/k6Sh13Rz48meZfu7z8qyTfdcK5ajf3b3ddrxXStGbrYMHGclwB6HFe9zkhAID2jYhgKgRMEBNLX47UMovvuAX33g+5324DuvvP21cz1xct7QD/gMb9765iX/6/XvfXnaz3/4tex3crnXYd3vOz2x3Ocsvdzy6D5cgWsfD7hhp7RobbamFExJhiKAHoCZKcgQOBeAgJoFwWBbQrUb0gv3Ht44F9O8rQjKT47yRd3x/7w3t7S+919brfXdP3df0zyt2841+OTfFX39RpTjW3MlwB6TF19z0JAAD2LMhgEgZMFBNDXEwqgr7cRQA+/9ax8Hm7miOUICKCXUysjJbAmAQH0mqppLgT6C3zE3irkP+r2ba5tMoa+Tz3wbQAAIABJREFUHprk55O8fnfg30/yJVd08hZJfiFJBd91vtq2o7bZuPyqpUQ/naQeXFivj03y5KGDGtheAD0QTPPlCgiil1s7IydwnYBQ+naZKYPom1ZA71Y+7/Z+fsWdf3xroGOugB4zaL58/a1t5bPA2ffYLQkIoLdUbXMlMB8BAfR8amEkBE4V+MQkv5LkB5Jc/JZz9etDknzd3p7MX5HkEy41/bQkP5nk6Tf086gk35rkMV2bWlFdwfJLrznma5J8TPe1H0nygd3e0Lvm9f3oy5J8avcXv9gF0a88FebA8QLokYF1Px8BAfR8amEkBFoJCKBvlxRAt7qybu5HAD2N81hnseXGWLLL6FcAvYw6GSWBtQkIoNdWUfPZskCtFP7obv/k2rrimd02G7V/cu2jXKuQ62GDb7uHVKuN/0KSF1+Ce0qSCqp/rduao1Y5vyhJhcEP77bZqK+/RnfcHyZ53yS1Bcd1r1olXXtFV3Bdr9/ottp4dreCuvah3u0T/fvduP7nBAUVQE+A7BTzFBBIz7MuRkXgFAGB9IVeiyD6ur2gL6983tVrfw/ol7/hxa9Zu5XPX/HYer8/efx/+bu3/nzSBz/x1p+f/MSLNQAP+O2LtQND9n6ecsXzbo6C51PuzvMdK3A+n/0czyyAnmNVjInA+gUE0OuvsRluR2AXQPeZcT3Z5quTfOalVci7Y3cBdJ++ntUF3z/Vo/EjknxLkne4oe0LkjyuW8ndo8uTmwigTybUwVIFBNBLrZxxE7heQAB9YSOAHucuEUCP4zp2rwLosYWX1b8Aeln1MloCaxEQQK+lkuZBILkzybsmec9uJfEbdyuLH5ykVkHXY9crLK5tNb6xW918ndsju1XO79ytmK69nl+vHtbeBdbPS/LjSb4jyfckuf1R7TdX475dwFz7UD+6G2OtwH5Okgq+a0nQXRMWVAA9IbZTzV9AKD3/GhkhgSECAul7tIaG0n1XQO9WPv9efdase736kfVPr+SVL7v4sNgDnrP70NhFg8sroz/9CRcroe98/qtuK+8dL759J7JzrHquAa0heN7aPs9VN8HzkO+W22krgN5Orc2UwJwEBNBzqoaxECBwDgEB9DnUnXO2AgLo2ZbGwAgcJSCAvodNAH3UJXTrIAH08XbnPFIAfU79+Z5bAD3f2hgZgTULCKDXXF1zI0Cgj4AAuo+SNpsREEBvptQmuhEBAbQAusWlLoBuoTh9HwLo6c2XcEYB9BKqZIwE1icggF5fTc2IAIFhAgLoYV5ab0RAEL2RQpvm5gQE0sP3h768FcfuIYS7rTd2Dxz8g4ffsyPZ/V9wn1vX1u7hgtddaJcfVvjQn77o45xbb6whbC5DW25s7tubCfcUEED3hNKMAIGmAgLoppw6I0BggQIC6AUWzZDHFxBAj2/sDATOISCAFkAfuu4E0IeE5vt1K57nW5s5jUwAPadqGAuB7QgIoLdTazMlQOBqAQG0K4NADwGBdA8kTQgsUGDLgXTfPaEvr4B+2RvdcavSu9XLL3/kK27994N/9p4HDd7x0j++9Xd3vOzm5zTvVlHvLp07n3f3rf97jocNLj143tqKZ2HzAr/hzmTIAuiZFMIwCGxMQAC9sYKbLgEC9xIQQLsoCPQQEED3QNKEwAIFBNCHiyaAPmw0hxYC6DlUwRiWICCAXkKVjJHA+gQE0OurqRkRIDBMQAA9zEtrArcEBNIuBALrF9haOH1oRfQuiN6tgN5dAXc/8N6/Ut35/FfdeIFc3uN519jK5/731dYC552Mlc/9rxEtrxYQQLsyCBA4h4AA+hzqzkmAwJwEBNBzqoaxLEZAAL2YUhkogaMFBNC30wmgj76URjlQAD0Kq043ICCA3kCRTZHADAUE0DMsiiERIDCpgAB6Um4nW6uAQHqtlTUvAvcIbCWQ7rsS+u4H3e+2y+O6Vc19rqEpVz4vda9ngXOfK0kbAocFBNCHjbQgQKC9gAC6vakeCRBYloAAeln1MtqZCgigZ1oYwyLQUEAAfYG5WwktgG54cfXoSgDdA0kTAj0EBNA9kDQhQKC5gAC6OakOCRBYmIAAemEFM9xlCAikl1EnoyTQQmDtwXTfFdFDLK14PqwlcD5spAWBYwQE0MeoOYYAgVMFBNCnCjqeAIGlCwigl15B45+lgAB6lmUxKAKjCAigX3OwqwD6MJkA+rCRFgSOERBAH6PmGAIEThUQQJ8q6HgCBJYuIIBeegWNfxECAulFlMkgCTQVWGswfWhFdFPEIzpb0h7PWw2Z98v6qrvuOqLKDiFwvIAA+ng7RxIgcLyAAPp4O0cSILAOAQH0OupoFjMXEEDPvECGR2AEAQH0CKg9uhRA90CaURMB9IyKsZGhCKA3UmjTJDAzAQH0zApiOAQITC4ggJ6c3AkJXAgIpV0JBLYpsNZger+aU6ySFjQv8/4ROC+zbmsatQB6TdU0FwLLERBAL6dWRkqAwDgCAuhxXPVK4KCAAPogkQYEVikggG5TVgF0G8epexFATy3ufJcFBNCuCQIEziEggD6HunMSIDAnAQH0nKphLJsWEEhvuvwmT+CWwBbC6TWX2p7O966uwHnNV/wy5yaAXmbdjJrA0gUE0EuvoPETIHCqgAD6VEHHE2gkIIBuBKkbAgsWEEAvuHhJBNAC6GVfwdsYvQB6G3U2SwJzExBAz60ixkOAwNQCAuipxZ2PQE8BgXRPKM0IbEhAQD2PYguar66D1c7zuD6N4mYBAbQrhACBcwgIoM+h7pwECMxJQAA9p2oYC4E9AQG0y4EAgcsCAuh5XBMCaAH0PK5EozhGQAB9jJpjCBA4VUAAfaqg4wkQWLqAAHrpFTT+zQgIpDdTahMlcLSAgPpoOttnHEFnxfMRaA45u4AA+uwlMAACmxQQQG+y7CZNgMCegADa5UBgIQIC6IUUyjAJnFFAAH08vlXNw+0E0MPNHHF+AQH0+WtgBAS2KCCA3mLVzZkAgX0BAbTrgcBCBQTSCy2cYROYmcDaQ2vBcrsLTuDczlJP5xMQQJ/P3pkJbFlAAL3l6ps7AQIlIIB2HRBYqIAAeqGFM2wCMxMQQM+sIDMejgB6xsUxtN4CAujeVBoSINBQQADdEFNXBAgsUkAAvciyGTSBewsIpF0VBAgQINBCQNDcQlEfcxUQQM+1MsZFYN0CAuh119fsCBA4LCCAPmykBYFFCAigF1EmgyRAgMDsBQTQsy+RAZ4gIIA+Ac+hBAgcLSCAPprOgQQIrERAAL2SQpoGAQG0a4AAAQIEWggIoFso6mOuAgLouVbGuAisW0AAve76mh0BAocFBNCHjbQgsFgBofRiS2fgBAgQmExA4DwZtRPNQEAAPYMiGAKBDQoIoDdYdFMmQOA2AQG0C4LAigUE0CsurqkRIECgkYAAuhGkbhYhIIBeRJkMksDqBATQqyupCREgMFBAAD0QTHMCaxAQTK+hiuZAgACB4wQEzse5OWodAgLoddTRLAgsTUAAvbSKGS8BAq0FBNCtRfVHYAECAugFFMkQCRAgMJKAAHokWN0uQkAAvYgyGSSB1QkIoFdXUhMiQGCggAB6IJjmBNYoIJBeY1XNiQCBLQsImbdcfXO/SUAA7fogQOAcAgLoc6g7JwECcxIQQM+pGsZC4EwCAugzwTstAQIERhIQQI8Eq9vFCwigF19CEyCwSAEB9CLLZtAECDQUEEA3xNQVgbUJCKbXVlHzIUBgrQIC57VW1rxaCwigW4vqjwCBPgIC6D5K2hAgsGYBAfSaq2tuBE4UEECfCOhwAgQITCQggJ4I2mkWLyCAXnwJTYDAIgUE0Issm0ETINBQQADdEFNXBNYuIJBee4XNjwCBuQsImudeIeObu4AAeu4VMj4C6xQQQK+zrmZFgEB/AQF0fystCWxeQAC9+UsAAAECZxYQQJ+5AE6/eAEB9OJLaAIEFikggF5k2QyaAIGGAgLohpi6IrBlAeH0lqtv7gQItBYQNLcW1R+BCwEBtCuBAIFzCAigz6HunAQIzElAAD2nahgLgQULCKAXXDxDJ0BgdgIC6NmVxIBWIiCAXkkhTYPAwgQE0AsrmOESINBcQADdnFSHBAjsCwimXQ8ECBC4WkDI7MogML2AAHp6c2ckQCARQLsKCBDYuoAAeutXgPkTGFlAAD0ysO4JEFisgAB6saUz8AULCKAXXDxDJ7BgAQH0gotn6AQINBEQQDdh1AkBAkMFBNNDxbQnQGCpAoLmpVbOuNcoIIBeY1XNicD8BQTQ86+RERIgMK6AAHpcX70TIHCNgADapUGAwFYEBNBbqbR5LkFAAL2EKhkjgfUJCKDXV1MzIkBgmIAAepiX1gQIjCwgmB4ZWPcECIwmIGgejVbHBJoJCKCbUeqIAIEBAgLoAViaEiCwSgEB9CrLalIElisggF5u7YycwNYFBNBbvwLMfwkCAuglVMkYCaxPQAC9vpqaEQECwwQE0MO8tCZA4IwCwukz4js1AQL/X0DQ7GIgsFwBAfRya2fkBJYsIIBecvWMnQCBFgIC6BaK+iBAYBIBAfQkzE5CgMABAQG0S4TAcgUE0MutnZETWLKAAHrJ1TN2AgRaCAigWyjqgwCBWQgIqGdRBoMgsAoBIfMqymgSBO4lIIB2URAgcA4BAfQ51J2TAIE5CQig51QNYyFA4CQBAfRJfA4mQGBPQADtciCwTgEB9DrralYE5i4ggJ57hYyPAIGxBQTQYwvrnwCB2QgIqGdTCgMhcHYBAfPZS2AABM4iIIA+C7uTEti8gAB685cAAAKbFxBAb/4SAEBgOwIC6O3U2kwJHBIQQB8S8nUC6xQQQK+zrmZFYO4CAui5V8j4CBAYW0AAPbaw/gkQWIyAgHoxpTJQAgcFBMwHiTQgsEkBAfQmy27SBM4uIIA+ewkMgACBMwsIoM9cAKcnQGA+AgLo+dTCSAicKiCAPlXQ8QTWKSCAXmddzYrA3AUE0HOvkPERIDC2gAB6bGH9EyCwGAEB9GJKZaAEDgoIoA8SaUBgkwIC6E2W3aQJnF1AAH32EhgAAQJnFhBAn7kATk+AwLIEhNTLqpfRrldAwLze2poZgTEFBNBj6uqbAIHrBATQrg0CBLYuIIDe+hVg/gQIDBIQQA/i0pjAaAIC6NFodUxg1QIC6FWX1+QIzFZAAD3b0hgYAQITCQigJ4J2GgIEtiEgoN5Gnc1yHAGh8jiueiVA4B4BAbSrgQCBcwgIoM+h7pwECMxJQAA9p2oYCwECixcQQC++hCZwRgEB9BnxnZrARgQE0BsptGkSmJmAAHpmBTEcAgQmFxBAT07uhAQIELhdQGjtili7gGB57RU2PwLLERBAL6dWRkpgTQIC6DVV01wIEDhGQAB9jJpjCBAg0FBAAN0QU1ezFBBAz7IsBkVgkwIC6E2W3aQJnF1AAH32EhgAAQJnFhBAn7kATk+AAIGhAgLroWLatxQQJrfU1BcBAlMLCKCnFnc+AgRKQADtOiBAYOsCAuitXwHmT4DA4gQE0Isr2aoGLIBeVTlNhsDmBATQmyu5CROYhYAAehZlMAgCBM4oIIA+I75TEyBAYGoB4fXU4vM9nyB5vrUxMgIExhMQQI9nq2cCBK4XEEC7OggQ2LqAAHrrV4D5EyCwKQEB9KbKfeNkBdCuBQIEtigggN5i1c2ZwPkFBNDnr4ERECBwXgEB9Hn9nZ0AAQKLFBBkn6dsQuPzuDsrAQLrERBAr6eWZkJgSQIC6CVVy1gJEBhDQAA9hqo+CRAgsHIBAfR5CiyAPo+7sxIgsB4BAfR6amkmBJYkIIBeUrWMlQCBMQQE0GOo6pMAAQIEZiFwKCgX6M6iTAZBgACByQQE0JNROxEBAnsCAmiXAwECWxcQQG/9CjB/AgQIrFhAAL3i4poaAQIEjhAQQB+B5hACBE4WEECfTKgDAgQWLiCAXngBDZ8AAQIECBAgQIAAgX4CAuh+TloRINBWQADd1lNvBAgsT0AAvbyaGTEBAgQIECBAgAABAkcICKCPQHMIAQInCwigTybUAQECCxcQQC+8gIZPgAABAgQIECBAgEA/AQF0PyetCBBoKyCAbuupNwIElicggF5ezYyYAAECBAgQIECAAIEjBATQR6A5hACBkwUE0CcT6oAAgYULCKAXXkDDJ0CAAAECBAgQIECgn4AAup+TVgQItBUQQLf11BsBAssTEEAvr2ZGTIAAAQIECBAgQIDAEQIC6CPQHEKAwMkCAuiTCXVAgMDCBQTQCy+g4RMgQIAAAQIECBAg0E9AAN3PSSsCBNoKCKDbeuqNAIHlCQigl1czIyZAgAABAgQIECBA4AgBAfQRaA4hQOBkAQH0yYQ6IEBg4QIC6IUX0PAJECBAgAABAgQIEOgnIIDu56QVAQJtBQTQbT31RoDA8gQE0MurmRETIECAAAECBAgQIHCEgAD6CDSHECBwsoAA+mRCHRAgsHABAfTCC2j4BAgQIECAAAECBAj0ExBA93PSigCBtgIC6LaeeiNAYHkCAujl1cyICRAgQIAAAQIECBA4QkAAfQSaQwgQOFlAAH0yoQ4IEFi4gAB64QU0fAIECBAgQIAAAQIE+gkIoPs5aUWAQFsBAXRbT70RILA8AQH08mpmxAQIECBAgAABAgQIHCEggD4CzSEECJwsIIA+mVAHBAgsXEAAvfACGj4BAgQIECBAgAABAv0EBND9nLQiQKCtgAC6rafeCBBYnoAAenk1M2ICBAgQIECAAAECBI4QEEAfgeYQAgROFhBAn0yoAwIEFi4ggF54AQ2fAAECBAgQIECAAIF+AgLofk5aESDQVkAA3dZTbwQILE9AAL28mhkxAQIECBAgQIAAAQJHCAigj0BzCAECJwsIoE8m1AEBAgsXEEAvvICGT4AAAQIECBAgQIBAPwEBdD8nrQgQaCsggG7rqTcCBJYnIIBeXs2MmAABAgQIECBAgACBIwQE0EegOYQAgZMFBNAnE+qAAIGFCwigF15AwydAgAABAgQIECBAoJ+AALqfk1YECLQVEEC39dQbAQLLExBAL69mRkyAAAECBAgQIECAwBECAugj0BxCgMDJAgLokwl1QIDAwgWem+SN7pv75YF58MKnYvgECBAgQIAAAQIECBC4XuCl+b28Kq+sBs9L8sasCBAgMIWAAHoKZecgQGDOAr+X5EFzHqCxESBAgAABAgQIECBAoLHAixMrcBqb6o4AgWsEBNAuDQIEti7wM0n+XJL7Jql/hP3s1kFmOP+37d4kUJ8ZFieJ+syzLrtRqY/6zFtg3qNz/6jPvAXmPTr3z3zr86gkdyb5tSRvN99hGhkBAmsSEECvqZrmQoDAsQK39oFO8kNJ3ufYThw3moD6jEbbpGP1acI4WifqMxptk47VpwnjaJ2oz2i0TTpWnyaMo3WiPqPR6pgAAQLLExBAL69mRkyAQHsB/0Bub9qyR/Vpqdm+L/Vpb9qyR/Vpqdm+L/Vpb9qyR/Vpqdm+L/Vpb9qyR/VpqakvAgQILFxAAL3wAho+AQJNBPwDuQnjaJ2oz2i0TTpWnyaMo3WiPqPRNulYfZowjtaJ+oxG26Rj9WnCOFon6jMarY4JECCwPAEB9PJqZsQECLQX8A/k9qYte1Sflprt+1Kf9qYte1Sflprt+1Kf9qYte1Sflprt+1Kf9qYte1Sflpr6IkCAwMIFBNALL6DhEyDQRMA/kJswjtaJ+oxG26Rj9WnCOFon6jMabZOO1acJ42idqM9otE06Vp8mjKN1oj6j0eqYAAECyxMQQC+vZkZMgEB7Af9Abm/askf1aanZvi/1aW/askf1aanZvi/1aW/askf1aanZvi/1aW/askf1aampLwIECCxcQAC98AIaPgECTQT8A7kJ42idqM9otE06Vp8mjKN1oj6j0TbpWH2aMI7WifqMRtukY/VpwjhaJ+ozGq2OCRAgsDwBAfTyambEBAi0F/AP5PamLXtUn5aa7ftSn/amLXtUn5aa7ftSn/amLXtUn5aa7ftSn/amLXtUn5aa+iJAgMDCBQTQCy+g4RMg0ETAP5CbMI7WifqMRtukY/VpwjhaJ+ozGm2TjtWnCeNonajPaLRNOlafJoyjdaI+o9HqmAABAssTEEAvr2ZGTIBAe4GPSfKmSX49yZPbd6/HEwXU50TAkQ9Xn5GBT+xefU4EHPlw9RkZ+MTu1edEwJEPV5+RgU/sXn1OBHQ4AQIE1iQggF5TNc2FAAECBAgQIECAAAECBAgQIECAAAECMxIQQM+oGIZCgAABAgQIECBAgAABAgQIECBAgACBNQkIoNdUTXMhQIAAAQIECBAgQIAAAQIECBAgQIDAjAQE0DMqhqEQIECAAAECBAgQIECAAAECBAgQIEBgTQIC6DVV01wIECBAgAABAgQIECBAgAABAgQIECAwIwEB9IyKYSgECBAgQIAAAQIECBAgQIAAAQIECBBYk4AAek3VNBcCBAgQIECAAAECBAgQIECAAAECBAjMSEAAPaNiGAoBAgQIECBAgAABAgQIECBAgAABAgTWJCCAXlM1zYUAAQIECBAgQIAAAQIECBAgQIAAAQIzEhBAz6gYhkKAAAECBAgQIECAAAECBAgQIECAAIE1CQig11RNcyFAgAABAgQIECBAgAABAgQIECBAgMCMBATQMyqGoRAgMKnAn0/y0UneI8kbJLk7yXOTfG+SJyb5lUlHs/6TPbnz7jvTT0nyb3o0/pAkj0vyjkkenuTlSX4jyXd2dfztHn2suUn9nH+zJG+f5O32/vewvUkf82+Blu73TfLYJB+Z5NFJHprk95I8O8lTknxl999rrFPL+vz3JO89AOmDkjy1R/ut1ucBSf5SZ/oOSd4iyesmeWWS/5PkZzu/b0zysh6OuybunQFYNzRtWR/3TpuaXO6lfi6/U5K6f94myesneUiS10rykiS/luTHknxDkmcMGIJ7aADWNU1b1sb9c3o99ECAAIFNCBzzS+cmYEySAIHVCvzJLtD6WzfM8A+T/IMk/2q1CtNPrHUA/TpJKvh5vxum8uIkfzfJN08/3dmc8QlJPuPAaIb8W6C1+59O8i1dSHHdMOtNhHqT4Qdno9puIC3rM0YIsNX61D3zxUles0epn5/k45J814G27p0emD2btK6Pe6cn/MBm9Ubig3oeU2+G1aKA372hvXuoJ2aPZi1r4/7pAa4JAQIECCRDfunkRYAAgaUL1Pe8Crs+rJtIrVr76iQ/kaSC6Qoz/3ru+d74SUm+fOmTnsn49wPoz03y8wfG9b+61VFXNatQ6AeSvFv3xRcl+aquz9dO8qFJ3rf72qu6/64V0Vt8fVmST9ub+B8leVa3Inr3133/LdDavVbCPb1bWVpj+c2ujvXpg1oFXaui37kbZK1sr08t1L26plfL+uyHAB+f5HcOQP1okhfe0GbL9fn3ScqwXmVU32/q2ntBkloRXiv1603M+vRMver7TP3sqBX7U3zP2nJtyrd1fdw743xXrZCzPjHw493P57p/6n91v7xhkvdJ8leT3Kc7ff3cr+/59XPq8svPn7Y1alkb90/b2uiNAAECqxXo+0vnagFMjACBTQlUYPC13YwrtKyPq//CJYEPT/KfuhC6fgn6M0l+fVNK40x2P4CuILF+YTn2VQH2P+4O/uUumLy81cZnJvnSvVo/qvvI77HnXOpxtQL8rZL8TPe//90FAn+8N6G+/xZo7f6kJH+nG0cF0R9wqUY1rvoUQm3HUq8Kzh/ThRdLrcflcbesz34I8IgG37e2XJ9/170xUivUv++aa+6B3dYBFaDVq7blqO8z9cmLyy/3Tts7tnV93Dtt67Pr7c91wfP+z5vLZ6qtIOoeq+1t6vVZSeq+cw+NU5MxauP+GbdWeidAgMBqBPr+0rmaCZsIAQKbFajvd7XfYH2kvF4fccPWDLXq+RO7dhWcfuxm1dpNvFUAXSucK2yu/T/rVaulanXVVa/vTvL+3Re+IMkXtpvO4nsaGkC3dn/zJL/YrXyrN3pqf91aAX35db8kP52kgox6fUyS/7B4/cMTGFqf6rFlCLD1+lQYdtNWALsK1vehWrG/WwldWwjs3uTctXHvHL7eh7ZoWR/3zlD99u333zD+H1fsZe8eam/et8dDtXH/9JXUjgABAgRsweEaIEBgMwLvmaR+salXPaSuHsz26mtm/8juAWj15Zd22wHUvtBexwu0CqD3V7H/SJKq63Wvv5jkad0XKySqkNPrQmBowNnafX9F6Nd12xlcV5vHd1tz1Ne/f297lTXXcmh9yqJlAK0+/a+u/e0g/mWSCmz2X+6d/pZjtDxUH/fOGOrD+qztz+oB0PWqTzW9pXtoGOCIrQ/Vxv0zIr6uCRAgsDYBK6DXVlHzIUDgOoF/2j1YsL7+FUk+4QDVL+0FlrWfcAVfXscLtAqg68GDH9kN4x8m+Wc3DKlWz96V5M6uTQXQFUR7DQ+gW7vX/sPv0hXio5J80w1FqdWluy1Waj/RWg33Bysv4rkDaPXpf4H9iyR/r2teYefu0zO7Htw7/S3HaHmoPnXOlm/euHeGV/GTk/zr7rAf6vaG3u/FPTTctNURh2rj/mklrR8CBAhsQEAAvYEimyIBArcEvqvbY7b+f62orIcP3vT6j0ke1zW4bk9CtP0F9gPoWoleDyB6o24lbu2d+lNJasuMWg1702rz2ge49jSuV61w/m8HhvDDSd6ja1MPCfu2/kNedcuhAWdL9/q3x0v23hioTxz86gHt30ryxl2b2jO0rpc1v4bWpyz2Q7R6w6xWET4syd3dAwnrIXr1kLxvPbCPtvoMu7Jq5WatEqzXP0jyzy8d7t4Z5tm69aH6uHdaiw/rr56z8YNJHt4ddtXDn91Dw0xbte5TG/dPK239ECBAYAMCAugNFNkUCRC4JfDsJBV01esvdL/w3ERTD7mrj6HX66uSfBzHkwT2A+ibOnp+ktpH9aoV5/X6wuW8AAAT30lEQVQzq/YLfo2ug9pGpfb1vulV+7HWR+Dr9TlJvvikWazn4CEBZ2v3CpIrUK7Xq5LcP8krDtDWmxa77VbqjaGvX08prpzJkPrsOtgPoG/iqY+4P/aGEF99+l9cFfLXgz3v0x3y1t1/73pw7/S3HKPlofq4d8ZQv7rP+sTLLmSun+EPTfLuST4syR3dId+RpB4EXT8X3EPzr437Z7oaORMBAgRWISCAXkUZTYIAgR4C/3fvKeuPTvJzB4751CT/qmtTKwbrlyKv4wUqgC7DWrFcDw2s4LjC5NdP8q7dL6EVRNar9ub+G1esVn5gt3J2N4raiqH26L7pVXuyfnrX4Ev3Pip//EzWceSQgLO1ez1Q8JkdYz3o7fV6kH57kg/t2tVHgv9tj2OW3GRIfXbzrAD6Md2+57Xa+blJasuS2sLkvZJ8cJLalqZe9SmD+gTBM65AUp9+V859u1Xnu09YXPVzwr3Tz3KMVn3q494ZQ/7qPp+a5AOvOV29KVbf02sbjv3vfdXcPTR+jY6tjftn/No4AwECBFYlIIBeVTlNhgCBGwTqY+i7lbNvvveQwesOqRXPT+y++F/3PmIN+TiB2jbhF5O87JrDKySrfR7fu/t67fFbezZXiLZ71bYdz9v776pnBWw3vWrF82d3DaqeH3/c8Fd31JCAs7X7uyV5eida9dxtrXETcq14rlW79ap61p7ua34Nqc/OoVxra5J6Y+eqV60GrZD0bbovviDJo5K8/FJj9el3Zf2bJLVdQL1+J8nb7e1VPtb3LLXpV5tq1ac+7p3+nqe2vC7krDfDnpSkPq1Ub05ffvn5c6r84eOPrY3757CtFgQIECCwJyCAdjkQILAVgVMC6O9L8le2AnXGeT6gC9AqKNsFCJ+yN55TfxHt8/DJM05/0lMPCThbu58aoh16+OSkkCOdbEh9hgyhPgJfn/54SHfQVfvbq89h0drrefcmSP1sqT2gawV66/Ds8vcstTlcm2rRtz79erto5d4ZonVz2/q005t0n8Ko70G1nVZ9z/snST6v+xTUrgc/f9q59+lpSG369Ldr4/4ZoqUtAQIEVioggF5pYU2LAIF7CdiCYxkXRe3vWw+ArNdvJvnTe8Nu/VHcZYiMM8ohAWdrd1s8HK7pkPoc7u32FrUX+hd1f1V7a+8+dbBrpT43i35Gkid0TWrv8tpa6D9fc4h7Z+jVeXr7IfUZejb3zlCxw+3rjed6AHFtE1Svev7G54/4c9/3t8M12bU4VJv+PV20dP8MFdOeAAECKxMQQK+soKZDgMC1As/pVtlUAw8hnO+Fcnm1U/0C9PvdcOtnVq023O1j6yGEx9dxSMDZ2r1WvtWbC/XyEMKrazikPkOvgv1VtC/qHga234f6XC9aqzW/pPtyfS/660m+84YCuHeGXp2ntR9an6Fnc+8MFevX/hFJ6t9odb/U9lu1JdeLR/q57/tbv5rsWt1Um2E9Je6foWLaEyBAYGUCAuiVFdR0CBC4VuC7knxA99XHJ/nqA1a1CrdW49brqo+pox5HoPZ1rmBn93qjS/uqPivJW3VfrIeo1UMNb3r9cJLdQ8IqLPq2cYa9uF6HBpwt3evfHi9Jcmen9sgkv3pA8Lf29oqu/cRrr+M1v4bWZ4hF7YFfD/2qV63gvePSwepztWZt/VJbBNSr9tmuh2J+Tw94904PpAZNjq3PkFO7d4ZoDWu7f5+8f5Lv3TvcPTTMsnXrm2oz5FzunyFa2hIgQGCFAgLoFRbVlAgQuFKg9uusfSHr1Wcv4F/qHoJX7d83yfdznUSgVj799t6ZXqtbEbX7q3pQ4Ud2/3FoL+BaKX3XXtBZDzX8lUlmMf+TDA04W7v/aJJ36Zg+Ksk33UC2f03Uiuna1qBWya35NbQ+QyzeNckzugPq4XkPu+Jg9bkdpbYE+ILur+ra+2tJ6uG0fV7unT5Kp7U5pT5DzuzeGaI1rO2PJXnn7pB64GzdN2P93Pf9rV1thvTk/hmipS0BAgRWKCCAXmFRTYkAgSsF3jNJ7Xdar9/otuN49TVWtSLz2d3XXtp9RL2e1O41vkD94vn13Wlq1eufunTKv5Xka7u/q9XNu30jrxpZrZB+WveFqmetvvG6EBgacLZ2/9xur88aS33a4G/fUJj6xMJXdV+vev7lDRRxaH2GkHx2ki8+cA+pzz2iZVVm9artgD6oxycv9uvh3hlydQ5ve2p9hpzRvTNEq3/b+yR54d7DUet7/O5nd/XiHupv2brlodoMOZ/7Z4iWtgQIEFihgAB6hUU1JQIErhSof0T/2l6g+RFJvvkaqy9P8ond1/5Dko9hOolArXb+ySR/tjtb1eGTLp35QUmel6T2hq5XrZj68WtGVw82qo/y1usL91YwTjKZmZ9kaMDZ2r1Wo/9CkrovazuDenOg3nC4/KpV7D+dpB4cVa+PTfLkmdu2GN7Q+vQ950OT/HyS1+8O+Pt7exrv96E+Fxr/PEkZ1etlST5w743Mvubunb5Sw9u1qE/fs7p3+koNb1f/Htt9CqZ+HpR1bdO0e7mHhpu2OuJQbfqex/3TV0o7AgQIrFhAAL3i4poaAQL3EvjovfCqPnr+3kl+8VKr2ie4gundw6MqDD20Py3qmwXKvby/L8l1q85rG4Bv6B4QWb3VivO33HtY3f4Z9j9uXVul1EMl97ftqLafmeRLu4P+T5JH7T3USL2Gr4Aus9buX7P35s6PdOHefuhQ9+CXJfnUrmB1r1YQ/coNFHBoAP1p3Zs3T7/Bpu6Bb03ymK5NrTis4L8+5XHVa+v1eUKSz+hg6rqsN7N2W5cMvQTdO0PFDrdvVR/3zmHrY1rUm/i15dUPXPrEzeW+PiTJ1+1tlXXdFmnuoWOqcPUxLWvj/mlXFz0RIEBg9QIC6NWX2AQJENgTqO95397t31l/XcFLPYzwJ5L8ySTvl+TDu/C5vl7B178meLJAhYj1S8oLun1Tn9n9/1rp9JAktS9gBf+1ArpeFVLXvsDXrVC/f/cR+N0ewi9K8pXdys7X7h4OVrWsV+0ZXH0/5eRZLLODB3cP0bw8+n+09xe77Rj223zOFdNt7V6rcCvQq2C0XrU1Tm21Udul1NdqO5ZdjWvrg3qj4X8uswzXjrpVfer6riCnPuVRH12vVc51X1RY//Buq5r6ej3ks171Bk/tbV/b2Fz32nJ9vijJ/j1QzxC47pMW+371Zle9mXL55d5pe+O2rI97p21tdr3VJ1Xqzed6c7i+J9XP/XrTq/ZQr33861MW9abO2+6dvj7tUt/nX+weGqcoXa8ta+P+GbVUOidAgMC6BATQ66qn2RAgcFjgNZM8qQu3rmtdwWjtVfcvD3enRQ+BXQDdo+mtbRhqz99DD3183e4juzftB1yrFj/h0sOM+oxhTW3etAslh87pun8ftHZ/RJJvSfIONwyw3rh4XLeSbug85t6+VX12IUCf+T6rC4Z+qkfjrdbnv3efkOlBdFuTH0ryPtcc5N4Zqnl9+5b1ce+0q8t+T7uQs0/v9aZzLQaoTy7tfwrm8rHuoT6ah9u0rI3757C3FgQIECDQCQigXQoECGxVoFbZ1N7O757kDZLcneS53TYR9RHQX94qzAjzfsMulKn9mt++W5H5et0qqNpXtQLG2vv5qd0K9VcMGMOHJvmbSd4pSW3j8fJuJW31VXWs/aK3/GoVcF42bOl+3y5grr0mH92tfq4VcM/pVq4/McldKy1iq/rUg1PrgZx1j9WKwtpvs+6x+lRBBTp1H9QK3u9I8j03bIVzFfMW69My4HTvtL95W9bHvdO+PtXjnd2nm+oB0PVJljfuvrfXpz5qFfTvJqk3w2rboG8c+Eapnz+n1axlbdw/p9XC0QQIENiUgAB6U+U2WQIECBAgQIAAAQIECBAgQIAAAQIECEwnIICeztqZCBAgQIAAAQIECBAgQIAAAQIECBAgsCkBAfSmym2yBAgQIECAAAECBAgQIECAAAECBAgQmE5AAD2dtTMRIECAAAECBAgQIECAAAECBAgQIEBgUwIC6E2V22QJECBAgAABAgQIECBAgAABAgQIECAwnYAAejprZyJAgAABAgQIECBAgAABAgQIECBAgMCmBATQmyq3yRIgQIAAAQIECBAgQIAAAQIECBAgQGA6AQH0dNbORIAAAQIECBAgQIAAAQIECBAgQIAAgU0JCKA3VW6TJUCAAAECBAgQIECAAAECBAgQIECAwHQCAujprJ2JAAECBAgQIECAAAECBAgQIECAAAECmxIQQG+q3CZLgAABAgQIECBAgAABAgQIECBAgACB6QQE0NNZOxMBAgQIECBAgAABAgQIECBAgAABAgQ2JSCA3lS5TZYAAQIECBAgQIAAAQIECBAgQIAAAQLTCQigp7N2JgIECBAgQIAAAQIECBAgQIAAAQIECGxKQAC9qXKbLAECBAgQIECAAAECBAgQIECAAAECBKYTEEBPZ+1MBAgQIECAAAECBAgQIECAAAECBAgQ2JSAAHpT5TZZAgQIECBAgAABAgQIECBAgAABAgQITCcggJ7O2pkIECBAgAABAgQIECBAgAABAgQIECCwKQEB9KbKbbIECBAgQIAAAQIECBAgQIAAAQIECBCYTkAAPZ21MxEgQIAAAQIECBAgQIAAAQIECBAgQGBTAgLoTZXbZAkQIECAAAECBAgQIECAAAECBAgQIDCdgAB6OmtnIkCAAAECBAgQIECAAAECBAgQIECAwKYEBNCbKrfJEiBAgAABAgQIECBAgAABAgQIECBAYDoBAfR01s5EgAABAgQIECBAgAABAgQIECBAgACBTQkIoDdVbpMlQIAAAQIECBAgQIAAAQIECBAgQIDAdAIC6OmsnYkAAQIECBAgQIAAAQIECBAgQIAAAQKbEhBAb6rcJkuAAAECBAgQIECAAAECBAgQIECAAIHpBATQ01k7EwECBAgQIECAAAECBAgQIECAAAECBDYlIIDeVLlNlgABAgQIECBAgAABAgQIECBAgAABAtMJCKCns3YmAgQIECBAgAABAgQIECBAgAABAgQIbEpAAL2pcpssAQIECBAgQIAAAQIECBAgQIAAAQIEphMQQE9n7UwECBAgQIAAAQIECBAgQIAAAQIECBDYlIAAelPlNlkCBAgQIECAAAECBAgQIECAAAECBAhMJyCAns7amQgQIECAAAECBAgQIECAAAECBAgQILApAQH0psptsgQIECBAgAABAgQIECBAgAABAgQIEJhOQAA9nbUzESBAgAABAgQIECBAgAABAgQIECBAYFMCAuhNldtkCRAgQIAAAQIECBAgQIAAAQIECBAgMJ2AAHo6a2ciQIAAAQIECBAgQIAAAQIECBAgQIDApgQE0Jsqt8kSIECAAAECBAgQIECAAAECBAgQIEBgOgEB9HTWzkSAAAECBAgQIECAAAECBAgQIECAAIFNCQigN1VukyVAgAABAgQIECBAgAABAgQIECBAgMB0AgLo6aydiQABAgQIECBAgAABAgQIECBAgAABApsSEEBvqtwmS4AAAQIECBAgQIAAAQIECBAgQIAAgekEBNDTWTsTAQIECBAgQIAAAQIECBAgQIAAAQIENiUggN5UuU2WAAECBAgQIECAAAECBAgQIECAAAEC0wkIoKezdiYCBAgQIECAAAECBAgQIECAAAECBAhsSkAAvalymywBAgQIECBAgAABAgQIECBAgAABAgSmExBAT2ftTAQIECBAgAABAgQIECBAgAABAgQIENiUgAB6U+U2WQIECBAgQIAAAQIECBAgQIAAAQIECEwnIICeztqZCBAgQIAAAQIECBAgQIAAAQIECBAgsCkBAfSmym2yBAgQIECAAAECBAgQIECAAAECBAgQmE5AAD2dtTMRIECAAAECBAgQIECAAAECBAgQIEBgUwIC6E2V22QJECBAgAABAgQIECBAgAABAgQIECAwnYAAejprZyJAgAABAgQIECBAgAABAgQIECBAgMCmBATQmyq3yRIgQIAAAQIECBAgQIAAAQIECBAgQGA6AQH0dNbORIAAAQIECBAgQIAAAQIECBAgQIAAgU0JCKA3VW6TJUCAAAECBAgQIECAAAECBAgQIECAwHQCAujprJ2JAAECBAgQIECAAAECBAgQIECAAAECmxIQQG+q3CZLgAABAgQIECBAgAABAgQIECBAgACB6QQE0NNZOxMBAgQIECBAgAABAgQIECBAgAABAgQ2JSCA3lS5TZYAAQIECBAgQIAAAQIECBAgQIAAAQLTCQigp7N2JgIECBAgQIAAAQIECBAgQIAAAQIECGxKQAC9qXKbLAECBAgQIECAAAECBAgQIECAAAECBKYTEEBPZ+1MBAgQIECAAAECBAgQIECAAAECBAgQ2JSAAHpT5TZZAgQIECBAgAABAgQIECBAgAABAgQITCcggJ7O2pkIECBAgAABAgQIECBAgAABAgQIECCwKQEB9KbKbbIECBAgQIAAAQIECBAgQIAAAQIECBCYTkAAPZ21MxEgQIAAAQIECBAgQIAAAQIECBAgQGBTAgLoTZXbZAkQIECAAAECBAgQIECAAAECBAgQIDCdgAB6OmtnIkCAAAECBAgQIECAAAECBAgQIECAwKYEBNCbKrfJEiBAgAABAgQIECBAgAABAgQIECBAYDoBAfR01s5EgAABAgQIECBAgAABAgQIECBAgACBTQkIoDdVbpMlQIAAAQIECBAgQIAAAQIECBAgQIDAdAIC6OmsnYkAAQIECBAgQIAAAQIECBAgQIAAAQKbEvh/U63OmOAYoJMAAAAASUVORK5CYII=\" width=\"640\">"
      ],
      "text/plain": [
       "<IPython.core.display.HTML object>"
      ]
     },
     "metadata": {},
     "output_type": "display_data"
    }
   ],
   "source": [
    "plt.imshow(mandelbrot(400,400))\n",
    "plt.show()"
   ]
  },
  {
   "cell_type": "markdown",
   "metadata": {},
   "source": [
    "## ix_()"
   ]
  },
  {
   "cell_type": "code",
   "execution_count": 141,
   "metadata": {},
   "outputs": [],
   "source": [
    "a=np.array([2,3,4,5])\n",
    "b=np.array([8,5,4])\n",
    "c=np.array([5,4,6,8,3])"
   ]
  },
  {
   "cell_type": "code",
   "execution_count": 142,
   "metadata": {},
   "outputs": [],
   "source": [
    "bx,cx=np.ix_(b,c)"
   ]
  },
  {
   "cell_type": "code",
   "execution_count": 143,
   "metadata": {},
   "outputs": [
    {
     "data": {
      "text/plain": [
       "array([[8],\n",
       "       [5],\n",
       "       [4]])"
      ]
     },
     "execution_count": 143,
     "metadata": {},
     "output_type": "execute_result"
    }
   ],
   "source": [
    "bx"
   ]
  },
  {
   "cell_type": "code",
   "execution_count": 144,
   "metadata": {},
   "outputs": [
    {
     "data": {
      "text/plain": [
       "array([[5, 4, 6, 8, 3]])"
      ]
     },
     "execution_count": 144,
     "metadata": {},
     "output_type": "execute_result"
    }
   ],
   "source": [
    "cx"
   ]
  },
  {
   "cell_type": "code",
   "execution_count": 145,
   "metadata": {},
   "outputs": [
    {
     "data": {
      "text/plain": [
       "(3, 1)"
      ]
     },
     "execution_count": 145,
     "metadata": {},
     "output_type": "execute_result"
    }
   ],
   "source": [
    "bx.shape"
   ]
  },
  {
   "cell_type": "code",
   "execution_count": 146,
   "metadata": {},
   "outputs": [
    {
     "data": {
      "text/plain": [
       "(1, 5)"
      ]
     },
     "execution_count": 146,
     "metadata": {},
     "output_type": "execute_result"
    }
   ],
   "source": [
    "cx.shape"
   ]
  },
  {
   "cell_type": "code",
   "execution_count": 147,
   "metadata": {},
   "outputs": [
    {
     "data": {
      "text/plain": [
       "array([[40, 32, 48, 64, 24],\n",
       "       [25, 20, 30, 40, 15],\n",
       "       [20, 16, 24, 32, 12]])"
      ]
     },
     "execution_count": 147,
     "metadata": {},
     "output_type": "execute_result"
    }
   ],
   "source": [
    "bx*cx"
   ]
  },
  {
   "cell_type": "code",
   "execution_count": 148,
   "metadata": {},
   "outputs": [],
   "source": [
    "ax,bx,cx=np.ix_(a,b,c)"
   ]
  },
  {
   "cell_type": "code",
   "execution_count": 149,
   "metadata": {},
   "outputs": [
    {
     "data": {
      "text/plain": [
       "array([[[2]],\n",
       "\n",
       "       [[3]],\n",
       "\n",
       "       [[4]],\n",
       "\n",
       "       [[5]]])"
      ]
     },
     "execution_count": 149,
     "metadata": {},
     "output_type": "execute_result"
    }
   ],
   "source": [
    "ax"
   ]
  },
  {
   "cell_type": "code",
   "execution_count": 150,
   "metadata": {},
   "outputs": [
    {
     "data": {
      "text/plain": [
       "array([[[8],\n",
       "        [5],\n",
       "        [4]]])"
      ]
     },
     "execution_count": 150,
     "metadata": {},
     "output_type": "execute_result"
    }
   ],
   "source": [
    "bx"
   ]
  },
  {
   "cell_type": "code",
   "execution_count": 151,
   "metadata": {},
   "outputs": [
    {
     "data": {
      "text/plain": [
       "array([[[5, 4, 6, 8, 3]]])"
      ]
     },
     "execution_count": 151,
     "metadata": {},
     "output_type": "execute_result"
    }
   ],
   "source": [
    "cx"
   ]
  },
  {
   "cell_type": "code",
   "execution_count": 152,
   "metadata": {},
   "outputs": [
    {
     "data": {
      "text/plain": [
       "(4, 1, 1)"
      ]
     },
     "execution_count": 152,
     "metadata": {},
     "output_type": "execute_result"
    }
   ],
   "source": [
    "ax.shape"
   ]
  },
  {
   "cell_type": "code",
   "execution_count": 153,
   "metadata": {},
   "outputs": [
    {
     "data": {
      "text/plain": [
       "(1, 3, 1)"
      ]
     },
     "execution_count": 153,
     "metadata": {},
     "output_type": "execute_result"
    }
   ],
   "source": [
    "bx.shape"
   ]
  },
  {
   "cell_type": "code",
   "execution_count": 154,
   "metadata": {},
   "outputs": [
    {
     "data": {
      "text/plain": [
       "(1, 1, 5)"
      ]
     },
     "execution_count": 154,
     "metadata": {},
     "output_type": "execute_result"
    }
   ],
   "source": [
    "cx.shape"
   ]
  },
  {
   "cell_type": "code",
   "execution_count": 155,
   "metadata": {},
   "outputs": [
    {
     "data": {
      "text/plain": [
       "array([[[42, 34, 50, 66, 26],\n",
       "        [27, 22, 32, 42, 17],\n",
       "        [22, 18, 26, 34, 14]],\n",
       "\n",
       "       [[43, 35, 51, 67, 27],\n",
       "        [28, 23, 33, 43, 18],\n",
       "        [23, 19, 27, 35, 15]],\n",
       "\n",
       "       [[44, 36, 52, 68, 28],\n",
       "        [29, 24, 34, 44, 19],\n",
       "        [24, 20, 28, 36, 16]],\n",
       "\n",
       "       [[45, 37, 53, 69, 29],\n",
       "        [30, 25, 35, 45, 20],\n",
       "        [25, 21, 29, 37, 17]]])"
      ]
     },
     "execution_count": 155,
     "metadata": {},
     "output_type": "execute_result"
    }
   ],
   "source": [
    "ax+bx*cx"
   ]
  },
  {
   "cell_type": "markdown",
   "metadata": {},
   "source": [
    "# Linear Algebra"
   ]
  },
  {
   "cell_type": "code",
   "execution_count": 156,
   "metadata": {},
   "outputs": [
    {
     "name": "stdout",
     "output_type": "stream",
     "text": [
      "[[ 1.  2.]\n",
      " [ 3.  4.]]\n"
     ]
    }
   ],
   "source": [
    "import numpy as np\n",
    "a=np.array([[1.0,2.0],[3.0,4.0]])\n",
    "print(a)"
   ]
  },
  {
   "cell_type": "code",
   "execution_count": 157,
   "metadata": {},
   "outputs": [
    {
     "data": {
      "text/plain": [
       "array([[ 1.,  3.],\n",
       "       [ 2.,  4.]])"
      ]
     },
     "execution_count": 157,
     "metadata": {},
     "output_type": "execute_result"
    }
   ],
   "source": [
    "a.transpose()"
   ]
  },
  {
   "cell_type": "code",
   "execution_count": 158,
   "metadata": {},
   "outputs": [
    {
     "data": {
      "text/plain": [
       "array([[ 1.,  3.],\n",
       "       [ 2.,  4.]])"
      ]
     },
     "execution_count": 158,
     "metadata": {},
     "output_type": "execute_result"
    }
   ],
   "source": [
    "a.T"
   ]
  },
  {
   "cell_type": "code",
   "execution_count": 159,
   "metadata": {},
   "outputs": [
    {
     "data": {
      "text/plain": [
       "array([[-2. ,  1. ],\n",
       "       [ 1.5, -0.5]])"
      ]
     },
     "execution_count": 159,
     "metadata": {},
     "output_type": "execute_result"
    }
   ],
   "source": [
    "np.linalg.inv(a)"
   ]
  },
  {
   "cell_type": "code",
   "execution_count": 160,
   "metadata": {},
   "outputs": [
    {
     "data": {
      "text/plain": [
       "array([[  1.00000000e+00,   0.00000000e+00],\n",
       "       [  1.11022302e-16,   1.00000000e+00]])"
      ]
     },
     "execution_count": 160,
     "metadata": {},
     "output_type": "execute_result"
    }
   ],
   "source": [
    "np.linalg.inv(a).dot(a)"
   ]
  },
  {
   "cell_type": "code",
   "execution_count": 161,
   "metadata": {},
   "outputs": [
    {
     "data": {
      "text/plain": [
       "array([[ 1.,  0.],\n",
       "       [ 0.,  1.]])"
      ]
     },
     "execution_count": 161,
     "metadata": {},
     "output_type": "execute_result"
    }
   ],
   "source": [
    "u=np.eye(2)\n",
    "u"
   ]
  },
  {
   "cell_type": "code",
   "execution_count": 162,
   "metadata": {},
   "outputs": [],
   "source": [
    "j=np.array([[0.,-1.],[1.,0.]])"
   ]
  },
  {
   "cell_type": "code",
   "execution_count": 163,
   "metadata": {},
   "outputs": [
    {
     "data": {
      "text/plain": [
       "array([[-1.,  0.],\n",
       "       [ 0., -1.]])"
      ]
     },
     "execution_count": 163,
     "metadata": {},
     "output_type": "execute_result"
    }
   ],
   "source": [
    "np.dot(j,j)"
   ]
  },
  {
   "cell_type": "code",
   "execution_count": 164,
   "metadata": {},
   "outputs": [
    {
     "data": {
      "text/plain": [
       "2.0"
      ]
     },
     "execution_count": 164,
     "metadata": {},
     "output_type": "execute_result"
    }
   ],
   "source": [
    "np.trace(u)"
   ]
  },
  {
   "cell_type": "code",
   "execution_count": null,
   "metadata": {},
   "outputs": [],
   "source": [
    "y=np.array([[5.],[7.]])"
   ]
  },
  {
   "cell_type": "markdown",
   "metadata": {},
   "source": [
    "### Equations"
   ]
  },
  {
   "cell_type": "code",
   "execution_count": 166,
   "metadata": {},
   "outputs": [
    {
     "data": {
      "text/plain": [
       "array([[ 1.,  2.],\n",
       "       [ 3.,  4.]])"
      ]
     },
     "execution_count": 166,
     "metadata": {},
     "output_type": "execute_result"
    }
   ],
   "source": [
    "a"
   ]
  },
  {
   "cell_type": "code",
   "execution_count": 167,
   "metadata": {},
   "outputs": [
    {
     "data": {
      "text/plain": [
       "array([[ 5.],\n",
       "       [ 7.]])"
      ]
     },
     "execution_count": 167,
     "metadata": {},
     "output_type": "execute_result"
    }
   ],
   "source": [
    "y"
   ]
  },
  {
   "cell_type": "code",
   "execution_count": 169,
   "metadata": {},
   "outputs": [],
   "source": [
    "x=np.linalg.solve(a,y)"
   ]
  },
  {
   "cell_type": "code",
   "execution_count": 170,
   "metadata": {},
   "outputs": [
    {
     "data": {
      "text/plain": [
       "array([[-3.],\n",
       "       [ 4.]])"
      ]
     },
     "execution_count": 170,
     "metadata": {},
     "output_type": "execute_result"
    }
   ],
   "source": [
    "x"
   ]
  },
  {
   "cell_type": "code",
   "execution_count": 172,
   "metadata": {},
   "outputs": [
    {
     "data": {
      "text/plain": [
       "array([[ 5.],\n",
       "       [ 7.]])"
      ]
     },
     "execution_count": 172,
     "metadata": {},
     "output_type": "execute_result"
    }
   ],
   "source": [
    "np.dot(a,x)"
   ]
  },
  {
   "cell_type": "markdown",
   "metadata": {},
   "source": [
    "### Eigen Value"
   ]
  },
  {
   "cell_type": "code",
   "execution_count": 173,
   "metadata": {},
   "outputs": [
    {
     "data": {
      "text/plain": [
       "array([[ 0., -1.],\n",
       "       [ 1.,  0.]])"
      ]
     },
     "execution_count": 173,
     "metadata": {},
     "output_type": "execute_result"
    }
   ],
   "source": [
    "j"
   ]
  },
  {
   "cell_type": "code",
   "execution_count": 174,
   "metadata": {},
   "outputs": [
    {
     "data": {
      "text/plain": [
       "(array([ 0.+1.j,  0.-1.j]),\n",
       " array([[ 0.70710678+0.j        ,  0.70710678-0.j        ],\n",
       "        [ 0.00000000-0.70710678j,  0.00000000+0.70710678j]]))"
      ]
     },
     "execution_count": 174,
     "metadata": {},
     "output_type": "execute_result"
    }
   ],
   "source": [
    "np.linalg.eig(j)"
   ]
  },
  {
   "cell_type": "markdown",
   "metadata": {},
   "source": [
    "# Histogram"
   ]
  },
  {
   "cell_type": "code",
   "execution_count": 175,
   "metadata": {},
   "outputs": [],
   "source": [
    "%matplotlib notebook\n",
    "import numpy as np\n",
    "import matplotlib.pyplot as plt"
   ]
  },
  {
   "cell_type": "code",
   "execution_count": 176,
   "metadata": {},
   "outputs": [],
   "source": [
    "mu,sigma=2,0.5\n",
    "v=np.random.normal(mu,sigma,10000)"
   ]
  },
  {
   "cell_type": "code",
   "execution_count": 177,
   "metadata": {},
   "outputs": [
    {
     "data": {
      "application/javascript": [
       "/* Put everything inside the global mpl namespace */\n",
       "window.mpl = {};\n",
       "\n",
       "\n",
       "mpl.get_websocket_type = function() {\n",
       "    if (typeof(WebSocket) !== 'undefined') {\n",
       "        return WebSocket;\n",
       "    } else if (typeof(MozWebSocket) !== 'undefined') {\n",
       "        return MozWebSocket;\n",
       "    } else {\n",
       "        alert('Your browser does not have WebSocket support.' +\n",
       "              'Please try Chrome, Safari or Firefox ≥ 6. ' +\n",
       "              'Firefox 4 and 5 are also supported but you ' +\n",
       "              'have to enable WebSockets in about:config.');\n",
       "    };\n",
       "}\n",
       "\n",
       "mpl.figure = function(figure_id, websocket, ondownload, parent_element) {\n",
       "    this.id = figure_id;\n",
       "\n",
       "    this.ws = websocket;\n",
       "\n",
       "    this.supports_binary = (this.ws.binaryType != undefined);\n",
       "\n",
       "    if (!this.supports_binary) {\n",
       "        var warnings = document.getElementById(\"mpl-warnings\");\n",
       "        if (warnings) {\n",
       "            warnings.style.display = 'block';\n",
       "            warnings.textContent = (\n",
       "                \"This browser does not support binary websocket messages. \" +\n",
       "                    \"Performance may be slow.\");\n",
       "        }\n",
       "    }\n",
       "\n",
       "    this.imageObj = new Image();\n",
       "\n",
       "    this.context = undefined;\n",
       "    this.message = undefined;\n",
       "    this.canvas = undefined;\n",
       "    this.rubberband_canvas = undefined;\n",
       "    this.rubberband_context = undefined;\n",
       "    this.format_dropdown = undefined;\n",
       "\n",
       "    this.image_mode = 'full';\n",
       "\n",
       "    this.root = $('<div/>');\n",
       "    this._root_extra_style(this.root)\n",
       "    this.root.attr('style', 'display: inline-block');\n",
       "\n",
       "    $(parent_element).append(this.root);\n",
       "\n",
       "    this._init_header(this);\n",
       "    this._init_canvas(this);\n",
       "    this._init_toolbar(this);\n",
       "\n",
       "    var fig = this;\n",
       "\n",
       "    this.waiting = false;\n",
       "\n",
       "    this.ws.onopen =  function () {\n",
       "            fig.send_message(\"supports_binary\", {value: fig.supports_binary});\n",
       "            fig.send_message(\"send_image_mode\", {});\n",
       "            if (mpl.ratio != 1) {\n",
       "                fig.send_message(\"set_dpi_ratio\", {'dpi_ratio': mpl.ratio});\n",
       "            }\n",
       "            fig.send_message(\"refresh\", {});\n",
       "        }\n",
       "\n",
       "    this.imageObj.onload = function() {\n",
       "            if (fig.image_mode == 'full') {\n",
       "                // Full images could contain transparency (where diff images\n",
       "                // almost always do), so we need to clear the canvas so that\n",
       "                // there is no ghosting.\n",
       "                fig.context.clearRect(0, 0, fig.canvas.width, fig.canvas.height);\n",
       "            }\n",
       "            fig.context.drawImage(fig.imageObj, 0, 0);\n",
       "        };\n",
       "\n",
       "    this.imageObj.onunload = function() {\n",
       "        this.ws.close();\n",
       "    }\n",
       "\n",
       "    this.ws.onmessage = this._make_on_message_function(this);\n",
       "\n",
       "    this.ondownload = ondownload;\n",
       "}\n",
       "\n",
       "mpl.figure.prototype._init_header = function() {\n",
       "    var titlebar = $(\n",
       "        '<div class=\"ui-dialog-titlebar ui-widget-header ui-corner-all ' +\n",
       "        'ui-helper-clearfix\"/>');\n",
       "    var titletext = $(\n",
       "        '<div class=\"ui-dialog-title\" style=\"width: 100%; ' +\n",
       "        'text-align: center; padding: 3px;\"/>');\n",
       "    titlebar.append(titletext)\n",
       "    this.root.append(titlebar);\n",
       "    this.header = titletext[0];\n",
       "}\n",
       "\n",
       "\n",
       "\n",
       "mpl.figure.prototype._canvas_extra_style = function(canvas_div) {\n",
       "\n",
       "}\n",
       "\n",
       "\n",
       "mpl.figure.prototype._root_extra_style = function(canvas_div) {\n",
       "\n",
       "}\n",
       "\n",
       "mpl.figure.prototype._init_canvas = function() {\n",
       "    var fig = this;\n",
       "\n",
       "    var canvas_div = $('<div/>');\n",
       "\n",
       "    canvas_div.attr('style', 'position: relative; clear: both; outline: 0');\n",
       "\n",
       "    function canvas_keyboard_event(event) {\n",
       "        return fig.key_event(event, event['data']);\n",
       "    }\n",
       "\n",
       "    canvas_div.keydown('key_press', canvas_keyboard_event);\n",
       "    canvas_div.keyup('key_release', canvas_keyboard_event);\n",
       "    this.canvas_div = canvas_div\n",
       "    this._canvas_extra_style(canvas_div)\n",
       "    this.root.append(canvas_div);\n",
       "\n",
       "    var canvas = $('<canvas/>');\n",
       "    canvas.addClass('mpl-canvas');\n",
       "    canvas.attr('style', \"left: 0; top: 0; z-index: 0; outline: 0\")\n",
       "\n",
       "    this.canvas = canvas[0];\n",
       "    this.context = canvas[0].getContext(\"2d\");\n",
       "\n",
       "    var backingStore = this.context.backingStorePixelRatio ||\n",
       "\tthis.context.webkitBackingStorePixelRatio ||\n",
       "\tthis.context.mozBackingStorePixelRatio ||\n",
       "\tthis.context.msBackingStorePixelRatio ||\n",
       "\tthis.context.oBackingStorePixelRatio ||\n",
       "\tthis.context.backingStorePixelRatio || 1;\n",
       "\n",
       "    mpl.ratio = (window.devicePixelRatio || 1) / backingStore;\n",
       "\n",
       "    var rubberband = $('<canvas/>');\n",
       "    rubberband.attr('style', \"position: absolute; left: 0; top: 0; z-index: 1;\")\n",
       "\n",
       "    var pass_mouse_events = true;\n",
       "\n",
       "    canvas_div.resizable({\n",
       "        start: function(event, ui) {\n",
       "            pass_mouse_events = false;\n",
       "        },\n",
       "        resize: function(event, ui) {\n",
       "            fig.request_resize(ui.size.width, ui.size.height);\n",
       "        },\n",
       "        stop: function(event, ui) {\n",
       "            pass_mouse_events = true;\n",
       "            fig.request_resize(ui.size.width, ui.size.height);\n",
       "        },\n",
       "    });\n",
       "\n",
       "    function mouse_event_fn(event) {\n",
       "        if (pass_mouse_events)\n",
       "            return fig.mouse_event(event, event['data']);\n",
       "    }\n",
       "\n",
       "    rubberband.mousedown('button_press', mouse_event_fn);\n",
       "    rubberband.mouseup('button_release', mouse_event_fn);\n",
       "    // Throttle sequential mouse events to 1 every 20ms.\n",
       "    rubberband.mousemove('motion_notify', mouse_event_fn);\n",
       "\n",
       "    rubberband.mouseenter('figure_enter', mouse_event_fn);\n",
       "    rubberband.mouseleave('figure_leave', mouse_event_fn);\n",
       "\n",
       "    canvas_div.on(\"wheel\", function (event) {\n",
       "        event = event.originalEvent;\n",
       "        event['data'] = 'scroll'\n",
       "        if (event.deltaY < 0) {\n",
       "            event.step = 1;\n",
       "        } else {\n",
       "            event.step = -1;\n",
       "        }\n",
       "        mouse_event_fn(event);\n",
       "    });\n",
       "\n",
       "    canvas_div.append(canvas);\n",
       "    canvas_div.append(rubberband);\n",
       "\n",
       "    this.rubberband = rubberband;\n",
       "    this.rubberband_canvas = rubberband[0];\n",
       "    this.rubberband_context = rubberband[0].getContext(\"2d\");\n",
       "    this.rubberband_context.strokeStyle = \"#000000\";\n",
       "\n",
       "    this._resize_canvas = function(width, height) {\n",
       "        // Keep the size of the canvas, canvas container, and rubber band\n",
       "        // canvas in synch.\n",
       "        canvas_div.css('width', width)\n",
       "        canvas_div.css('height', height)\n",
       "\n",
       "        canvas.attr('width', width * mpl.ratio);\n",
       "        canvas.attr('height', height * mpl.ratio);\n",
       "        canvas.attr('style', 'width: ' + width + 'px; height: ' + height + 'px;');\n",
       "\n",
       "        rubberband.attr('width', width);\n",
       "        rubberband.attr('height', height);\n",
       "    }\n",
       "\n",
       "    // Set the figure to an initial 600x600px, this will subsequently be updated\n",
       "    // upon first draw.\n",
       "    this._resize_canvas(600, 600);\n",
       "\n",
       "    // Disable right mouse context menu.\n",
       "    $(this.rubberband_canvas).bind(\"contextmenu\",function(e){\n",
       "        return false;\n",
       "    });\n",
       "\n",
       "    function set_focus () {\n",
       "        canvas.focus();\n",
       "        canvas_div.focus();\n",
       "    }\n",
       "\n",
       "    window.setTimeout(set_focus, 100);\n",
       "}\n",
       "\n",
       "mpl.figure.prototype._init_toolbar = function() {\n",
       "    var fig = this;\n",
       "\n",
       "    var nav_element = $('<div/>')\n",
       "    nav_element.attr('style', 'width: 100%');\n",
       "    this.root.append(nav_element);\n",
       "\n",
       "    // Define a callback function for later on.\n",
       "    function toolbar_event(event) {\n",
       "        return fig.toolbar_button_onclick(event['data']);\n",
       "    }\n",
       "    function toolbar_mouse_event(event) {\n",
       "        return fig.toolbar_button_onmouseover(event['data']);\n",
       "    }\n",
       "\n",
       "    for(var toolbar_ind in mpl.toolbar_items) {\n",
       "        var name = mpl.toolbar_items[toolbar_ind][0];\n",
       "        var tooltip = mpl.toolbar_items[toolbar_ind][1];\n",
       "        var image = mpl.toolbar_items[toolbar_ind][2];\n",
       "        var method_name = mpl.toolbar_items[toolbar_ind][3];\n",
       "\n",
       "        if (!name) {\n",
       "            // put a spacer in here.\n",
       "            continue;\n",
       "        }\n",
       "        var button = $('<button/>');\n",
       "        button.addClass('ui-button ui-widget ui-state-default ui-corner-all ' +\n",
       "                        'ui-button-icon-only');\n",
       "        button.attr('role', 'button');\n",
       "        button.attr('aria-disabled', 'false');\n",
       "        button.click(method_name, toolbar_event);\n",
       "        button.mouseover(tooltip, toolbar_mouse_event);\n",
       "\n",
       "        var icon_img = $('<span/>');\n",
       "        icon_img.addClass('ui-button-icon-primary ui-icon');\n",
       "        icon_img.addClass(image);\n",
       "        icon_img.addClass('ui-corner-all');\n",
       "\n",
       "        var tooltip_span = $('<span/>');\n",
       "        tooltip_span.addClass('ui-button-text');\n",
       "        tooltip_span.html(tooltip);\n",
       "\n",
       "        button.append(icon_img);\n",
       "        button.append(tooltip_span);\n",
       "\n",
       "        nav_element.append(button);\n",
       "    }\n",
       "\n",
       "    var fmt_picker_span = $('<span/>');\n",
       "\n",
       "    var fmt_picker = $('<select/>');\n",
       "    fmt_picker.addClass('mpl-toolbar-option ui-widget ui-widget-content');\n",
       "    fmt_picker_span.append(fmt_picker);\n",
       "    nav_element.append(fmt_picker_span);\n",
       "    this.format_dropdown = fmt_picker[0];\n",
       "\n",
       "    for (var ind in mpl.extensions) {\n",
       "        var fmt = mpl.extensions[ind];\n",
       "        var option = $(\n",
       "            '<option/>', {selected: fmt === mpl.default_extension}).html(fmt);\n",
       "        fmt_picker.append(option)\n",
       "    }\n",
       "\n",
       "    // Add hover states to the ui-buttons\n",
       "    $( \".ui-button\" ).hover(\n",
       "        function() { $(this).addClass(\"ui-state-hover\");},\n",
       "        function() { $(this).removeClass(\"ui-state-hover\");}\n",
       "    );\n",
       "\n",
       "    var status_bar = $('<span class=\"mpl-message\"/>');\n",
       "    nav_element.append(status_bar);\n",
       "    this.message = status_bar[0];\n",
       "}\n",
       "\n",
       "mpl.figure.prototype.request_resize = function(x_pixels, y_pixels) {\n",
       "    // Request matplotlib to resize the figure. Matplotlib will then trigger a resize in the client,\n",
       "    // which will in turn request a refresh of the image.\n",
       "    this.send_message('resize', {'width': x_pixels, 'height': y_pixels});\n",
       "}\n",
       "\n",
       "mpl.figure.prototype.send_message = function(type, properties) {\n",
       "    properties['type'] = type;\n",
       "    properties['figure_id'] = this.id;\n",
       "    this.ws.send(JSON.stringify(properties));\n",
       "}\n",
       "\n",
       "mpl.figure.prototype.send_draw_message = function() {\n",
       "    if (!this.waiting) {\n",
       "        this.waiting = true;\n",
       "        this.ws.send(JSON.stringify({type: \"draw\", figure_id: this.id}));\n",
       "    }\n",
       "}\n",
       "\n",
       "\n",
       "mpl.figure.prototype.handle_save = function(fig, msg) {\n",
       "    var format_dropdown = fig.format_dropdown;\n",
       "    var format = format_dropdown.options[format_dropdown.selectedIndex].value;\n",
       "    fig.ondownload(fig, format);\n",
       "}\n",
       "\n",
       "\n",
       "mpl.figure.prototype.handle_resize = function(fig, msg) {\n",
       "    var size = msg['size'];\n",
       "    if (size[0] != fig.canvas.width || size[1] != fig.canvas.height) {\n",
       "        fig._resize_canvas(size[0], size[1]);\n",
       "        fig.send_message(\"refresh\", {});\n",
       "    };\n",
       "}\n",
       "\n",
       "mpl.figure.prototype.handle_rubberband = function(fig, msg) {\n",
       "    var x0 = msg['x0'] / mpl.ratio;\n",
       "    var y0 = (fig.canvas.height - msg['y0']) / mpl.ratio;\n",
       "    var x1 = msg['x1'] / mpl.ratio;\n",
       "    var y1 = (fig.canvas.height - msg['y1']) / mpl.ratio;\n",
       "    x0 = Math.floor(x0) + 0.5;\n",
       "    y0 = Math.floor(y0) + 0.5;\n",
       "    x1 = Math.floor(x1) + 0.5;\n",
       "    y1 = Math.floor(y1) + 0.5;\n",
       "    var min_x = Math.min(x0, x1);\n",
       "    var min_y = Math.min(y0, y1);\n",
       "    var width = Math.abs(x1 - x0);\n",
       "    var height = Math.abs(y1 - y0);\n",
       "\n",
       "    fig.rubberband_context.clearRect(\n",
       "        0, 0, fig.canvas.width, fig.canvas.height);\n",
       "\n",
       "    fig.rubberband_context.strokeRect(min_x, min_y, width, height);\n",
       "}\n",
       "\n",
       "mpl.figure.prototype.handle_figure_label = function(fig, msg) {\n",
       "    // Updates the figure title.\n",
       "    fig.header.textContent = msg['label'];\n",
       "}\n",
       "\n",
       "mpl.figure.prototype.handle_cursor = function(fig, msg) {\n",
       "    var cursor = msg['cursor'];\n",
       "    switch(cursor)\n",
       "    {\n",
       "    case 0:\n",
       "        cursor = 'pointer';\n",
       "        break;\n",
       "    case 1:\n",
       "        cursor = 'default';\n",
       "        break;\n",
       "    case 2:\n",
       "        cursor = 'crosshair';\n",
       "        break;\n",
       "    case 3:\n",
       "        cursor = 'move';\n",
       "        break;\n",
       "    }\n",
       "    fig.rubberband_canvas.style.cursor = cursor;\n",
       "}\n",
       "\n",
       "mpl.figure.prototype.handle_message = function(fig, msg) {\n",
       "    fig.message.textContent = msg['message'];\n",
       "}\n",
       "\n",
       "mpl.figure.prototype.handle_draw = function(fig, msg) {\n",
       "    // Request the server to send over a new figure.\n",
       "    fig.send_draw_message();\n",
       "}\n",
       "\n",
       "mpl.figure.prototype.handle_image_mode = function(fig, msg) {\n",
       "    fig.image_mode = msg['mode'];\n",
       "}\n",
       "\n",
       "mpl.figure.prototype.updated_canvas_event = function() {\n",
       "    // Called whenever the canvas gets updated.\n",
       "    this.send_message(\"ack\", {});\n",
       "}\n",
       "\n",
       "// A function to construct a web socket function for onmessage handling.\n",
       "// Called in the figure constructor.\n",
       "mpl.figure.prototype._make_on_message_function = function(fig) {\n",
       "    return function socket_on_message(evt) {\n",
       "        if (evt.data instanceof Blob) {\n",
       "            /* FIXME: We get \"Resource interpreted as Image but\n",
       "             * transferred with MIME type text/plain:\" errors on\n",
       "             * Chrome.  But how to set the MIME type?  It doesn't seem\n",
       "             * to be part of the websocket stream */\n",
       "            evt.data.type = \"image/png\";\n",
       "\n",
       "            /* Free the memory for the previous frames */\n",
       "            if (fig.imageObj.src) {\n",
       "                (window.URL || window.webkitURL).revokeObjectURL(\n",
       "                    fig.imageObj.src);\n",
       "            }\n",
       "\n",
       "            fig.imageObj.src = (window.URL || window.webkitURL).createObjectURL(\n",
       "                evt.data);\n",
       "            fig.updated_canvas_event();\n",
       "            fig.waiting = false;\n",
       "            return;\n",
       "        }\n",
       "        else if (typeof evt.data === 'string' && evt.data.slice(0, 21) == \"data:image/png;base64\") {\n",
       "            fig.imageObj.src = evt.data;\n",
       "            fig.updated_canvas_event();\n",
       "            fig.waiting = false;\n",
       "            return;\n",
       "        }\n",
       "\n",
       "        var msg = JSON.parse(evt.data);\n",
       "        var msg_type = msg['type'];\n",
       "\n",
       "        // Call the  \"handle_{type}\" callback, which takes\n",
       "        // the figure and JSON message as its only arguments.\n",
       "        try {\n",
       "            var callback = fig[\"handle_\" + msg_type];\n",
       "        } catch (e) {\n",
       "            console.log(\"No handler for the '\" + msg_type + \"' message type: \", msg);\n",
       "            return;\n",
       "        }\n",
       "\n",
       "        if (callback) {\n",
       "            try {\n",
       "                // console.log(\"Handling '\" + msg_type + \"' message: \", msg);\n",
       "                callback(fig, msg);\n",
       "            } catch (e) {\n",
       "                console.log(\"Exception inside the 'handler_\" + msg_type + \"' callback:\", e, e.stack, msg);\n",
       "            }\n",
       "        }\n",
       "    };\n",
       "}\n",
       "\n",
       "// from http://stackoverflow.com/questions/1114465/getting-mouse-location-in-canvas\n",
       "mpl.findpos = function(e) {\n",
       "    //this section is from http://www.quirksmode.org/js/events_properties.html\n",
       "    var targ;\n",
       "    if (!e)\n",
       "        e = window.event;\n",
       "    if (e.target)\n",
       "        targ = e.target;\n",
       "    else if (e.srcElement)\n",
       "        targ = e.srcElement;\n",
       "    if (targ.nodeType == 3) // defeat Safari bug\n",
       "        targ = targ.parentNode;\n",
       "\n",
       "    // jQuery normalizes the pageX and pageY\n",
       "    // pageX,Y are the mouse positions relative to the document\n",
       "    // offset() returns the position of the element relative to the document\n",
       "    var x = e.pageX - $(targ).offset().left;\n",
       "    var y = e.pageY - $(targ).offset().top;\n",
       "\n",
       "    return {\"x\": x, \"y\": y};\n",
       "};\n",
       "\n",
       "/*\n",
       " * return a copy of an object with only non-object keys\n",
       " * we need this to avoid circular references\n",
       " * http://stackoverflow.com/a/24161582/3208463\n",
       " */\n",
       "function simpleKeys (original) {\n",
       "  return Object.keys(original).reduce(function (obj, key) {\n",
       "    if (typeof original[key] !== 'object')\n",
       "        obj[key] = original[key]\n",
       "    return obj;\n",
       "  }, {});\n",
       "}\n",
       "\n",
       "mpl.figure.prototype.mouse_event = function(event, name) {\n",
       "    var canvas_pos = mpl.findpos(event)\n",
       "\n",
       "    if (name === 'button_press')\n",
       "    {\n",
       "        this.canvas.focus();\n",
       "        this.canvas_div.focus();\n",
       "    }\n",
       "\n",
       "    var x = canvas_pos.x * mpl.ratio;\n",
       "    var y = canvas_pos.y * mpl.ratio;\n",
       "\n",
       "    this.send_message(name, {x: x, y: y, button: event.button,\n",
       "                             step: event.step,\n",
       "                             guiEvent: simpleKeys(event)});\n",
       "\n",
       "    /* This prevents the web browser from automatically changing to\n",
       "     * the text insertion cursor when the button is pressed.  We want\n",
       "     * to control all of the cursor setting manually through the\n",
       "     * 'cursor' event from matplotlib */\n",
       "    event.preventDefault();\n",
       "    return false;\n",
       "}\n",
       "\n",
       "mpl.figure.prototype._key_event_extra = function(event, name) {\n",
       "    // Handle any extra behaviour associated with a key event\n",
       "}\n",
       "\n",
       "mpl.figure.prototype.key_event = function(event, name) {\n",
       "\n",
       "    // Prevent repeat events\n",
       "    if (name == 'key_press')\n",
       "    {\n",
       "        if (event.which === this._key)\n",
       "            return;\n",
       "        else\n",
       "            this._key = event.which;\n",
       "    }\n",
       "    if (name == 'key_release')\n",
       "        this._key = null;\n",
       "\n",
       "    var value = '';\n",
       "    if (event.ctrlKey && event.which != 17)\n",
       "        value += \"ctrl+\";\n",
       "    if (event.altKey && event.which != 18)\n",
       "        value += \"alt+\";\n",
       "    if (event.shiftKey && event.which != 16)\n",
       "        value += \"shift+\";\n",
       "\n",
       "    value += 'k';\n",
       "    value += event.which.toString();\n",
       "\n",
       "    this._key_event_extra(event, name);\n",
       "\n",
       "    this.send_message(name, {key: value,\n",
       "                             guiEvent: simpleKeys(event)});\n",
       "    return false;\n",
       "}\n",
       "\n",
       "mpl.figure.prototype.toolbar_button_onclick = function(name) {\n",
       "    if (name == 'download') {\n",
       "        this.handle_save(this, null);\n",
       "    } else {\n",
       "        this.send_message(\"toolbar_button\", {name: name});\n",
       "    }\n",
       "};\n",
       "\n",
       "mpl.figure.prototype.toolbar_button_onmouseover = function(tooltip) {\n",
       "    this.message.textContent = tooltip;\n",
       "};\n",
       "mpl.toolbar_items = [[\"Home\", \"Reset original view\", \"fa fa-home icon-home\", \"home\"], [\"Back\", \"Back to  previous view\", \"fa fa-arrow-left icon-arrow-left\", \"back\"], [\"Forward\", \"Forward to next view\", \"fa fa-arrow-right icon-arrow-right\", \"forward\"], [\"\", \"\", \"\", \"\"], [\"Pan\", \"Pan axes with left mouse, zoom with right\", \"fa fa-arrows icon-move\", \"pan\"], [\"Zoom\", \"Zoom to rectangle\", \"fa fa-square-o icon-check-empty\", \"zoom\"], [\"\", \"\", \"\", \"\"], [\"Download\", \"Download plot\", \"fa fa-floppy-o icon-save\", \"download\"]];\n",
       "\n",
       "mpl.extensions = [\"eps\", \"jpeg\", \"pdf\", \"png\", \"ps\", \"raw\", \"svg\", \"tif\"];\n",
       "\n",
       "mpl.default_extension = \"png\";var comm_websocket_adapter = function(comm) {\n",
       "    // Create a \"websocket\"-like object which calls the given IPython comm\n",
       "    // object with the appropriate methods. Currently this is a non binary\n",
       "    // socket, so there is still some room for performance tuning.\n",
       "    var ws = {};\n",
       "\n",
       "    ws.close = function() {\n",
       "        comm.close()\n",
       "    };\n",
       "    ws.send = function(m) {\n",
       "        //console.log('sending', m);\n",
       "        comm.send(m);\n",
       "    };\n",
       "    // Register the callback with on_msg.\n",
       "    comm.on_msg(function(msg) {\n",
       "        //console.log('receiving', msg['content']['data'], msg);\n",
       "        // Pass the mpl event to the overriden (by mpl) onmessage function.\n",
       "        ws.onmessage(msg['content']['data'])\n",
       "    });\n",
       "    return ws;\n",
       "}\n",
       "\n",
       "mpl.mpl_figure_comm = function(comm, msg) {\n",
       "    // This is the function which gets called when the mpl process\n",
       "    // starts-up an IPython Comm through the \"matplotlib\" channel.\n",
       "\n",
       "    var id = msg.content.data.id;\n",
       "    // Get hold of the div created by the display call when the Comm\n",
       "    // socket was opened in Python.\n",
       "    var element = $(\"#\" + id);\n",
       "    var ws_proxy = comm_websocket_adapter(comm)\n",
       "\n",
       "    function ondownload(figure, format) {\n",
       "        window.open(figure.imageObj.src);\n",
       "    }\n",
       "\n",
       "    var fig = new mpl.figure(id, ws_proxy,\n",
       "                           ondownload,\n",
       "                           element.get(0));\n",
       "\n",
       "    // Call onopen now - mpl needs it, as it is assuming we've passed it a real\n",
       "    // web socket which is closed, not our websocket->open comm proxy.\n",
       "    ws_proxy.onopen();\n",
       "\n",
       "    fig.parent_element = element.get(0);\n",
       "    fig.cell_info = mpl.find_output_cell(\"<div id='\" + id + \"'></div>\");\n",
       "    if (!fig.cell_info) {\n",
       "        console.error(\"Failed to find cell for figure\", id, fig);\n",
       "        return;\n",
       "    }\n",
       "\n",
       "    var output_index = fig.cell_info[2]\n",
       "    var cell = fig.cell_info[0];\n",
       "\n",
       "};\n",
       "\n",
       "mpl.figure.prototype.handle_close = function(fig, msg) {\n",
       "    var width = fig.canvas.width/mpl.ratio\n",
       "    fig.root.unbind('remove')\n",
       "\n",
       "    // Update the output cell to use the data from the current canvas.\n",
       "    fig.push_to_output();\n",
       "    var dataURL = fig.canvas.toDataURL();\n",
       "    // Re-enable the keyboard manager in IPython - without this line, in FF,\n",
       "    // the notebook keyboard shortcuts fail.\n",
       "    IPython.keyboard_manager.enable()\n",
       "    $(fig.parent_element).html('<img src=\"' + dataURL + '\" width=\"' + width + '\">');\n",
       "    fig.close_ws(fig, msg);\n",
       "}\n",
       "\n",
       "mpl.figure.prototype.close_ws = function(fig, msg){\n",
       "    fig.send_message('closing', msg);\n",
       "    // fig.ws.close()\n",
       "}\n",
       "\n",
       "mpl.figure.prototype.push_to_output = function(remove_interactive) {\n",
       "    // Turn the data on the canvas into data in the output cell.\n",
       "    var width = this.canvas.width/mpl.ratio\n",
       "    var dataURL = this.canvas.toDataURL();\n",
       "    this.cell_info[1]['text/html'] = '<img src=\"' + dataURL + '\" width=\"' + width + '\">';\n",
       "}\n",
       "\n",
       "mpl.figure.prototype.updated_canvas_event = function() {\n",
       "    // Tell IPython that the notebook contents must change.\n",
       "    IPython.notebook.set_dirty(true);\n",
       "    this.send_message(\"ack\", {});\n",
       "    var fig = this;\n",
       "    // Wait a second, then push the new image to the DOM so\n",
       "    // that it is saved nicely (might be nice to debounce this).\n",
       "    setTimeout(function () { fig.push_to_output() }, 1000);\n",
       "}\n",
       "\n",
       "mpl.figure.prototype._init_toolbar = function() {\n",
       "    var fig = this;\n",
       "\n",
       "    var nav_element = $('<div/>')\n",
       "    nav_element.attr('style', 'width: 100%');\n",
       "    this.root.append(nav_element);\n",
       "\n",
       "    // Define a callback function for later on.\n",
       "    function toolbar_event(event) {\n",
       "        return fig.toolbar_button_onclick(event['data']);\n",
       "    }\n",
       "    function toolbar_mouse_event(event) {\n",
       "        return fig.toolbar_button_onmouseover(event['data']);\n",
       "    }\n",
       "\n",
       "    for(var toolbar_ind in mpl.toolbar_items){\n",
       "        var name = mpl.toolbar_items[toolbar_ind][0];\n",
       "        var tooltip = mpl.toolbar_items[toolbar_ind][1];\n",
       "        var image = mpl.toolbar_items[toolbar_ind][2];\n",
       "        var method_name = mpl.toolbar_items[toolbar_ind][3];\n",
       "\n",
       "        if (!name) { continue; };\n",
       "\n",
       "        var button = $('<button class=\"btn btn-default\" href=\"#\" title=\"' + name + '\"><i class=\"fa ' + image + ' fa-lg\"></i></button>');\n",
       "        button.click(method_name, toolbar_event);\n",
       "        button.mouseover(tooltip, toolbar_mouse_event);\n",
       "        nav_element.append(button);\n",
       "    }\n",
       "\n",
       "    // Add the status bar.\n",
       "    var status_bar = $('<span class=\"mpl-message\" style=\"text-align:right; float: right;\"/>');\n",
       "    nav_element.append(status_bar);\n",
       "    this.message = status_bar[0];\n",
       "\n",
       "    // Add the close button to the window.\n",
       "    var buttongrp = $('<div class=\"btn-group inline pull-right\"></div>');\n",
       "    var button = $('<button class=\"btn btn-mini btn-primary\" href=\"#\" title=\"Stop Interaction\"><i class=\"fa fa-power-off icon-remove icon-large\"></i></button>');\n",
       "    button.click(function (evt) { fig.handle_close(fig, {}); } );\n",
       "    button.mouseover('Stop Interaction', toolbar_mouse_event);\n",
       "    buttongrp.append(button);\n",
       "    var titlebar = this.root.find($('.ui-dialog-titlebar'));\n",
       "    titlebar.prepend(buttongrp);\n",
       "}\n",
       "\n",
       "mpl.figure.prototype._root_extra_style = function(el){\n",
       "    var fig = this\n",
       "    el.on(\"remove\", function(){\n",
       "\tfig.close_ws(fig, {});\n",
       "    });\n",
       "}\n",
       "\n",
       "mpl.figure.prototype._canvas_extra_style = function(el){\n",
       "    // this is important to make the div 'focusable\n",
       "    el.attr('tabindex', 0)\n",
       "    // reach out to IPython and tell the keyboard manager to turn it's self\n",
       "    // off when our div gets focus\n",
       "\n",
       "    // location in version 3\n",
       "    if (IPython.notebook.keyboard_manager) {\n",
       "        IPython.notebook.keyboard_manager.register_events(el);\n",
       "    }\n",
       "    else {\n",
       "        // location in version 2\n",
       "        IPython.keyboard_manager.register_events(el);\n",
       "    }\n",
       "\n",
       "}\n",
       "\n",
       "mpl.figure.prototype._key_event_extra = function(event, name) {\n",
       "    var manager = IPython.notebook.keyboard_manager;\n",
       "    if (!manager)\n",
       "        manager = IPython.keyboard_manager;\n",
       "\n",
       "    // Check for shift+enter\n",
       "    if (event.shiftKey && event.which == 13) {\n",
       "        this.canvas_div.blur();\n",
       "        // select the cell after this one\n",
       "        var index = IPython.notebook.find_cell_index(this.cell_info[0]);\n",
       "        IPython.notebook.select(index + 1);\n",
       "    }\n",
       "}\n",
       "\n",
       "mpl.figure.prototype.handle_save = function(fig, msg) {\n",
       "    fig.ondownload(fig, null);\n",
       "}\n",
       "\n",
       "\n",
       "mpl.find_output_cell = function(html_output) {\n",
       "    // Return the cell and output element which can be found *uniquely* in the notebook.\n",
       "    // Note - this is a bit hacky, but it is done because the \"notebook_saving.Notebook\"\n",
       "    // IPython event is triggered only after the cells have been serialised, which for\n",
       "    // our purposes (turning an active figure into a static one), is too late.\n",
       "    var cells = IPython.notebook.get_cells();\n",
       "    var ncells = cells.length;\n",
       "    for (var i=0; i<ncells; i++) {\n",
       "        var cell = cells[i];\n",
       "        if (cell.cell_type === 'code'){\n",
       "            for (var j=0; j<cell.output_area.outputs.length; j++) {\n",
       "                var data = cell.output_area.outputs[j];\n",
       "                if (data.data) {\n",
       "                    // IPython >= 3 moved mimebundle to data attribute of output\n",
       "                    data = data.data;\n",
       "                }\n",
       "                if (data['text/html'] == html_output) {\n",
       "                    return [cell, data, j];\n",
       "                }\n",
       "            }\n",
       "        }\n",
       "    }\n",
       "}\n",
       "\n",
       "// Register the function which deals with the matplotlib target/channel.\n",
       "// The kernel may be null if the page has been refreshed.\n",
       "if (IPython.notebook.kernel != null) {\n",
       "    IPython.notebook.kernel.comm_manager.register_target('matplotlib', mpl.mpl_figure_comm);\n",
       "}\n"
      ],
      "text/plain": [
       "<IPython.core.display.Javascript object>"
      ]
     },
     "metadata": {},
     "output_type": "display_data"
    },
    {
     "data": {
      "text/html": [
       "<img src=\"data:image/png;base64,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\" width=\"640\">"
      ],
      "text/plain": [
       "<IPython.core.display.HTML object>"
      ]
     },
     "metadata": {},
     "output_type": "display_data"
    }
   ],
   "source": [
    "plt.hist(v,bins=50,normed=1)\n",
    "plt.show()"
   ]
  },
  {
   "cell_type": "code",
   "execution_count": null,
   "metadata": {},
   "outputs": [],
   "source": []
  }
 ],
 "metadata": {
  "kernelspec": {
   "display_name": "Python 3",
   "language": "python",
   "name": "python3"
  },
  "language_info": {
   "codemirror_mode": {
    "name": "ipython",
    "version": 3
   },
   "file_extension": ".py",
   "mimetype": "text/x-python",
   "name": "python",
   "nbconvert_exporter": "python",
   "pygments_lexer": "ipython3",
   "version": "3.6.3"
  }
 },
 "nbformat": 4,
 "nbformat_minor": 2
}
